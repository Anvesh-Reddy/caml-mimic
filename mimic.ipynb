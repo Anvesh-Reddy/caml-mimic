{
 "cells": [
  {
   "cell_type": "code",
   "execution_count": 1,
   "metadata": {
    "collapsed": false
   },
   "outputs": [
    {
     "ename": "IndentationError",
     "evalue": "expected an indented block (convnet.py, line 51)",
     "output_type": "error",
     "traceback": [
      "\u001b[0;36m  File \u001b[0;32m\"C:\\Users\\James\\Documents\\SCHOOL\\MS\\research\\mimic\\src\\convnet.py\"\u001b[0;36m, line \u001b[0;32m51\u001b[0m\n\u001b[0;31m    def evaluate(model, X_dv, Y_dv):\u001b[0m\n\u001b[0m      ^\u001b[0m\n\u001b[0;31mIndentationError\u001b[0m\u001b[0;31m:\u001b[0m expected an indented block\n"
     ]
    }
   ],
   "source": [
    "import log_reg\n",
    "import convnet\n",
    "from imp import reload\n",
    "\n",
    "from collections import defaultdict\n",
    "import csv\n",
    "\n",
    "import numpy as np\n",
    "import pandas as pd\n",
    "\n",
    "import evaluation\n",
    "from sklearn.multiclass import OneVsRestClassifier\n",
    "from sklearn.linear_model import LogisticRegression\n",
    "\n",
    "%pylab --no-import-all inline\n",
    "import matplotlib.pyplot as plt\n",
    "%pylab inline"
   ]
  },
  {
   "cell_type": "code",
   "execution_count": 2,
   "metadata": {
    "collapsed": true
   },
   "outputs": [],
   "source": [
    "Y = 10\n",
    "vocab_min = 3"
   ]
  },
  {
   "cell_type": "code",
   "execution_count": 48,
   "metadata": {
    "collapsed": true
   },
   "outputs": [],
   "source": [
    "v_dict = defaultdict(str)\n",
    "c_dict = defaultdict(str)\n",
    "with open('../mimicdata/vocab_lookup_' + str(vocab_min) + '.csv', 'r') as vocabfile:\n",
    "    vr = csv.reader(vocabfile)\n",
    "    next(vr)\n",
    "    for row in vr:\n",
    "        v_dict[int(row[0])] = row[1]\n",
    "\n",
    "with open('../mimicdata/label_lookup_' + str(Y) + '.csv', 'r') as labelfile:\n",
    "    lr = csv.reader(labelfile)\n",
    "    next(lr)\n",
    "    for row in lr:\n",
    "        c_dict[int(row[0])] = row[1]"
   ]
  },
  {
   "cell_type": "code",
   "execution_count": 61,
   "metadata": {
    "collapsed": false
   },
   "outputs": [
    {
     "data": {
      "text/plain": [
       "defaultdict(str,\n",
       "            {0: '5849',\n",
       "             1: '4280',\n",
       "             2: '4019',\n",
       "             3: '25000',\n",
       "             4: '41401',\n",
       "             5: '2724',\n",
       "             6: '5990',\n",
       "             7: '42731',\n",
       "             8: '53081',\n",
       "             9: '51881'})"
      ]
     },
     "execution_count": 61,
     "metadata": {},
     "output_type": "execute_result"
    }
   ],
   "source": [
    "c_dict"
   ]
  },
  {
   "cell_type": "code",
   "execution_count": 58,
   "metadata": {
    "collapsed": false
   },
   "outputs": [],
   "source": [
    "def y_to_codes(y_row):\n",
    "    return [c_dict[i] for i in range(Y) if y_row[i] == 1]"
   ]
  },
  {
   "cell_type": "code",
   "execution_count": 59,
   "metadata": {
    "collapsed": true
   },
   "outputs": [],
   "source": [
    "def x_to_bow(x_row):\n",
    "    return {v_dict[i]: x_row[i] for i in range(len(x_row)) if x_row[i] > 0}"
   ]
  },
  {
   "cell_type": "code",
   "execution_count": 17,
   "metadata": {
    "collapsed": false
   },
   "outputs": [
    {
     "name": "stdout",
     "output_type": "stream",
     "text": [
      "Processing..................................................."
     ]
    }
   ],
   "source": [
    "reload(log_reg)\n",
    "notefile = '../mimicdata/notes_' + str(Y) + '_train_final.csv'\n",
    "X_tr, Y_tr = log_reg.construct_X_Y(notefile, Y)"
   ]
  },
  {
   "cell_type": "code",
   "execution_count": 19,
   "metadata": {
    "collapsed": false
   },
   "outputs": [
    {
     "data": {
      "text/plain": [
       "(20108, 40000)"
      ]
     },
     "execution_count": 19,
     "metadata": {},
     "output_type": "execute_result"
    }
   ],
   "source": [
    "X_tr.shape"
   ]
  },
  {
   "cell_type": "code",
   "execution_count": 20,
   "metadata": {
    "collapsed": false
   },
   "outputs": [
    {
     "data": {
      "text/plain": [
       "(20108, 10)"
      ]
     },
     "execution_count": 20,
     "metadata": {},
     "output_type": "execute_result"
    }
   ],
   "source": [
    "Y_tr.shape"
   ]
  },
  {
   "cell_type": "code",
   "execution_count": 21,
   "metadata": {
    "collapsed": false
   },
   "outputs": [
    {
     "data": {
      "text/plain": [
       "3597"
      ]
     },
     "execution_count": 21,
     "metadata": {},
     "output_type": "execute_result"
    }
   ],
   "source": [
    "X_tr[0].toarray().sum()"
   ]
  },
  {
   "cell_type": "code",
   "execution_count": 23,
   "metadata": {
    "collapsed": false
   },
   "outputs": [
    {
     "name": "stdout",
     "output_type": "stream",
     "text": [
      "Processing............................"
     ]
    }
   ],
   "source": [
    "devfile = '../mimicdata/notes_' + str(Y) + '_dev_final.csv'\n",
    "X_dv, Y_dv = log_reg.construct_X_Y(devfile, Y)"
   ]
  },
  {
   "cell_type": "code",
   "execution_count": 24,
   "metadata": {
    "collapsed": false
   },
   "outputs": [
    {
     "data": {
      "text/plain": [
       "(8972, 40000)"
      ]
     },
     "execution_count": 24,
     "metadata": {},
     "output_type": "execute_result"
    }
   ],
   "source": [
    "X_dv.shape"
   ]
  },
  {
   "cell_type": "code",
   "execution_count": 26,
   "metadata": {
    "collapsed": false
   },
   "outputs": [
    {
     "data": {
      "text/plain": [
       "(8972, 10)"
      ]
     },
     "execution_count": 26,
     "metadata": {},
     "output_type": "execute_result"
    }
   ],
   "source": [
    "Y_dv.shape"
   ]
  },
  {
   "cell_type": "code",
   "execution_count": 27,
   "metadata": {
    "collapsed": false
   },
   "outputs": [
    {
     "data": {
      "text/plain": [
       "array([0, 0, 1, 0, 0, 0, 1, 0, 0, 1])"
      ]
     },
     "execution_count": 27,
     "metadata": {},
     "output_type": "execute_result"
    }
   ],
   "source": [
    "yy_dev[-1]"
   ]
  },
  {
   "cell_type": "code",
   "execution_count": 28,
   "metadata": {
    "collapsed": false
   },
   "outputs": [
    {
     "name": "stdout",
     "output_type": "stream",
     "text": [
      "Processing........................."
     ]
    }
   ],
   "source": [
    "testfile = '../mimicdata/notes_' + str(Y) + '_test_final.csv'\n",
    "X_te, Y_te = log_reg.construct_X_Y(testfile, Y)"
   ]
  },
  {
   "cell_type": "code",
   "execution_count": 29,
   "metadata": {
    "collapsed": false
   },
   "outputs": [
    {
     "data": {
      "text/plain": [
       "(8538, 40000)"
      ]
     },
     "execution_count": 29,
     "metadata": {},
     "output_type": "execute_result"
    }
   ],
   "source": [
    "X_te.shape"
   ]
  },
  {
   "cell_type": "code",
   "execution_count": 30,
   "metadata": {
    "collapsed": false
   },
   "outputs": [
    {
     "data": {
      "text/plain": [
       "(8538, 10)"
      ]
     },
     "execution_count": 30,
     "metadata": {},
     "output_type": "execute_result"
    }
   ],
   "source": [
    "Y_te.shape"
   ]
  },
  {
   "cell_type": "code",
   "execution_count": 31,
   "metadata": {
    "collapsed": true
   },
   "outputs": [],
   "source": [
    "import warnings\n",
    "warnings.filterwarnings(\"ignore\")"
   ]
  },
  {
   "cell_type": "code",
   "execution_count": 32,
   "metadata": {
    "collapsed": true
   },
   "outputs": [],
   "source": [
    "def plot_metrics(ax, start, end, steps, y):\n",
    "    x = np.linspace(start, end, steps)\n",
    "    if ax.lines:\n",
    "        for line in ax.lines:\n",
    "            line.set_xdata(x)\n",
    "            line.set_ydata(y)\n",
    "    else:\n",
    "        ax.plot(x, y)\n",
    "    fig.canvas.draw()"
   ]
  },
  {
   "cell_type": "markdown",
   "metadata": {},
   "source": [
    "## LogReg"
   ]
  },
  {
   "cell_type": "code",
   "execution_count": 120,
   "metadata": {
    "collapsed": false
   },
   "outputs": [
    {
     "name": "stdout",
     "output_type": "stream",
     "text": [
      "***** C = 0.01 *****\n",
      "5 iterations: \n",
      "acc,precision,recall,f1\n",
      "0.339348652598 0.566106988939 0.404008989166 0.434568720525\n",
      "10 iterations: \n",
      "acc,precision,recall,f1\n",
      "0.351650107212 0.570289135865 0.42473988741 0.448312617684\n",
      "15 iterations: \n",
      "acc,precision,recall,f1\n",
      "0.358292023155 0.569594647192 0.436450969153 0.455360159729\n",
      "20 iterations: \n",
      "acc,precision,recall,f1\n",
      "0.357476390393 0.565021557367 0.43765710252 0.45399498765\n",
      "25 iterations: \n",
      "acc,precision,recall,f1\n",
      "0.360090696629 0.564089424594 0.443807453878 0.457465556067\n",
      "***** C = 0.1 *****\n",
      "5 iterations: \n",
      "acc,precision,recall,f1\n",
      "0.339085576644 0.566496826104 0.403445198112 0.434241800331\n",
      "10 iterations: \n",
      "acc,precision,recall,f1\n",
      "0.34908184369 0.566204337657 0.420322175162 0.444429215952\n",
      "15 iterations: \n",
      "acc,precision,recall,f1\n",
      "0.352811701661 0.563619443914 0.429530364308 0.449031841988\n",
      "20 iterations: \n",
      "acc,precision,recall,f1\n",
      "0.357835797791 0.563596356212 0.439924075961 0.454850954143\n",
      "25 iterations: \n",
      "acc,precision,recall,f1\n",
      "0.356945594407 0.563824579468 0.437092471109 0.453534234503\n",
      "***** C = 1.0 *****\n",
      "5 iterations: \n",
      "acc,precision,recall,f1\n",
      "0.339273595454 0.565559783878 0.404157997721 0.434494083095\n",
      "10 iterations: \n",
      "acc,precision,recall,f1\n",
      "0.349362478681 0.565969480005 0.421522735636 0.44499469607\n",
      "15 iterations: \n",
      "acc,precision,recall,f1\n",
      "0.359090362256 0.570568709353 0.438217178311 0.456473934868\n",
      "20 iterations: \n",
      "acc,precision,recall,f1\n",
      "0.356160391412 0.5607679801 0.438237479566 0.452618401314\n",
      "25 iterations: \n",
      "acc,precision,recall,f1\n",
      "0.360381813968 0.564570462603 0.443671846804 0.457405732673\n",
      "***** C = 10.0 *****\n",
      "5 iterations: \n",
      "acc,precision,recall,f1\n",
      "0.339907843803 0.566568212216 0.40467508262 0.435090069068\n",
      "10 iterations: \n",
      "acc,precision,recall,f1\n",
      "0.348730574486 0.565874210064 0.419754801534 0.44408796113\n",
      "15 iterations: \n",
      "acc,precision,recall,f1\n",
      "0.359420887912 0.569523128392 0.43877552916 0.456701168995\n",
      "20 iterations: \n",
      "acc,precision,recall,f1\n",
      "0.355527691088 0.560051067165 0.436885787529 0.451656427364\n",
      "25 iterations: \n",
      "acc,precision,recall,f1\n",
      "0.35984597584 0.563174983547 0.44550970745 0.457701239539\n",
      "***** C = 100.0 *****\n",
      "5 iterations: \n",
      "acc,precision,recall,f1\n",
      "0.339812971927 0.565860189372 0.40529194885 0.435122002632\n",
      "10 iterations: \n",
      "acc,precision,recall,f1\n",
      "0.348531144513 0.565629533505 0.420309171744 0.444054580061\n",
      "15 iterations: \n",
      "acc,precision,recall,f1\n",
      "0.359616204559 0.570020442788 0.439043028045 0.45700627022\n",
      "20 iterations: \n",
      "acc,precision,recall,f1\n",
      "0.357092745331 0.563663363622 0.438755493281 0.453936544334\n",
      "25 iterations: \n",
      "acc,precision,recall,f1\n",
      "0.360931849705 0.564683910791 0.446030242235 0.458630339666\n",
      "***** C = 1000.0 *****\n",
      "5 iterations: \n",
      "acc,precision,recall,f1\n",
      "0.338902201912 0.566477188289 0.403181414489 0.434123410522\n",
      "10 iterations: \n",
      "acc,precision,recall,f1\n",
      "0.34947137125 0.565891724872 0.421229760666 0.444996278428\n",
      "15 iterations: \n",
      "acc,precision,recall,f1\n",
      "0.359388910119 0.570664244669 0.438442880496 0.456703678003\n",
      "20 iterations: \n",
      "acc,precision,recall,f1\n",
      "0.358415909461 0.564396066422 0.440217448995 0.455155416981\n",
      "25 iterations: \n",
      "acc,precision,recall,f1\n",
      "0.361110624589 0.564484215443 0.446431623251 0.458972926316\n"
     ]
    },
    {
     "data": {
      "image/png": "[encoded data removed]",
      "text/plain": [
       "<matplotlib.figure.Figure at 0x26d000fc780>"
      ]
     },
     "metadata": {},
     "output_type": "display_data"
    }
   ],
   "source": [
    "#grid search hyperparams of LR\n",
    "reload(evaluation)\n",
    "iter_step = 5\n",
    "num_steps = 5\n",
    "Cs = [1e-2, 1e-1, 1e0, 1e1, 1e2, 1e3]\n",
    "accs = {C:[] for C in Cs}\n",
    "precisions = {C:[] for C in Cs}\n",
    "recalls = {C:[] for C in Cs}\n",
    "f1s = {C:[] for C in Cs}\n",
    "\n",
    "fig,ax = plt.subplots(1,1)\n",
    "ax.set_xlabel(\"iterations\")\n",
    "ax.set_ylabel(\"accuracy\")\n",
    "ax.set_xlim(0,iter_step*num_steps)\n",
    "\n",
    "for C in Cs:\n",
    "    print(\"***** C = \" + str(C) + \" *****\")\n",
    "    for i in range(num_steps):\n",
    "        print(str((i+1)*iter_step) + \" iterations: \")\n",
    "        reg = OneVsRestClassifier(LogisticRegression(C=C,max_iter=iter_step*(i+1)))\n",
    "        reg.fit(X_tr, Y_tr)\n",
    "        yhat = reg.predict(X_dv)\n",
    "        acc,precision,recall,f1 = evaluation.all_metrics(yhat, Y_dv)\n",
    "        \n",
    "        print(\"acc,precision,recall,f1\")\n",
    "        print(acc,precision,recall,f1)\n",
    "        \n",
    "        accs[C].append(acc)\n",
    "        precisions[C].append(precision)\n",
    "        recalls[C].append(recall)\n",
    "        f1s[C].append(f1)\n",
    "        \n",
    "        plot_metrics(ax, iter_step, (i+1)*iter_step, i+1, accs[C])"
   ]
  },
  {
   "cell_type": "code",
   "execution_count": 121,
   "metadata": {
    "collapsed": false
   },
   "outputs": [
    {
     "ename": "ValueError",
     "evalue": "x and y must have same first dimension",
     "output_type": "error",
     "traceback": [
      "\u001b[0;31m---------------------------------------------------------------------------\u001b[0m",
      "\u001b[0;31mValueError\u001b[0m                                Traceback (most recent call last)",
      "\u001b[0;32m<ipython-input-121-8da674611d5a>\u001b[0m in \u001b[0;36m<module>\u001b[0;34m()\u001b[0m\n\u001b[1;32m     14\u001b[0m \u001b[1;33m\u001b[0m\u001b[0m\n\u001b[1;32m     15\u001b[0m \u001b[1;32mfor\u001b[0m \u001b[0mC\u001b[0m \u001b[1;32min\u001b[0m \u001b[0mCs\u001b[0m\u001b[1;33m:\u001b[0m\u001b[1;33m\u001b[0m\u001b[0m\n\u001b[0;32m---> 16\u001b[0;31m     \u001b[0max\u001b[0m\u001b[1;33m[\u001b[0m\u001b[1;36m0\u001b[0m\u001b[1;33m]\u001b[0m\u001b[1;33m.\u001b[0m\u001b[0mplot\u001b[0m\u001b[1;33m(\u001b[0m\u001b[0mits\u001b[0m\u001b[1;33m,\u001b[0m\u001b[0maccs\u001b[0m\u001b[1;33m[\u001b[0m\u001b[0mC\u001b[0m\u001b[1;33m]\u001b[0m\u001b[1;33m,\u001b[0m \u001b[1;34m'*'\u001b[0m\u001b[1;33m,\u001b[0m \u001b[0mlabel\u001b[0m\u001b[1;33m=\u001b[0m\u001b[1;34m\"C=\"\u001b[0m \u001b[1;33m+\u001b[0m \u001b[0mstr\u001b[0m\u001b[1;33m(\u001b[0m\u001b[0mC\u001b[0m\u001b[1;33m)\u001b[0m\u001b[1;33m)\u001b[0m\u001b[1;33m\u001b[0m\u001b[0m\n\u001b[0m\u001b[1;32m     17\u001b[0m     \u001b[0max\u001b[0m\u001b[1;33m[\u001b[0m\u001b[1;36m1\u001b[0m\u001b[1;33m]\u001b[0m\u001b[1;33m.\u001b[0m\u001b[0mplot\u001b[0m\u001b[1;33m(\u001b[0m\u001b[0mrecalls\u001b[0m\u001b[1;33m[\u001b[0m\u001b[0mC\u001b[0m\u001b[1;33m]\u001b[0m\u001b[1;33m,\u001b[0m \u001b[0mprecisions\u001b[0m\u001b[1;33m[\u001b[0m\u001b[0mC\u001b[0m\u001b[1;33m]\u001b[0m\u001b[1;33m,\u001b[0m \u001b[1;34m'*'\u001b[0m\u001b[1;33m,\u001b[0m \u001b[0mlabel\u001b[0m\u001b[1;33m=\u001b[0m\u001b[1;34m\"C=\"\u001b[0m \u001b[1;33m+\u001b[0m \u001b[0mstr\u001b[0m\u001b[1;33m(\u001b[0m\u001b[0mC\u001b[0m\u001b[1;33m)\u001b[0m\u001b[1;33m)\u001b[0m\u001b[1;33m\u001b[0m\u001b[0m\n\u001b[1;32m     18\u001b[0m     \u001b[0max\u001b[0m\u001b[1;33m[\u001b[0m\u001b[1;36m2\u001b[0m\u001b[1;33m]\u001b[0m\u001b[1;33m.\u001b[0m\u001b[0mplot\u001b[0m\u001b[1;33m(\u001b[0m\u001b[0mits\u001b[0m\u001b[1;33m,\u001b[0m \u001b[0mf1s\u001b[0m\u001b[1;33m[\u001b[0m\u001b[0mC\u001b[0m\u001b[1;33m]\u001b[0m\u001b[1;33m,\u001b[0m \u001b[1;34m'*'\u001b[0m\u001b[1;33m,\u001b[0m \u001b[0mlabel\u001b[0m\u001b[1;33m=\u001b[0m\u001b[1;34m\"C=\"\u001b[0m \u001b[1;33m+\u001b[0m \u001b[0mstr\u001b[0m\u001b[1;33m(\u001b[0m\u001b[0mC\u001b[0m\u001b[1;33m)\u001b[0m\u001b[1;33m)\u001b[0m\u001b[1;33m\u001b[0m\u001b[0m\n",
      "\u001b[0;32mC:\\Program Files\\Anaconda3\\lib\\site-packages\\matplotlib\\__init__.py\u001b[0m in \u001b[0;36minner\u001b[0;34m(ax, *args, **kwargs)\u001b[0m\n\u001b[1;32m   1816\u001b[0m                     warnings.warn(msg % (label_namer, func.__name__),\n\u001b[1;32m   1817\u001b[0m                                   RuntimeWarning, stacklevel=2)\n\u001b[0;32m-> 1818\u001b[0;31m             \u001b[1;32mreturn\u001b[0m \u001b[0mfunc\u001b[0m\u001b[1;33m(\u001b[0m\u001b[0max\u001b[0m\u001b[1;33m,\u001b[0m \u001b[1;33m*\u001b[0m\u001b[0margs\u001b[0m\u001b[1;33m,\u001b[0m \u001b[1;33m**\u001b[0m\u001b[0mkwargs\u001b[0m\u001b[1;33m)\u001b[0m\u001b[1;33m\u001b[0m\u001b[0m\n\u001b[0m\u001b[1;32m   1819\u001b[0m         \u001b[0mpre_doc\u001b[0m \u001b[1;33m=\u001b[0m \u001b[0minner\u001b[0m\u001b[1;33m.\u001b[0m\u001b[0m__doc__\u001b[0m\u001b[1;33m\u001b[0m\u001b[0m\n\u001b[1;32m   1820\u001b[0m         \u001b[1;32mif\u001b[0m \u001b[0mpre_doc\u001b[0m \u001b[1;32mis\u001b[0m \u001b[1;32mNone\u001b[0m\u001b[1;33m:\u001b[0m\u001b[1;33m\u001b[0m\u001b[0m\n",
      "\u001b[0;32mC:\\Program Files\\Anaconda3\\lib\\site-packages\\matplotlib\\axes\\_axes.py\u001b[0m in \u001b[0;36mplot\u001b[0;34m(self, *args, **kwargs)\u001b[0m\n\u001b[1;32m   1380\u001b[0m         \u001b[0mkwargs\u001b[0m \u001b[1;33m=\u001b[0m \u001b[0mcbook\u001b[0m\u001b[1;33m.\u001b[0m\u001b[0mnormalize_kwargs\u001b[0m\u001b[1;33m(\u001b[0m\u001b[0mkwargs\u001b[0m\u001b[1;33m,\u001b[0m \u001b[0m_alias_map\u001b[0m\u001b[1;33m)\u001b[0m\u001b[1;33m\u001b[0m\u001b[0m\n\u001b[1;32m   1381\u001b[0m \u001b[1;33m\u001b[0m\u001b[0m\n\u001b[0;32m-> 1382\u001b[0;31m         \u001b[1;32mfor\u001b[0m \u001b[0mline\u001b[0m \u001b[1;32min\u001b[0m \u001b[0mself\u001b[0m\u001b[1;33m.\u001b[0m\u001b[0m_get_lines\u001b[0m\u001b[1;33m(\u001b[0m\u001b[1;33m*\u001b[0m\u001b[0margs\u001b[0m\u001b[1;33m,\u001b[0m \u001b[1;33m**\u001b[0m\u001b[0mkwargs\u001b[0m\u001b[1;33m)\u001b[0m\u001b[1;33m:\u001b[0m\u001b[1;33m\u001b[0m\u001b[0m\n\u001b[0m\u001b[1;32m   1383\u001b[0m             \u001b[0mself\u001b[0m\u001b[1;33m.\u001b[0m\u001b[0madd_line\u001b[0m\u001b[1;33m(\u001b[0m\u001b[0mline\u001b[0m\u001b[1;33m)\u001b[0m\u001b[1;33m\u001b[0m\u001b[0m\n\u001b[1;32m   1384\u001b[0m             \u001b[0mlines\u001b[0m\u001b[1;33m.\u001b[0m\u001b[0mappend\u001b[0m\u001b[1;33m(\u001b[0m\u001b[0mline\u001b[0m\u001b[1;33m)\u001b[0m\u001b[1;33m\u001b[0m\u001b[0m\n",
      "\u001b[0;32mC:\\Program Files\\Anaconda3\\lib\\site-packages\\matplotlib\\axes\\_base.py\u001b[0m in \u001b[0;36m_grab_next_args\u001b[0;34m(self, *args, **kwargs)\u001b[0m\n\u001b[1;32m    379\u001b[0m                 \u001b[1;32mreturn\u001b[0m\u001b[1;33m\u001b[0m\u001b[0m\n\u001b[1;32m    380\u001b[0m             \u001b[1;32mif\u001b[0m \u001b[0mlen\u001b[0m\u001b[1;33m(\u001b[0m\u001b[0mremaining\u001b[0m\u001b[1;33m)\u001b[0m \u001b[1;33m<=\u001b[0m \u001b[1;36m3\u001b[0m\u001b[1;33m:\u001b[0m\u001b[1;33m\u001b[0m\u001b[0m\n\u001b[0;32m--> 381\u001b[0;31m                 \u001b[1;32mfor\u001b[0m \u001b[0mseg\u001b[0m \u001b[1;32min\u001b[0m \u001b[0mself\u001b[0m\u001b[1;33m.\u001b[0m\u001b[0m_plot_args\u001b[0m\u001b[1;33m(\u001b[0m\u001b[0mremaining\u001b[0m\u001b[1;33m,\u001b[0m \u001b[0mkwargs\u001b[0m\u001b[1;33m)\u001b[0m\u001b[1;33m:\u001b[0m\u001b[1;33m\u001b[0m\u001b[0m\n\u001b[0m\u001b[1;32m    382\u001b[0m                     \u001b[1;32myield\u001b[0m \u001b[0mseg\u001b[0m\u001b[1;33m\u001b[0m\u001b[0m\n\u001b[1;32m    383\u001b[0m                 \u001b[1;32mreturn\u001b[0m\u001b[1;33m\u001b[0m\u001b[0m\n",
      "\u001b[0;32mC:\\Program Files\\Anaconda3\\lib\\site-packages\\matplotlib\\axes\\_base.py\u001b[0m in \u001b[0;36m_plot_args\u001b[0;34m(self, tup, kwargs)\u001b[0m\n\u001b[1;32m    357\u001b[0m             \u001b[0mx\u001b[0m\u001b[1;33m,\u001b[0m \u001b[0my\u001b[0m \u001b[1;33m=\u001b[0m \u001b[0mindex_of\u001b[0m\u001b[1;33m(\u001b[0m\u001b[0mtup\u001b[0m\u001b[1;33m[\u001b[0m\u001b[1;33m-\u001b[0m\u001b[1;36m1\u001b[0m\u001b[1;33m]\u001b[0m\u001b[1;33m)\u001b[0m\u001b[1;33m\u001b[0m\u001b[0m\n\u001b[1;32m    358\u001b[0m \u001b[1;33m\u001b[0m\u001b[0m\n\u001b[0;32m--> 359\u001b[0;31m         \u001b[0mx\u001b[0m\u001b[1;33m,\u001b[0m \u001b[0my\u001b[0m \u001b[1;33m=\u001b[0m \u001b[0mself\u001b[0m\u001b[1;33m.\u001b[0m\u001b[0m_xy_from_xy\u001b[0m\u001b[1;33m(\u001b[0m\u001b[0mx\u001b[0m\u001b[1;33m,\u001b[0m \u001b[0my\u001b[0m\u001b[1;33m)\u001b[0m\u001b[1;33m\u001b[0m\u001b[0m\n\u001b[0m\u001b[1;32m    360\u001b[0m \u001b[1;33m\u001b[0m\u001b[0m\n\u001b[1;32m    361\u001b[0m         \u001b[1;32mif\u001b[0m \u001b[0mself\u001b[0m\u001b[1;33m.\u001b[0m\u001b[0mcommand\u001b[0m \u001b[1;33m==\u001b[0m \u001b[1;34m'plot'\u001b[0m\u001b[1;33m:\u001b[0m\u001b[1;33m\u001b[0m\u001b[0m\n",
      "\u001b[0;32mC:\\Program Files\\Anaconda3\\lib\\site-packages\\matplotlib\\axes\\_base.py\u001b[0m in \u001b[0;36m_xy_from_xy\u001b[0;34m(self, x, y)\u001b[0m\n\u001b[1;32m    217\u001b[0m         \u001b[0my\u001b[0m \u001b[1;33m=\u001b[0m \u001b[0m_check_1d\u001b[0m\u001b[1;33m(\u001b[0m\u001b[0my\u001b[0m\u001b[1;33m)\u001b[0m\u001b[1;33m\u001b[0m\u001b[0m\n\u001b[1;32m    218\u001b[0m         \u001b[1;32mif\u001b[0m \u001b[0mx\u001b[0m\u001b[1;33m.\u001b[0m\u001b[0mshape\u001b[0m\u001b[1;33m[\u001b[0m\u001b[1;36m0\u001b[0m\u001b[1;33m]\u001b[0m \u001b[1;33m!=\u001b[0m \u001b[0my\u001b[0m\u001b[1;33m.\u001b[0m\u001b[0mshape\u001b[0m\u001b[1;33m[\u001b[0m\u001b[1;36m0\u001b[0m\u001b[1;33m]\u001b[0m\u001b[1;33m:\u001b[0m\u001b[1;33m\u001b[0m\u001b[0m\n\u001b[0;32m--> 219\u001b[0;31m             \u001b[1;32mraise\u001b[0m \u001b[0mValueError\u001b[0m\u001b[1;33m(\u001b[0m\u001b[1;34m\"x and y must have same first dimension\"\u001b[0m\u001b[1;33m)\u001b[0m\u001b[1;33m\u001b[0m\u001b[0m\n\u001b[0m\u001b[1;32m    220\u001b[0m         \u001b[1;32mif\u001b[0m \u001b[0mx\u001b[0m\u001b[1;33m.\u001b[0m\u001b[0mndim\u001b[0m \u001b[1;33m>\u001b[0m \u001b[1;36m2\u001b[0m \u001b[1;32mor\u001b[0m \u001b[0my\u001b[0m\u001b[1;33m.\u001b[0m\u001b[0mndim\u001b[0m \u001b[1;33m>\u001b[0m \u001b[1;36m2\u001b[0m\u001b[1;33m:\u001b[0m\u001b[1;33m\u001b[0m\u001b[0m\n\u001b[1;32m    221\u001b[0m             \u001b[1;32mraise\u001b[0m \u001b[0mValueError\u001b[0m\u001b[1;33m(\u001b[0m\u001b[1;34m\"x and y can be no greater than 2-D\"\u001b[0m\u001b[1;33m)\u001b[0m\u001b[1;33m\u001b[0m\u001b[0m\n",
      "\u001b[0;31mValueError\u001b[0m: x and y must have same first dimension"
     ]
    },
    {
     "data": {
      "image/png": "[encoded data removed]",
      "text/plain": [
       "<matplotlib.figure.Figure at 0x26d17e40630>"
      ]
     },
     "metadata": {},
     "output_type": "display_data"
    }
   ],
   "source": [
    "its = np.linspace(5,50,10)\n",
    "\n",
    "fig,ax = plt.subplots(3,1)\n",
    "fig.set_size_inches(5,12)\n",
    "ax[0].set_xlabel(\"iterations\")\n",
    "ax[1].set_xlabel(\"recall\")\n",
    "ax[2].set_xlabel(\"iterations\")\n",
    "ax[0].set_ylabel(\"accuracy\")\n",
    "ax[1].set_ylabel(\"precision\")\n",
    "ax[2].set_ylabel(\"F1-score\")\n",
    "ax[0].set_xlim(0,iter_step*num_steps)\n",
    "# ax[1].set_xlim(0,1)\n",
    "ax[2].set_xlim(0,iter_step*num_steps)\n",
    "\n",
    "for C in Cs:\n",
    "    ax[0].plot(its,accs[C], '*', label=\"C=\" + str(C))\n",
    "    ax[1].plot(recalls[C], precisions[C], '*', label=\"C=\" + str(C))\n",
    "    ax[2].plot(its, f1s[C], '*', label=\"C=\" + str(C))\n",
    "ax[0].legend(loc=4)"
   ]
  },
  {
   "cell_type": "code",
   "execution_count": 140,
   "metadata": {
    "collapsed": false
   },
   "outputs": [
    {
     "data": {
      "text/plain": [
       "[0.35093336960397348,\n",
       " 0.3511319923442307,\n",
       " 0.35104055754326852,\n",
       " 0.35119138807945915,\n",
       " 0.35099443030504202,\n",
       " 0.35149700920905386]"
      ]
     },
     "execution_count": 140,
     "metadata": {},
     "output_type": "execute_result"
    }
   ],
   "source": [
    "mean_accs = [np.array(accs[C]).mean() for C in Cs]\n",
    "mean_accs"
   ]
  },
  {
   "cell_type": "code",
   "execution_count": 151,
   "metadata": {
    "collapsed": false
   },
   "outputs": [
    {
     "data": {
      "text/plain": [
       "0.45920534988256778"
      ]
     },
     "execution_count": 151,
     "metadata": {},
     "output_type": "execute_result"
    }
   ],
   "source": [
    "mean_f1s = [np.array(f1s[C]).mean() for C in Cs]\n",
    "np.array(f1s[1000]).mean()"
   ]
  },
  {
   "cell_type": "code",
   "execution_count": null,
   "metadata": {
    "collapsed": false
   },
   "outputs": [
    {
     "name": "stdout",
     "output_type": "stream",
     "text": [
      "***** C = 0.01 *****\n",
      "10 iterations: \n",
      "acc,precision,recall,f1\n",
      "0.330089006512 0.565409540613 0.43115822196 0.432490865128\n",
      "20 iterations: \n"
     ]
    }
   ],
   "source": [
    "#high number of iterations\n",
    "reload(evaluation)\n",
    "iter_step = 10\n",
    "num_steps = 50\n",
    "Cs = [1e-2, 1e-1, 1e0, 1e1, 1e2, 1e3]\n",
    "accs = {C:[] for C in Cs}\n",
    "precisions = {C:[] for C in Cs}\n",
    "recalls = {C:[] for C in Cs}\n",
    "f1s = {C:[] for C in Cs}\n",
    "\n",
    "fig,ax = plt.subplots(1,1)\n",
    "ax.set_xlabel(\"iterations\")\n",
    "ax.set_ylabel(\"accuracy\")\n",
    "ax.set_xlim(0,iter_step*num_steps)\n",
    "\n",
    "for C in Cs:\n",
    "    print(\"***** C = \" + str(C) + \" *****\")\n",
    "    for i in range(num_steps):\n",
    "        print(str((i+1)*iter_step) + \" iterations: \")\n",
    "        reg = OneVsRestClassifier(LogisticRegression(C=C,solver='sag', max_iter=iter_step*(i+1)))\n",
    "        reg.fit(X_tr, yy_tr)\n",
    "        yhat = reg.predict(X_dv)\n",
    "        acc,precision,recall,f1 = evaluation.all_metrics(yhat, yy_dev)\n",
    "        \n",
    "        print(\"acc,precision,recall,f1\")\n",
    "        print(acc,precision,recall,f1)\n",
    "        \n",
    "        accs[C].append(acc)\n",
    "        precisions[C].append(precision)\n",
    "        recalls[C].append(recall)\n",
    "        f1s[C].append(f1)\n",
    "        \n",
    "#         plot_metrics(ax, iter_step, (i+1)*iter_step, i+1, accs[C])"
   ]
  },
  {
   "cell_type": "code",
   "execution_count": 115,
   "metadata": {
    "collapsed": false
   },
   "outputs": [
    {
     "name": "stdout",
     "output_type": "stream",
     "text": [
      "acc,precision,recall,f1\n",
      "0.348730574486 0.565874210064 0.419754801534 0.44408796113\n"
     ]
    }
   ],
   "source": [
    "#run for a long time\n",
    "lr_long = OneVsRestClassifier(LogisticRegression(C=10.0, max_iter=10))\n",
    "lr_long.fit(X_tr, Y_tr)\n",
    "yhat = lr_long.predict(X_dv)\n",
    "acc, precision, recall, f1 = evaluation.all_metrics(yhat, Y_dv)\n",
    "\n",
    "print(\"acc,precision,recall,f1\")\n",
    "print(acc,precision,recall,f1)"
   ]
  },
  {
   "cell_type": "code",
   "execution_count": 116,
   "metadata": {
    "collapsed": true
   },
   "outputs": [],
   "source": [
    "yhat_tr = lr_long.predict(X_tr)"
   ]
  },
  {
   "cell_type": "code",
   "execution_count": 118,
   "metadata": {
    "collapsed": false
   },
   "outputs": [
    {
     "name": "stdout",
     "output_type": "stream",
     "text": [
      "acc,precision,recall,f1\n",
      "0.412691821308 0.618253514356 0.460854362632 0.496629684331\n"
     ]
    }
   ],
   "source": [
    "acc,precision,recall,f1 = evaluation.all_metrics(yhat_tr, Y_tr)\n",
    "print(\"acc,precision,recall,f1\")\n",
    "print(acc,precision,recall,f1)"
   ]
  },
  {
   "cell_type": "code",
   "execution_count": 102,
   "metadata": {
    "collapsed": false
   },
   "outputs": [
    {
     "data": {
      "text/plain": [
       "{'intravenous': 1,\n",
       " 'opacities': 6,\n",
       " 'connected': 1,\n",
       " 'pedal': 1,\n",
       " 'rhythm': 1,\n",
       " 'keep': 1,\n",
       " 'related': 2,\n",
       " 'social': 9,\n",
       " 'dsds': 3,\n",
       " 'sigmoid': 2,\n",
       " 'want': 1,\n",
       " 'head': 3,\n",
       " 'activity': 6,\n",
       " 'regular': 1,\n",
       " 'short': 2,\n",
       " 'appear': 4,\n",
       " 'eat': 3,\n",
       " 'hilar': 1,\n",
       " 'discussed': 2,\n",
       " 'c': 13,\n",
       " 'break': 1,\n",
       " 'dr': 5,\n",
       " 'thin': 1,\n",
       " 'quadrant': 2,\n",
       " 'oriented': 5,\n",
       " 'level': 3,\n",
       " 'iv': 18,\n",
       " 'dehisence': 1,\n",
       " 'x4': 2,\n",
       " 'cl': 1,\n",
       " 'ca': 2,\n",
       " 'secondary': 3,\n",
       " 'chips': 2,\n",
       " 'bladder': 2,\n",
       " 'basal': 1,\n",
       " 'carina': 1,\n",
       " 'pads': 1,\n",
       " 'site': 5,\n",
       " 'using': 6,\n",
       " 'port': 1,\n",
       " 'midsternal': 1,\n",
       " 'aorta': 2,\n",
       " 'predominantly': 1,\n",
       " 'draining': 5,\n",
       " 'wean': 8,\n",
       " 'hydralizine': 1,\n",
       " 'wires': 11,\n",
       " 'amout': 1,\n",
       " 'however': 4,\n",
       " 'extends': 1,\n",
       " 'took': 1,\n",
       " 'cont': 13,\n",
       " 'qrs': 1,\n",
       " 'costophrenic': 3,\n",
       " 'contrast': 27,\n",
       " 'mg': 2,\n",
       " 'previously': 1,\n",
       " 'breathing': 2,\n",
       " 'svo2': 17,\n",
       " 'involving': 2,\n",
       " 'turned': 1,\n",
       " 'pericolic': 2,\n",
       " 'endotracheal': 1,\n",
       " 'congestive': 1,\n",
       " 'tinged': 2,\n",
       " 'able': 2,\n",
       " 'q3h': 1,\n",
       " 'endocarditis': 21,\n",
       " 'anxiety': 5,\n",
       " 'periods': 1,\n",
       " 'vpaced': 2,\n",
       " 'perrl': 1,\n",
       " 'although': 2,\n",
       " 'receiving': 1,\n",
       " 'presacral': 1,\n",
       " 'axial': 3,\n",
       " 'diluadid': 1,\n",
       " 'arm': 1,\n",
       " 'nonspecific': 1,\n",
       " 'bronchoscopy': 1,\n",
       " 'projecting': 1,\n",
       " 'radiology': 15,\n",
       " 'chb': 3,\n",
       " 'pelvic': 2,\n",
       " 'decreased': 1,\n",
       " 'abgs': 1,\n",
       " 'wheezes': 1,\n",
       " 'commands': 5,\n",
       " 'made': 3,\n",
       " 'tested': 1,\n",
       " 'pleaural': 1,\n",
       " 'shadows': 1,\n",
       " 'ocassional': 1,\n",
       " 'overload': 2,\n",
       " 'placement': 17,\n",
       " 'allowing': 1,\n",
       " 'infiltrates': 2,\n",
       " 'without': 6,\n",
       " 'throughout': 4,\n",
       " 'leads': 2,\n",
       " 'number': 15,\n",
       " 'detected': 1,\n",
       " 'adrenal': 2,\n",
       " 'mrsa': 1,\n",
       " 'lantus': 1,\n",
       " 'flanks': 1,\n",
       " 'medication': 1,\n",
       " 'ranging': 1,\n",
       " 'midnight': 2,\n",
       " 'wnl': 2,\n",
       " 'satting': 3,\n",
       " 'cr': 1,\n",
       " 'presence': 1,\n",
       " 'placed': 5,\n",
       " 'explain': 1,\n",
       " 'flow': 5,\n",
       " 'urine': 3,\n",
       " '2u': 1,\n",
       " 'serrousang': 1,\n",
       " 'changes': 4,\n",
       " 'poor': 3,\n",
       " '______________________________________________________________________________': 27,\n",
       " 'k': 5,\n",
       " 'abdominal': 1,\n",
       " 'gi': 11,\n",
       " 'addition': 2,\n",
       " 'suture': 1,\n",
       " 'episodes': 1,\n",
       " 'like': 1,\n",
       " 'round': 3,\n",
       " 'study': 4,\n",
       " 'limitations': 1,\n",
       " 'summation': 1,\n",
       " 'middle': 1,\n",
       " 'midline': 2,\n",
       " 'namepattern2': 2,\n",
       " 'history': 8,\n",
       " 'effusion': 12,\n",
       " 'elevated': 1,\n",
       " 'tent': 1,\n",
       " 'brief': 1,\n",
       " 'bedrest': 1,\n",
       " 'med': 1,\n",
       " 'stomach': 1,\n",
       " 'transfuse': 1,\n",
       " 'less': 2,\n",
       " 'constant': 1,\n",
       " 'remains': 2,\n",
       " 'findings': 5,\n",
       " 'amounts': 3,\n",
       " 'intrinsic': 1,\n",
       " 'namepattern1': 3,\n",
       " 'condition': 11,\n",
       " 'titles': 7,\n",
       " 'precautions': 1,\n",
       " 'ativan': 6,\n",
       " 'readings': 1,\n",
       " 'lytes': 1,\n",
       " 'bronch': 5,\n",
       " 'x2': 2,\n",
       " 'lots': 2,\n",
       " 'pacer': 19,\n",
       " 'endo': 6,\n",
       " 'sternotomy': 4,\n",
       " 'reassurance': 1,\n",
       " 'access': 1,\n",
       " 'infection': 1,\n",
       " 'supine': 1,\n",
       " '2nd': 7,\n",
       " 'change': 3,\n",
       " 'serous': 4,\n",
       " 'sensing': 4,\n",
       " 'sternum': 3,\n",
       " 'cardiac': 8,\n",
       " 'pulmonary': 11,\n",
       " 'spleen': 3,\n",
       " 'secretions': 3,\n",
       " 'blastic': 1,\n",
       " 'updated': 3,\n",
       " 'set': 4,\n",
       " 'ntg': 7,\n",
       " 'trachea': 1,\n",
       " 'moderate': 9,\n",
       " 'dressing': 2,\n",
       " 'pending': 1,\n",
       " 'kg': 1,\n",
       " 'difficult': 2,\n",
       " 'capturing': 3,\n",
       " 'standard': 7,\n",
       " 'hx': 1,\n",
       " 'q6h': 1,\n",
       " 'lobes': 3,\n",
       " 'effectively': 2,\n",
       " 'ards': 1,\n",
       " 'diet': 1,\n",
       " 'bp': 5,\n",
       " 'wbc': 2,\n",
       " 'suggestion': 2,\n",
       " 'excluded': 3,\n",
       " 'good': 18,\n",
       " 'bloody': 4,\n",
       " 'hrs': 3,\n",
       " 'noted': 9,\n",
       " 'lasix': 11,\n",
       " 'management': 8,\n",
       " 'voids': 1,\n",
       " 'pericardial': 3,\n",
       " 'productive': 2,\n",
       " 'pic': 1,\n",
       " 'physician': 3,\n",
       " 'conversing': 1,\n",
       " 'artery': 2,\n",
       " 'slow': 1,\n",
       " 'airleak': 1,\n",
       " 'perm': 3,\n",
       " 'wall': 1,\n",
       " 'albuterol': 1,\n",
       " 'refused': 1,\n",
       " 'shift': 6,\n",
       " 'portion': 4,\n",
       " 'flexure': 1,\n",
       " 'bronchograms': 2,\n",
       " 'paced': 5,\n",
       " 'npn': 1,\n",
       " 'initiated': 1,\n",
       " 'year': 13,\n",
       " 'machine': 1,\n",
       " 'homograft': 3,\n",
       " 'pm': 7,\n",
       " 'temps': 1,\n",
       " 'stranding': 2,\n",
       " 'washed': 1,\n",
       " 'admitting': 15,\n",
       " 'ablation': 2,\n",
       " 'radial': 1,\n",
       " 'jugular': 2,\n",
       " 'ventricle': 3,\n",
       " 'calls': 2,\n",
       " 'pre': 4,\n",
       " '40mg': 2,\n",
       " 'secretion': 1,\n",
       " 'ssri': 2,\n",
       " 'meantime': 1,\n",
       " 'accompanied': 1,\n",
       " 'consult': 1,\n",
       " 'un': 2,\n",
       " 'median': 3,\n",
       " 'svc': 5,\n",
       " 'told': 1,\n",
       " 'mucoid': 1,\n",
       " 'induration': 3,\n",
       " 'rate': 3,\n",
       " 'riss': 3,\n",
       " 'dl': 1,\n",
       " 'hospital1': 1,\n",
       " 'flowsheet': 1,\n",
       " 'remainder': 2,\n",
       " 'sat': 5,\n",
       " 'internal': 2,\n",
       " 'co': 3,\n",
       " 'ventilator': 1,\n",
       " 'retroperitoneum': 1,\n",
       " 'ray': 2,\n",
       " 'represent': 7,\n",
       " 'subcutaneous': 2,\n",
       " 'perrla': 1,\n",
       " 'received': 3,\n",
       " 'read': 1,\n",
       " 'constantly': 2,\n",
       " 'recurrent': 1,\n",
       " 'kyg': 1,\n",
       " 'recover': 2,\n",
       " 'incisional': 4,\n",
       " 'non': 1,\n",
       " 'labs': 2,\n",
       " 'large': 4,\n",
       " 'aggressive': 1,\n",
       " 'projected': 2,\n",
       " 'visited': 1,\n",
       " 'dsd': 4,\n",
       " 'view': 3,\n",
       " 'lesions': 3,\n",
       " 'impression': 8,\n",
       " 'leakage': 1,\n",
       " 'renal': 9,\n",
       " 'accordingly': 2,\n",
       " 'takes': 1,\n",
       " 'lat': 3,\n",
       " 'consistent': 6,\n",
       " 'conclusions': 1,\n",
       " 'ice': 2,\n",
       " 'question': 1,\n",
       " 'sleeping': 1,\n",
       " 'throat': 1,\n",
       " 'kidney': 2,\n",
       " 'h2o': 1,\n",
       " 'pancreatic': 3,\n",
       " 'control': 5,\n",
       " 'requirement': 1,\n",
       " 'name': 23,\n",
       " 'bony': 1,\n",
       " 'transitioned': 1,\n",
       " 'lwsxn': 2,\n",
       " 'cholecystectomy': 3,\n",
       " 'intraperitoneal': 2,\n",
       " 'calcium': 2,\n",
       " 'contours': 1,\n",
       " 'displacement': 2,\n",
       " 'covered': 1,\n",
       " 'ep': 3,\n",
       " 'inferiorly': 1,\n",
       " 'treated': 3,\n",
       " 'trough': 1,\n",
       " 'asleep': 4,\n",
       " 'sided': 3,\n",
       " 'two': 4,\n",
       " 'terminating': 1,\n",
       " 'process': 2,\n",
       " 'desat': 2,\n",
       " 'radiographs': 1,\n",
       " 'suction': 2,\n",
       " 'second': 4,\n",
       " 'r': 9,\n",
       " 'unit': 3,\n",
       " 'response': 4,\n",
       " 'cardiothoracic': 2,\n",
       " 'outside': 1,\n",
       " 'cool': 1,\n",
       " 'respiratory': 2,\n",
       " 'wife': 4,\n",
       " 'leak': 3,\n",
       " 'voided': 1,\n",
       " 'arrived': 1,\n",
       " 'greatest': 1,\n",
       " 'diameter': 1,\n",
       " 'toilet': 6,\n",
       " 'medical': 11,\n",
       " 'vessels': 1,\n",
       " '3mm': 1,\n",
       " 'name8': 3,\n",
       " 'admission': 1,\n",
       " 'extensive': 4,\n",
       " 'intraluminal': 2,\n",
       " 'residua': 1,\n",
       " 'hypo': 1,\n",
       " 'tissues': 1,\n",
       " 'retrocardiac': 4,\n",
       " 'uo': 1,\n",
       " 'abg': 1,\n",
       " 'persists': 1,\n",
       " 'maintain': 1,\n",
       " 'exam': 1,\n",
       " 'probably': 2,\n",
       " 'bilaterally': 2,\n",
       " 'reformatted': 2,\n",
       " 'swan': 6,\n",
       " 'pedial': 3,\n",
       " 'q': 2,\n",
       " 'loss': 7,\n",
       " 'regularly': 1,\n",
       " 'significant': 1,\n",
       " 'sitting': 1,\n",
       " 'nursing': 1,\n",
       " 'requesting': 2,\n",
       " 'cath': 18,\n",
       " 'projects': 1,\n",
       " 'nasal': 1,\n",
       " 'demonstrated': 3,\n",
       " 'family': 7,\n",
       " 'consolidation': 4,\n",
       " 'elevation': 5,\n",
       " 'stool': 2,\n",
       " 'voiding': 1,\n",
       " 'drains': 3,\n",
       " 'grade': 1,\n",
       " 'air': 7,\n",
       " 'rf': 2,\n",
       " 'tolerated': 3,\n",
       " 'would': 1,\n",
       " 'showing': 2,\n",
       " 'pa': 7,\n",
       " 'x': 7,\n",
       " '4v': 1,\n",
       " 'pneumomediastinum': 3,\n",
       " 'pleural': 19,\n",
       " 'obtained': 4,\n",
       " 'lpm': 1,\n",
       " 'running': 1,\n",
       " 'needed': 1,\n",
       " 'overnight': 2,\n",
       " 'persistent': 5,\n",
       " 'sxn': 1,\n",
       " 'proximal': 3,\n",
       " 'normal': 2,\n",
       " 'strong': 1,\n",
       " 'cv': 7,\n",
       " 'sedated': 1,\n",
       " 'acute': 5,\n",
       " 'lul': 1,\n",
       " 'extremities': 3,\n",
       " 'additional': 3,\n",
       " 'rectum': 1,\n",
       " 'unopacified': 1,\n",
       " 'recieved': 1,\n",
       " '25mcg': 1,\n",
       " 'pneumothoraces': 2,\n",
       " 'member': 1,\n",
       " 'clinical': 3,\n",
       " 'intact': 2,\n",
       " 'visible': 2,\n",
       " 'next': 1,\n",
       " 'source': 7,\n",
       " 'extubate': 1,\n",
       " 'sputum': 5,\n",
       " 'urinary': 1,\n",
       " 'dependant': 1,\n",
       " 'clavicle': 1,\n",
       " 'coarse': 5,\n",
       " 'fluid': 9,\n",
       " 'old': 15,\n",
       " 'pancreatitis': 1,\n",
       " 'hemodynamics': 2,\n",
       " 'ct': 35,\n",
       " 'plaques': 1,\n",
       " 'sbp': 4,\n",
       " 'echo': 2,\n",
       " 'right': 74,\n",
       " 'hours': 3,\n",
       " 'first': 8,\n",
       " 'bone': 1,\n",
       " 'pulled': 1,\n",
       " 'sized': 1,\n",
       " 'hemorrhage': 3,\n",
       " 'times': 1,\n",
       " 'p': 17,\n",
       " 'starting': 1,\n",
       " 'return': 2,\n",
       " 'hydronephrosis': 1,\n",
       " 'evaluate': 10,\n",
       " 'op': 4,\n",
       " 'slept': 1,\n",
       " 'moving': 1,\n",
       " 'differentiate': 1,\n",
       " 'picc': 6,\n",
       " 'peripheral': 1,\n",
       " 'approximately': 2,\n",
       " 'max': 2,\n",
       " 'fs': 3,\n",
       " 'pelvis': 14,\n",
       " 'cta': 1,\n",
       " 'evidence': 4,\n",
       " 'applied': 1,\n",
       " 'later': 2,\n",
       " 'index': 1,\n",
       " 'ox3': 1,\n",
       " 'id': 4,\n",
       " 'minimal': 2,\n",
       " 'years': 1,\n",
       " 'indicated': 1,\n",
       " 'compared': 7,\n",
       " 'therapeutic': 1,\n",
       " 'transfusion': 3,\n",
       " 'needs': 3,\n",
       " 'loose': 2,\n",
       " 'common': 1,\n",
       " 'oxycodone': 1,\n",
       " 'mild': 3,\n",
       " 'abd': 8,\n",
       " 'nasogastric': 1,\n",
       " 'ci': 7,\n",
       " 'brown': 2,\n",
       " '1st': 3,\n",
       " 'increase': 2,\n",
       " 'extubated': 3,\n",
       " 'multidetector': 1,\n",
       " 'relief': 2,\n",
       " 'status': 14,\n",
       " 'aware': 4,\n",
       " 'palpible': 3,\n",
       " 'abnormally': 1,\n",
       " 'ble': 1,\n",
       " 'coronal': 1,\n",
       " 'clip': 27,\n",
       " 'avpaced': 1,\n",
       " 'pulm': 3,\n",
       " 'cancer': 3,\n",
       " 'cell': 3,\n",
       " 'insufficiency': 16,\n",
       " 'opacity': 2,\n",
       " 'atn': 2,\n",
       " 'demonstrates': 2,\n",
       " 'according': 1,\n",
       " 'single': 2,\n",
       " 'naps': 1,\n",
       " 'mdct': 1,\n",
       " 'continues': 3,\n",
       " 'post': 22,\n",
       " 'ileal': 1,\n",
       " 'edema': 11,\n",
       " 'medications': 1,\n",
       " 'bases': 7,\n",
       " 'terminates': 2,\n",
       " 'abscess': 1,\n",
       " 'check': 9,\n",
       " 'main': 1,\n",
       " 'encourage': 3,\n",
       " 'visualized': 1,\n",
       " 'heart': 23,\n",
       " 'area': 2,\n",
       " 'po': 13,\n",
       " 'followup': 1,\n",
       " 'normally': 1,\n",
       " 'attention': 1,\n",
       " 'x3': 6,\n",
       " 'neo': 1,\n",
       " 'past': 1,\n",
       " 'multiple': 3,\n",
       " 'assists': 1,\n",
       " 'orally': 1,\n",
       " 'regurgitation': 1,\n",
       " 'meds': 4,\n",
       " 'rechecked': 1,\n",
       " 'ls': 2,\n",
       " 'valsalva': 1,\n",
       " 'medicated': 2,\n",
       " 'blunting': 2,\n",
       " 'uop': 1,\n",
       " 'pneumopericardium': 2,\n",
       " 'waves': 2,\n",
       " 'intubated': 2,\n",
       " 'ng': 1,\n",
       " 'arf': 2,\n",
       " 'appears': 3,\n",
       " 'see': 3,\n",
       " 'pulses': 8,\n",
       " 'displayed': 1,\n",
       " 'morphine': 1,\n",
       " 'clean': 1,\n",
       " 'contraindications': 2,\n",
       " 'irregularity': 1,\n",
       " 'hemithorax': 2,\n",
       " 'breakdown': 1,\n",
       " 'aortic': 18,\n",
       " 'mentioned': 1,\n",
       " 'improvement': 2,\n",
       " 'v': 13,\n",
       " 'perihilar': 1,\n",
       " 'bowel': 8,\n",
       " 'dropped': 1,\n",
       " 'cough': 3,\n",
       " 'patchy': 3,\n",
       " 'nc': 7,\n",
       " 'sound': 3,\n",
       " 'anxious': 7,\n",
       " 'within': 8,\n",
       " 'percutaneous': 2,\n",
       " 'administration': 2,\n",
       " 'adjacent': 3,\n",
       " 'upset': 1,\n",
       " 'time': 4,\n",
       " 'lungs': 8,\n",
       " 'angle': 3,\n",
       " 'abnormality': 1,\n",
       " 'stitle': 5,\n",
       " 'dependent': 2,\n",
       " 'glands': 2,\n",
       " 'dependently': 1,\n",
       " 'include': 2,\n",
       " 'clear': 9,\n",
       " 'upper': 10,\n",
       " 'removed': 4,\n",
       " 'av': 2,\n",
       " 'get': 4,\n",
       " 'rest': 4,\n",
       " 'mae': 8,\n",
       " 'awakened': 1,\n",
       " 'rr': 1,\n",
       " 'tmax': 1,\n",
       " 'intake': 1,\n",
       " 'guaiac': 1,\n",
       " 'cover': 2,\n",
       " 'peripancreatic': 1,\n",
       " 'unchanged': 11,\n",
       " 'indicate': 1,\n",
       " 'calcified': 1,\n",
       " 'portable': 12,\n",
       " 'removal': 4,\n",
       " 'acquired': 1,\n",
       " 'crepitus': 1,\n",
       " 'waveform': 1,\n",
       " 'ptx': 4,\n",
       " 'stable': 3,\n",
       " 'filmed': 1,\n",
       " 'hepatic': 1,\n",
       " 'suspicious': 2,\n",
       " 'npo': 3,\n",
       " 'per': 13,\n",
       " 'thus': 1,\n",
       " 'awake': 2,\n",
       " 'left': 44,\n",
       " 'o2': 8,\n",
       " 'reason': 28,\n",
       " 'txs': 2,\n",
       " 'wheezing': 2,\n",
       " 'rounds': 1,\n",
       " 'urinal': 1,\n",
       " 'information': 1,\n",
       " 'raise': 1,\n",
       " 'b': 1,\n",
       " 'previous': 5,\n",
       " 'silhouette': 1,\n",
       " 'home': 1,\n",
       " 'amount': 11,\n",
       " 'though': 2,\n",
       " 'procedure': 6,\n",
       " 'mildly': 3,\n",
       " 'milrinone': 5,\n",
       " 'early': 1,\n",
       " 'images': 6,\n",
       " 'support': 8,\n",
       " 'fib': 1,\n",
       " 'lll': 1,\n",
       " 'underneath': 1,\n",
       " 'increased': 8,\n",
       " 'ecchymotic': 2,\n",
       " 'space': 1,\n",
       " 'cannot': 3,\n",
       " 'vascular': 2,\n",
       " 'l': 2,\n",
       " 'current': 2,\n",
       " 'bs': 6,\n",
       " 'liquids': 1,\n",
       " 'opacification': 5,\n",
       " 'technique': 2,\n",
       " 'ceftriaxone': 1,\n",
       " 'today': 13,\n",
       " 'supportive': 1,\n",
       " 'torso': 2,\n",
       " 'line': 16,\n",
       " 'suggesting': 1,\n",
       " 'film': 1,\n",
       " 'interstitial': 3,\n",
       " 'correctly': 3,\n",
       " 'atherosclerotic': 1,\n",
       " 'strength': 1,\n",
       " 'replete': 2,\n",
       " '30cc': 1,\n",
       " 'disease': 2,\n",
       " 'rythm': 1,\n",
       " 'following': 7,\n",
       " 'pp': 2,\n",
       " 'comparisons': 1,\n",
       " 'friction': 1,\n",
       " 'pleuravac': 2,\n",
       " 'weak': 2,\n",
       " 'emotional': 3,\n",
       " 'monitor': 12,\n",
       " 'units': 2,\n",
       " 'diladid': 3,\n",
       " 'receive': 1,\n",
       " 'last': 15,\n",
       " 'chest': 52,\n",
       " 'correlation': 3,\n",
       " 'colon': 2,\n",
       " 'outflow': 1,\n",
       " 'radiograph': 6,\n",
       " 'lobe': 3,\n",
       " 'higher': 2,\n",
       " 'attach': 1,\n",
       " 'pericolonic': 1,\n",
       " 'lower': 4,\n",
       " 'jejunum': 1,\n",
       " 'continued': 1,\n",
       " 'atc': 1,\n",
       " 'prn': 3,\n",
       " 'incision': 1,\n",
       " 'deep': 1,\n",
       " 'fistula': 1,\n",
       " 'alveolar': 3,\n",
       " 'drainage': 11,\n",
       " 'even': 1,\n",
       " 'liters': 3,\n",
       " 'falling': 1,\n",
       " 'vanco': 3,\n",
       " 'ordered': 2,\n",
       " 'probable': 1,\n",
       " 'iliac': 1,\n",
       " 'passed': 1,\n",
       " 'kidneys': 3,\n",
       " 'till': 1,\n",
       " 'motion': 1,\n",
       " 'careweb': 4,\n",
       " 'adequate': 2,\n",
       " 'border': 1,\n",
       " 'eval': 1,\n",
       " 'lot': 1,\n",
       " 'flushing': 1,\n",
       " 'interim': 2,\n",
       " 'comfortable': 1,\n",
       " 'nebs': 5,\n",
       " 'rectal': 1,\n",
       " 'potassium': 1,\n",
       " 'scant': 2,\n",
       " 'indication': 3,\n",
       " 'definite': 2,\n",
       " 'radiopaque': 1,\n",
       " 'atelectasis': 9,\n",
       " 'might': 2,\n",
       " 'yet': 1,\n",
       " 'place': 1,\n",
       " 'opacified': 1,\n",
       " 'min': 1,\n",
       " 'ppm': 5,\n",
       " 'ventricular': 2,\n",
       " 'catheter': 8,\n",
       " 'measure': 1,\n",
       " 'levo': 1,\n",
       " 'neuro': 10,\n",
       " 'sheet': 1,\n",
       " 'retroperitoneal': 9,\n",
       " 'vent': 4,\n",
       " 'md': 5,\n",
       " 'liver': 4,\n",
       " 'lead': 3,\n",
       " 'thickened': 2,\n",
       " 'aerosol': 1,\n",
       " 'diverticulitis': 1,\n",
       " 'sheath': 1,\n",
       " 'straw': 1,\n",
       " 'changed': 4,\n",
       " 'setting': 1,\n",
       " 'questionable': 1,\n",
       " 'pwaves': 1,\n",
       " 'results': 6,\n",
       " 'iodinated': 1,\n",
       " 'identified': 3,\n",
       " 'transfused': 1,\n",
       " 'tiny': 2,\n",
       " 'described': 4,\n",
       " 'equal': 1,\n",
       " 'explanation': 1,\n",
       " '20mg': 1,\n",
       " 'prbc': 2,\n",
       " 'ss': 3,\n",
       " 'dimension': 1,\n",
       " 'hct': 7,\n",
       " 'vdemand': 2,\n",
       " 'free': 4,\n",
       " 'sagittal': 1,\n",
       " 'mediastinal': 6,\n",
       " 'diagnostic': 2,\n",
       " 'cdi': 6,\n",
       " 'diminished': 1,\n",
       " 'consolidations': 2,\n",
       " 'eccho': 1,\n",
       " 'long': 3,\n",
       " 'cat': 1,\n",
       " 'ambien': 3,\n",
       " 'systems': 3,\n",
       " 'image': 1,\n",
       " 'lytic': 1,\n",
       " 'superior': 1,\n",
       " 'called': 1,\n",
       " 'plan': 11,\n",
       " 'brisk': 1,\n",
       " 'diverticulosis': 2,\n",
       " 'hemidiaphragm': 5,\n",
       " 'incisions': 1,\n",
       " 'man': 13,\n",
       " 'dipped': 2,\n",
       " 'atel': 2,\n",
       " 'cardiopulmonary': 1,\n",
       " 'simv': 1,\n",
       " 'likely': 5,\n",
       " 'blood': 16,\n",
       " 'evening': 3,\n",
       " 'propofol': 2,\n",
       " 'windows': 1,\n",
       " 'size': 3,\n",
       " 'otherwise': 1,\n",
       " 'done': 1,\n",
       " 'glass': 2,\n",
       " 'ganz': 5,\n",
       " 'developing': 1,\n",
       " 'distal': 3,\n",
       " 'recommend': 1,\n",
       " 'due': 4,\n",
       " 'oob': 1,\n",
       " 'known': 3,\n",
       " 'lucency': 4,\n",
       " 'dehiscence': 1,\n",
       " 'lv': 1,\n",
       " 'box': 1,\n",
       " 'block': 1,\n",
       " 'name4': 1,\n",
       " 'comparison': 5,\n",
       " 'tube': 21,\n",
       " 'representing': 2,\n",
       " 'psv': 1,\n",
       " 'region': 4,\n",
       " 'monday': 1,\n",
       " 'tomorrow': 2,\n",
       " 'care': 4,\n",
       " 'scattered': 1,\n",
       " 'sleep': 3,\n",
       " 'show': 2,\n",
       " 'ith': 1,\n",
       " 'cerclage': 2,\n",
       " 'position': 11,\n",
       " 'suggests': 1,\n",
       " 'presumably': 1,\n",
       " 'diagnosis': 15,\n",
       " 'collection': 3,\n",
       " 'valve': 1,\n",
       " 'assess': 10,\n",
       " 'maker': 1,\n",
       " 'electrolytes': 1,\n",
       " 'may': 8,\n",
       " 'pace': 1,\n",
       " 'axillary': 1,\n",
       " 'awaiting': 2,\n",
       " 'face': 1,\n",
       " 'shifts': 1,\n",
       " 'foley': 3,\n",
       " 'evaluation': 2,\n",
       " 'suctioned': 2,\n",
       " 'liquid': 1,\n",
       " 'et': 1,\n",
       " 'skin': 10,\n",
       " 'one': 2,\n",
       " 'cm': 1,\n",
       " 'wet': 1,\n",
       " 'dim': 5,\n",
       " 'high': 12,\n",
       " 'informative': 2,\n",
       " 'yellow': 3,\n",
       " '2a': 1,\n",
       " 'appropriate': 2,\n",
       " 'runs': 1,\n",
       " 'since': 4,\n",
       " 'around': 2,\n",
       " 'leaks': 1,\n",
       " 'field': 3,\n",
       " 'nitro': 6,\n",
       " 'showed': 1,\n",
       " 'warm': 3,\n",
       " 'reported': 1,\n",
       " 'thick': 5,\n",
       " 'need': 1,\n",
       " 'visualize': 1,\n",
       " 'venous': 1,\n",
       " 'explained': 1,\n",
       " 'initial': 3,\n",
       " 'sliding': 2,\n",
       " 'severe': 3,\n",
       " 'update': 3,\n",
       " 'intestinal': 1,\n",
       " 'different': 2,\n",
       " 'commads': 1,\n",
       " 'exp': 2,\n",
       " 'reports': 1,\n",
       " 'surgical': 7,\n",
       " 'probability': 1,\n",
       " '2mg': 4,\n",
       " 'full': 2,\n",
       " 'loops': 2,\n",
       " 'least': 1,\n",
       " 'frequent': 2,\n",
       " 'effusions': 7,\n",
       " 'cxr': 1,\n",
       " 'dilated': 3,\n",
       " 'bleeding': 1,\n",
       " 'tolerating': 8,\n",
       " 'pneumothorax': 17,\n",
       " 'recent': 2,\n",
       " 'hematoma': 5,\n",
       " 'acceptable': 1,\n",
       " 'procedures': 1,\n",
       " 'physical': 1,\n",
       " 'bed': 1,\n",
       " 'sugars': 1,\n",
       " 'sinus': 1,\n",
       " 'ground': 2,\n",
       " 'pseudocyst': 1,\n",
       " 'x1': 2,\n",
       " 'pt': 14,\n",
       " 'recommended': 1,\n",
       " 'lipitor': 1,\n",
       " 'central': 2,\n",
       " 'airspace': 5,\n",
       " 'resp': 14,\n",
       " 'hr': 4,\n",
       " 'prior': 5,\n",
       " 'lg': 1,\n",
       " 'bleed': 8,\n",
       " 'freely': 1,\n",
       " 'making': 3,\n",
       " 'colace': 1,\n",
       " 'density': 11,\n",
       " 'started': 4,\n",
       " 'bilateral': 13,\n",
       " 'tissue': 1,\n",
       " 'sounds': 4,\n",
       " '30s': 1,\n",
       " 'stated': 2,\n",
       " 'given': 10,\n",
       " 'start': 2,\n",
       " 'residual': 4,\n",
       " 'nontender': 4,\n",
       " 'performed': 1,\n",
       " 'ext': 1,\n",
       " 'avr': 1,\n",
       " 'carried': 1,\n",
       " 'u': 7,\n",
       " 'contour': 2,\n",
       " 'available': 1,\n",
       " 'indicating': 2,\n",
       " 'gtt': 10,\n",
       " 'limited': 1,\n",
       " 'indicative': 2,\n",
       " 'sats': 3,\n",
       " 'piv': 1,\n",
       " 'tip': 12,\n",
       " 'mediastinum': 1,\n",
       " 'multifocal': 1,\n",
       " 'palpable': 2,\n",
       " 'await': 1,\n",
       " 'seen': 29,\n",
       " 'awoke': 1,\n",
       " 'worse': 2,\n",
       " 'appearance': 1,\n",
       " 'ap': 10,\n",
       " 'nd': 1,\n",
       " 'dry': 3,\n",
       " 'encouragement': 5,\n",
       " 'ureters': 1,\n",
       " 'considerations': 2,\n",
       " 'use': 3,\n",
       " 'team': 5,\n",
       " 'underlying': 3,\n",
       " 'unremarkable': 1,\n",
       " 'weaned': 4,\n",
       " 'mri': 1,\n",
       " 'catheterization': 2,\n",
       " 'hydral': 1,\n",
       " 'pressure': 1,\n",
       " 'note': 4,\n",
       " 'percocet': 1,\n",
       " 'calm': 1,\n",
       " 'tan': 1,\n",
       " 'bubble': 1,\n",
       " 'identifed': 1,\n",
       " 'lymphadenopathy': 1,\n",
       " 'improved': 2,\n",
       " 'small': 32,\n",
       " '6l': 1,\n",
       " 'diuresis': 3,\n",
       " 'gutter': 2,\n",
       " 'subsegmental': 2,\n",
       " 'continue': 6,\n",
       " 'afebrile': 6,\n",
       " 'retrieved': 1,\n",
       " 'output': 1,\n",
       " 'parameters': 1,\n",
       " 'sl': 1,\n",
       " 'bibasilar': 1,\n",
       " 'arteries': 1,\n",
       " 'conts': 1,\n",
       " 'fat': 2,\n",
       " 'low': 16,\n",
       " 'yankaur': 1,\n",
       " 'indistinctness': 1,\n",
       " 'diffuse': 2,\n",
       " 'three': 1,\n",
       " 'contact': 2,\n",
       " 'initially': 1,\n",
       " 'scale': 2,\n",
       " 'greenish': 1,\n",
       " 'trending': 1,\n",
       " 'antibiotics': 2,\n",
       " 'indurated': 1,\n",
       " 'repair': 1,\n",
       " 'slightly': 2,\n",
       " 'vein': 1,\n",
       " 'dc': 3,\n",
       " 'cts': 2,\n",
       " 'amt': 3,\n",
       " 'contents': 2,\n",
       " 'concerning': 2,\n",
       " 'longitudinal': 1,\n",
       " 'pathologically': 1,\n",
       " 'fem': 3,\n",
       " 'hospital': 11,\n",
       " 'extubation': 2,\n",
       " 'anemia': 1,\n",
       " 'turn': 3,\n",
       " 'possibly': 3,\n",
       " 'multiplanar': 1,\n",
       " 'tx': 1,\n",
       " 'pacemaker': 5,\n",
       " ...}"
      ]
     },
     "execution_count": 102,
     "metadata": {},
     "output_type": "execute_result"
    }
   ],
   "source": [
    "x_to_bow(X_tr[-1].toarray()[0])"
   ]
  },
  {
   "cell_type": "code",
   "execution_count": 104,
   "metadata": {
    "collapsed": false
   },
   "outputs": [
    {
     "data": {
      "text/plain": [
       "array([0, 0, 0, 0, 0, 0, 0, 0, 0, 1])"
      ]
     },
     "execution_count": 104,
     "metadata": {},
     "output_type": "execute_result"
    }
   ],
   "source": [
    "yhat[-1]"
   ]
  },
  {
   "cell_type": "code",
   "execution_count": 106,
   "metadata": {
    "collapsed": false
   },
   "outputs": [
    {
     "data": {
      "text/plain": [
       "['51881']"
      ]
     },
     "execution_count": 106,
     "metadata": {},
     "output_type": "execute_result"
    }
   ],
   "source": [
    "y_to_codes(yhat[-1])"
   ]
  },
  {
   "cell_type": "code",
   "execution_count": 90,
   "metadata": {
    "collapsed": false
   },
   "outputs": [
    {
     "name": "stdout",
     "output_type": "stream",
     "text": [
      "[]\n",
      "['4280']\n",
      "[]\n",
      "[]\n",
      "[]\n",
      "[]\n",
      "[]\n",
      "[]\n",
      "[]\n",
      "[]\n",
      "[]\n",
      "[]\n",
      "[]\n",
      "[]\n",
      "[]\n",
      "[]\n",
      "[]\n",
      "[]\n",
      "[]\n",
      "[]\n",
      "['51881']\n",
      "[]\n",
      "['4280']\n",
      "[]\n",
      "[]\n",
      "[]\n",
      "[]\n",
      "[]\n",
      "['4280', '51881']\n",
      "[]\n",
      "['4280']\n",
      "[]\n",
      "[]\n",
      "[]\n",
      "[]\n",
      "[]\n",
      "[]\n",
      "['4280']\n",
      "[]\n",
      "[]\n",
      "['4280']\n",
      "[]\n",
      "[]\n",
      "[]\n",
      "['5849', '4280']\n",
      "[]\n",
      "[]\n",
      "[]\n",
      "[]\n",
      "[]\n",
      "['4280']\n",
      "[]\n",
      "[]\n",
      "[]\n",
      "[]\n",
      "[]\n",
      "[]\n",
      "[]\n",
      "[]\n",
      "[]\n",
      "['5849', '4280']\n",
      "[]\n",
      "[]\n",
      "['4019']\n",
      "[]\n",
      "[]\n",
      "[]\n",
      "[]\n",
      "[]\n",
      "[]\n",
      "[]\n",
      "[]\n",
      "[]\n",
      "[]\n",
      "[]\n",
      "[]\n",
      "['51881']\n",
      "[]\n",
      "[]\n",
      "[]\n",
      "[]\n",
      "['4280', '51881']\n",
      "[]\n",
      "[]\n",
      "['5849', '4280', '2724', '5990', '53081', '51881']\n",
      "['5849', '4280', '51881']\n",
      "[]\n",
      "[]\n",
      "[]\n",
      "[]\n",
      "[]\n",
      "['4019']\n",
      "[]\n",
      "[]\n",
      "[]\n",
      "['4019']\n",
      "[]\n",
      "[]\n",
      "[]\n",
      "[]\n"
     ]
    }
   ],
   "source": [
    "i = 0\n",
    "for yh in yhat:\n",
    "    if i < 100:\n",
    "        print(y_to_codes(yh))\n",
    "    i += 1"
   ]
  },
  {
   "cell_type": "markdown",
   "metadata": {},
   "source": [
    "## SVM"
   ]
  },
  {
   "cell_type": "code",
   "execution_count": 32,
   "metadata": {
    "collapsed": false
   },
   "outputs": [
    {
     "name": "stdout",
     "output_type": "stream",
     "text": [
      "C = 0.01, iters = 3: \n",
      "acc,precision,recall,f1\n",
      "0.20753594277 0.244468471182 0.609138562043 0.311823809752\n",
      "C = 0.1, iters = 3: \n",
      "acc,precision,recall,f1\n",
      "0.20753594277 0.244468471182 0.609138562043 0.311823809752\n",
      "C = 1.0, iters = 3: \n",
      "acc,precision,recall,f1\n",
      "0.20753594277 0.244468471182 0.609138562043 0.311823809752\n",
      "C = 10.0, iters = 3: \n",
      "acc,precision,recall,f1\n",
      "0.206748285854 0.25461677097 0.589105693056 0.310577218286\n",
      "C = 100.0, iters = 3: \n",
      "acc,precision,recall,f1\n",
      "0.0880359140816 0.112800923364 0.242436137033 0.13221510305\n",
      "C = 1000.0, iters = 3: \n",
      "acc,precision,recall,f1\n",
      "0.122095172521 0.189635203423 0.24662826487 0.181343287494\n",
      "C = 0.01, iters = 5: \n",
      "acc,precision,recall,f1\n",
      "0.206559658031 0.253922864438 0.569262066648 0.308291373023\n",
      "C = 0.1, iters = 5: \n",
      "acc,precision,recall,f1\n",
      "0.206559658031 0.253922864438 0.569262066648 0.308291373023\n",
      "C = 1.0, iters = 5: \n",
      "acc,precision,recall,f1\n",
      "0.206559658031 0.253922864438 0.569262066648 0.308291373023\n",
      "C = 10.0, iters = 5: \n",
      "acc,precision,recall,f1\n",
      "0.203432544806 0.255517594334 0.556169543728 0.303019509376\n",
      "C = 100.0, iters = 5: \n",
      "acc,precision,recall,f1\n",
      "0.0814489506105 0.10635632728 0.218482913864 0.121590386818\n",
      "C = 1000.0, iters = 5: \n",
      "acc,precision,recall,f1\n",
      "0.0773449378891 0.129652887922 0.146452137099 0.115891256898\n",
      "C = 0.01, iters = 7: \n",
      "acc,precision,recall,f1\n",
      "0.202088225771 0.238529922254 0.579516668101 0.302144097027\n",
      "C = 0.1, iters = 7: \n",
      "acc,precision,recall,f1\n",
      "0.202088225771 0.238529922254 0.579516668101 0.302144097027\n",
      "C = 1.0, iters = 7: \n",
      "acc,precision,recall,f1\n",
      "0.202088225771 0.238529922254 0.579516668101 0.302144097027\n",
      "C = 10.0, iters = 7: \n",
      "acc,precision,recall,f1\n",
      "0.198906296747 0.241338335403 0.563632893987 0.296488036309\n",
      "C = 100.0, iters = 7: \n",
      "acc,precision,recall,f1\n",
      "0.073995026619 0.105248587084 0.183491120865 0.108702735081\n",
      "C = 1000.0, iters = 7: \n",
      "acc,precision,recall,f1\n",
      "0.106496799167 0.192524713216 0.218497104496 0.155091910056\n",
      "C = 0.01, iters = 10: \n",
      "acc,precision,recall,f1\n",
      "0.194446186255 0.240455083832 0.537177457695 0.290534737858\n",
      "C = 0.1, iters = 10: \n"
     ]
    },
    {
     "ename": "KeyboardInterrupt",
     "evalue": "",
     "output_type": "error",
     "traceback": [
      "\u001b[0;31m---------------------------------------------------------------------------\u001b[0m",
      "\u001b[0;31mKeyboardInterrupt\u001b[0m                         Traceback (most recent call last)",
      "\u001b[0;32m<ipython-input-32-fbe84839f446>\u001b[0m in \u001b[0;36m<module>\u001b[0;34m()\u001b[0m\n\u001b[1;32m      8\u001b[0m         \u001b[0msvm\u001b[0m \u001b[1;33m=\u001b[0m \u001b[0mOneVsRestClassifier\u001b[0m\u001b[1;33m(\u001b[0m\u001b[0mSVC\u001b[0m\u001b[1;33m(\u001b[0m\u001b[0mC\u001b[0m\u001b[1;33m=\u001b[0m\u001b[0mC\u001b[0m\u001b[1;33m,\u001b[0m \u001b[0mmax_iter\u001b[0m\u001b[1;33m=\u001b[0m\u001b[0mmx_iter\u001b[0m\u001b[1;33m)\u001b[0m\u001b[1;33m)\u001b[0m\u001b[1;33m\u001b[0m\u001b[0m\n\u001b[1;32m      9\u001b[0m         \u001b[0msvm\u001b[0m\u001b[1;33m.\u001b[0m\u001b[0mfit\u001b[0m\u001b[1;33m(\u001b[0m\u001b[0mX_tr\u001b[0m\u001b[1;33m,\u001b[0m \u001b[0myy_tr\u001b[0m\u001b[1;33m)\u001b[0m\u001b[1;33m\u001b[0m\u001b[0m\n\u001b[0;32m---> 10\u001b[0;31m         \u001b[0myhat\u001b[0m \u001b[1;33m=\u001b[0m \u001b[0msvm\u001b[0m\u001b[1;33m.\u001b[0m\u001b[0mpredict\u001b[0m\u001b[1;33m(\u001b[0m\u001b[0mX_dv\u001b[0m\u001b[1;33m)\u001b[0m\u001b[1;33m\u001b[0m\u001b[0m\n\u001b[0m\u001b[1;32m     11\u001b[0m         \u001b[0macc\u001b[0m\u001b[1;33m,\u001b[0m\u001b[0mprecision\u001b[0m\u001b[1;33m,\u001b[0m\u001b[0mrecall\u001b[0m\u001b[1;33m,\u001b[0m\u001b[0mf1\u001b[0m \u001b[1;33m=\u001b[0m \u001b[0mevaluation\u001b[0m\u001b[1;33m.\u001b[0m\u001b[0mall_metrics\u001b[0m\u001b[1;33m(\u001b[0m\u001b[0myhat\u001b[0m\u001b[1;33m,\u001b[0m \u001b[0myy_dev\u001b[0m\u001b[1;33m)\u001b[0m\u001b[1;33m\u001b[0m\u001b[0m\n\u001b[1;32m     12\u001b[0m         \u001b[0mprint\u001b[0m\u001b[1;33m(\u001b[0m\u001b[1;34m\"acc,precision,recall,f1\"\u001b[0m\u001b[1;33m)\u001b[0m\u001b[1;33m\u001b[0m\u001b[0m\n",
      "\u001b[0;32mC:\\Program Files\\Anaconda3\\lib\\site-packages\\sklearn\\multiclass.py\u001b[0m in \u001b[0;36mpredict\u001b[0;34m(self, X)\u001b[0m\n\u001b[1;32m    323\u001b[0m             \u001b[0mindptr\u001b[0m \u001b[1;33m=\u001b[0m \u001b[0marray\u001b[0m\u001b[1;33m.\u001b[0m\u001b[0marray\u001b[0m\u001b[1;33m(\u001b[0m\u001b[1;34m'i'\u001b[0m\u001b[1;33m,\u001b[0m \u001b[1;33m[\u001b[0m\u001b[1;36m0\u001b[0m\u001b[1;33m]\u001b[0m\u001b[1;33m)\u001b[0m\u001b[1;33m\u001b[0m\u001b[0m\n\u001b[1;32m    324\u001b[0m             \u001b[1;32mfor\u001b[0m \u001b[0me\u001b[0m \u001b[1;32min\u001b[0m \u001b[0mself\u001b[0m\u001b[1;33m.\u001b[0m\u001b[0mestimators_\u001b[0m\u001b[1;33m:\u001b[0m\u001b[1;33m\u001b[0m\u001b[0m\n\u001b[0;32m--> 325\u001b[0;31m                 \u001b[0mindices\u001b[0m\u001b[1;33m.\u001b[0m\u001b[0mextend\u001b[0m\u001b[1;33m(\u001b[0m\u001b[0mnp\u001b[0m\u001b[1;33m.\u001b[0m\u001b[0mwhere\u001b[0m\u001b[1;33m(\u001b[0m\u001b[0m_predict_binary\u001b[0m\u001b[1;33m(\u001b[0m\u001b[0me\u001b[0m\u001b[1;33m,\u001b[0m \u001b[0mX\u001b[0m\u001b[1;33m)\u001b[0m \u001b[1;33m>\u001b[0m \u001b[0mthresh\u001b[0m\u001b[1;33m)\u001b[0m\u001b[1;33m[\u001b[0m\u001b[1;36m0\u001b[0m\u001b[1;33m]\u001b[0m\u001b[1;33m)\u001b[0m\u001b[1;33m\u001b[0m\u001b[0m\n\u001b[0m\u001b[1;32m    326\u001b[0m                 \u001b[0mindptr\u001b[0m\u001b[1;33m.\u001b[0m\u001b[0mappend\u001b[0m\u001b[1;33m(\u001b[0m\u001b[0mlen\u001b[0m\u001b[1;33m(\u001b[0m\u001b[0mindices\u001b[0m\u001b[1;33m)\u001b[0m\u001b[1;33m)\u001b[0m\u001b[1;33m\u001b[0m\u001b[0m\n\u001b[1;32m    327\u001b[0m             \u001b[0mdata\u001b[0m \u001b[1;33m=\u001b[0m \u001b[0mnp\u001b[0m\u001b[1;33m.\u001b[0m\u001b[0mones\u001b[0m\u001b[1;33m(\u001b[0m\u001b[0mlen\u001b[0m\u001b[1;33m(\u001b[0m\u001b[0mindices\u001b[0m\u001b[1;33m)\u001b[0m\u001b[1;33m,\u001b[0m \u001b[0mdtype\u001b[0m\u001b[1;33m=\u001b[0m\u001b[0mint\u001b[0m\u001b[1;33m)\u001b[0m\u001b[1;33m\u001b[0m\u001b[0m\n",
      "\u001b[0;32mC:\\Program Files\\Anaconda3\\lib\\site-packages\\sklearn\\multiclass.py\u001b[0m in \u001b[0;36m_predict_binary\u001b[0;34m(estimator, X)\u001b[0m\n\u001b[1;32m     81\u001b[0m         \u001b[1;32mreturn\u001b[0m \u001b[0mestimator\u001b[0m\u001b[1;33m.\u001b[0m\u001b[0mpredict\u001b[0m\u001b[1;33m(\u001b[0m\u001b[0mX\u001b[0m\u001b[1;33m)\u001b[0m\u001b[1;33m\u001b[0m\u001b[0m\n\u001b[1;32m     82\u001b[0m     \u001b[1;32mtry\u001b[0m\u001b[1;33m:\u001b[0m\u001b[1;33m\u001b[0m\u001b[0m\n\u001b[0;32m---> 83\u001b[0;31m         \u001b[0mscore\u001b[0m \u001b[1;33m=\u001b[0m \u001b[0mnp\u001b[0m\u001b[1;33m.\u001b[0m\u001b[0mravel\u001b[0m\u001b[1;33m(\u001b[0m\u001b[0mestimator\u001b[0m\u001b[1;33m.\u001b[0m\u001b[0mdecision_function\u001b[0m\u001b[1;33m(\u001b[0m\u001b[0mX\u001b[0m\u001b[1;33m)\u001b[0m\u001b[1;33m)\u001b[0m\u001b[1;33m\u001b[0m\u001b[0m\n\u001b[0m\u001b[1;32m     84\u001b[0m     \u001b[1;32mexcept\u001b[0m \u001b[1;33m(\u001b[0m\u001b[0mAttributeError\u001b[0m\u001b[1;33m,\u001b[0m \u001b[0mNotImplementedError\u001b[0m\u001b[1;33m)\u001b[0m\u001b[1;33m:\u001b[0m\u001b[1;33m\u001b[0m\u001b[0m\n\u001b[1;32m     85\u001b[0m         \u001b[1;31m# probabilities of the positive class\u001b[0m\u001b[1;33m\u001b[0m\u001b[1;33m\u001b[0m\u001b[0m\n",
      "\u001b[0;32mC:\\Program Files\\Anaconda3\\lib\\site-packages\\sklearn\\svm\\base.py\u001b[0m in \u001b[0;36mdecision_function\u001b[0;34m(self, X)\u001b[0m\n\u001b[1;32m    540\u001b[0m             n_classes)\n\u001b[1;32m    541\u001b[0m         \"\"\"\n\u001b[0;32m--> 542\u001b[0;31m         \u001b[0mdec\u001b[0m \u001b[1;33m=\u001b[0m \u001b[0mself\u001b[0m\u001b[1;33m.\u001b[0m\u001b[0m_decision_function\u001b[0m\u001b[1;33m(\u001b[0m\u001b[0mX\u001b[0m\u001b[1;33m)\u001b[0m\u001b[1;33m\u001b[0m\u001b[0m\n\u001b[0m\u001b[1;32m    543\u001b[0m         \u001b[1;32mif\u001b[0m \u001b[0mself\u001b[0m\u001b[1;33m.\u001b[0m\u001b[0mdecision_function_shape\u001b[0m \u001b[1;32mis\u001b[0m \u001b[1;32mNone\u001b[0m \u001b[1;32mand\u001b[0m \u001b[0mlen\u001b[0m\u001b[1;33m(\u001b[0m\u001b[0mself\u001b[0m\u001b[1;33m.\u001b[0m\u001b[0mclasses_\u001b[0m\u001b[1;33m)\u001b[0m \u001b[1;33m>\u001b[0m \u001b[1;36m2\u001b[0m\u001b[1;33m:\u001b[0m\u001b[1;33m\u001b[0m\u001b[0m\n\u001b[1;32m    544\u001b[0m             warnings.warn(\"The decision_function_shape default value will \"\n",
      "\u001b[0;32mC:\\Program Files\\Anaconda3\\lib\\site-packages\\sklearn\\svm\\base.py\u001b[0m in \u001b[0;36m_decision_function\u001b[0;34m(self, X)\u001b[0m\n\u001b[1;32m    397\u001b[0m         \u001b[1;31m# NOTE: _validate_for_predict contains check for is_fitted\u001b[0m\u001b[1;33m\u001b[0m\u001b[1;33m\u001b[0m\u001b[0m\n\u001b[1;32m    398\u001b[0m         \u001b[1;31m# hence must be placed before any other attributes are used.\u001b[0m\u001b[1;33m\u001b[0m\u001b[1;33m\u001b[0m\u001b[0m\n\u001b[0;32m--> 399\u001b[0;31m         \u001b[0mX\u001b[0m \u001b[1;33m=\u001b[0m \u001b[0mself\u001b[0m\u001b[1;33m.\u001b[0m\u001b[0m_validate_for_predict\u001b[0m\u001b[1;33m(\u001b[0m\u001b[0mX\u001b[0m\u001b[1;33m)\u001b[0m\u001b[1;33m\u001b[0m\u001b[0m\n\u001b[0m\u001b[1;32m    400\u001b[0m         \u001b[0mX\u001b[0m \u001b[1;33m=\u001b[0m \u001b[0mself\u001b[0m\u001b[1;33m.\u001b[0m\u001b[0m_compute_kernel\u001b[0m\u001b[1;33m(\u001b[0m\u001b[0mX\u001b[0m\u001b[1;33m)\u001b[0m\u001b[1;33m\u001b[0m\u001b[0m\n\u001b[1;32m    401\u001b[0m \u001b[1;33m\u001b[0m\u001b[0m\n",
      "\u001b[0;32mC:\\Program Files\\Anaconda3\\lib\\site-packages\\sklearn\\svm\\base.py\u001b[0m in \u001b[0;36m_validate_for_predict\u001b[0;34m(self, X)\u001b[0m\n\u001b[1;32m    452\u001b[0m         \u001b[0mcheck_is_fitted\u001b[0m\u001b[1;33m(\u001b[0m\u001b[0mself\u001b[0m\u001b[1;33m,\u001b[0m \u001b[1;34m'support_'\u001b[0m\u001b[1;33m)\u001b[0m\u001b[1;33m\u001b[0m\u001b[0m\n\u001b[1;32m    453\u001b[0m \u001b[1;33m\u001b[0m\u001b[0m\n\u001b[0;32m--> 454\u001b[0;31m         \u001b[0mX\u001b[0m \u001b[1;33m=\u001b[0m \u001b[0mcheck_array\u001b[0m\u001b[1;33m(\u001b[0m\u001b[0mX\u001b[0m\u001b[1;33m,\u001b[0m \u001b[0maccept_sparse\u001b[0m\u001b[1;33m=\u001b[0m\u001b[1;34m'csr'\u001b[0m\u001b[1;33m,\u001b[0m \u001b[0mdtype\u001b[0m\u001b[1;33m=\u001b[0m\u001b[0mnp\u001b[0m\u001b[1;33m.\u001b[0m\u001b[0mfloat64\u001b[0m\u001b[1;33m,\u001b[0m \u001b[0morder\u001b[0m\u001b[1;33m=\u001b[0m\u001b[1;34m\"C\"\u001b[0m\u001b[1;33m)\u001b[0m\u001b[1;33m\u001b[0m\u001b[0m\n\u001b[0m\u001b[1;32m    455\u001b[0m         \u001b[1;32mif\u001b[0m \u001b[0mself\u001b[0m\u001b[1;33m.\u001b[0m\u001b[0m_sparse\u001b[0m \u001b[1;32mand\u001b[0m \u001b[1;32mnot\u001b[0m \u001b[0msp\u001b[0m\u001b[1;33m.\u001b[0m\u001b[0misspmatrix\u001b[0m\u001b[1;33m(\u001b[0m\u001b[0mX\u001b[0m\u001b[1;33m)\u001b[0m\u001b[1;33m:\u001b[0m\u001b[1;33m\u001b[0m\u001b[0m\n\u001b[1;32m    456\u001b[0m             \u001b[0mX\u001b[0m \u001b[1;33m=\u001b[0m \u001b[0msp\u001b[0m\u001b[1;33m.\u001b[0m\u001b[0mcsr_matrix\u001b[0m\u001b[1;33m(\u001b[0m\u001b[0mX\u001b[0m\u001b[1;33m)\u001b[0m\u001b[1;33m\u001b[0m\u001b[0m\n",
      "\u001b[0;32mC:\\Program Files\\Anaconda3\\lib\\site-packages\\sklearn\\utils\\validation.py\u001b[0m in \u001b[0;36mcheck_array\u001b[0;34m(array, accept_sparse, dtype, order, copy, force_all_finite, ensure_2d, allow_nd, ensure_min_samples, ensure_min_features, warn_on_dtype, estimator)\u001b[0m\n\u001b[1;32m    369\u001b[0m     \u001b[1;32mif\u001b[0m \u001b[0msp\u001b[0m\u001b[1;33m.\u001b[0m\u001b[0missparse\u001b[0m\u001b[1;33m(\u001b[0m\u001b[0marray\u001b[0m\u001b[1;33m)\u001b[0m\u001b[1;33m:\u001b[0m\u001b[1;33m\u001b[0m\u001b[0m\n\u001b[1;32m    370\u001b[0m         array = _ensure_sparse_format(array, accept_sparse, dtype, copy,\n\u001b[0;32m--> 371\u001b[0;31m                                       force_all_finite)\n\u001b[0m\u001b[1;32m    372\u001b[0m     \u001b[1;32melse\u001b[0m\u001b[1;33m:\u001b[0m\u001b[1;33m\u001b[0m\u001b[0m\n\u001b[1;32m    373\u001b[0m         \u001b[0marray\u001b[0m \u001b[1;33m=\u001b[0m \u001b[0mnp\u001b[0m\u001b[1;33m.\u001b[0m\u001b[0marray\u001b[0m\u001b[1;33m(\u001b[0m\u001b[0marray\u001b[0m\u001b[1;33m,\u001b[0m \u001b[0mdtype\u001b[0m\u001b[1;33m=\u001b[0m\u001b[0mdtype\u001b[0m\u001b[1;33m,\u001b[0m \u001b[0morder\u001b[0m\u001b[1;33m=\u001b[0m\u001b[0morder\u001b[0m\u001b[1;33m,\u001b[0m \u001b[0mcopy\u001b[0m\u001b[1;33m=\u001b[0m\u001b[0mcopy\u001b[0m\u001b[1;33m)\u001b[0m\u001b[1;33m\u001b[0m\u001b[0m\n",
      "\u001b[0;32mC:\\Program Files\\Anaconda3\\lib\\site-packages\\sklearn\\utils\\validation.py\u001b[0m in \u001b[0;36m_ensure_sparse_format\u001b[0;34m(spmatrix, accept_sparse, dtype, copy, force_all_finite)\u001b[0m\n\u001b[1;32m    251\u001b[0m     \u001b[1;32mif\u001b[0m \u001b[0mdtype\u001b[0m \u001b[1;33m!=\u001b[0m \u001b[0mspmatrix\u001b[0m\u001b[1;33m.\u001b[0m\u001b[0mdtype\u001b[0m\u001b[1;33m:\u001b[0m\u001b[1;33m\u001b[0m\u001b[0m\n\u001b[1;32m    252\u001b[0m         \u001b[1;31m# convert dtype\u001b[0m\u001b[1;33m\u001b[0m\u001b[1;33m\u001b[0m\u001b[0m\n\u001b[0;32m--> 253\u001b[0;31m         \u001b[0mspmatrix\u001b[0m \u001b[1;33m=\u001b[0m \u001b[0mspmatrix\u001b[0m\u001b[1;33m.\u001b[0m\u001b[0mastype\u001b[0m\u001b[1;33m(\u001b[0m\u001b[0mdtype\u001b[0m\u001b[1;33m)\u001b[0m\u001b[1;33m\u001b[0m\u001b[0m\n\u001b[0m\u001b[1;32m    254\u001b[0m     \u001b[1;32melif\u001b[0m \u001b[0mcopy\u001b[0m \u001b[1;32mand\u001b[0m \u001b[1;32mnot\u001b[0m \u001b[0mchanged_format\u001b[0m\u001b[1;33m:\u001b[0m\u001b[1;33m\u001b[0m\u001b[0m\n\u001b[1;32m    255\u001b[0m         \u001b[1;31m# force copy\u001b[0m\u001b[1;33m\u001b[0m\u001b[1;33m\u001b[0m\u001b[0m\n",
      "\u001b[0;32mC:\\Program Files\\Anaconda3\\lib\\site-packages\\scipy\\sparse\\data.py\u001b[0m in \u001b[0;36mastype\u001b[0;34m(self, t)\u001b[0m\n\u001b[1;32m     63\u001b[0m \u001b[1;33m\u001b[0m\u001b[0m\n\u001b[1;32m     64\u001b[0m     \u001b[1;32mdef\u001b[0m \u001b[0mastype\u001b[0m\u001b[1;33m(\u001b[0m\u001b[0mself\u001b[0m\u001b[1;33m,\u001b[0m \u001b[0mt\u001b[0m\u001b[1;33m)\u001b[0m\u001b[1;33m:\u001b[0m\u001b[1;33m\u001b[0m\u001b[0m\n\u001b[0;32m---> 65\u001b[0;31m         \u001b[1;32mreturn\u001b[0m \u001b[0mself\u001b[0m\u001b[1;33m.\u001b[0m\u001b[0m_with_data\u001b[0m\u001b[1;33m(\u001b[0m\u001b[0mself\u001b[0m\u001b[1;33m.\u001b[0m\u001b[0m_deduped_data\u001b[0m\u001b[1;33m(\u001b[0m\u001b[1;33m)\u001b[0m\u001b[1;33m.\u001b[0m\u001b[0mastype\u001b[0m\u001b[1;33m(\u001b[0m\u001b[0mt\u001b[0m\u001b[1;33m)\u001b[0m\u001b[1;33m)\u001b[0m\u001b[1;33m\u001b[0m\u001b[0m\n\u001b[0m\u001b[1;32m     66\u001b[0m \u001b[1;33m\u001b[0m\u001b[0m\n\u001b[1;32m     67\u001b[0m     \u001b[1;32mdef\u001b[0m \u001b[0mconj\u001b[0m\u001b[1;33m(\u001b[0m\u001b[0mself\u001b[0m\u001b[1;33m)\u001b[0m\u001b[1;33m:\u001b[0m\u001b[1;33m\u001b[0m\u001b[0m\n",
      "\u001b[0;31mKeyboardInterrupt\u001b[0m: "
     ]
    }
   ],
   "source": [
    "from sklearn.svm import SVC\n",
    "iters = [3, 5, 7, 10]\n",
    "Cs = [1e-2, 1e-1, 1e0, 1e1, 1e2, 1e3]\n",
    "svms = []\n",
    "for mx_iter in iters:\n",
    "    for C in Cs:\n",
    "        print(\"C = \" + str(C) + \", iters = \" + str(mx_iter) + \": \")\n",
    "        svm = OneVsRestClassifier(SVC(C=C, max_iter=mx_iter))\n",
    "        svm.fit(X_tr, yy_tr)\n",
    "        yhat = svm.predict(X_dv)\n",
    "        acc,precision,recall,f1 = evaluation.all_metrics(yhat, yy_dev)\n",
    "        print(\"acc,precision,recall,f1\")\n",
    "        print(acc,precision,recall,f1)\n",
    "        svms.append(svm)"
   ]
  },
  {
   "cell_type": "code",
   "execution_count": 18,
   "metadata": {
    "collapsed": false
   },
   "outputs": [
    {
     "data": {
      "text/plain": [
       "[0.18409501678285567,\n",
       " 0.18874257681383941,\n",
       " 0.2101729925122644,\n",
       " 0.24141492383165505,\n",
       " 0.26452362509682414,\n",
       " 0.2747224373870385,\n",
       " 0.3187451587916344,\n",
       " 0.31900335657113349,\n",
       " 0.32726568551510454,\n",
       " 0.55499612703330747]"
      ]
     },
     "execution_count": 18,
     "metadata": {},
     "output_type": "execute_result"
    }
   ],
   "source": [
    "pcts = sorted([np.array(yy_dev[i]).mean() for i in range(Y)])\n",
    "pcts\n",
    "#these are the % of instances containing this label for each of the top 10 labels"
   ]
  },
  {
   "cell_type": "code",
   "execution_count": 20,
   "metadata": {
    "collapsed": false
   },
   "outputs": [
    {
     "data": {
      "text/plain": [
       "[0.77956364575264647,\n",
       " 0.65085205267234703,\n",
       " 0.45339530080041313,\n",
       " 0.63665117479989675,\n",
       " 0.77285050348566997,\n",
       " 0.88187451587916343,\n",
       " 0.81493674154402274,\n",
       " 0.67867286341337463,\n",
       " 0.86586625355021951,\n",
       " 0.78563129357087524]"
      ]
     },
     "execution_count": 20,
     "metadata": {},
     "output_type": "execute_result"
    }
   ],
   "source": [
    "accs = [(yhat_tr == yy[i]).mean() for i in range(Y)]\n",
    "accs"
   ]
  },
  {
   "cell_type": "markdown",
   "metadata": {},
   "source": [
    "## ConvNet"
   ]
  },
  {
   "cell_type": "code",
   "execution_count": 7,
   "metadata": {
    "collapsed": false
   },
   "outputs": [
    {
     "name": "stderr",
     "output_type": "stream",
     "text": [
      "Using TensorFlow backend.\n"
     ]
    }
   ],
   "source": [
    "import convnet"
   ]
  },
  {
   "cell_type": "code",
   "execution_count": 114,
   "metadata": {
    "collapsed": false
   },
   "outputs": [],
   "source": [
    "(X_tr_c, Y_tr_c), (X_dv_c, Y_dv_c) = convnet.load_data(Y)"
   ]
  },
  {
   "cell_type": "code",
   "execution_count": 115,
   "metadata": {
    "collapsed": false
   },
   "outputs": [],
   "source": [
    "reload(convnet)\n",
    "model = convnet.build_model(Y)"
   ]
  },
  {
   "cell_type": "code",
   "execution_count": 116,
   "metadata": {
    "collapsed": false
   },
   "outputs": [
    {
     "data": {
      "image/svg+xml": [
       "<svg height=\"337pt\" viewBox=\"0.00 0.00 211.00 337.00\" width=\"211pt\" xmlns=\"http://www.w3.org/2000/svg\" xmlns:xlink=\"http://www.w3.org/1999/xlink\">\n",
       "<g class=\"graph\" id=\"graph0\" transform=\"scale(1 1) rotate(0) translate(4 333)\">\n",
       "<title>G</title>\n",
       "<polygon fill=\"white\" points=\"-4,4 -4,-333 207,-333 207,4 -4,4\" stroke=\"none\"/>\n",
       "<!-- 2280105391832 -->\n",
       "<g class=\"node\" id=\"node1\"><title>2280105391832</title>\n",
       "<polygon fill=\"none\" points=\"4,-292.5 4,-328.5 199,-328.5 199,-292.5 4,-292.5\" stroke=\"black\"/>\n",
       "<text font-family=\"Times New Roman,serif\" font-size=\"14.00\" text-anchor=\"middle\" x=\"101.5\" y=\"-306.8\">embedding_input_5: InputLayer</text>\n",
       "</g>\n",
       "<!-- 2280106699576 -->\n",
       "<g class=\"node\" id=\"node2\"><title>2280106699576</title>\n",
       "<polygon fill=\"none\" points=\"20,-219.5 20,-255.5 183,-255.5 183,-219.5 20,-219.5\" stroke=\"black\"/>\n",
       "<text font-family=\"Times New Roman,serif\" font-size=\"14.00\" text-anchor=\"middle\" x=\"101.5\" y=\"-233.8\">embedding_5: Embedding</text>\n",
       "</g>\n",
       "<!-- 2280105391832&#45;&gt;2280106699576 -->\n",
       "<g class=\"edge\" id=\"edge1\"><title>2280105391832-&gt;2280106699576</title>\n",
       "<path d=\"M101.5,-292.313C101.5,-284.289 101.5,-274.547 101.5,-265.569\" fill=\"none\" stroke=\"black\"/>\n",
       "<polygon fill=\"black\" points=\"105,-265.529 101.5,-255.529 98.0001,-265.529 105,-265.529\" stroke=\"black\"/>\n",
       "</g>\n",
       "<!-- 2279641532792 -->\n",
       "<g class=\"node\" id=\"node3\"><title>2279641532792</title>\n",
       "<polygon fill=\"none\" points=\"0,-146.5 0,-182.5 203,-182.5 203,-146.5 0,-146.5\" stroke=\"black\"/>\n",
       "<text font-family=\"Times New Roman,serif\" font-size=\"14.00\" text-anchor=\"middle\" x=\"101.5\" y=\"-160.8\">convolution1d_5: Convolution1D</text>\n",
       "</g>\n",
       "<!-- 2280106699576&#45;&gt;2279641532792 -->\n",
       "<g class=\"edge\" id=\"edge2\"><title>2280106699576-&gt;2279641532792</title>\n",
       "<path d=\"M101.5,-219.313C101.5,-211.289 101.5,-201.547 101.5,-192.569\" fill=\"none\" stroke=\"black\"/>\n",
       "<polygon fill=\"black\" points=\"105,-192.529 101.5,-182.529 98.0001,-192.529 105,-192.529\" stroke=\"black\"/>\n",
       "</g>\n",
       "<!-- 2280105383248 -->\n",
       "<g class=\"node\" id=\"node4\"><title>2280105383248</title>\n",
       "<polygon fill=\"none\" points=\"1,-73.5 1,-109.5 202,-109.5 202,-73.5 1,-73.5\" stroke=\"black\"/>\n",
       "<text font-family=\"Times New Roman,serif\" font-size=\"14.00\" text-anchor=\"middle\" x=\"101.5\" y=\"-87.8\">maxpooling1d_5: MaxPooling1D</text>\n",
       "</g>\n",
       "<!-- 2279641532792&#45;&gt;2280105383248 -->\n",
       "<g class=\"edge\" id=\"edge3\"><title>2279641532792-&gt;2280105383248</title>\n",
       "<path d=\"M101.5,-146.313C101.5,-138.289 101.5,-128.547 101.5,-119.569\" fill=\"none\" stroke=\"black\"/>\n",
       "<polygon fill=\"black\" points=\"105,-119.529 101.5,-109.529 98.0001,-119.529 105,-119.529\" stroke=\"black\"/>\n",
       "</g>\n",
       "<!-- 2280106557960 -->\n",
       "<g class=\"node\" id=\"node5\"><title>2280106557960</title>\n",
       "<polygon fill=\"none\" points=\"27.5,-0.5 27.5,-36.5 175.5,-36.5 175.5,-0.5 27.5,-0.5\" stroke=\"black\"/>\n",
       "<text font-family=\"Times New Roman,serif\" font-size=\"14.00\" text-anchor=\"middle\" x=\"101.5\" y=\"-14.8\">activation_4: Activation</text>\n",
       "</g>\n",
       "<!-- 2280105383248&#45;&gt;2280106557960 -->\n",
       "<g class=\"edge\" id=\"edge4\"><title>2280105383248-&gt;2280106557960</title>\n",
       "<path d=\"M101.5,-73.3129C101.5,-65.2895 101.5,-55.5475 101.5,-46.5691\" fill=\"none\" stroke=\"black\"/>\n",
       "<polygon fill=\"black\" points=\"105,-46.5288 101.5,-36.5288 98.0001,-46.5289 105,-46.5288\" stroke=\"black\"/>\n",
       "</g>\n",
       "</g>\n",
       "</svg>"
      ],
      "text/plain": [
       "<IPython.core.display.SVG object>"
      ]
     },
     "execution_count": 116,
     "metadata": {},
     "output_type": "execute_result"
    }
   ],
   "source": [
    "from IPython.display import SVG\n",
    "from keras.utils.visualize_util import model_to_dot\n",
    "\n",
    "SVG(model_to_dot(model).create(prog='dot', format='svg'))"
   ]
  },
  {
   "cell_type": "code",
   "execution_count": 117,
   "metadata": {
    "collapsed": false
   },
   "outputs": [
    {
     "name": "stdout",
     "output_type": "stream",
     "text": [
      "____________________________________________________________________________________________________\n",
      "Layer (type)                     Output Shape          Param #     Connected to                     \n",
      "====================================================================================================\n",
      "embedding_5 (Embedding)          (None, None, 50)      2000000     embedding_input_5[0][0]          \n",
      "____________________________________________________________________________________________________\n",
      "convolution1d_5 (Convolution1D)  (None, None, 10)      1510        embedding_5[0][0]                \n",
      "____________________________________________________________________________________________________\n",
      "maxpooling1d_5 (MaxPooling1D)    (None, None, 10)      0           convolution1d_5[0][0]            \n",
      "____________________________________________________________________________________________________\n",
      "activation_4 (Activation)        (None, None, 10)      0           maxpooling1d_5[0][0]             \n",
      "====================================================================================================\n",
      "Total params: 2,001,510\n",
      "Trainable params: 2,001,510\n",
      "Non-trainable params: 0\n",
      "____________________________________________________________________________________________________\n"
     ]
    }
   ],
   "source": [
    "model.summary()"
   ]
  },
  {
   "cell_type": "code",
   "execution_count": 108,
   "metadata": {
    "collapsed": false
   },
   "outputs": [],
   "source": [
    "X_tr_c = np.reshape(X_tr_c, (1,20107))\n",
    "Y_tr_c = np.reshape(Y_tr_c, (20107,1, 10))"
   ]
  },
  {
   "cell_type": "code",
   "execution_count": 118,
   "metadata": {
    "collapsed": false
   },
   "outputs": [
    {
     "data": {
      "text/plain": [
       "(20107,)"
      ]
     },
     "execution_count": 118,
     "metadata": {},
     "output_type": "execute_result"
    }
   ],
   "source": [
    "X_tr_c.shape"
   ]
  },
  {
   "cell_type": "code",
   "execution_count": 119,
   "metadata": {
    "collapsed": false
   },
   "outputs": [
    {
     "data": {
      "text/plain": [
       "(20107, 10)"
      ]
     },
     "execution_count": 119,
     "metadata": {},
     "output_type": "execute_result"
    }
   ],
   "source": [
    "Y_tr_c.shape"
   ]
  },
  {
   "cell_type": "code",
   "execution_count": 122,
   "metadata": {
    "collapsed": false
   },
   "outputs": [
    {
     "name": "stdout",
     "output_type": "stream",
     "text": [
      "267\n",
      "10\n"
     ]
    },
    {
     "ename": "ValueError",
     "evalue": "Error when checking model target: expected activation_4 to have 3 dimensions, but got array with shape (1, 10)",
     "output_type": "error",
     "traceback": [
      "\u001b[0;31m---------------------------------------------------------------------------\u001b[0m",
      "\u001b[0;31mValueError\u001b[0m                                Traceback (most recent call last)",
      "\u001b[0;32m<ipython-input-122-23f06e39eefe>\u001b[0m in \u001b[0;36m<module>\u001b[0;34m()\u001b[0m\n\u001b[1;32m      2\u001b[0m     \u001b[0mprint\u001b[0m\u001b[1;33m(\u001b[0m\u001b[0mlen\u001b[0m\u001b[1;33m(\u001b[0m\u001b[0mnote\u001b[0m\u001b[1;33m)\u001b[0m\u001b[1;33m)\u001b[0m\u001b[1;33m\u001b[0m\u001b[0m\n\u001b[1;32m      3\u001b[0m     \u001b[0mprint\u001b[0m\u001b[1;33m(\u001b[0m\u001b[0mlen\u001b[0m\u001b[1;33m(\u001b[0m\u001b[0mlabel\u001b[0m\u001b[1;33m)\u001b[0m\u001b[1;33m)\u001b[0m\u001b[1;33m\u001b[0m\u001b[0m\n\u001b[0;32m----> 4\u001b[0;31m     \u001b[0mmodel\u001b[0m\u001b[1;33m.\u001b[0m\u001b[0mtrain_on_batch\u001b[0m\u001b[1;33m(\u001b[0m\u001b[0mnote\u001b[0m\u001b[1;33m,\u001b[0m \u001b[0mnp\u001b[0m\u001b[1;33m.\u001b[0m\u001b[0marray\u001b[0m\u001b[1;33m(\u001b[0m\u001b[1;33m[\u001b[0m\u001b[0mlabel\u001b[0m\u001b[1;33m]\u001b[0m\u001b[1;33m)\u001b[0m\u001b[1;33m)\u001b[0m\u001b[1;33m\u001b[0m\u001b[0m\n\u001b[0m\u001b[1;32m      5\u001b[0m \u001b[1;31m# model.fit(X_tr_c, Y_tr_c, batch_size=1, nb_epoch=5, validation_data=(X_dv_c, Y_dv_c))\u001b[0m\u001b[1;33m\u001b[0m\u001b[1;33m\u001b[0m\u001b[0m\n",
      "\u001b[0;32mC:\\Program Files\\Anaconda3\\lib\\site-packages\\keras\\models.py\u001b[0m in \u001b[0;36mtrain_on_batch\u001b[0;34m(self, x, y, class_weight, sample_weight, **kwargs)\u001b[0m\n\u001b[1;32m    756\u001b[0m         return self.model.train_on_batch(x, y,\n\u001b[1;32m    757\u001b[0m                                          \u001b[0msample_weight\u001b[0m\u001b[1;33m=\u001b[0m\u001b[0msample_weight\u001b[0m\u001b[1;33m,\u001b[0m\u001b[1;33m\u001b[0m\u001b[0m\n\u001b[0;32m--> 758\u001b[0;31m                                          class_weight=class_weight)\n\u001b[0m\u001b[1;32m    759\u001b[0m \u001b[1;33m\u001b[0m\u001b[0m\n\u001b[1;32m    760\u001b[0m     def test_on_batch(self, x, y,\n",
      "\u001b[0;32mC:\\Program Files\\Anaconda3\\lib\\site-packages\\keras\\engine\\training.py\u001b[0m in \u001b[0;36mtrain_on_batch\u001b[0;34m(self, x, y, sample_weight, class_weight)\u001b[0m\n\u001b[1;32m   1259\u001b[0m             \u001b[0msample_weight\u001b[0m\u001b[1;33m=\u001b[0m\u001b[0msample_weight\u001b[0m\u001b[1;33m,\u001b[0m\u001b[1;33m\u001b[0m\u001b[0m\n\u001b[1;32m   1260\u001b[0m             \u001b[0mclass_weight\u001b[0m\u001b[1;33m=\u001b[0m\u001b[0mclass_weight\u001b[0m\u001b[1;33m,\u001b[0m\u001b[1;33m\u001b[0m\u001b[0m\n\u001b[0;32m-> 1261\u001b[0;31m             check_batch_dim=True)\n\u001b[0m\u001b[1;32m   1262\u001b[0m         \u001b[1;32mif\u001b[0m \u001b[0mself\u001b[0m\u001b[1;33m.\u001b[0m\u001b[0muses_learning_phase\u001b[0m \u001b[1;32mand\u001b[0m \u001b[1;32mnot\u001b[0m \u001b[0misinstance\u001b[0m\u001b[1;33m(\u001b[0m\u001b[0mK\u001b[0m\u001b[1;33m.\u001b[0m\u001b[0mlearning_phase\u001b[0m\u001b[1;33m,\u001b[0m \u001b[0mint\u001b[0m\u001b[1;33m)\u001b[0m\u001b[1;33m:\u001b[0m\u001b[1;33m\u001b[0m\u001b[0m\n\u001b[1;32m   1263\u001b[0m             \u001b[0mins\u001b[0m \u001b[1;33m=\u001b[0m \u001b[0mx\u001b[0m \u001b[1;33m+\u001b[0m \u001b[0my\u001b[0m \u001b[1;33m+\u001b[0m \u001b[0msample_weights\u001b[0m \u001b[1;33m+\u001b[0m \u001b[1;33m[\u001b[0m\u001b[1;36m1.\u001b[0m\u001b[1;33m]\u001b[0m\u001b[1;33m\u001b[0m\u001b[0m\n",
      "\u001b[0;32mC:\\Program Files\\Anaconda3\\lib\\site-packages\\keras\\engine\\training.py\u001b[0m in \u001b[0;36m_standardize_user_data\u001b[0;34m(self, x, y, sample_weight, class_weight, check_batch_dim, batch_size)\u001b[0m\n\u001b[1;32m    983\u001b[0m                                    \u001b[0moutput_shapes\u001b[0m\u001b[1;33m,\u001b[0m\u001b[1;33m\u001b[0m\u001b[0m\n\u001b[1;32m    984\u001b[0m                                    \u001b[0mcheck_batch_dim\u001b[0m\u001b[1;33m=\u001b[0m\u001b[1;32mFalse\u001b[0m\u001b[1;33m,\u001b[0m\u001b[1;33m\u001b[0m\u001b[0m\n\u001b[0;32m--> 985\u001b[0;31m                                    exception_prefix='model target')\n\u001b[0m\u001b[1;32m    986\u001b[0m         sample_weights = standardize_sample_weights(sample_weight,\n\u001b[1;32m    987\u001b[0m                                                     self.output_names)\n",
      "\u001b[0;32mC:\\Program Files\\Anaconda3\\lib\\site-packages\\keras\\engine\\training.py\u001b[0m in \u001b[0;36mstandardize_input_data\u001b[0;34m(data, names, shapes, check_batch_dim, exception_prefix)\u001b[0m\n\u001b[1;32m     99\u001b[0m                                  \u001b[1;34m' to have '\u001b[0m \u001b[1;33m+\u001b[0m \u001b[0mstr\u001b[0m\u001b[1;33m(\u001b[0m\u001b[0mlen\u001b[0m\u001b[1;33m(\u001b[0m\u001b[0mshapes\u001b[0m\u001b[1;33m[\u001b[0m\u001b[0mi\u001b[0m\u001b[1;33m]\u001b[0m\u001b[1;33m)\u001b[0m\u001b[1;33m)\u001b[0m \u001b[1;33m+\u001b[0m\u001b[1;33m\u001b[0m\u001b[0m\n\u001b[1;32m    100\u001b[0m                                  \u001b[1;34m' dimensions, but got array with shape '\u001b[0m \u001b[1;33m+\u001b[0m\u001b[1;33m\u001b[0m\u001b[0m\n\u001b[0;32m--> 101\u001b[0;31m                                  str(array.shape))\n\u001b[0m\u001b[1;32m    102\u001b[0m             \u001b[1;32mfor\u001b[0m \u001b[0mj\u001b[0m\u001b[1;33m,\u001b[0m \u001b[1;33m(\u001b[0m\u001b[0mdim\u001b[0m\u001b[1;33m,\u001b[0m \u001b[0mref_dim\u001b[0m\u001b[1;33m)\u001b[0m \u001b[1;32min\u001b[0m \u001b[0menumerate\u001b[0m\u001b[1;33m(\u001b[0m\u001b[0mzip\u001b[0m\u001b[1;33m(\u001b[0m\u001b[0marray\u001b[0m\u001b[1;33m.\u001b[0m\u001b[0mshape\u001b[0m\u001b[1;33m,\u001b[0m \u001b[0mshapes\u001b[0m\u001b[1;33m[\u001b[0m\u001b[0mi\u001b[0m\u001b[1;33m]\u001b[0m\u001b[1;33m)\u001b[0m\u001b[1;33m)\u001b[0m\u001b[1;33m:\u001b[0m\u001b[1;33m\u001b[0m\u001b[0m\n\u001b[1;32m    103\u001b[0m                 \u001b[1;32mif\u001b[0m \u001b[1;32mnot\u001b[0m \u001b[0mj\u001b[0m \u001b[1;32mand\u001b[0m \u001b[1;32mnot\u001b[0m \u001b[0mcheck_batch_dim\u001b[0m\u001b[1;33m:\u001b[0m\u001b[1;33m\u001b[0m\u001b[0m\n",
      "\u001b[0;31mValueError\u001b[0m: Error when checking model target: expected activation_4 to have 3 dimensions, but got array with shape (1, 10)"
     ]
    }
   ],
   "source": [
    "for note, label in zip(X_tr_c, Y_tr_c):\n",
    "    print(len(note))\n",
    "    print(len(label))\n",
    "    model.train_on_batch(note, np.array([label]))\n",
    "# model.fit(X_tr_c, Y_tr_c, batch_size=1, nb_epoch=5, validation_data=(X_dv_c, Y_dv_c))"
   ]
  },
  {
   "cell_type": "code",
   "execution_count": null,
   "metadata": {
    "collapsed": true
   },
   "outputs": [],
   "source": []
  }
 ],
 "metadata": {
  "anaconda-cloud": {},
  "kernelspec": {
   "display_name": "Python [conda root]",
   "language": "python",
   "name": "conda-root-py"
  },
  "language_info": {
   "codemirror_mode": {
    "name": "ipython",
    "version": 3
   },
   "file_extension": ".py",
   "mimetype": "text/x-python",
   "name": "python",
   "nbconvert_exporter": "python",
   "pygments_lexer": "ipython3",
   "version": "3.5.2"
  }
 },
 "nbformat": 4,
 "nbformat_minor": 1
}

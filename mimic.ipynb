{
 "cells": [
  {
   "cell_type": "markdown",
   "metadata": {},
   "source": [
    "<h1 id=\"tocheading\">Table of Contents</h1>\n",
    "<div id=\"toc\"></div>"
   ]
  },
  {
   "cell_type": "markdown",
   "metadata": {},
   "source": [
    "# Preliminaries"
   ]
  },
  {
   "cell_type": "code",
   "execution_count": 32,
   "metadata": {
    "collapsed": false
   },
   "outputs": [
    {
     "name": "stdout",
     "output_type": "stream",
     "text": [
      "Populating the interactive namespace from numpy and matplotlib\n",
      "Populating the interactive namespace from numpy and matplotlib\n"
     ]
    }
   ],
   "source": [
    "import log_reg\n",
    "import convnet\n",
    "from imp import reload\n",
    "\n",
    "from collections import defaultdict\n",
    "import csv\n",
    "import operator\n",
    "\n",
    "import numpy as np\n",
    "import pandas as pd\n",
    "\n",
    "import evaluation\n",
    "from sklearn.multiclass import OneVsRestClassifier\n",
    "from sklearn.linear_model import LogisticRegression\n",
    "\n",
    "%pylab --no-import-all inline\n",
    "import matplotlib.pyplot as plt\n",
    "%pylab inline"
   ]
  },
  {
   "cell_type": "code",
   "execution_count": 2,
   "metadata": {
    "collapsed": true
   },
   "outputs": [],
   "source": [
    "Y = 10\n",
    "vocab_min = 3"
   ]
  },
  {
   "cell_type": "code",
   "execution_count": 3,
   "metadata": {
    "collapsed": false
   },
   "outputs": [],
   "source": [
    "v_dict = defaultdict(str)\n",
    "c_dict = defaultdict(str)\n",
    "with open('../mimicdata/vocab_lookup_' + str(vocab_min) + '.csv', 'r') as vocabfile:\n",
    "    vr = csv.reader(vocabfile)\n",
    "    next(vr)\n",
    "    for row in vr:\n",
    "        v_dict[int(row[0])] = row[1]\n",
    "\n",
    "with open('../mimicdata/label_lookup_' + str(Y) + '.csv', 'r') as labelfile:\n",
    "    lr = csv.reader(labelfile)\n",
    "    next(lr)\n",
    "    for row in lr:\n",
    "        c_dict[int(row[0])] = row[1]"
   ]
  },
  {
   "cell_type": "code",
   "execution_count": 4,
   "metadata": {
    "collapsed": false
   },
   "outputs": [
    {
     "data": {
      "text/plain": [
       "defaultdict(str,\n",
       "            {0: '5849',\n",
       "             1: '4280',\n",
       "             2: '4019',\n",
       "             3: '25000',\n",
       "             4: '41401',\n",
       "             5: '2724',\n",
       "             6: '5990',\n",
       "             7: '42731',\n",
       "             8: '53081',\n",
       "             9: '51881'})"
      ]
     },
     "execution_count": 4,
     "metadata": {},
     "output_type": "execute_result"
    }
   ],
   "source": [
    "c_dict"
   ]
  },
  {
   "cell_type": "code",
   "execution_count": 5,
   "metadata": {
    "collapsed": false
   },
   "outputs": [],
   "source": [
    "def y_to_codes(y_row):\n",
    "    return [c_dict[i] for i in range(Y) if y_row[i] == 1]"
   ]
  },
  {
   "cell_type": "code",
   "execution_count": 6,
   "metadata": {
    "collapsed": true
   },
   "outputs": [],
   "source": [
    "def x_to_bow(x_row):\n",
    "    return {v_dict[i]: x_row[i] for i in range(len(x_row)) if x_row[i] > 0}"
   ]
  },
  {
   "cell_type": "code",
   "execution_count": 7,
   "metadata": {
    "collapsed": true
   },
   "outputs": [],
   "source": [
    "from torch import autograd, nn, optim, multiprocessing, utils"
   ]
  },
  {
   "cell_type": "code",
   "execution_count": 8,
   "metadata": {
    "collapsed": false
   },
   "outputs": [
    {
     "name": "stdout",
     "output_type": "stream",
     "text": [
      "Processing..."
     ]
    }
   ],
   "source": [
    "reload(log_reg)\n",
    "notefile = '../mimicdata/notes_' + str(Y) + '_train_single.csv'\n",
    "X_tr_lr, Y_tr_lr = log_reg.construct_X_Y(notefile, Y)"
   ]
  },
  {
   "cell_type": "code",
   "execution_count": 9,
   "metadata": {
    "collapsed": false
   },
   "outputs": [
    {
     "data": {
      "text/plain": [
       "(20107, 40000)"
      ]
     },
     "execution_count": 9,
     "metadata": {},
     "output_type": "execute_result"
    }
   ],
   "source": [
    "X_tr_lr.shape"
   ]
  },
  {
   "cell_type": "code",
   "execution_count": 10,
   "metadata": {
    "collapsed": false
   },
   "outputs": [
    {
     "data": {
      "text/plain": [
       "(20107, 10)"
      ]
     },
     "execution_count": 10,
     "metadata": {},
     "output_type": "execute_result"
    }
   ],
   "source": [
    "Y_tr_lr.shape"
   ]
  },
  {
   "cell_type": "code",
   "execution_count": 11,
   "metadata": {
    "collapsed": false
   },
   "outputs": [
    {
     "data": {
      "text/plain": [
       "267"
      ]
     },
     "execution_count": 11,
     "metadata": {},
     "output_type": "execute_result"
    }
   ],
   "source": [
    "X_tr_lr[0].toarray().sum()"
   ]
  },
  {
   "cell_type": "code",
   "execution_count": 12,
   "metadata": {
    "collapsed": false
   },
   "outputs": [
    {
     "name": "stdout",
     "output_type": "stream",
     "text": [
      "Processing."
     ]
    }
   ],
   "source": [
    "devfile = '../mimicdata/notes_' + str(Y) + '_dev_single.csv'\n",
    "X_dv_lr, Y_dv_lr = log_reg.construct_X_Y(devfile, Y)"
   ]
  },
  {
   "cell_type": "code",
   "execution_count": 13,
   "metadata": {
    "collapsed": false
   },
   "outputs": [
    {
     "data": {
      "text/plain": [
       "(8971, 40000)"
      ]
     },
     "execution_count": 13,
     "metadata": {},
     "output_type": "execute_result"
    }
   ],
   "source": [
    "X_dv_lr.shape"
   ]
  },
  {
   "cell_type": "code",
   "execution_count": 14,
   "metadata": {
    "collapsed": false
   },
   "outputs": [
    {
     "data": {
      "text/plain": [
       "(8971, 10)"
      ]
     },
     "execution_count": 14,
     "metadata": {},
     "output_type": "execute_result"
    }
   ],
   "source": [
    "Y_dv_lr.shape"
   ]
  },
  {
   "cell_type": "code",
   "execution_count": 15,
   "metadata": {
    "collapsed": false
   },
   "outputs": [
    {
     "data": {
      "text/plain": [
       "array([0, 0, 1, 0, 0, 0, 1, 0, 0, 1])"
      ]
     },
     "execution_count": 15,
     "metadata": {},
     "output_type": "execute_result"
    }
   ],
   "source": [
    "Y_dv_lr[-1]"
   ]
  },
  {
   "cell_type": "code",
   "execution_count": 16,
   "metadata": {
    "collapsed": false
   },
   "outputs": [
    {
     "name": "stdout",
     "output_type": "stream",
     "text": [
      "Processing."
     ]
    }
   ],
   "source": [
    "testfile = '../mimicdata/notes_' + str(Y) + '_test_single.csv'\n",
    "X_te_lr, Y_te_lr = log_reg.construct_X_Y(testfile, Y)"
   ]
  },
  {
   "cell_type": "code",
   "execution_count": 17,
   "metadata": {
    "collapsed": false
   },
   "outputs": [
    {
     "data": {
      "text/plain": [
       "(8537, 40000)"
      ]
     },
     "execution_count": 17,
     "metadata": {},
     "output_type": "execute_result"
    }
   ],
   "source": [
    "X_te_lr.shape"
   ]
  },
  {
   "cell_type": "code",
   "execution_count": 18,
   "metadata": {
    "collapsed": false
   },
   "outputs": [
    {
     "data": {
      "text/plain": [
       "(8537, 10)"
      ]
     },
     "execution_count": 18,
     "metadata": {},
     "output_type": "execute_result"
    }
   ],
   "source": [
    "Y_te_lr.shape"
   ]
  },
  {
   "cell_type": "code",
   "execution_count": 18,
   "metadata": {
    "collapsed": false
   },
   "outputs": [
    {
     "data": {
      "text/plain": [
       "[0.18409501678285567,\n",
       " 0.18874257681383941,\n",
       " 0.2101729925122644,\n",
       " 0.24141492383165505,\n",
       " 0.26452362509682414,\n",
       " 0.2747224373870385,\n",
       " 0.3187451587916344,\n",
       " 0.31900335657113349,\n",
       " 0.32726568551510454,\n",
       " 0.55499612703330747]"
      ]
     },
     "execution_count": 18,
     "metadata": {},
     "output_type": "execute_result"
    }
   ],
   "source": [
    "pcts = sorted([np.array(Y_dv_lr[i]).mean() for i in range(Y)])\n",
    "pcts\n",
    "#these are the % of instances containing this label for each of the top 10 labels"
   ]
  },
  {
   "cell_type": "code",
   "execution_count": 19,
   "metadata": {
    "collapsed": true
   },
   "outputs": [],
   "source": [
    "import warnings\n",
    "warnings.filterwarnings(\"ignore\")"
   ]
  },
  {
   "cell_type": "code",
   "execution_count": 20,
   "metadata": {
    "collapsed": true
   },
   "outputs": [],
   "source": [
    "def expand_dims(x):\n",
    "    return K.expand_dims(x, 1)\n",
    "\n",
    "def expand_dims_output_shape(input_shape):\n",
    "    return (1, input_shape[0], input_shape[2], input_shape[1])"
   ]
  },
  {
   "cell_type": "code",
   "execution_count": 21,
   "metadata": {
    "collapsed": true
   },
   "outputs": [],
   "source": [
    "def plot_metrics(ax, start, end, steps, y):\n",
    "    x = np.linspace(start, end, steps)\n",
    "    if ax.lines:\n",
    "        for line in ax.lines:\n",
    "            line.set_xdata(x)\n",
    "            line.set_ydata(y)\n",
    "    else:\n",
    "        ax.plot(x, y)\n",
    "    fig.canvas.draw()"
   ]
  },
  {
   "cell_type": "markdown",
   "metadata": {},
   "source": [
    "# LogReg"
   ]
  },
  {
   "cell_type": "code",
   "execution_count": 22,
   "metadata": {
    "collapsed": false
   },
   "outputs": [
    {
     "name": "stdout",
     "output_type": "stream",
     "text": [
      "***** C = 0.01 *****\n",
      "5 iterations: \n",
      "acc,precision,recall,f1\n",
      "0.280577628443 0.481968618458 0.335075100898 0.36264976926\n",
      "10 iterations: \n",
      "acc,precision,recall,f1\n",
      "0.287814616056 0.489539309203 0.343114232279 0.370799512852\n",
      "15 iterations: \n",
      "acc,precision,recall,f1\n",
      "0.290268378001 0.491914157258 0.347602636715 0.374303833745\n",
      "20 iterations: \n",
      "acc,precision,recall,f1\n",
      "0.291665781982 0.492964101257 0.350022470996 0.37609591204\n",
      "25 iterations: \n",
      "acc,precision,recall,f1\n",
      "0.292243967776 0.49354560462 0.350924584154 0.376909870372\n",
      "***** C = 0.1 *****\n",
      "5 iterations: \n",
      "acc,precision,recall,f1\n",
      "0.269195847997 0.470051117092 0.322860964696 0.350512241199\n",
      "10 iterations: \n",
      "acc,precision,recall,f1\n",
      "0.282579449124 0.476028844265 0.348553009433 0.36830674744\n",
      "15 iterations: \n",
      "acc,precision,recall,f1\n",
      "0.291437665989 0.480689364142 0.366208355672 0.380213364089\n",
      "20 iterations: \n",
      "acc,precision,recall,f1\n",
      "0.291357690477 0.473159545838 0.375613927063 0.382242073932\n",
      "25 iterations: \n",
      "acc,precision,recall,f1\n",
      "0.292532375043 0.471410921965 0.381390123024 0.384563128817\n",
      "***** C = 1.0 *****\n",
      "5 iterations: \n",
      "acc,precision,recall,f1\n",
      "0.268612752202 0.467457840343 0.322805494955 0.349414829835\n",
      "10 iterations: \n",
      "acc,precision,recall,f1\n",
      "0.282581749305 0.471668099856 0.351715315487 0.36840377386\n",
      "15 iterations: \n",
      "acc,precision,recall,f1\n",
      "0.288701689571 0.471837030431 0.367607396319 0.377553189698\n",
      "20 iterations: \n",
      "acc,precision,recall,f1\n",
      "0.285881269983 0.461562919672 0.372335373417 0.376209570536\n",
      "25 iterations: \n",
      "acc,precision,recall,f1\n",
      "0.288271024978 0.459857424187 0.382758553576 0.380862500682\n",
      "***** C = 10.0 *****\n",
      "5 iterations: \n",
      "acc,precision,recall,f1\n",
      "0.268318417546 0.466696126673 0.322806689279 0.349211674019\n",
      "10 iterations: \n",
      "acc,precision,recall,f1\n",
      "0.283541897791 0.474059535753 0.352235642892 0.369550288946\n",
      "15 iterations: \n",
      "acc,precision,recall,f1\n",
      "0.287531826538 0.471317764649 0.366795742189 0.376594707884\n",
      "20 iterations: \n",
      "acc,precision,recall,f1\n",
      "0.286596183823 0.461974563541 0.374248460206 0.377349054542\n",
      "25 iterations: \n",
      "acc,precision,recall,f1\n",
      "0.287754678656 0.460382263484 0.381526408728 0.38033919288\n",
      "***** C = 100.0 *****\n",
      "5 iterations: \n",
      "acc,precision,recall,f1\n",
      "0.268237601584 0.467433688446 0.322055989936 0.348998364744\n",
      "10 iterations: \n",
      "acc,precision,recall,f1\n",
      "0.282888867656 0.472272560791 0.351823202807 0.368764745083\n",
      "15 iterations: \n",
      "acc,precision,recall,f1\n",
      "0.287500243288 0.471641426607 0.366766680291 0.376647342303\n",
      "20 iterations: \n",
      "acc,precision,recall,f1\n",
      "0.287134691502 0.462528730141 0.375565534801 0.37819684805\n",
      "25 iterations: \n",
      "acc,precision,recall,f1\n",
      "0.287879286519 0.460273447245 0.380774382357 0.380104901106\n",
      "***** C = 1000.0 *****\n",
      "5 iterations: \n",
      "acc,precision,recall,f1\n",
      "0.268686534919 0.467359374917 0.323382619127 0.349696746732\n",
      "10 iterations: \n",
      "acc,precision,recall,f1\n",
      "0.283590334287 0.473712385411 0.352194770451 0.369487315469\n",
      "15 iterations: \n",
      "acc,precision,recall,f1\n",
      "0.287411332459 0.470546629085 0.367127366311 0.376512958672\n",
      "20 iterations: \n",
      "acc,precision,recall,f1\n",
      "0.28694390921 0.462818552903 0.375063122265 0.378021608063\n",
      "25 iterations: \n",
      "acc,precision,recall,f1\n",
      "0.28833724364 0.460441979712 0.381576039549 0.380716909393\n"
     ]
    },
    {
     "data": {
      "image/png": "[encoded data removed]",
      "text/plain": [
       "<matplotlib.figure.Figure at 0x7fe76164d748>"
      ]
     },
     "metadata": {},
     "output_type": "display_data"
    }
   ],
   "source": [
    "#grid search hyperparams of LR\n",
    "reload(evaluation)\n",
    "iter_step = 5\n",
    "num_steps = 5\n",
    "Cs = [1e-2, 1e-1, 1e0, 1e1, 1e2, 1e3]\n",
    "accs = {C:[] for C in Cs}\n",
    "precisions = {C:[] for C in Cs}\n",
    "recalls = {C:[] for C in Cs}\n",
    "f1s = {C:[] for C in Cs}\n",
    "\n",
    "fig,ax = plt.subplots(1,1)\n",
    "ax.set_xlabel(\"iterations\")\n",
    "ax.set_ylabel(\"accuracy\")\n",
    "ax.set_xlim(0,iter_step*num_steps)\n",
    "\n",
    "for C in Cs:\n",
    "    print(\"***** C = \" + str(C) + \" *****\")\n",
    "    for i in range(num_steps):\n",
    "        print(str((i+1)*iter_step) + \" iterations: \")\n",
    "        reg = OneVsRestClassifier(LogisticRegression(C=C,max_iter=iter_step*(i+1)))\n",
    "        reg.fit(X_tr_lr, Y_tr_lr)\n",
    "        yhat = reg.predict(X_dv_lr)\n",
    "        acc,precision,recall,f1 = evaluation.all_metrics(yhat, Y_dv_lr)\n",
    "        \n",
    "        print(\"acc,precision,recall,f1\")\n",
    "        print(acc,precision,recall,f1)\n",
    "        \n",
    "        accs[C].append(acc)\n",
    "        precisions[C].append(precision)\n",
    "        recalls[C].append(recall)\n",
    "        f1s[C].append(f1)\n",
    "        \n",
    "        plot_metrics(ax, iter_step, (i+1)*iter_step, i+1, accs[C])\n",
    "\n",
    "best_C = max([(C, np.mean(f1s[C])) for C in Cs], key=operator.itemgetter(1))[0]"
   ]
  },
  {
   "cell_type": "code",
   "execution_count": 27,
   "metadata": {
    "collapsed": false
   },
   "outputs": [
    {
     "data": {
      "text/plain": [
       "<matplotlib.legend.Legend at 0x7fe74871a208>"
      ]
     },
     "execution_count": 27,
     "metadata": {},
     "output_type": "execute_result"
    },
    {
     "data": {
      "image/png": "[encoded data removed]",
      "text/plain": [
       "<matplotlib.figure.Figure at 0x7fe7426d4630>"
      ]
     },
     "metadata": {},
     "output_type": "display_data"
    }
   ],
   "source": [
    "its = np.linspace(iter_step, num_steps*iter_step, num_steps)\n",
    "\n",
    "fig,ax = plt.subplots(3,1)\n",
    "fig.set_size_inches(5,12)\n",
    "ax[0].set_xlabel(\"iterations\")\n",
    "ax[1].set_xlabel(\"recall\")\n",
    "ax[2].set_xlabel(\"iterations\")\n",
    "ax[0].set_ylabel(\"accuracy\")\n",
    "ax[1].set_ylabel(\"precision\")\n",
    "ax[2].set_ylabel(\"F1-score\")\n",
    "ax[0].set_xlim(0,iter_step*num_steps)\n",
    "# ax[1].set_xlim(0,1)\n",
    "ax[2].set_xlim(0,iter_step*num_steps)\n",
    "\n",
    "for C in Cs:\n",
    "    ax[0].plot(its,accs[C], '*', label=\"C=\" + str(C))\n",
    "    ax[1].plot(recalls[C], precisions[C], '*', label=\"C=\" + str(C))\n",
    "    ax[2].plot(its, f1s[C], '*', label=\"C=\" + str(C))\n",
    "ax[0].legend(loc=4)\n",
    "ax[1].legend(loc=4)\n",
    "ax[2].legend(loc=4)"
   ]
  },
  {
   "cell_type": "code",
   "execution_count": 29,
   "metadata": {
    "collapsed": false
   },
   "outputs": [
    {
     "name": "stdout",
     "output_type": "stream",
     "text": [
      "acc,precision,recall,f1\n",
      "0.289497286672 0.458535837699 0.392113830632 0.38446477475\n"
     ]
    }
   ],
   "source": [
    "#run for a long time\n",
    "lr_long = OneVsRestClassifier(LogisticRegression(C=0.1, max_iter=100))\n",
    "lr_long.fit(X_tr_lr, Y_tr_lr)\n",
    "yhat_lr = lr_long.predict(X_dv_lr)\n",
    "acc, precision, recall, f1 = evaluation.all_metrics(yhat_lr, Y_dv_lr)\n",
    "\n",
    "print(\"acc,precision,recall,f1\")\n",
    "print(acc,precision,recall,f1)"
   ]
  },
  {
   "cell_type": "code",
   "execution_count": 30,
   "metadata": {
    "collapsed": false
   },
   "outputs": [],
   "source": [
    "yhat_tr = lr_long.predict(X_tr_lr)"
   ]
  },
  {
   "cell_type": "code",
   "execution_count": 31,
   "metadata": {
    "collapsed": false
   },
   "outputs": [
    {
     "name": "stdout",
     "output_type": "stream",
     "text": [
      "training acc,precision,recall,f1\n",
      "0.653362546093 0.809032627822 0.693217950631 0.721737192533\n"
     ]
    }
   ],
   "source": [
    "acc,precision,recall,f1 = evaluation.all_metrics(yhat_tr, Y_tr_lr)\n",
    "print(\"training acc,precision,recall,f1\")\n",
    "print(acc,precision,recall,f1)"
   ]
  },
  {
   "cell_type": "markdown",
   "metadata": {},
   "source": [
    "# ConvNet"
   ]
  },
  {
   "cell_type": "code",
   "execution_count": 13,
   "metadata": {
    "collapsed": false
   },
   "outputs": [],
   "source": [
    "import convnet"
   ]
  },
  {
   "cell_type": "code",
   "execution_count": 36,
   "metadata": {
    "collapsed": true
   },
   "outputs": [],
   "source": [
    "from keras import backend as K\n",
    "from keras.layers import Activation, Dense, Dropout, Embedding, Lambda, Reshape\n",
    "from keras.layers.convolutional import Convolution1D, Convolution2D\n",
    "from keras.layers.pooling import GlobalMaxPooling1D, MaxPooling1D, GlobalMaxPooling2D\n",
    "from keras.models import Sequential\n",
    "from keras.optimizers import Adam\n",
    "\n",
    "import tensorflow as tf"
   ]
  },
  {
   "cell_type": "code",
   "execution_count": 37,
   "metadata": {
    "collapsed": false
   },
   "outputs": [],
   "source": [
    "reload(convnet)\n",
    "(X_tr_c, Y_tr_c), (X_dv_c, Y_dv_c) = convnet.load_data(Y)"
   ]
  },
  {
   "cell_type": "code",
   "execution_count": 20,
   "metadata": {
    "collapsed": false
   },
   "outputs": [
    {
     "data": {
      "text/plain": [
       "(275549, 10)"
      ]
     },
     "execution_count": 20,
     "metadata": {},
     "output_type": "execute_result"
    }
   ],
   "source": [
    "Y_dv_c.shape"
   ]
  },
  {
   "cell_type": "code",
   "execution_count": 21,
   "metadata": {
    "collapsed": false
   },
   "outputs": [],
   "source": [
    "#pad/crop sequences\n",
    "from keras.preprocessing import sequence\n",
    "\n",
    "maxlen = 400\n",
    "X_tr_c = sequence.pad_sequences(X_tr_c, maxlen=maxlen)\n",
    "X_dv_c = sequence.pad_sequences(X_dv_c, maxlen=maxlen)"
   ]
  },
  {
   "cell_type": "code",
   "execution_count": 22,
   "metadata": {
    "collapsed": true
   },
   "outputs": [],
   "source": [
    "def build_model(Y):\n",
    "    model = Sequential()\n",
    "    model.add(Embedding(40000, 50, dropout=0.2, input_length=maxlen))\n",
    "#     model.add(Lambda(expand_dims, expand_dims_output_shape))\n",
    "    model.add(Convolution1D(Y, 3, activation='tanh'))\n",
    "    model.add(GlobalMaxPooling1D())\n",
    "    model.add(Dense(Y))\n",
    "    model.add(Dropout(0.2))\n",
    "    model.add(Activation('sigmoid'))\n",
    "    model.compile(optimizer='rmsprop', loss='binary_crossentropy')\n",
    "    return model"
   ]
  },
  {
   "cell_type": "code",
   "execution_count": 8,
   "metadata": {
    "collapsed": false
   },
   "outputs": [],
   "source": [
    "#old attempt\n",
    "# model = Sequential()\n",
    "# embedding = Embedding(40000, 50, dropout=0.2)\n",
    "# reshape = Lambda(expand_dims, expand_dims_output_shape)\n",
    "# conv2d = Convolution2D(Y, 3, 1, activation='tanh', input_shape=(1, None, 1))"
   ]
  },
  {
   "cell_type": "code",
   "execution_count": 8,
   "metadata": {
    "collapsed": false
   },
   "outputs": [],
   "source": [
    "# conv2d.get_config()\n",
    "cnn = build_model(Y)"
   ]
  },
  {
   "cell_type": "code",
   "execution_count": 9,
   "metadata": {
    "collapsed": false
   },
   "outputs": [
    {
     "data": {
      "image/svg+xml": [
       "<svg height=\"490pt\" viewBox=\"0.00 0.00 278.00 490.00\" width=\"278pt\" xmlns=\"http://www.w3.org/2000/svg\" xmlns:xlink=\"http://www.w3.org/1999/xlink\">\n",
       "<g class=\"graph\" id=\"graph0\" transform=\"scale(1 1) rotate(0) translate(4 486)\">\n",
       "<title>G</title>\n",
       "<polygon fill=\"white\" points=\"-4,4 -4,-486 274,-486 274,4 -4,4\" stroke=\"none\"/>\n",
       "<!-- 139810636756528 -->\n",
       "<g class=\"node\" id=\"node1\"><title>139810636756528</title>\n",
       "<polygon fill=\"none\" points=\"38.5,-445 38.5,-481 231.5,-481 231.5,-445 38.5,-445\" stroke=\"black\"/>\n",
       "<text font-family=\"Times,serif\" font-size=\"14.00\" text-anchor=\"middle\" x=\"135\" y=\"-459.3\">embedding_input_1: InputLayer</text>\n",
       "</g>\n",
       "<!-- 139810636756472 -->\n",
       "<g class=\"node\" id=\"node2\"><title>139810636756472</title>\n",
       "<polygon fill=\"none\" points=\"54.5,-371 54.5,-407 215.5,-407 215.5,-371 54.5,-371\" stroke=\"black\"/>\n",
       "<text font-family=\"Times,serif\" font-size=\"14.00\" text-anchor=\"middle\" x=\"135\" y=\"-385.3\">embedding_1: Embedding</text>\n",
       "</g>\n",
       "<!-- 139810636756528&#45;&gt;139810636756472 -->\n",
       "<g class=\"edge\" id=\"edge1\"><title>139810636756528-&gt;139810636756472</title>\n",
       "<path d=\"M135,-444.937C135,-436.807 135,-426.876 135,-417.705\" fill=\"none\" stroke=\"black\"/>\n",
       "<polygon fill=\"black\" points=\"138.5,-417.441 135,-407.441 131.5,-417.441 138.5,-417.441\" stroke=\"black\"/>\n",
       "</g>\n",
       "<!-- 139810623017760 -->\n",
       "<g class=\"node\" id=\"node3\"><title>139810623017760</title>\n",
       "<polygon fill=\"none\" points=\"35,-297 35,-333 235,-333 235,-297 35,-297\" stroke=\"black\"/>\n",
       "<text font-family=\"Times,serif\" font-size=\"14.00\" text-anchor=\"middle\" x=\"135\" y=\"-311.3\">convolution1d_1: Convolution1D</text>\n",
       "</g>\n",
       "<!-- 139810636756472&#45;&gt;139810623017760 -->\n",
       "<g class=\"edge\" id=\"edge2\"><title>139810636756472-&gt;139810623017760</title>\n",
       "<path d=\"M135,-370.937C135,-362.807 135,-352.876 135,-343.705\" fill=\"none\" stroke=\"black\"/>\n",
       "<polygon fill=\"black\" points=\"138.5,-343.441 135,-333.441 131.5,-343.441 138.5,-343.441\" stroke=\"black\"/>\n",
       "</g>\n",
       "<!-- 139810606878616 -->\n",
       "<g class=\"node\" id=\"node4\"><title>139810606878616</title>\n",
       "<polygon fill=\"none\" points=\"-0.5,-223 -0.5,-259 270.5,-259 270.5,-223 -0.5,-223\" stroke=\"black\"/>\n",
       "<text font-family=\"Times,serif\" font-size=\"14.00\" text-anchor=\"middle\" x=\"135\" y=\"-237.3\">globalmaxpooling1d_1: GlobalMaxPooling1D</text>\n",
       "</g>\n",
       "<!-- 139810623017760&#45;&gt;139810606878616 -->\n",
       "<g class=\"edge\" id=\"edge3\"><title>139810623017760-&gt;139810606878616</title>\n",
       "<path d=\"M135,-296.937C135,-288.807 135,-278.876 135,-269.705\" fill=\"none\" stroke=\"black\"/>\n",
       "<polygon fill=\"black\" points=\"138.5,-269.441 135,-259.441 131.5,-269.441 138.5,-269.441\" stroke=\"black\"/>\n",
       "</g>\n",
       "<!-- 139810577244000 -->\n",
       "<g class=\"node\" id=\"node5\"><title>139810577244000</title>\n",
       "<polygon fill=\"none\" points=\"84,-149 84,-185 186,-185 186,-149 84,-149\" stroke=\"black\"/>\n",
       "<text font-family=\"Times,serif\" font-size=\"14.00\" text-anchor=\"middle\" x=\"135\" y=\"-163.3\">dense_1: Dense</text>\n",
       "</g>\n",
       "<!-- 139810606878616&#45;&gt;139810577244000 -->\n",
       "<g class=\"edge\" id=\"edge4\"><title>139810606878616-&gt;139810577244000</title>\n",
       "<path d=\"M135,-222.937C135,-214.807 135,-204.876 135,-195.705\" fill=\"none\" stroke=\"black\"/>\n",
       "<polygon fill=\"black\" points=\"138.5,-195.441 135,-185.441 131.5,-195.441 138.5,-195.441\" stroke=\"black\"/>\n",
       "</g>\n",
       "<!-- 139810583757208 -->\n",
       "<g class=\"node\" id=\"node6\"><title>139810583757208</title>\n",
       "<polygon fill=\"none\" points=\"72.5,-75 72.5,-111 197.5,-111 197.5,-75 72.5,-75\" stroke=\"black\"/>\n",
       "<text font-family=\"Times,serif\" font-size=\"14.00\" text-anchor=\"middle\" x=\"135\" y=\"-89.3\">dropout_1: Dropout</text>\n",
       "</g>\n",
       "<!-- 139810577244000&#45;&gt;139810583757208 -->\n",
       "<g class=\"edge\" id=\"edge5\"><title>139810577244000-&gt;139810583757208</title>\n",
       "<path d=\"M135,-148.937C135,-140.807 135,-130.876 135,-121.705\" fill=\"none\" stroke=\"black\"/>\n",
       "<polygon fill=\"black\" points=\"138.5,-121.441 135,-111.441 131.5,-121.441 138.5,-121.441\" stroke=\"black\"/>\n",
       "</g>\n",
       "<!-- 139810561236776 -->\n",
       "<g class=\"node\" id=\"node7\"><title>139810561236776</title>\n",
       "<polygon fill=\"none\" points=\"61,-1 61,-37 209,-37 209,-1 61,-1\" stroke=\"black\"/>\n",
       "<text font-family=\"Times,serif\" font-size=\"14.00\" text-anchor=\"middle\" x=\"135\" y=\"-15.3\">activation_1: Activation</text>\n",
       "</g>\n",
       "<!-- 139810583757208&#45;&gt;139810561236776 -->\n",
       "<g class=\"edge\" id=\"edge6\"><title>139810583757208-&gt;139810561236776</title>\n",
       "<path d=\"M135,-74.937C135,-66.8072 135,-56.8761 135,-47.7047\" fill=\"none\" stroke=\"black\"/>\n",
       "<polygon fill=\"black\" points=\"138.5,-47.4406 135,-37.4407 131.5,-47.4407 138.5,-47.4406\" stroke=\"black\"/>\n",
       "</g>\n",
       "</g>\n",
       "</svg>"
      ],
      "text/plain": [
       "<IPython.core.display.SVG object>"
      ]
     },
     "execution_count": 9,
     "metadata": {},
     "output_type": "execute_result"
    }
   ],
   "source": [
    "from IPython.display import SVG\n",
    "from keras.utils.visualize_util import model_to_dot\n",
    "\n",
    "SVG(model_to_dot(cnn).create(prog='dot', format='svg'))"
   ]
  },
  {
   "cell_type": "code",
   "execution_count": 10,
   "metadata": {
    "collapsed": false
   },
   "outputs": [
    {
     "name": "stdout",
     "output_type": "stream",
     "text": [
      "____________________________________________________________________________________________________\n",
      "Layer (type)                     Output Shape          Param #     Connected to                     \n",
      "====================================================================================================\n",
      "embedding_1 (Embedding)          (None, 400, 50)       2000000     embedding_input_1[0][0]          \n",
      "____________________________________________________________________________________________________\n",
      "convolution1d_1 (Convolution1D)  (None, 398, 10)       1510        embedding_1[0][0]                \n",
      "____________________________________________________________________________________________________\n",
      "globalmaxpooling1d_1 (GlobalMaxP (None, 10)            0           convolution1d_1[0][0]            \n",
      "____________________________________________________________________________________________________\n",
      "dense_1 (Dense)                  (None, 10)            110         globalmaxpooling1d_1[0][0]       \n",
      "____________________________________________________________________________________________________\n",
      "dropout_1 (Dropout)              (None, 10)            0           dense_1[0][0]                    \n",
      "____________________________________________________________________________________________________\n",
      "activation_1 (Activation)        (None, 10)            0           dropout_1[0][0]                  \n",
      "====================================================================================================\n",
      "Total params: 2,001,620\n",
      "Trainable params: 2,001,620\n",
      "Non-trainable params: 0\n",
      "____________________________________________________________________________________________________\n"
     ]
    }
   ],
   "source": [
    "cnn.summary()"
   ]
  },
  {
   "cell_type": "code",
   "execution_count": 21,
   "metadata": {
    "collapsed": false
   },
   "outputs": [
    {
     "data": {
      "text/plain": [
       "(20107, 400)"
      ]
     },
     "execution_count": 21,
     "metadata": {},
     "output_type": "execute_result"
    }
   ],
   "source": [
    "X_padded.shape"
   ]
  },
  {
   "cell_type": "code",
   "execution_count": 22,
   "metadata": {
    "collapsed": false
   },
   "outputs": [],
   "source": [
    "# X_padded = np.reshape(X_padded, (20107, maxlen))\n",
    "# Y_tr_c = np.reshape(Y_tr_c, (20107,10))"
   ]
  },
  {
   "cell_type": "code",
   "execution_count": 23,
   "metadata": {
    "collapsed": false
   },
   "outputs": [
    {
     "data": {
      "text/plain": [
       "0.049833391356244094"
      ]
     },
     "execution_count": 23,
     "metadata": {},
     "output_type": "execute_result"
    }
   ],
   "source": [
    "X_tr_c.shape\n",
    "len([x for x in X_tr_c if len(x) > 667])/float(len(X_tr_c))"
   ]
  },
  {
   "cell_type": "code",
   "execution_count": 24,
   "metadata": {
    "collapsed": false
   },
   "outputs": [
    {
     "data": {
      "text/plain": [
       "(20107, 10)"
      ]
     },
     "execution_count": 24,
     "metadata": {},
     "output_type": "execute_result"
    }
   ],
   "source": [
    "Y_tr_c.shape"
   ]
  },
  {
   "cell_type": "code",
   "execution_count": 25,
   "metadata": {
    "collapsed": false
   },
   "outputs": [
    {
     "data": {
      "text/plain": [
       "[<tf.Tensor 'embedding_input_1:0' shape=(?, 400) dtype=int32>]"
      ]
     },
     "execution_count": 25,
     "metadata": {},
     "output_type": "execute_result"
    }
   ],
   "source": [
    "cnn.inputs"
   ]
  },
  {
   "cell_type": "code",
   "execution_count": 26,
   "metadata": {
    "collapsed": false
   },
   "outputs": [
    {
     "data": {
      "text/plain": [
       "[<tf.Tensor 'Sigmoid:0' shape=(?, 10) dtype=float32>]"
      ]
     },
     "execution_count": 26,
     "metadata": {},
     "output_type": "execute_result"
    }
   ],
   "source": [
    "cnn.outputs"
   ]
  },
  {
   "cell_type": "code",
   "execution_count": 35,
   "metadata": {
    "collapsed": false,
    "scrolled": true
   },
   "outputs": [
    {
     "ename": "NameError",
     "evalue": "name 'cnn' is not defined",
     "output_type": "error",
     "traceback": [
      "\u001b[0;31m---------------------------------------------------------------------------\u001b[0m",
      "\u001b[0;31mNameError\u001b[0m                                 Traceback (most recent call last)",
      "\u001b[0;32m<ipython-input-35-5fab85e454d6>\u001b[0m in \u001b[0;36m<module>\u001b[0;34m()\u001b[0m\n\u001b[1;32m      4\u001b[0m \u001b[0;31m#     label = np.reshape(label, (1,Y))\u001b[0m\u001b[0;34m\u001b[0m\u001b[0;34m\u001b[0m\u001b[0m\n\u001b[1;32m      5\u001b[0m \u001b[0;31m#     model.train_on_batch(note, label)\u001b[0m\u001b[0;34m\u001b[0m\u001b[0;34m\u001b[0m\u001b[0m\n\u001b[0;32m----> 6\u001b[0;31m \u001b[0mhist\u001b[0m \u001b[0;34m=\u001b[0m \u001b[0mcnn\u001b[0m\u001b[0;34m.\u001b[0m\u001b[0mfit\u001b[0m\u001b[0;34m(\u001b[0m\u001b[0mX_padded\u001b[0m\u001b[0;34m,\u001b[0m \u001b[0mY_tr_c\u001b[0m\u001b[0;34m,\u001b[0m \u001b[0mbatch_size\u001b[0m\u001b[0;34m=\u001b[0m\u001b[0;36m16\u001b[0m\u001b[0;34m,\u001b[0m \u001b[0mnb_epoch\u001b[0m\u001b[0;34m=\u001b[0m\u001b[0;36m1\u001b[0m\u001b[0;34m,\u001b[0m\u001b[0mvalidation_data\u001b[0m\u001b[0;34m=\u001b[0m\u001b[0;34m(\u001b[0m\u001b[0mX_dv_c\u001b[0m\u001b[0;34m,\u001b[0m \u001b[0mY_dv_c\u001b[0m\u001b[0;34m)\u001b[0m\u001b[0;34m,\u001b[0m\u001b[0mverbose\u001b[0m\u001b[0;34m=\u001b[0m\u001b[0;36m0\u001b[0m\u001b[0;34m)\u001b[0m\u001b[0;34m\u001b[0m\u001b[0m\n\u001b[0m",
      "\u001b[0;31mNameError\u001b[0m: name 'cnn' is not defined"
     ]
    }
   ],
   "source": [
    "# for note, label in zip(X_tr_c, Y_tr_c):\n",
    "#     print(note)\n",
    "#     print(label.shape)\n",
    "#     label = np.reshape(label, (1,Y))\n",
    "#     model.train_on_batch(note, label)\n",
    "hist = cnn.fit(X_padded, Y_tr_c, batch_size=16, nb_epoch=1,validation_data=(X_dv_c, Y_dv_c),verbose=0)"
   ]
  },
  {
   "cell_type": "code",
   "execution_count": 73,
   "metadata": {
    "collapsed": false
   },
   "outputs": [],
   "source": [
    "X_dv_c = sequence.pad_sequences(X_dv_c, maxlen=maxlen)"
   ]
  },
  {
   "cell_type": "code",
   "execution_count": 74,
   "metadata": {
    "collapsed": true
   },
   "outputs": [],
   "source": [
    "preds = model.predict(X_dv_c)"
   ]
  },
  {
   "cell_type": "code",
   "execution_count": 35,
   "metadata": {
    "collapsed": false
   },
   "outputs": [
    {
     "data": {
      "text/plain": [
       "(8971, 10)"
      ]
     },
     "execution_count": 35,
     "metadata": {},
     "output_type": "execute_result"
    }
   ],
   "source": [
    "preds.shape"
   ]
  },
  {
   "cell_type": "code",
   "execution_count": 89,
   "metadata": {
    "collapsed": true
   },
   "outputs": [],
   "source": [
    "yhat = np.zeros(preds.shape)"
   ]
  },
  {
   "cell_type": "code",
   "execution_count": 90,
   "metadata": {
    "collapsed": false
   },
   "outputs": [
    {
     "data": {
      "text/plain": [
       "array([ 0.41807741,  0.52856904,  0.40794232,  0.36543503,  0.57675272,\n",
       "        0.30248693,  0.31626055,  0.25988546,  0.21573617,  0.20210788], dtype=float32)"
      ]
     },
     "execution_count": 90,
     "metadata": {},
     "output_type": "execute_result"
    }
   ],
   "source": [
    "preds[0]"
   ]
  },
  {
   "cell_type": "code",
   "execution_count": 467,
   "metadata": {
    "collapsed": false
   },
   "outputs": [],
   "source": [
    "dumb_yhat = np.array([[1, 1, 1, 1, 1, 0, 0, 0, 0, 0] for _ in range(preds.shape[0])])"
   ]
  },
  {
   "cell_type": "code",
   "execution_count": 91,
   "metadata": {
    "collapsed": false
   },
   "outputs": [],
   "source": [
    "yhat[preds>=0.50] = 1\n",
    "yhat[preds<0.50] = 0"
   ]
  },
  {
   "cell_type": "code",
   "execution_count": 95,
   "metadata": {
    "collapsed": false
   },
   "outputs": [
    {
     "name": "stderr",
     "output_type": "stream",
     "text": [
      "/media/james/Windows8_OS/Users/James/Documents/SCHOOL/MS/research/mimic/src/evaluation.py:15: RuntimeWarning: invalid value encountered in true_divide\n",
      "  num = intersect_size(yhat, y) / yhat.sum(axis=1)\n"
     ]
    },
    {
     "data": {
      "text/plain": [
       "(0.24472542035801539,\n",
       " 0.45819864006242306,\n",
       " 0.27545446261587253,\n",
       " 0.31902784231956183)"
      ]
     },
     "execution_count": 95,
     "metadata": {},
     "output_type": "execute_result"
    }
   ],
   "source": [
    "import evaluation\n",
    "evaluation.all_metrics(yhat, Y_dv_c)"
   ]
  },
  {
   "cell_type": "code",
   "execution_count": 96,
   "metadata": {
    "collapsed": false
   },
   "outputs": [
    {
     "data": {
      "text/plain": [
       "(0.27321368855199574, 0.27321368855199574, 1.0, 0.41006704152529178)"
      ]
     },
     "execution_count": 96,
     "metadata": {},
     "output_type": "execute_result"
    }
   ],
   "source": [
    "import evaluation\n",
    "evaluation.all_metrics(np.ones(yhat.shape), Y_dv_c)"
   ]
  },
  {
   "cell_type": "code",
   "execution_count": 85,
   "metadata": {
    "collapsed": false
   },
   "outputs": [],
   "source": [
    "preds_tr = model.predict(X_padded)"
   ]
  },
  {
   "cell_type": "code",
   "execution_count": 86,
   "metadata": {
    "collapsed": true
   },
   "outputs": [],
   "source": [
    "yhat_tr = np.zeros(preds_tr.shape)"
   ]
  },
  {
   "cell_type": "code",
   "execution_count": 87,
   "metadata": {
    "collapsed": true
   },
   "outputs": [],
   "source": [
    "yhat_tr[preds_tr>=0.35] = 1\n",
    "yhat_tr[preds_tr<0.35] = 0"
   ]
  },
  {
   "cell_type": "code",
   "execution_count": 88,
   "metadata": {
    "collapsed": false
   },
   "outputs": [
    {
     "name": "stderr",
     "output_type": "stream",
     "text": [
      "/media/james/Windows8_OS/Users/James/Documents/SCHOOL/MS/research/mimic/src/evaluation.py:15: RuntimeWarning: invalid value encountered in true_divide\n",
      "  num = intersect_size(yhat, y) / yhat.sum(axis=1)\n"
     ]
    },
    {
     "data": {
      "text/plain": [
       "(0.40001874889972139,\n",
       " 0.54690441850385951,\n",
       " 0.55199024504614547,\n",
       " 0.50778567431473087)"
      ]
     },
     "execution_count": 88,
     "metadata": {},
     "output_type": "execute_result"
    }
   ],
   "source": [
    "evaluation.all_metrics(yhat_tr, Y_tr_c)"
   ]
  },
  {
   "cell_type": "markdown",
   "metadata": {},
   "source": [
    "## Multi-window ConvNet"
   ]
  },
  {
   "cell_type": "code",
   "execution_count": 97,
   "metadata": {
    "collapsed": false
   },
   "outputs": [],
   "source": [
    "from keras.layers import Input, merge\n",
    "from keras.models import Model\n",
    "\n",
    "model_input = Input(shape=(maxlen,))\n",
    "embed = Embedding(40000, 50, dropout=0.3)(model_input)\n",
    "\n",
    "#try multiple conv windows\n",
    "conv1 = Convolution1D(Y, 3, activation='tanh')(embed)\n",
    "pool1 = GlobalMaxPooling1D()(conv1)\n",
    "\n",
    "conv2 = Convolution1D(Y, 4, activation='tanh')(embed)\n",
    "pool2 = GlobalMaxPooling1D()(conv2)\n",
    "\n",
    "conv3 = Convolution1D(Y, 5, activation='tanh')(embed)\n",
    "pool3 = GlobalMaxPooling1D()(conv3)\n",
    "\n",
    "merged = merge([pool1, pool2, pool3], mode='concat', concat_axis=1)\n",
    "\n",
    "dense = Dense(Y)(merged)\n",
    "dropout = Dropout(0.3)(dense)\n",
    "activation = Activation('sigmoid')(dropout)\n",
    "\n",
    "cnn_multi = Model(input=model_input, output=activation)\n",
    "\n",
    "cnn_multi.compile(optimizer='rmsprop', loss='binary_crossentropy')"
   ]
  },
  {
   "cell_type": "code",
   "execution_count": 100,
   "metadata": {
    "collapsed": false
   },
   "outputs": [
    {
     "name": "stderr",
     "output_type": "stream",
     "text": [
      "/home/james/anaconda3/lib/python3.6/site-packages/tensorflow/python/ops/gradients_impl.py:91: UserWarning: Converting sparse IndexedSlices to a dense Tensor of unknown shape. This may consume a large amount of memory.\n",
      "  \"Converting sparse IndexedSlices to a dense Tensor of unknown shape. \"\n"
     ]
    },
    {
     "data": {
      "text/plain": [
       "<keras.callbacks.History at 0x7ff2563aa908>"
      ]
     },
     "execution_count": 100,
     "metadata": {},
     "output_type": "execute_result"
    }
   ],
   "source": [
    "# model.outputs\n",
    "cnn_multi.fit(X_padded, Y_tr_c, batch_size=32, nb_epoch=1, validation_data=(X_dv_c, Y_dv_c), verbose=0)"
   ]
  },
  {
   "cell_type": "code",
   "execution_count": 101,
   "metadata": {
    "collapsed": true
   },
   "outputs": [],
   "source": [
    "preds_c_m = cnn_multi.predict(X_dv_c)"
   ]
  },
  {
   "cell_type": "code",
   "execution_count": 102,
   "metadata": {
    "collapsed": true
   },
   "outputs": [],
   "source": [
    "yhat_c_m = np.zeros(preds.shape)"
   ]
  },
  {
   "cell_type": "code",
   "execution_count": 103,
   "metadata": {
    "collapsed": false
   },
   "outputs": [],
   "source": [
    "yhat_c_m[preds_c_m>=0.5] = 1\n",
    "yhat_c_m[preds_c_m<0.5] = 0"
   ]
  },
  {
   "cell_type": "code",
   "execution_count": 104,
   "metadata": {
    "collapsed": false
   },
   "outputs": [
    {
     "name": "stderr",
     "output_type": "stream",
     "text": [
      "/media/james/Windows8_OS/Users/James/Documents/SCHOOL/MS/research/mimic/src/evaluation.py:15: RuntimeWarning: invalid value encountered in true_divide\n",
      "  num = intersect_size(yhat, y) / yhat.sum(axis=1)\n"
     ]
    },
    {
     "data": {
      "text/plain": [
       "(0.12848813549125768,\n",
       " 0.29495039571954074,\n",
       " 0.12848813549125768,\n",
       " 0.16781242203714722)"
      ]
     },
     "execution_count": 104,
     "metadata": {},
     "output_type": "execute_result"
    }
   ],
   "source": [
    "evaluation.all_metrics(yhat_c_m, Y_dv_c)"
   ]
  },
  {
   "cell_type": "code",
   "execution_count": null,
   "metadata": {
    "collapsed": false
   },
   "outputs": [],
   "source": [
    "preds_tr_c_m = cnn_multi.predict(X_padded)"
   ]
  },
  {
   "cell_type": "code",
   "execution_count": 565,
   "metadata": {
    "collapsed": true
   },
   "outputs": [],
   "source": [
    "yhat_tr_c_m = np.zeros(preds_tr_c_m.shape)"
   ]
  },
  {
   "cell_type": "code",
   "execution_count": 566,
   "metadata": {
    "collapsed": true
   },
   "outputs": [],
   "source": [
    "yhat_tr[preds_tr_c_m>=0.5] = 1\n",
    "yhat_tr[preds_tr_c_m<0.5] = 0"
   ]
  },
  {
   "cell_type": "code",
   "execution_count": 567,
   "metadata": {
    "collapsed": false
   },
   "outputs": [
    {
     "data": {
      "text/plain": [
       "(0.98916408326563821,\n",
       " 0.992273696833053,\n",
       " 0.99600701721977847,\n",
       " 0.99299717213773675)"
      ]
     },
     "execution_count": 567,
     "metadata": {},
     "output_type": "execute_result"
    }
   ],
   "source": [
    "evaluation.all_metrics(yhat_tr, Y_tr_c)"
   ]
  },
  {
   "cell_type": "code",
   "execution_count": 34,
   "metadata": {
    "collapsed": false
   },
   "outputs": [
    {
     "data": {
      "application/javascript": [
       "$.getScript('https://kmahelona.github.io/ipython_notebook_goodies/ipython_notebook_toc.js')"
      ],
      "text/plain": [
       "<IPython.core.display.Javascript object>"
      ]
     },
     "metadata": {},
     "output_type": "display_data"
    }
   ],
   "source": [
    "%%javascript\n",
    "$.getScript('https://kmahelona.github.io/ipython_notebook_goodies/ipython_notebook_toc.js')"
   ]
  },
  {
   "cell_type": "markdown",
   "metadata": {},
   "source": [
    "# SVM"
   ]
  },
  {
   "cell_type": "code",
   "execution_count": 32,
   "metadata": {
    "collapsed": false
   },
   "outputs": [
    {
     "name": "stdout",
     "output_type": "stream",
     "text": [
      "C = 0.01, iters = 3: \n",
      "acc,precision,recall,f1\n",
      "0.20753594277 0.244468471182 0.609138562043 0.311823809752\n",
      "C = 0.1, iters = 3: \n",
      "acc,precision,recall,f1\n",
      "0.20753594277 0.244468471182 0.609138562043 0.311823809752\n",
      "C = 1.0, iters = 3: \n",
      "acc,precision,recall,f1\n",
      "0.20753594277 0.244468471182 0.609138562043 0.311823809752\n",
      "C = 10.0, iters = 3: \n",
      "acc,precision,recall,f1\n",
      "0.206748285854 0.25461677097 0.589105693056 0.310577218286\n",
      "C = 100.0, iters = 3: \n",
      "acc,precision,recall,f1\n",
      "0.0880359140816 0.112800923364 0.242436137033 0.13221510305\n",
      "C = 1000.0, iters = 3: \n",
      "acc,precision,recall,f1\n",
      "0.122095172521 0.189635203423 0.24662826487 0.181343287494\n",
      "C = 0.01, iters = 5: \n",
      "acc,precision,recall,f1\n",
      "0.206559658031 0.253922864438 0.569262066648 0.308291373023\n",
      "C = 0.1, iters = 5: \n",
      "acc,precision,recall,f1\n",
      "0.206559658031 0.253922864438 0.569262066648 0.308291373023\n",
      "C = 1.0, iters = 5: \n",
      "acc,precision,recall,f1\n",
      "0.206559658031 0.253922864438 0.569262066648 0.308291373023\n",
      "C = 10.0, iters = 5: \n",
      "acc,precision,recall,f1\n",
      "0.203432544806 0.255517594334 0.556169543728 0.303019509376\n",
      "C = 100.0, iters = 5: \n",
      "acc,precision,recall,f1\n",
      "0.0814489506105 0.10635632728 0.218482913864 0.121590386818\n",
      "C = 1000.0, iters = 5: \n",
      "acc,precision,recall,f1\n",
      "0.0773449378891 0.129652887922 0.146452137099 0.115891256898\n",
      "C = 0.01, iters = 7: \n",
      "acc,precision,recall,f1\n",
      "0.202088225771 0.238529922254 0.579516668101 0.302144097027\n",
      "C = 0.1, iters = 7: \n",
      "acc,precision,recall,f1\n",
      "0.202088225771 0.238529922254 0.579516668101 0.302144097027\n",
      "C = 1.0, iters = 7: \n",
      "acc,precision,recall,f1\n",
      "0.202088225771 0.238529922254 0.579516668101 0.302144097027\n",
      "C = 10.0, iters = 7: \n",
      "acc,precision,recall,f1\n",
      "0.198906296747 0.241338335403 0.563632893987 0.296488036309\n",
      "C = 100.0, iters = 7: \n",
      "acc,precision,recall,f1\n",
      "0.073995026619 0.105248587084 0.183491120865 0.108702735081\n",
      "C = 1000.0, iters = 7: \n",
      "acc,precision,recall,f1\n",
      "0.106496799167 0.192524713216 0.218497104496 0.155091910056\n",
      "C = 0.01, iters = 10: \n",
      "acc,precision,recall,f1\n",
      "0.194446186255 0.240455083832 0.537177457695 0.290534737858\n",
      "C = 0.1, iters = 10: \n"
     ]
    },
    {
     "ename": "KeyboardInterrupt",
     "evalue": "",
     "output_type": "error",
     "traceback": [
      "\u001b[0;31m---------------------------------------------------------------------------\u001b[0m",
      "\u001b[0;31mKeyboardInterrupt\u001b[0m                         Traceback (most recent call last)",
      "\u001b[0;32m<ipython-input-32-fbe84839f446>\u001b[0m in \u001b[0;36m<module>\u001b[0;34m()\u001b[0m\n\u001b[1;32m      8\u001b[0m         \u001b[0msvm\u001b[0m \u001b[1;33m=\u001b[0m \u001b[0mOneVsRestClassifier\u001b[0m\u001b[1;33m(\u001b[0m\u001b[0mSVC\u001b[0m\u001b[1;33m(\u001b[0m\u001b[0mC\u001b[0m\u001b[1;33m=\u001b[0m\u001b[0mC\u001b[0m\u001b[1;33m,\u001b[0m \u001b[0mmax_iter\u001b[0m\u001b[1;33m=\u001b[0m\u001b[0mmx_iter\u001b[0m\u001b[1;33m)\u001b[0m\u001b[1;33m)\u001b[0m\u001b[1;33m\u001b[0m\u001b[0m\n\u001b[1;32m      9\u001b[0m         \u001b[0msvm\u001b[0m\u001b[1;33m.\u001b[0m\u001b[0mfit\u001b[0m\u001b[1;33m(\u001b[0m\u001b[0mX_tr\u001b[0m\u001b[1;33m,\u001b[0m \u001b[0myy_tr\u001b[0m\u001b[1;33m)\u001b[0m\u001b[1;33m\u001b[0m\u001b[0m\n\u001b[0;32m---> 10\u001b[0;31m         \u001b[0myhat\u001b[0m \u001b[1;33m=\u001b[0m \u001b[0msvm\u001b[0m\u001b[1;33m.\u001b[0m\u001b[0mpredict\u001b[0m\u001b[1;33m(\u001b[0m\u001b[0mX_dv\u001b[0m\u001b[1;33m)\u001b[0m\u001b[1;33m\u001b[0m\u001b[0m\n\u001b[0m\u001b[1;32m     11\u001b[0m         \u001b[0macc\u001b[0m\u001b[1;33m,\u001b[0m\u001b[0mprecision\u001b[0m\u001b[1;33m,\u001b[0m\u001b[0mrecall\u001b[0m\u001b[1;33m,\u001b[0m\u001b[0mf1\u001b[0m \u001b[1;33m=\u001b[0m \u001b[0mevaluation\u001b[0m\u001b[1;33m.\u001b[0m\u001b[0mall_metrics\u001b[0m\u001b[1;33m(\u001b[0m\u001b[0myhat\u001b[0m\u001b[1;33m,\u001b[0m \u001b[0myy_dev\u001b[0m\u001b[1;33m)\u001b[0m\u001b[1;33m\u001b[0m\u001b[0m\n\u001b[1;32m     12\u001b[0m         \u001b[0mprint\u001b[0m\u001b[1;33m(\u001b[0m\u001b[1;34m\"acc,precision,recall,f1\"\u001b[0m\u001b[1;33m)\u001b[0m\u001b[1;33m\u001b[0m\u001b[0m\n",
      "\u001b[0;32mC:\\Program Files\\Anaconda3\\lib\\site-packages\\sklearn\\multiclass.py\u001b[0m in \u001b[0;36mpredict\u001b[0;34m(self, X)\u001b[0m\n\u001b[1;32m    323\u001b[0m             \u001b[0mindptr\u001b[0m \u001b[1;33m=\u001b[0m \u001b[0marray\u001b[0m\u001b[1;33m.\u001b[0m\u001b[0marray\u001b[0m\u001b[1;33m(\u001b[0m\u001b[1;34m'i'\u001b[0m\u001b[1;33m,\u001b[0m \u001b[1;33m[\u001b[0m\u001b[1;36m0\u001b[0m\u001b[1;33m]\u001b[0m\u001b[1;33m)\u001b[0m\u001b[1;33m\u001b[0m\u001b[0m\n\u001b[1;32m    324\u001b[0m             \u001b[1;32mfor\u001b[0m \u001b[0me\u001b[0m \u001b[1;32min\u001b[0m \u001b[0mself\u001b[0m\u001b[1;33m.\u001b[0m\u001b[0mestimators_\u001b[0m\u001b[1;33m:\u001b[0m\u001b[1;33m\u001b[0m\u001b[0m\n\u001b[0;32m--> 325\u001b[0;31m                 \u001b[0mindices\u001b[0m\u001b[1;33m.\u001b[0m\u001b[0mextend\u001b[0m\u001b[1;33m(\u001b[0m\u001b[0mnp\u001b[0m\u001b[1;33m.\u001b[0m\u001b[0mwhere\u001b[0m\u001b[1;33m(\u001b[0m\u001b[0m_predict_binary\u001b[0m\u001b[1;33m(\u001b[0m\u001b[0me\u001b[0m\u001b[1;33m,\u001b[0m \u001b[0mX\u001b[0m\u001b[1;33m)\u001b[0m \u001b[1;33m>\u001b[0m \u001b[0mthresh\u001b[0m\u001b[1;33m)\u001b[0m\u001b[1;33m[\u001b[0m\u001b[1;36m0\u001b[0m\u001b[1;33m]\u001b[0m\u001b[1;33m)\u001b[0m\u001b[1;33m\u001b[0m\u001b[0m\n\u001b[0m\u001b[1;32m    326\u001b[0m                 \u001b[0mindptr\u001b[0m\u001b[1;33m.\u001b[0m\u001b[0mappend\u001b[0m\u001b[1;33m(\u001b[0m\u001b[0mlen\u001b[0m\u001b[1;33m(\u001b[0m\u001b[0mindices\u001b[0m\u001b[1;33m)\u001b[0m\u001b[1;33m)\u001b[0m\u001b[1;33m\u001b[0m\u001b[0m\n\u001b[1;32m    327\u001b[0m             \u001b[0mdata\u001b[0m \u001b[1;33m=\u001b[0m \u001b[0mnp\u001b[0m\u001b[1;33m.\u001b[0m\u001b[0mones\u001b[0m\u001b[1;33m(\u001b[0m\u001b[0mlen\u001b[0m\u001b[1;33m(\u001b[0m\u001b[0mindices\u001b[0m\u001b[1;33m)\u001b[0m\u001b[1;33m,\u001b[0m \u001b[0mdtype\u001b[0m\u001b[1;33m=\u001b[0m\u001b[0mint\u001b[0m\u001b[1;33m)\u001b[0m\u001b[1;33m\u001b[0m\u001b[0m\n",
      "\u001b[0;32mC:\\Program Files\\Anaconda3\\lib\\site-packages\\sklearn\\multiclass.py\u001b[0m in \u001b[0;36m_predict_binary\u001b[0;34m(estimator, X)\u001b[0m\n\u001b[1;32m     81\u001b[0m         \u001b[1;32mreturn\u001b[0m \u001b[0mestimator\u001b[0m\u001b[1;33m.\u001b[0m\u001b[0mpredict\u001b[0m\u001b[1;33m(\u001b[0m\u001b[0mX\u001b[0m\u001b[1;33m)\u001b[0m\u001b[1;33m\u001b[0m\u001b[0m\n\u001b[1;32m     82\u001b[0m     \u001b[1;32mtry\u001b[0m\u001b[1;33m:\u001b[0m\u001b[1;33m\u001b[0m\u001b[0m\n\u001b[0;32m---> 83\u001b[0;31m         \u001b[0mscore\u001b[0m \u001b[1;33m=\u001b[0m \u001b[0mnp\u001b[0m\u001b[1;33m.\u001b[0m\u001b[0mravel\u001b[0m\u001b[1;33m(\u001b[0m\u001b[0mestimator\u001b[0m\u001b[1;33m.\u001b[0m\u001b[0mdecision_function\u001b[0m\u001b[1;33m(\u001b[0m\u001b[0mX\u001b[0m\u001b[1;33m)\u001b[0m\u001b[1;33m)\u001b[0m\u001b[1;33m\u001b[0m\u001b[0m\n\u001b[0m\u001b[1;32m     84\u001b[0m     \u001b[1;32mexcept\u001b[0m \u001b[1;33m(\u001b[0m\u001b[0mAttributeError\u001b[0m\u001b[1;33m,\u001b[0m \u001b[0mNotImplementedError\u001b[0m\u001b[1;33m)\u001b[0m\u001b[1;33m:\u001b[0m\u001b[1;33m\u001b[0m\u001b[0m\n\u001b[1;32m     85\u001b[0m         \u001b[1;31m# probabilities of the positive class\u001b[0m\u001b[1;33m\u001b[0m\u001b[1;33m\u001b[0m\u001b[0m\n",
      "\u001b[0;32mC:\\Program Files\\Anaconda3\\lib\\site-packages\\sklearn\\svm\\base.py\u001b[0m in \u001b[0;36mdecision_function\u001b[0;34m(self, X)\u001b[0m\n\u001b[1;32m    540\u001b[0m             n_classes)\n\u001b[1;32m    541\u001b[0m         \"\"\"\n\u001b[0;32m--> 542\u001b[0;31m         \u001b[0mdec\u001b[0m \u001b[1;33m=\u001b[0m \u001b[0mself\u001b[0m\u001b[1;33m.\u001b[0m\u001b[0m_decision_function\u001b[0m\u001b[1;33m(\u001b[0m\u001b[0mX\u001b[0m\u001b[1;33m)\u001b[0m\u001b[1;33m\u001b[0m\u001b[0m\n\u001b[0m\u001b[1;32m    543\u001b[0m         \u001b[1;32mif\u001b[0m \u001b[0mself\u001b[0m\u001b[1;33m.\u001b[0m\u001b[0mdecision_function_shape\u001b[0m \u001b[1;32mis\u001b[0m \u001b[1;32mNone\u001b[0m \u001b[1;32mand\u001b[0m \u001b[0mlen\u001b[0m\u001b[1;33m(\u001b[0m\u001b[0mself\u001b[0m\u001b[1;33m.\u001b[0m\u001b[0mclasses_\u001b[0m\u001b[1;33m)\u001b[0m \u001b[1;33m>\u001b[0m \u001b[1;36m2\u001b[0m\u001b[1;33m:\u001b[0m\u001b[1;33m\u001b[0m\u001b[0m\n\u001b[1;32m    544\u001b[0m             warnings.warn(\"The decision_function_shape default value will \"\n",
      "\u001b[0;32mC:\\Program Files\\Anaconda3\\lib\\site-packages\\sklearn\\svm\\base.py\u001b[0m in \u001b[0;36m_decision_function\u001b[0;34m(self, X)\u001b[0m\n\u001b[1;32m    397\u001b[0m         \u001b[1;31m# NOTE: _validate_for_predict contains check for is_fitted\u001b[0m\u001b[1;33m\u001b[0m\u001b[1;33m\u001b[0m\u001b[0m\n\u001b[1;32m    398\u001b[0m         \u001b[1;31m# hence must be placed before any other attributes are used.\u001b[0m\u001b[1;33m\u001b[0m\u001b[1;33m\u001b[0m\u001b[0m\n\u001b[0;32m--> 399\u001b[0;31m         \u001b[0mX\u001b[0m \u001b[1;33m=\u001b[0m \u001b[0mself\u001b[0m\u001b[1;33m.\u001b[0m\u001b[0m_validate_for_predict\u001b[0m\u001b[1;33m(\u001b[0m\u001b[0mX\u001b[0m\u001b[1;33m)\u001b[0m\u001b[1;33m\u001b[0m\u001b[0m\n\u001b[0m\u001b[1;32m    400\u001b[0m         \u001b[0mX\u001b[0m \u001b[1;33m=\u001b[0m \u001b[0mself\u001b[0m\u001b[1;33m.\u001b[0m\u001b[0m_compute_kernel\u001b[0m\u001b[1;33m(\u001b[0m\u001b[0mX\u001b[0m\u001b[1;33m)\u001b[0m\u001b[1;33m\u001b[0m\u001b[0m\n\u001b[1;32m    401\u001b[0m \u001b[1;33m\u001b[0m\u001b[0m\n",
      "\u001b[0;32mC:\\Program Files\\Anaconda3\\lib\\site-packages\\sklearn\\svm\\base.py\u001b[0m in \u001b[0;36m_validate_for_predict\u001b[0;34m(self, X)\u001b[0m\n\u001b[1;32m    452\u001b[0m         \u001b[0mcheck_is_fitted\u001b[0m\u001b[1;33m(\u001b[0m\u001b[0mself\u001b[0m\u001b[1;33m,\u001b[0m \u001b[1;34m'support_'\u001b[0m\u001b[1;33m)\u001b[0m\u001b[1;33m\u001b[0m\u001b[0m\n\u001b[1;32m    453\u001b[0m \u001b[1;33m\u001b[0m\u001b[0m\n\u001b[0;32m--> 454\u001b[0;31m         \u001b[0mX\u001b[0m \u001b[1;33m=\u001b[0m \u001b[0mcheck_array\u001b[0m\u001b[1;33m(\u001b[0m\u001b[0mX\u001b[0m\u001b[1;33m,\u001b[0m \u001b[0maccept_sparse\u001b[0m\u001b[1;33m=\u001b[0m\u001b[1;34m'csr'\u001b[0m\u001b[1;33m,\u001b[0m \u001b[0mdtype\u001b[0m\u001b[1;33m=\u001b[0m\u001b[0mnp\u001b[0m\u001b[1;33m.\u001b[0m\u001b[0mfloat64\u001b[0m\u001b[1;33m,\u001b[0m \u001b[0morder\u001b[0m\u001b[1;33m=\u001b[0m\u001b[1;34m\"C\"\u001b[0m\u001b[1;33m)\u001b[0m\u001b[1;33m\u001b[0m\u001b[0m\n\u001b[0m\u001b[1;32m    455\u001b[0m         \u001b[1;32mif\u001b[0m \u001b[0mself\u001b[0m\u001b[1;33m.\u001b[0m\u001b[0m_sparse\u001b[0m \u001b[1;32mand\u001b[0m \u001b[1;32mnot\u001b[0m \u001b[0msp\u001b[0m\u001b[1;33m.\u001b[0m\u001b[0misspmatrix\u001b[0m\u001b[1;33m(\u001b[0m\u001b[0mX\u001b[0m\u001b[1;33m)\u001b[0m\u001b[1;33m:\u001b[0m\u001b[1;33m\u001b[0m\u001b[0m\n\u001b[1;32m    456\u001b[0m             \u001b[0mX\u001b[0m \u001b[1;33m=\u001b[0m \u001b[0msp\u001b[0m\u001b[1;33m.\u001b[0m\u001b[0mcsr_matrix\u001b[0m\u001b[1;33m(\u001b[0m\u001b[0mX\u001b[0m\u001b[1;33m)\u001b[0m\u001b[1;33m\u001b[0m\u001b[0m\n",
      "\u001b[0;32mC:\\Program Files\\Anaconda3\\lib\\site-packages\\sklearn\\utils\\validation.py\u001b[0m in \u001b[0;36mcheck_array\u001b[0;34m(array, accept_sparse, dtype, order, copy, force_all_finite, ensure_2d, allow_nd, ensure_min_samples, ensure_min_features, warn_on_dtype, estimator)\u001b[0m\n\u001b[1;32m    369\u001b[0m     \u001b[1;32mif\u001b[0m \u001b[0msp\u001b[0m\u001b[1;33m.\u001b[0m\u001b[0missparse\u001b[0m\u001b[1;33m(\u001b[0m\u001b[0marray\u001b[0m\u001b[1;33m)\u001b[0m\u001b[1;33m:\u001b[0m\u001b[1;33m\u001b[0m\u001b[0m\n\u001b[1;32m    370\u001b[0m         array = _ensure_sparse_format(array, accept_sparse, dtype, copy,\n\u001b[0;32m--> 371\u001b[0;31m                                       force_all_finite)\n\u001b[0m\u001b[1;32m    372\u001b[0m     \u001b[1;32melse\u001b[0m\u001b[1;33m:\u001b[0m\u001b[1;33m\u001b[0m\u001b[0m\n\u001b[1;32m    373\u001b[0m         \u001b[0marray\u001b[0m \u001b[1;33m=\u001b[0m \u001b[0mnp\u001b[0m\u001b[1;33m.\u001b[0m\u001b[0marray\u001b[0m\u001b[1;33m(\u001b[0m\u001b[0marray\u001b[0m\u001b[1;33m,\u001b[0m \u001b[0mdtype\u001b[0m\u001b[1;33m=\u001b[0m\u001b[0mdtype\u001b[0m\u001b[1;33m,\u001b[0m \u001b[0morder\u001b[0m\u001b[1;33m=\u001b[0m\u001b[0morder\u001b[0m\u001b[1;33m,\u001b[0m \u001b[0mcopy\u001b[0m\u001b[1;33m=\u001b[0m\u001b[0mcopy\u001b[0m\u001b[1;33m)\u001b[0m\u001b[1;33m\u001b[0m\u001b[0m\n",
      "\u001b[0;32mC:\\Program Files\\Anaconda3\\lib\\site-packages\\sklearn\\utils\\validation.py\u001b[0m in \u001b[0;36m_ensure_sparse_format\u001b[0;34m(spmatrix, accept_sparse, dtype, copy, force_all_finite)\u001b[0m\n\u001b[1;32m    251\u001b[0m     \u001b[1;32mif\u001b[0m \u001b[0mdtype\u001b[0m \u001b[1;33m!=\u001b[0m \u001b[0mspmatrix\u001b[0m\u001b[1;33m.\u001b[0m\u001b[0mdtype\u001b[0m\u001b[1;33m:\u001b[0m\u001b[1;33m\u001b[0m\u001b[0m\n\u001b[1;32m    252\u001b[0m         \u001b[1;31m# convert dtype\u001b[0m\u001b[1;33m\u001b[0m\u001b[1;33m\u001b[0m\u001b[0m\n\u001b[0;32m--> 253\u001b[0;31m         \u001b[0mspmatrix\u001b[0m \u001b[1;33m=\u001b[0m \u001b[0mspmatrix\u001b[0m\u001b[1;33m.\u001b[0m\u001b[0mastype\u001b[0m\u001b[1;33m(\u001b[0m\u001b[0mdtype\u001b[0m\u001b[1;33m)\u001b[0m\u001b[1;33m\u001b[0m\u001b[0m\n\u001b[0m\u001b[1;32m    254\u001b[0m     \u001b[1;32melif\u001b[0m \u001b[0mcopy\u001b[0m \u001b[1;32mand\u001b[0m \u001b[1;32mnot\u001b[0m \u001b[0mchanged_format\u001b[0m\u001b[1;33m:\u001b[0m\u001b[1;33m\u001b[0m\u001b[0m\n\u001b[1;32m    255\u001b[0m         \u001b[1;31m# force copy\u001b[0m\u001b[1;33m\u001b[0m\u001b[1;33m\u001b[0m\u001b[0m\n",
      "\u001b[0;32mC:\\Program Files\\Anaconda3\\lib\\site-packages\\scipy\\sparse\\data.py\u001b[0m in \u001b[0;36mastype\u001b[0;34m(self, t)\u001b[0m\n\u001b[1;32m     63\u001b[0m \u001b[1;33m\u001b[0m\u001b[0m\n\u001b[1;32m     64\u001b[0m     \u001b[1;32mdef\u001b[0m \u001b[0mastype\u001b[0m\u001b[1;33m(\u001b[0m\u001b[0mself\u001b[0m\u001b[1;33m,\u001b[0m \u001b[0mt\u001b[0m\u001b[1;33m)\u001b[0m\u001b[1;33m:\u001b[0m\u001b[1;33m\u001b[0m\u001b[0m\n\u001b[0;32m---> 65\u001b[0;31m         \u001b[1;32mreturn\u001b[0m \u001b[0mself\u001b[0m\u001b[1;33m.\u001b[0m\u001b[0m_with_data\u001b[0m\u001b[1;33m(\u001b[0m\u001b[0mself\u001b[0m\u001b[1;33m.\u001b[0m\u001b[0m_deduped_data\u001b[0m\u001b[1;33m(\u001b[0m\u001b[1;33m)\u001b[0m\u001b[1;33m.\u001b[0m\u001b[0mastype\u001b[0m\u001b[1;33m(\u001b[0m\u001b[0mt\u001b[0m\u001b[1;33m)\u001b[0m\u001b[1;33m)\u001b[0m\u001b[1;33m\u001b[0m\u001b[0m\n\u001b[0m\u001b[1;32m     66\u001b[0m \u001b[1;33m\u001b[0m\u001b[0m\n\u001b[1;32m     67\u001b[0m     \u001b[1;32mdef\u001b[0m \u001b[0mconj\u001b[0m\u001b[1;33m(\u001b[0m\u001b[0mself\u001b[0m\u001b[1;33m)\u001b[0m\u001b[1;33m:\u001b[0m\u001b[1;33m\u001b[0m\u001b[0m\n",
      "\u001b[0;31mKeyboardInterrupt\u001b[0m: "
     ]
    }
   ],
   "source": [
    "from sklearn.svm import SVC\n",
    "iters = [3, 5, 7, 10]\n",
    "Cs = [1e-2, 1e-1, 1e0, 1e1, 1e2, 1e3]\n",
    "svms = []\n",
    "for mx_iter in iters:\n",
    "    for C in Cs:\n",
    "        print(\"C = \" + str(C) + \", iters = \" + str(mx_iter) + \": \")\n",
    "        svm = OneVsRestClassifier(SVC(C=C, max_iter=mx_iter))\n",
    "        svm.fit(X_tr, yy_tr)\n",
    "        yhat = svm.predict(X_dv)\n",
    "        acc,precision,recall,f1 = evaluation.all_metrics(yhat, yy_dev)\n",
    "        print(\"acc,precision,recall,f1\")\n",
    "        print(acc,precision,recall,f1)\n",
    "        svms.append(svm)"
   ]
  }
 ],
 "metadata": {
  "anaconda-cloud": {},
  "kernelspec": {
   "display_name": "Python 3",
   "language": "python",
   "name": "python3"
  },
  "language_info": {
   "codemirror_mode": {
    "name": "ipython",
    "version": 3
   },
   "file_extension": ".py",
   "mimetype": "text/x-python",
   "name": "python",
   "nbconvert_exporter": "python",
   "pygments_lexer": "ipython3",
   "version": "3.6.0"
  }
 },
 "nbformat": 4,
 "nbformat_minor": 1
}

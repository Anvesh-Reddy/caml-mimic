{
 "cells": [
  {
   "cell_type": "code",
   "execution_count": 14,
   "metadata": {
    "collapsed": true
   },
   "outputs": [],
   "source": [
    "import log_reg\n",
    "from imp import reload\n",
    "\n",
    "import numpy as np\n",
    "import pandas as pd\n",
    "\n",
    "import evaluation\n",
    "from sklearn.multiclass import OneVsRestClassifier\n",
    "from sklearn.linear_model import LogisticRegression"
   ]
  },
  {
   "cell_type": "code",
   "execution_count": 2,
   "metadata": {
    "collapsed": true
   },
   "outputs": [],
   "source": [
    "Y = 10\n",
    "vocab_min = 3"
   ]
  },
  {
   "cell_type": "code",
   "execution_count": 3,
   "metadata": {
    "collapsed": false
   },
   "outputs": [
    {
     "name": "stdout",
     "output_type": "stream",
     "text": [
      "Processing..............................................................."
     ]
    }
   ],
   "source": [
    "reload(log_reg)\n",
    "notefile = '../mimicdata/notes_' + str(Y) + '_train_ind.csv'\n",
    "X_tr = log_reg.construct_csr_matrix(notefile)"
   ]
  },
  {
   "cell_type": "code",
   "execution_count": 4,
   "metadata": {
    "collapsed": false
   },
   "outputs": [
    {
     "data": {
      "text/plain": [
       "(15492, 40000)"
      ]
     },
     "execution_count": 4,
     "metadata": {},
     "output_type": "execute_result"
    }
   ],
   "source": [
    "X_tr.shape"
   ]
  },
  {
   "cell_type": "code",
   "execution_count": 6,
   "metadata": {
    "collapsed": false
   },
   "outputs": [],
   "source": [
    "reload(log_reg)\n",
    "labelfile = '../mimicdata/labels_10_train.csv'\n",
    "yy_tr = log_reg.construct_label_lists(labelfile, Y, X_tr.shape[0])"
   ]
  },
  {
   "cell_type": "code",
   "execution_count": 7,
   "metadata": {
    "collapsed": false
   },
   "outputs": [
    {
     "data": {
      "text/plain": [
       "array([[1, 1, 0, ..., 0, 0, 0],\n",
       "       [1, 1, 1, ..., 0, 0, 0],\n",
       "       [0, 0, 1, ..., 0, 0, 0],\n",
       "       ..., \n",
       "       [0, 0, 1, ..., 0, 0, 0],\n",
       "       [0, 0, 1, ..., 1, 0, 0],\n",
       "       [0, 0, 1, ..., 0, 0, 0]])"
      ]
     },
     "execution_count": 7,
     "metadata": {},
     "output_type": "execute_result"
    }
   ],
   "source": [
    "yy_tr"
   ]
  },
  {
   "cell_type": "code",
   "execution_count": 8,
   "metadata": {
    "collapsed": false
   },
   "outputs": [
    {
     "name": "stdout",
     "output_type": "stream",
     "text": [
      "Processing................................."
     ]
    }
   ],
   "source": [
    "devfile = '../mimicdata/notes_' + str(Y) + '_dev_ind.csv'\n",
    "X_dv = log_reg.construct_csr_matrix(devfile)"
   ]
  },
  {
   "cell_type": "code",
   "execution_count": 10,
   "metadata": {
    "collapsed": false
   },
   "outputs": [
    {
     "data": {
      "text/plain": [
       "(7746, 40000)"
      ]
     },
     "execution_count": 10,
     "metadata": {},
     "output_type": "execute_result"
    }
   ],
   "source": [
    "X_dv.shape"
   ]
  },
  {
   "cell_type": "markdown",
   "metadata": {},
   "source": [
    "Still have to de-dupe label set for some strange reason. Maybe I'll just re-export from SQL after doing a DISTINCT\n",
    "\n",
    "^^ actually, my construct_label_lists takes care of this"
   ]
  },
  {
   "cell_type": "code",
   "execution_count": 11,
   "metadata": {
    "collapsed": false
   },
   "outputs": [],
   "source": [
    "labelfile_dev = '../mimicdata/labels_10_dev.csv'\n",
    "yy_dev = log_reg.construct_label_lists(labelfile_dev, Y, X_dv.shape[0])"
   ]
  },
  {
   "cell_type": "code",
   "execution_count": 16,
   "metadata": {
    "collapsed": true
   },
   "outputs": [],
   "source": [
    "import warnings\n",
    "warnings.filterwarnings(\"ignore\")"
   ]
  },
  {
   "cell_type": "markdown",
   "metadata": {},
   "source": [
    "## LogReg"
   ]
  },
  {
   "cell_type": "code",
   "execution_count": 28,
   "metadata": {
    "collapsed": false
   },
   "outputs": [
    {
     "name": "stdout",
     "output_type": "stream",
     "text": [
      "C = 0.01, iters = 3: \n",
      "acc,precision,recall,f1\n",
      "0.212631814065 0.505043770671 0.227132795626 0.284060308828\n",
      "C = 0.1, iters = 3: \n",
      "acc,precision,recall,f1\n",
      "0.212949182169 0.507765605597 0.22512356608 0.283318183667\n",
      "C = 1.0, iters = 3: \n",
      "acc,precision,recall,f1\n",
      "0.224853175628 0.529577631466 0.241988952824 0.299486361531\n",
      "C = 10.0, iters = 3: \n",
      "acc,precision,recall,f1\n",
      "0.230908784462 0.543378610158 0.247985340104 0.307215423143\n",
      "C = 100.0, iters = 3: \n",
      "acc,precision,recall,f1\n",
      "0.225062756405 0.534480776561 0.235581651974 0.299071554145\n",
      "C = 1000.0, iters = 3: \n",
      "acc,precision,recall,f1\n",
      "0.221028108722 0.525535760392 0.235174273255 0.294091905169\n",
      "C = 0.01, iters = 5: \n",
      "acc,precision,recall,f1\n",
      "0.225129867336 0.531988553232 0.238978797044 0.299352091664\n",
      "C = 0.1, iters = 5: \n",
      "acc,precision,recall,f1\n",
      "0.224048715364 0.531778818766 0.235495278669 0.297321999801\n",
      "C = 1.0, iters = 5: \n",
      "acc,precision,recall,f1\n",
      "0.224984938463 0.533249214136 0.23764907848 0.298884993424\n",
      "C = 10.0, iters = 5: \n",
      "acc,precision,recall,f1\n",
      "0.212307017652 0.504681371645 0.222215152521 0.281758036696\n",
      "C = 100.0, iters = 5: \n",
      "acc,precision,recall,f1\n",
      "0.223550864963 0.528784697888 0.235054190796 0.29663734077\n",
      "C = 1000.0, iters = 5: \n",
      "acc,precision,recall,f1\n",
      "0.229064412149 0.541392587675 0.241781062627 0.304132152525\n",
      "C = 0.01, iters = 7: \n",
      "acc,precision,recall,f1\n",
      "0.219101973779 0.520923958705 0.229949866598 0.290663536481\n",
      "C = 0.1, iters = 7: \n",
      "acc,precision,recall,f1\n",
      "0.220849060857 0.525248464133 0.232461762138 0.293311631422\n",
      "C = 1.0, iters = 7: \n",
      "acc,precision,recall,f1\n",
      "0.219048899791 0.521014993914 0.229383675753 0.290431361965\n",
      "C = 10.0, iters = 7: \n",
      "acc,precision,recall,f1\n",
      "0.216774966291 0.517309958238 0.227487612654 0.287948625807\n",
      "C = 100.0, iters = 7: \n",
      "acc,precision,recall,f1\n",
      "0.220775187603 0.525008196755 0.232332816938 0.293053328317\n",
      "C = 1000.0, iters = 7: \n",
      "acc,precision,recall,f1\n",
      "0.212231197669 0.507875749491 0.221329595613 0.281682488267\n",
      "C = 0.01, iters = 10: \n",
      "acc,precision,recall,f1\n",
      "0.216126090681 0.515090277009 0.227768710118 0.28717075305\n",
      "C = 0.1, iters = 10: \n",
      "acc,precision,recall,f1\n",
      "0.215645094857 0.513959790819 0.226943706737 0.286318878069\n",
      "C = 1.0, iters = 10: \n",
      "acc,precision,recall,f1\n",
      "0.215912975053 0.51455933221 0.227474549076 0.286799720921\n",
      "C = 10.0, iters = 10: \n",
      "acc,precision,recall,f1\n",
      "0.214115734081 0.510841950172 0.225596467608 0.284521361961\n",
      "C = 100.0, iters = 10: \n",
      "acc,precision,recall,f1\n",
      "0.216912364395 0.515527573883 0.228752013328 0.287972886482\n",
      "C = 1000.0, iters = 10: \n",
      "acc,precision,recall,f1\n",
      "0.213590065943 0.5086739085 0.225322593535 0.283774634007\n"
     ]
    }
   ],
   "source": [
    "#optimize hyperparams of LR\n",
    "reload(evaluation)\n",
    "iters = [3, 5, 7, 10]\n",
    "Cs = [1e-2, 1e-1, 1e0, 1e1, 1e2, 1e3]\n",
    "clfs = []\n",
    "for mx_iter in iters:\n",
    "    for C in Cs:\n",
    "        print(\"C = \" + str(C) + \", iters = \" + str(mx_iter) + \": \")\n",
    "        reg = OneVsRestClassifier(LogisticRegression(C=C,solver='sag', max_iter=mx_iter))\n",
    "        reg.fit(X_tr, yy_tr)\n",
    "        yhat = reg.predict(X_dv)\n",
    "        acc,precision,recall,f1 = evaluation.all_metrics(yhat, yy_dev)\n",
    "        print(\"acc,precision,recall,f1\")\n",
    "        print(acc,precision,recall,f1)\n",
    "        clfs.append(reg)"
   ]
  },
  {
   "cell_type": "markdown",
   "metadata": {},
   "source": [
    "## SVM"
   ]
  },
  {
   "cell_type": "code",
   "execution_count": 32,
   "metadata": {
    "collapsed": false
   },
   "outputs": [
    {
     "name": "stdout",
     "output_type": "stream",
     "text": [
      "C = 0.01, iters = 3: \n",
      "acc,precision,recall,f1\n",
      "0.20753594277 0.244468471182 0.609138562043 0.311823809752\n",
      "C = 0.1, iters = 3: \n",
      "acc,precision,recall,f1\n",
      "0.20753594277 0.244468471182 0.609138562043 0.311823809752\n",
      "C = 1.0, iters = 3: \n",
      "acc,precision,recall,f1\n",
      "0.20753594277 0.244468471182 0.609138562043 0.311823809752\n",
      "C = 10.0, iters = 3: \n",
      "acc,precision,recall,f1\n",
      "0.206748285854 0.25461677097 0.589105693056 0.310577218286\n",
      "C = 100.0, iters = 3: \n",
      "acc,precision,recall,f1\n",
      "0.0880359140816 0.112800923364 0.242436137033 0.13221510305\n",
      "C = 1000.0, iters = 3: \n",
      "acc,precision,recall,f1\n",
      "0.122095172521 0.189635203423 0.24662826487 0.181343287494\n",
      "C = 0.01, iters = 5: \n",
      "acc,precision,recall,f1\n",
      "0.206559658031 0.253922864438 0.569262066648 0.308291373023\n",
      "C = 0.1, iters = 5: \n",
      "acc,precision,recall,f1\n",
      "0.206559658031 0.253922864438 0.569262066648 0.308291373023\n",
      "C = 1.0, iters = 5: \n",
      "acc,precision,recall,f1\n",
      "0.206559658031 0.253922864438 0.569262066648 0.308291373023\n",
      "C = 10.0, iters = 5: \n",
      "acc,precision,recall,f1\n",
      "0.203432544806 0.255517594334 0.556169543728 0.303019509376\n",
      "C = 100.0, iters = 5: \n",
      "acc,precision,recall,f1\n",
      "0.0814489506105 0.10635632728 0.218482913864 0.121590386818\n",
      "C = 1000.0, iters = 5: \n",
      "acc,precision,recall,f1\n",
      "0.0773449378891 0.129652887922 0.146452137099 0.115891256898\n",
      "C = 0.01, iters = 7: \n",
      "acc,precision,recall,f1\n",
      "0.202088225771 0.238529922254 0.579516668101 0.302144097027\n",
      "C = 0.1, iters = 7: \n",
      "acc,precision,recall,f1\n",
      "0.202088225771 0.238529922254 0.579516668101 0.302144097027\n",
      "C = 1.0, iters = 7: \n",
      "acc,precision,recall,f1\n",
      "0.202088225771 0.238529922254 0.579516668101 0.302144097027\n",
      "C = 10.0, iters = 7: \n",
      "acc,precision,recall,f1\n",
      "0.198906296747 0.241338335403 0.563632893987 0.296488036309\n",
      "C = 100.0, iters = 7: \n",
      "acc,precision,recall,f1\n",
      "0.073995026619 0.105248587084 0.183491120865 0.108702735081\n",
      "C = 1000.0, iters = 7: \n",
      "acc,precision,recall,f1\n",
      "0.106496799167 0.192524713216 0.218497104496 0.155091910056\n",
      "C = 0.01, iters = 10: \n",
      "acc,precision,recall,f1\n",
      "0.194446186255 0.240455083832 0.537177457695 0.290534737858\n",
      "C = 0.1, iters = 10: \n"
     ]
    },
    {
     "ename": "KeyboardInterrupt",
     "evalue": "",
     "output_type": "error",
     "traceback": [
      "\u001b[0;31m---------------------------------------------------------------------------\u001b[0m",
      "\u001b[0;31mKeyboardInterrupt\u001b[0m                         Traceback (most recent call last)",
      "\u001b[0;32m<ipython-input-32-fbe84839f446>\u001b[0m in \u001b[0;36m<module>\u001b[0;34m()\u001b[0m\n\u001b[1;32m      8\u001b[0m         \u001b[0msvm\u001b[0m \u001b[1;33m=\u001b[0m \u001b[0mOneVsRestClassifier\u001b[0m\u001b[1;33m(\u001b[0m\u001b[0mSVC\u001b[0m\u001b[1;33m(\u001b[0m\u001b[0mC\u001b[0m\u001b[1;33m=\u001b[0m\u001b[0mC\u001b[0m\u001b[1;33m,\u001b[0m \u001b[0mmax_iter\u001b[0m\u001b[1;33m=\u001b[0m\u001b[0mmx_iter\u001b[0m\u001b[1;33m)\u001b[0m\u001b[1;33m)\u001b[0m\u001b[1;33m\u001b[0m\u001b[0m\n\u001b[1;32m      9\u001b[0m         \u001b[0msvm\u001b[0m\u001b[1;33m.\u001b[0m\u001b[0mfit\u001b[0m\u001b[1;33m(\u001b[0m\u001b[0mX_tr\u001b[0m\u001b[1;33m,\u001b[0m \u001b[0myy_tr\u001b[0m\u001b[1;33m)\u001b[0m\u001b[1;33m\u001b[0m\u001b[0m\n\u001b[0;32m---> 10\u001b[0;31m         \u001b[0myhat\u001b[0m \u001b[1;33m=\u001b[0m \u001b[0msvm\u001b[0m\u001b[1;33m.\u001b[0m\u001b[0mpredict\u001b[0m\u001b[1;33m(\u001b[0m\u001b[0mX_dv\u001b[0m\u001b[1;33m)\u001b[0m\u001b[1;33m\u001b[0m\u001b[0m\n\u001b[0m\u001b[1;32m     11\u001b[0m         \u001b[0macc\u001b[0m\u001b[1;33m,\u001b[0m\u001b[0mprecision\u001b[0m\u001b[1;33m,\u001b[0m\u001b[0mrecall\u001b[0m\u001b[1;33m,\u001b[0m\u001b[0mf1\u001b[0m \u001b[1;33m=\u001b[0m \u001b[0mevaluation\u001b[0m\u001b[1;33m.\u001b[0m\u001b[0mall_metrics\u001b[0m\u001b[1;33m(\u001b[0m\u001b[0myhat\u001b[0m\u001b[1;33m,\u001b[0m \u001b[0myy_dev\u001b[0m\u001b[1;33m)\u001b[0m\u001b[1;33m\u001b[0m\u001b[0m\n\u001b[1;32m     12\u001b[0m         \u001b[0mprint\u001b[0m\u001b[1;33m(\u001b[0m\u001b[1;34m\"acc,precision,recall,f1\"\u001b[0m\u001b[1;33m)\u001b[0m\u001b[1;33m\u001b[0m\u001b[0m\n",
      "\u001b[0;32mC:\\Program Files\\Anaconda3\\lib\\site-packages\\sklearn\\multiclass.py\u001b[0m in \u001b[0;36mpredict\u001b[0;34m(self, X)\u001b[0m\n\u001b[1;32m    323\u001b[0m             \u001b[0mindptr\u001b[0m \u001b[1;33m=\u001b[0m \u001b[0marray\u001b[0m\u001b[1;33m.\u001b[0m\u001b[0marray\u001b[0m\u001b[1;33m(\u001b[0m\u001b[1;34m'i'\u001b[0m\u001b[1;33m,\u001b[0m \u001b[1;33m[\u001b[0m\u001b[1;36m0\u001b[0m\u001b[1;33m]\u001b[0m\u001b[1;33m)\u001b[0m\u001b[1;33m\u001b[0m\u001b[0m\n\u001b[1;32m    324\u001b[0m             \u001b[1;32mfor\u001b[0m \u001b[0me\u001b[0m \u001b[1;32min\u001b[0m \u001b[0mself\u001b[0m\u001b[1;33m.\u001b[0m\u001b[0mestimators_\u001b[0m\u001b[1;33m:\u001b[0m\u001b[1;33m\u001b[0m\u001b[0m\n\u001b[0;32m--> 325\u001b[0;31m                 \u001b[0mindices\u001b[0m\u001b[1;33m.\u001b[0m\u001b[0mextend\u001b[0m\u001b[1;33m(\u001b[0m\u001b[0mnp\u001b[0m\u001b[1;33m.\u001b[0m\u001b[0mwhere\u001b[0m\u001b[1;33m(\u001b[0m\u001b[0m_predict_binary\u001b[0m\u001b[1;33m(\u001b[0m\u001b[0me\u001b[0m\u001b[1;33m,\u001b[0m \u001b[0mX\u001b[0m\u001b[1;33m)\u001b[0m \u001b[1;33m>\u001b[0m \u001b[0mthresh\u001b[0m\u001b[1;33m)\u001b[0m\u001b[1;33m[\u001b[0m\u001b[1;36m0\u001b[0m\u001b[1;33m]\u001b[0m\u001b[1;33m)\u001b[0m\u001b[1;33m\u001b[0m\u001b[0m\n\u001b[0m\u001b[1;32m    326\u001b[0m                 \u001b[0mindptr\u001b[0m\u001b[1;33m.\u001b[0m\u001b[0mappend\u001b[0m\u001b[1;33m(\u001b[0m\u001b[0mlen\u001b[0m\u001b[1;33m(\u001b[0m\u001b[0mindices\u001b[0m\u001b[1;33m)\u001b[0m\u001b[1;33m)\u001b[0m\u001b[1;33m\u001b[0m\u001b[0m\n\u001b[1;32m    327\u001b[0m             \u001b[0mdata\u001b[0m \u001b[1;33m=\u001b[0m \u001b[0mnp\u001b[0m\u001b[1;33m.\u001b[0m\u001b[0mones\u001b[0m\u001b[1;33m(\u001b[0m\u001b[0mlen\u001b[0m\u001b[1;33m(\u001b[0m\u001b[0mindices\u001b[0m\u001b[1;33m)\u001b[0m\u001b[1;33m,\u001b[0m \u001b[0mdtype\u001b[0m\u001b[1;33m=\u001b[0m\u001b[0mint\u001b[0m\u001b[1;33m)\u001b[0m\u001b[1;33m\u001b[0m\u001b[0m\n",
      "\u001b[0;32mC:\\Program Files\\Anaconda3\\lib\\site-packages\\sklearn\\multiclass.py\u001b[0m in \u001b[0;36m_predict_binary\u001b[0;34m(estimator, X)\u001b[0m\n\u001b[1;32m     81\u001b[0m         \u001b[1;32mreturn\u001b[0m \u001b[0mestimator\u001b[0m\u001b[1;33m.\u001b[0m\u001b[0mpredict\u001b[0m\u001b[1;33m(\u001b[0m\u001b[0mX\u001b[0m\u001b[1;33m)\u001b[0m\u001b[1;33m\u001b[0m\u001b[0m\n\u001b[1;32m     82\u001b[0m     \u001b[1;32mtry\u001b[0m\u001b[1;33m:\u001b[0m\u001b[1;33m\u001b[0m\u001b[0m\n\u001b[0;32m---> 83\u001b[0;31m         \u001b[0mscore\u001b[0m \u001b[1;33m=\u001b[0m \u001b[0mnp\u001b[0m\u001b[1;33m.\u001b[0m\u001b[0mravel\u001b[0m\u001b[1;33m(\u001b[0m\u001b[0mestimator\u001b[0m\u001b[1;33m.\u001b[0m\u001b[0mdecision_function\u001b[0m\u001b[1;33m(\u001b[0m\u001b[0mX\u001b[0m\u001b[1;33m)\u001b[0m\u001b[1;33m)\u001b[0m\u001b[1;33m\u001b[0m\u001b[0m\n\u001b[0m\u001b[1;32m     84\u001b[0m     \u001b[1;32mexcept\u001b[0m \u001b[1;33m(\u001b[0m\u001b[0mAttributeError\u001b[0m\u001b[1;33m,\u001b[0m \u001b[0mNotImplementedError\u001b[0m\u001b[1;33m)\u001b[0m\u001b[1;33m:\u001b[0m\u001b[1;33m\u001b[0m\u001b[0m\n\u001b[1;32m     85\u001b[0m         \u001b[1;31m# probabilities of the positive class\u001b[0m\u001b[1;33m\u001b[0m\u001b[1;33m\u001b[0m\u001b[0m\n",
      "\u001b[0;32mC:\\Program Files\\Anaconda3\\lib\\site-packages\\sklearn\\svm\\base.py\u001b[0m in \u001b[0;36mdecision_function\u001b[0;34m(self, X)\u001b[0m\n\u001b[1;32m    540\u001b[0m             n_classes)\n\u001b[1;32m    541\u001b[0m         \"\"\"\n\u001b[0;32m--> 542\u001b[0;31m         \u001b[0mdec\u001b[0m \u001b[1;33m=\u001b[0m \u001b[0mself\u001b[0m\u001b[1;33m.\u001b[0m\u001b[0m_decision_function\u001b[0m\u001b[1;33m(\u001b[0m\u001b[0mX\u001b[0m\u001b[1;33m)\u001b[0m\u001b[1;33m\u001b[0m\u001b[0m\n\u001b[0m\u001b[1;32m    543\u001b[0m         \u001b[1;32mif\u001b[0m \u001b[0mself\u001b[0m\u001b[1;33m.\u001b[0m\u001b[0mdecision_function_shape\u001b[0m \u001b[1;32mis\u001b[0m \u001b[1;32mNone\u001b[0m \u001b[1;32mand\u001b[0m \u001b[0mlen\u001b[0m\u001b[1;33m(\u001b[0m\u001b[0mself\u001b[0m\u001b[1;33m.\u001b[0m\u001b[0mclasses_\u001b[0m\u001b[1;33m)\u001b[0m \u001b[1;33m>\u001b[0m \u001b[1;36m2\u001b[0m\u001b[1;33m:\u001b[0m\u001b[1;33m\u001b[0m\u001b[0m\n\u001b[1;32m    544\u001b[0m             warnings.warn(\"The decision_function_shape default value will \"\n",
      "\u001b[0;32mC:\\Program Files\\Anaconda3\\lib\\site-packages\\sklearn\\svm\\base.py\u001b[0m in \u001b[0;36m_decision_function\u001b[0;34m(self, X)\u001b[0m\n\u001b[1;32m    397\u001b[0m         \u001b[1;31m# NOTE: _validate_for_predict contains check for is_fitted\u001b[0m\u001b[1;33m\u001b[0m\u001b[1;33m\u001b[0m\u001b[0m\n\u001b[1;32m    398\u001b[0m         \u001b[1;31m# hence must be placed before any other attributes are used.\u001b[0m\u001b[1;33m\u001b[0m\u001b[1;33m\u001b[0m\u001b[0m\n\u001b[0;32m--> 399\u001b[0;31m         \u001b[0mX\u001b[0m \u001b[1;33m=\u001b[0m \u001b[0mself\u001b[0m\u001b[1;33m.\u001b[0m\u001b[0m_validate_for_predict\u001b[0m\u001b[1;33m(\u001b[0m\u001b[0mX\u001b[0m\u001b[1;33m)\u001b[0m\u001b[1;33m\u001b[0m\u001b[0m\n\u001b[0m\u001b[1;32m    400\u001b[0m         \u001b[0mX\u001b[0m \u001b[1;33m=\u001b[0m \u001b[0mself\u001b[0m\u001b[1;33m.\u001b[0m\u001b[0m_compute_kernel\u001b[0m\u001b[1;33m(\u001b[0m\u001b[0mX\u001b[0m\u001b[1;33m)\u001b[0m\u001b[1;33m\u001b[0m\u001b[0m\n\u001b[1;32m    401\u001b[0m \u001b[1;33m\u001b[0m\u001b[0m\n",
      "\u001b[0;32mC:\\Program Files\\Anaconda3\\lib\\site-packages\\sklearn\\svm\\base.py\u001b[0m in \u001b[0;36m_validate_for_predict\u001b[0;34m(self, X)\u001b[0m\n\u001b[1;32m    452\u001b[0m         \u001b[0mcheck_is_fitted\u001b[0m\u001b[1;33m(\u001b[0m\u001b[0mself\u001b[0m\u001b[1;33m,\u001b[0m \u001b[1;34m'support_'\u001b[0m\u001b[1;33m)\u001b[0m\u001b[1;33m\u001b[0m\u001b[0m\n\u001b[1;32m    453\u001b[0m \u001b[1;33m\u001b[0m\u001b[0m\n\u001b[0;32m--> 454\u001b[0;31m         \u001b[0mX\u001b[0m \u001b[1;33m=\u001b[0m \u001b[0mcheck_array\u001b[0m\u001b[1;33m(\u001b[0m\u001b[0mX\u001b[0m\u001b[1;33m,\u001b[0m \u001b[0maccept_sparse\u001b[0m\u001b[1;33m=\u001b[0m\u001b[1;34m'csr'\u001b[0m\u001b[1;33m,\u001b[0m \u001b[0mdtype\u001b[0m\u001b[1;33m=\u001b[0m\u001b[0mnp\u001b[0m\u001b[1;33m.\u001b[0m\u001b[0mfloat64\u001b[0m\u001b[1;33m,\u001b[0m \u001b[0morder\u001b[0m\u001b[1;33m=\u001b[0m\u001b[1;34m\"C\"\u001b[0m\u001b[1;33m)\u001b[0m\u001b[1;33m\u001b[0m\u001b[0m\n\u001b[0m\u001b[1;32m    455\u001b[0m         \u001b[1;32mif\u001b[0m \u001b[0mself\u001b[0m\u001b[1;33m.\u001b[0m\u001b[0m_sparse\u001b[0m \u001b[1;32mand\u001b[0m \u001b[1;32mnot\u001b[0m \u001b[0msp\u001b[0m\u001b[1;33m.\u001b[0m\u001b[0misspmatrix\u001b[0m\u001b[1;33m(\u001b[0m\u001b[0mX\u001b[0m\u001b[1;33m)\u001b[0m\u001b[1;33m:\u001b[0m\u001b[1;33m\u001b[0m\u001b[0m\n\u001b[1;32m    456\u001b[0m             \u001b[0mX\u001b[0m \u001b[1;33m=\u001b[0m \u001b[0msp\u001b[0m\u001b[1;33m.\u001b[0m\u001b[0mcsr_matrix\u001b[0m\u001b[1;33m(\u001b[0m\u001b[0mX\u001b[0m\u001b[1;33m)\u001b[0m\u001b[1;33m\u001b[0m\u001b[0m\n",
      "\u001b[0;32mC:\\Program Files\\Anaconda3\\lib\\site-packages\\sklearn\\utils\\validation.py\u001b[0m in \u001b[0;36mcheck_array\u001b[0;34m(array, accept_sparse, dtype, order, copy, force_all_finite, ensure_2d, allow_nd, ensure_min_samples, ensure_min_features, warn_on_dtype, estimator)\u001b[0m\n\u001b[1;32m    369\u001b[0m     \u001b[1;32mif\u001b[0m \u001b[0msp\u001b[0m\u001b[1;33m.\u001b[0m\u001b[0missparse\u001b[0m\u001b[1;33m(\u001b[0m\u001b[0marray\u001b[0m\u001b[1;33m)\u001b[0m\u001b[1;33m:\u001b[0m\u001b[1;33m\u001b[0m\u001b[0m\n\u001b[1;32m    370\u001b[0m         array = _ensure_sparse_format(array, accept_sparse, dtype, copy,\n\u001b[0;32m--> 371\u001b[0;31m                                       force_all_finite)\n\u001b[0m\u001b[1;32m    372\u001b[0m     \u001b[1;32melse\u001b[0m\u001b[1;33m:\u001b[0m\u001b[1;33m\u001b[0m\u001b[0m\n\u001b[1;32m    373\u001b[0m         \u001b[0marray\u001b[0m \u001b[1;33m=\u001b[0m \u001b[0mnp\u001b[0m\u001b[1;33m.\u001b[0m\u001b[0marray\u001b[0m\u001b[1;33m(\u001b[0m\u001b[0marray\u001b[0m\u001b[1;33m,\u001b[0m \u001b[0mdtype\u001b[0m\u001b[1;33m=\u001b[0m\u001b[0mdtype\u001b[0m\u001b[1;33m,\u001b[0m \u001b[0morder\u001b[0m\u001b[1;33m=\u001b[0m\u001b[0morder\u001b[0m\u001b[1;33m,\u001b[0m \u001b[0mcopy\u001b[0m\u001b[1;33m=\u001b[0m\u001b[0mcopy\u001b[0m\u001b[1;33m)\u001b[0m\u001b[1;33m\u001b[0m\u001b[0m\n",
      "\u001b[0;32mC:\\Program Files\\Anaconda3\\lib\\site-packages\\sklearn\\utils\\validation.py\u001b[0m in \u001b[0;36m_ensure_sparse_format\u001b[0;34m(spmatrix, accept_sparse, dtype, copy, force_all_finite)\u001b[0m\n\u001b[1;32m    251\u001b[0m     \u001b[1;32mif\u001b[0m \u001b[0mdtype\u001b[0m \u001b[1;33m!=\u001b[0m \u001b[0mspmatrix\u001b[0m\u001b[1;33m.\u001b[0m\u001b[0mdtype\u001b[0m\u001b[1;33m:\u001b[0m\u001b[1;33m\u001b[0m\u001b[0m\n\u001b[1;32m    252\u001b[0m         \u001b[1;31m# convert dtype\u001b[0m\u001b[1;33m\u001b[0m\u001b[1;33m\u001b[0m\u001b[0m\n\u001b[0;32m--> 253\u001b[0;31m         \u001b[0mspmatrix\u001b[0m \u001b[1;33m=\u001b[0m \u001b[0mspmatrix\u001b[0m\u001b[1;33m.\u001b[0m\u001b[0mastype\u001b[0m\u001b[1;33m(\u001b[0m\u001b[0mdtype\u001b[0m\u001b[1;33m)\u001b[0m\u001b[1;33m\u001b[0m\u001b[0m\n\u001b[0m\u001b[1;32m    254\u001b[0m     \u001b[1;32melif\u001b[0m \u001b[0mcopy\u001b[0m \u001b[1;32mand\u001b[0m \u001b[1;32mnot\u001b[0m \u001b[0mchanged_format\u001b[0m\u001b[1;33m:\u001b[0m\u001b[1;33m\u001b[0m\u001b[0m\n\u001b[1;32m    255\u001b[0m         \u001b[1;31m# force copy\u001b[0m\u001b[1;33m\u001b[0m\u001b[1;33m\u001b[0m\u001b[0m\n",
      "\u001b[0;32mC:\\Program Files\\Anaconda3\\lib\\site-packages\\scipy\\sparse\\data.py\u001b[0m in \u001b[0;36mastype\u001b[0;34m(self, t)\u001b[0m\n\u001b[1;32m     63\u001b[0m \u001b[1;33m\u001b[0m\u001b[0m\n\u001b[1;32m     64\u001b[0m     \u001b[1;32mdef\u001b[0m \u001b[0mastype\u001b[0m\u001b[1;33m(\u001b[0m\u001b[0mself\u001b[0m\u001b[1;33m,\u001b[0m \u001b[0mt\u001b[0m\u001b[1;33m)\u001b[0m\u001b[1;33m:\u001b[0m\u001b[1;33m\u001b[0m\u001b[0m\n\u001b[0;32m---> 65\u001b[0;31m         \u001b[1;32mreturn\u001b[0m \u001b[0mself\u001b[0m\u001b[1;33m.\u001b[0m\u001b[0m_with_data\u001b[0m\u001b[1;33m(\u001b[0m\u001b[0mself\u001b[0m\u001b[1;33m.\u001b[0m\u001b[0m_deduped_data\u001b[0m\u001b[1;33m(\u001b[0m\u001b[1;33m)\u001b[0m\u001b[1;33m.\u001b[0m\u001b[0mastype\u001b[0m\u001b[1;33m(\u001b[0m\u001b[0mt\u001b[0m\u001b[1;33m)\u001b[0m\u001b[1;33m)\u001b[0m\u001b[1;33m\u001b[0m\u001b[0m\n\u001b[0m\u001b[1;32m     66\u001b[0m \u001b[1;33m\u001b[0m\u001b[0m\n\u001b[1;32m     67\u001b[0m     \u001b[1;32mdef\u001b[0m \u001b[0mconj\u001b[0m\u001b[1;33m(\u001b[0m\u001b[0mself\u001b[0m\u001b[1;33m)\u001b[0m\u001b[1;33m:\u001b[0m\u001b[1;33m\u001b[0m\u001b[0m\n",
      "\u001b[0;31mKeyboardInterrupt\u001b[0m: "
     ]
    }
   ],
   "source": [
    "from sklearn.svm import SVC\n",
    "iters = [3, 5, 7, 10]\n",
    "Cs = [1e-2, 1e-1, 1e0, 1e1, 1e2, 1e3]\n",
    "svms = []\n",
    "for mx_iter in iters:\n",
    "    for C in Cs:\n",
    "        print(\"C = \" + str(C) + \", iters = \" + str(mx_iter) + \": \")\n",
    "        svm = OneVsRestClassifier(SVC(C=C, max_iter=mx_iter))\n",
    "        svm.fit(X_tr, yy_tr)\n",
    "        yhat = svm.predict(X_dv)\n",
    "        acc,precision,recall,f1 = evaluation.all_metrics(yhat, yy_dev)\n",
    "        print(\"acc,precision,recall,f1\")\n",
    "        print(acc,precision,recall,f1)\n",
    "        svms.append(svm)"
   ]
  },
  {
   "cell_type": "code",
   "execution_count": 18,
   "metadata": {
    "collapsed": false
   },
   "outputs": [
    {
     "data": {
      "text/plain": [
       "[0.18409501678285567,\n",
       " 0.18874257681383941,\n",
       " 0.2101729925122644,\n",
       " 0.24141492383165505,\n",
       " 0.26452362509682414,\n",
       " 0.2747224373870385,\n",
       " 0.3187451587916344,\n",
       " 0.31900335657113349,\n",
       " 0.32726568551510454,\n",
       " 0.55499612703330747]"
      ]
     },
     "execution_count": 18,
     "metadata": {},
     "output_type": "execute_result"
    }
   ],
   "source": [
    "pcts = sorted([np.array(yy_dev[i]).mean() for i in range(Y)])\n",
    "pcts\n",
    "#these are the % of instances containing this label for each of the top 10 labels"
   ]
  },
  {
   "cell_type": "code",
   "execution_count": 20,
   "metadata": {
    "collapsed": false
   },
   "outputs": [
    {
     "data": {
      "text/plain": [
       "[0.77956364575264647,\n",
       " 0.65085205267234703,\n",
       " 0.45339530080041313,\n",
       " 0.63665117479989675,\n",
       " 0.77285050348566997,\n",
       " 0.88187451587916343,\n",
       " 0.81493674154402274,\n",
       " 0.67867286341337463,\n",
       " 0.86586625355021951,\n",
       " 0.78563129357087524]"
      ]
     },
     "execution_count": 20,
     "metadata": {},
     "output_type": "execute_result"
    }
   ],
   "source": [
    "accs = [(yhat_tr == yy[i]).mean() for i in range(Y)]\n",
    "accs"
   ]
  },
  {
   "cell_type": "code",
   "execution_count": 22,
   "metadata": {
    "collapsed": false
   },
   "outputs": [
    {
     "data": {
      "text/plain": [
       "0.73202943454686298"
      ]
     },
     "execution_count": 22,
     "metadata": {},
     "output_type": "execute_result"
    }
   ],
   "source": [
    "1 - np.array(pcts).mean()\n",
    "np.array(accs).mean()"
   ]
  },
  {
   "cell_type": "code",
   "execution_count": 40,
   "metadata": {
    "collapsed": false
   },
   "outputs": [],
   "source": [
    "yhat_tr = svms[0].predict(X_tr)"
   ]
  },
  {
   "cell_type": "code",
   "execution_count": 42,
   "metadata": {
    "collapsed": false
   },
   "outputs": [
    {
     "data": {
      "text/plain": [
       "(0.19150234734568436,\n",
       " 0.21784384874528107,\n",
       " 0.61208296447936339,\n",
       " 0.28794924481589851)"
      ]
     },
     "execution_count": 42,
     "metadata": {},
     "output_type": "execute_result"
    }
   ],
   "source": [
    "evaluation.all_metrics(yhat_tr, yy_tr)"
   ]
  },
  {
   "cell_type": "code",
   "execution_count": 44,
   "metadata": {
    "collapsed": false
   },
   "outputs": [],
   "source": [
    "yhat_tr_lr = clfs[0].predict(X_tr)"
   ]
  },
  {
   "cell_type": "code",
   "execution_count": 46,
   "metadata": {
    "collapsed": false
   },
   "outputs": [
    {
     "data": {
      "text/plain": [
       "(0.23745530207091384,\n",
       " 0.54204274402763963,\n",
       " 0.23924967417899629,\n",
       " 0.30920301834321851)"
      ]
     },
     "execution_count": 46,
     "metadata": {},
     "output_type": "execute_result"
    }
   ],
   "source": [
    "evaluation.all_metrics(yhat_tr_lr, yy_tr)"
   ]
  },
  {
   "cell_type": "code",
   "execution_count": null,
   "metadata": {
    "collapsed": true
   },
   "outputs": [],
   "source": [
    "noreg = OneVsRestClassifier(LogisticRegression(C=np.inf, max_iter=3, solver='sag'))\n",
    "noreg.fit(X_tr, yy_tr)"
   ]
  },
  {
   "cell_type": "code",
   "execution_count": null,
   "metadata": {
    "collapsed": true
   },
   "outputs": [],
   "source": [
    "yhat_tr_noreg = noreg.predict(X_tr)\n",
    "evaluation.all_metrics(yhat_tr_noreg, yy_tr)"
   ]
  }
 ],
 "metadata": {
  "anaconda-cloud": {},
  "kernelspec": {
   "display_name": "Python [conda root]",
   "language": "python",
   "name": "conda-root-py"
  },
  "language_info": {
   "codemirror_mode": {
    "name": "ipython",
    "version": 3
   },
   "file_extension": ".py",
   "mimetype": "text/x-python",
   "name": "python",
   "nbconvert_exporter": "python",
   "pygments_lexer": "ipython3",
   "version": "3.5.2"
  }
 },
 "nbformat": 4,
 "nbformat_minor": 1
}

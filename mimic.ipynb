{
 "cells": [
  {
   "cell_type": "code",
   "execution_count": 1,
   "metadata": {
    "collapsed": false
   },
   "outputs": [
    {
     "name": "stderr",
     "output_type": "stream",
     "text": [
      "Using TensorFlow backend.\n"
     ]
    },
    {
     "name": "stdout",
     "output_type": "stream",
     "text": [
      "Populating the interactive namespace from numpy and matplotlib\n",
      "Populating the interactive namespace from numpy and matplotlib\n"
     ]
    }
   ],
   "source": [
    "import log_reg\n",
    "import convnet\n",
    "from imp import reload\n",
    "\n",
    "from collections import defaultdict\n",
    "import csv\n",
    "\n",
    "import numpy as np\n",
    "import pandas as pd\n",
    "\n",
    "import evaluation\n",
    "from sklearn.multiclass import OneVsRestClassifier\n",
    "from sklearn.linear_model import LogisticRegression\n",
    "\n",
    "%pylab --no-import-all inline\n",
    "import matplotlib.pyplot as plt\n",
    "%pylab inline"
   ]
  },
  {
   "cell_type": "code",
   "execution_count": 2,
   "metadata": {
    "collapsed": true
   },
   "outputs": [],
   "source": [
    "Y = 10\n",
    "vocab_min = 3"
   ]
  },
  {
   "cell_type": "code",
   "execution_count": 3,
   "metadata": {
    "collapsed": false
   },
   "outputs": [],
   "source": [
    "v_dict = defaultdict(str)\n",
    "c_dict = defaultdict(str)\n",
    "with open('../mimicdata/vocab_lookup_' + str(vocab_min) + '.csv', 'r') as vocabfile:\n",
    "    vr = csv.reader(vocabfile)\n",
    "    next(vr)\n",
    "    for row in vr:\n",
    "        v_dict[int(row[0])] = row[1]\n",
    "\n",
    "with open('../mimicdata/label_lookup_' + str(Y) + '.csv', 'r') as labelfile:\n",
    "    lr = csv.reader(labelfile)\n",
    "    next(lr)\n",
    "    for row in lr:\n",
    "        c_dict[int(row[0])] = row[1]"
   ]
  },
  {
   "cell_type": "code",
   "execution_count": 4,
   "metadata": {
    "collapsed": false
   },
   "outputs": [
    {
     "data": {
      "text/plain": [
       "defaultdict(str,\n",
       "            {0: '5849',\n",
       "             1: '4280',\n",
       "             2: '4019',\n",
       "             3: '25000',\n",
       "             4: '41401',\n",
       "             5: '2724',\n",
       "             6: '5990',\n",
       "             7: '42731',\n",
       "             8: '53081',\n",
       "             9: '51881'})"
      ]
     },
     "execution_count": 4,
     "metadata": {},
     "output_type": "execute_result"
    }
   ],
   "source": [
    "c_dict"
   ]
  },
  {
   "cell_type": "code",
   "execution_count": 5,
   "metadata": {
    "collapsed": false
   },
   "outputs": [],
   "source": [
    "def y_to_codes(y_row):\n",
    "    return [c_dict[i] for i in range(Y) if y_row[i] == 1]"
   ]
  },
  {
   "cell_type": "code",
   "execution_count": 6,
   "metadata": {
    "collapsed": true
   },
   "outputs": [],
   "source": [
    "def x_to_bow(x_row):\n",
    "    return {v_dict[i]: x_row[i] for i in range(len(x_row)) if x_row[i] > 0}"
   ]
  },
  {
   "cell_type": "code",
   "execution_count": 7,
   "metadata": {
    "collapsed": true
   },
   "outputs": [],
   "source": [
    "from torch import autograd, nn, optim, multiprocessing, utils"
   ]
  },
  {
   "cell_type": "code",
   "execution_count": 8,
   "metadata": {
    "collapsed": false
   },
   "outputs": [
    {
     "name": "stdout",
     "output_type": "stream",
     "text": [
      "Processing..."
     ]
    }
   ],
   "source": [
    "reload(log_reg)\n",
    "notefile = '../mimicdata/notes_' + str(Y) + '_train_single.csv'\n",
    "X_tr_lr, Y_tr_lr = log_reg.construct_X_Y(notefile, Y)"
   ]
  },
  {
   "cell_type": "code",
   "execution_count": 9,
   "metadata": {
    "collapsed": false
   },
   "outputs": [
    {
     "data": {
      "text/plain": [
       "(20107, 40000)"
      ]
     },
     "execution_count": 9,
     "metadata": {},
     "output_type": "execute_result"
    }
   ],
   "source": [
    "X_tr_lr.shape"
   ]
  },
  {
   "cell_type": "code",
   "execution_count": 10,
   "metadata": {
    "collapsed": false
   },
   "outputs": [
    {
     "data": {
      "text/plain": [
       "(20107, 10)"
      ]
     },
     "execution_count": 10,
     "metadata": {},
     "output_type": "execute_result"
    }
   ],
   "source": [
    "Y_tr_lr.shape"
   ]
  },
  {
   "cell_type": "code",
   "execution_count": 11,
   "metadata": {
    "collapsed": false
   },
   "outputs": [
    {
     "data": {
      "text/plain": [
       "267"
      ]
     },
     "execution_count": 11,
     "metadata": {},
     "output_type": "execute_result"
    }
   ],
   "source": [
    "X_tr_lr[0].toarray().sum()"
   ]
  },
  {
   "cell_type": "code",
   "execution_count": 12,
   "metadata": {
    "collapsed": false
   },
   "outputs": [
    {
     "name": "stdout",
     "output_type": "stream",
     "text": [
      "Processing."
     ]
    }
   ],
   "source": [
    "devfile = '../mimicdata/notes_' + str(Y) + '_dev_single.csv'\n",
    "X_dv_lr, Y_dv_lr = log_reg.construct_X_Y(devfile, Y)"
   ]
  },
  {
   "cell_type": "code",
   "execution_count": 13,
   "metadata": {
    "collapsed": false
   },
   "outputs": [
    {
     "data": {
      "text/plain": [
       "(8971, 40000)"
      ]
     },
     "execution_count": 13,
     "metadata": {},
     "output_type": "execute_result"
    }
   ],
   "source": [
    "X_dv_lr.shape"
   ]
  },
  {
   "cell_type": "code",
   "execution_count": 14,
   "metadata": {
    "collapsed": false
   },
   "outputs": [
    {
     "data": {
      "text/plain": [
       "(8971, 10)"
      ]
     },
     "execution_count": 14,
     "metadata": {},
     "output_type": "execute_result"
    }
   ],
   "source": [
    "Y_dv_lr.shape"
   ]
  },
  {
   "cell_type": "code",
   "execution_count": 15,
   "metadata": {
    "collapsed": false
   },
   "outputs": [
    {
     "data": {
      "text/plain": [
       "array([0, 0, 1, 0, 0, 0, 1, 0, 0, 1])"
      ]
     },
     "execution_count": 15,
     "metadata": {},
     "output_type": "execute_result"
    }
   ],
   "source": [
    "Y_dv_lr[-1]"
   ]
  },
  {
   "cell_type": "code",
   "execution_count": 16,
   "metadata": {
    "collapsed": false
   },
   "outputs": [
    {
     "name": "stdout",
     "output_type": "stream",
     "text": [
      "Processing."
     ]
    }
   ],
   "source": [
    "testfile = '../mimicdata/notes_' + str(Y) + '_test_single.csv'\n",
    "X_te_lr, Y_te_lr = log_reg.construct_X_Y(testfile, Y)"
   ]
  },
  {
   "cell_type": "code",
   "execution_count": 17,
   "metadata": {
    "collapsed": false
   },
   "outputs": [
    {
     "data": {
      "text/plain": [
       "(8537, 40000)"
      ]
     },
     "execution_count": 17,
     "metadata": {},
     "output_type": "execute_result"
    }
   ],
   "source": [
    "X_te_lr.shape"
   ]
  },
  {
   "cell_type": "code",
   "execution_count": 18,
   "metadata": {
    "collapsed": false
   },
   "outputs": [
    {
     "data": {
      "text/plain": [
       "(8537, 10)"
      ]
     },
     "execution_count": 18,
     "metadata": {},
     "output_type": "execute_result"
    }
   ],
   "source": [
    "Y_te_lr.shape"
   ]
  },
  {
   "cell_type": "code",
   "execution_count": 19,
   "metadata": {
    "collapsed": true
   },
   "outputs": [],
   "source": [
    "import warnings\n",
    "warnings.filterwarnings(\"ignore\")"
   ]
  },
  {
   "cell_type": "code",
   "execution_count": 20,
   "metadata": {
    "collapsed": true
   },
   "outputs": [],
   "source": [
    "def expand_dims(x):\n",
    "    return K.expand_dims(x, 1)\n",
    "\n",
    "def expand_dims_output_shape(input_shape):\n",
    "    return (1, input_shape[0], input_shape[2], input_shape[1])"
   ]
  },
  {
   "cell_type": "code",
   "execution_count": 21,
   "metadata": {
    "collapsed": true
   },
   "outputs": [],
   "source": [
    "def plot_metrics(ax, start, end, steps, y):\n",
    "    x = np.linspace(start, end, steps)\n",
    "    if ax.lines:\n",
    "        for line in ax.lines:\n",
    "            line.set_xdata(x)\n",
    "            line.set_ydata(y)\n",
    "    else:\n",
    "        ax.plot(x, y)\n",
    "    fig.canvas.draw()"
   ]
  },
  {
   "cell_type": "markdown",
   "metadata": {},
   "source": [
    "## LogReg"
   ]
  },
  {
   "cell_type": "code",
   "execution_count": null,
   "metadata": {
    "collapsed": false
   },
   "outputs": [
    {
     "name": "stdout",
     "output_type": "stream",
     "text": [
      "***** C = 0.01 *****\n",
      "5 iterations: \n",
      "acc,precision,recall,f1\n",
      "0.280577628443 0.481968618458 0.335075100898 0.36264976926\n",
      "10 iterations: \n",
      "acc,precision,recall,f1\n",
      "0.287814616056 0.489539309203 0.343114232279 0.370799512852\n",
      "15 iterations: \n",
      "acc,precision,recall,f1\n",
      "0.290268378001 0.491914157258 0.347602636715 0.374303833745\n",
      "20 iterations: \n"
     ]
    }
   ],
   "source": [
    "#grid search hyperparams of LR\n",
    "reload(evaluation)\n",
    "iter_step = 5\n",
    "num_steps = 5\n",
    "Cs = [1e-2, 1e-1, 1e0, 1e1, 1e2, 1e3]\n",
    "accs = {C:[] for C in Cs}\n",
    "precisions = {C:[] for C in Cs}\n",
    "recalls = {C:[] for C in Cs}\n",
    "f1s = {C:[] for C in Cs}\n",
    "\n",
    "fig,ax = plt.subplots(1,1)\n",
    "ax.set_xlabel(\"iterations\")\n",
    "ax.set_ylabel(\"accuracy\")\n",
    "ax.set_xlim(0,iter_step*num_steps)\n",
    "\n",
    "for C in Cs:\n",
    "    print(\"***** C = \" + str(C) + \" *****\")\n",
    "    for i in range(num_steps):\n",
    "        print(str((i+1)*iter_step) + \" iterations: \")\n",
    "        reg = OneVsRestClassifier(LogisticRegression(C=C,max_iter=iter_step*(i+1)))\n",
    "        reg.fit(X_tr_lr, Y_tr_lr)\n",
    "        yhat = reg.predict(X_dv_lr)\n",
    "        acc,precision,recall,f1 = evaluation.all_metrics(yhat, Y_dv_lr)\n",
    "        \n",
    "        print(\"acc,precision,recall,f1\")\n",
    "        print(acc,precision,recall,f1)\n",
    "        \n",
    "        accs[C].append(acc)\n",
    "        precisions[C].append(precision)\n",
    "        recalls[C].append(recall)\n",
    "        f1s[C].append(f1)\n",
    "        \n",
    "        plot_metrics(ax, iter_step, (i+1)*iter_step, i+1, accs[C])"
   ]
  },
  {
   "cell_type": "code",
   "execution_count": null,
   "metadata": {
    "collapsed": false
   },
   "outputs": [],
   "source": [
    "its = np.linspace(5,50,10)\n",
    "\n",
    "fig,ax = plt.subplots(3,1)\n",
    "fig.set_size_inches(5,12)\n",
    "ax[0].set_xlabel(\"iterations\")\n",
    "ax[1].set_xlabel(\"recall\")\n",
    "ax[2].set_xlabel(\"iterations\")\n",
    "ax[0].set_ylabel(\"accuracy\")\n",
    "ax[1].set_ylabel(\"precision\")\n",
    "ax[2].set_ylabel(\"F1-score\")\n",
    "ax[0].set_xlim(0,iter_step*num_steps)\n",
    "# ax[1].set_xlim(0,1)\n",
    "ax[2].set_xlim(0,iter_step*num_steps)\n",
    "\n",
    "for C in Cs:\n",
    "    ax[0].plot(its,accs[C], '*', label=\"C=\" + str(C))\n",
    "    ax[1].plot(recalls[C], precisions[C], '*', label=\"C=\" + str(C))\n",
    "    ax[2].plot(its, f1s[C], '*', label=\"C=\" + str(C))\n",
    "ax[0].legend(loc=4)"
   ]
  },
  {
   "cell_type": "code",
   "execution_count": 25,
   "metadata": {
    "collapsed": false
   },
   "outputs": [],
   "source": [
    "# mean_accs = [np.array(accs[C]).mean() for C in Cs]\n",
    "# mean_accs"
   ]
  },
  {
   "cell_type": "code",
   "execution_count": 26,
   "metadata": {
    "collapsed": false
   },
   "outputs": [],
   "source": [
    "# mean_f1s = [np.array(f1s[C]).mean() for C in Cs]\n",
    "# np.array(f1s[1000]).mean()"
   ]
  },
  {
   "cell_type": "code",
   "execution_count": null,
   "metadata": {
    "collapsed": false
   },
   "outputs": [
    {
     "name": "stdout",
     "output_type": "stream",
     "text": [
      "***** C = 0.01 *****\n",
      "10 iterations: \n",
      "acc,precision,recall,f1\n",
      "0.330089006512 0.565409540613 0.43115822196 0.432490865128\n",
      "20 iterations: \n"
     ]
    }
   ],
   "source": [
    "#high number of iterations\n",
    "reload(evaluation)\n",
    "iter_step = 10\n",
    "num_steps = 50\n",
    "Cs = [1e-2, 1e-1, 1e0, 1e1, 1e2, 1e3]\n",
    "accs = {C:[] for C in Cs}\n",
    "precisions = {C:[] for C in Cs}\n",
    "recalls = {C:[] for C in Cs}\n",
    "f1s = {C:[] for C in Cs}\n",
    "\n",
    "fig,ax = plt.subplots(1,1)\n",
    "ax.set_xlabel(\"iterations\")\n",
    "ax.set_ylabel(\"accuracy\")\n",
    "ax.set_xlim(0,iter_step*num_steps)\n",
    "\n",
    "for C in Cs:\n",
    "    print(\"***** C = \" + str(C) + \" *****\")\n",
    "    for i in range(num_steps):\n",
    "        print(str((i+1)*iter_step) + \" iterations: \")\n",
    "        reg = OneVsRestClassifier(LogisticRegression(C=C,solver='sag', max_iter=iter_step*(i+1)))\n",
    "        reg.fit(X_tr, yy_tr)\n",
    "        yhat = reg.predict(X_dv)\n",
    "        acc,precision,recall,f1 = evaluation.all_metrics(yhat, yy_dev)\n",
    "        \n",
    "        print(\"acc,precision,recall,f1\")\n",
    "        print(acc,precision,recall,f1)\n",
    "        \n",
    "        accs[C].append(acc)\n",
    "        precisions[C].append(precision)\n",
    "        recalls[C].append(recall)\n",
    "        f1s[C].append(f1)\n",
    "        \n",
    "#         plot_metrics(ax, iter_step, (i+1)*iter_step, i+1, accs[C])"
   ]
  },
  {
   "cell_type": "code",
   "execution_count": 17,
   "metadata": {
    "collapsed": false
   },
   "outputs": [
    {
     "name": "stdout",
     "output_type": "stream",
     "text": [
      "acc,precision,recall,f1\n",
      "0.356581719848 0.537986168609 0.459100136934 0.455186268628\n"
     ]
    }
   ],
   "source": [
    "#run for a long time\n",
    "lr_long = OneVsRestClassifier(LogisticRegression(C=1.0, max_iter=100))\n",
    "lr_long.fit(X_tr_lr, Y_tr_lr)\n",
    "yhat_lr = lr_long.predict(X_dv_lr)\n",
    "acc, precision, recall, f1 = evaluation.all_metrics(yhat_lr, Y_dv_lr)\n",
    "\n",
    "print(\"acc,precision,recall,f1\")\n",
    "print(acc,precision,recall,f1)"
   ]
  },
  {
   "cell_type": "code",
   "execution_count": 18,
   "metadata": {
    "collapsed": false
   },
   "outputs": [],
   "source": [
    "yhat_tr = lr_long.predict(X_tr_lr)"
   ]
  },
  {
   "cell_type": "code",
   "execution_count": 19,
   "metadata": {
    "collapsed": false
   },
   "outputs": [
    {
     "name": "stdout",
     "output_type": "stream",
     "text": [
      "acc,precision,recall,f1\n",
      "0.620344840244 0.778730450804 0.665621773376 0.690729575775\n"
     ]
    }
   ],
   "source": [
    "acc,precision,recall,f1 = evaluation.all_metrics(yhat_tr, Y_tr_lr)\n",
    "print(\"acc,precision,recall,f1\")\n",
    "print(acc,precision,recall,f1)"
   ]
  },
  {
   "cell_type": "code",
   "execution_count": 102,
   "metadata": {
    "collapsed": false
   },
   "outputs": [
    {
     "data": {
      "text/plain": [
       "{'intravenous': 1,\n",
       " 'opacities': 6,\n",
       " 'connected': 1,\n",
       " 'pedal': 1,\n",
       " 'rhythm': 1,\n",
       " 'keep': 1,\n",
       " 'related': 2,\n",
       " 'social': 9,\n",
       " 'dsds': 3,\n",
       " 'sigmoid': 2,\n",
       " 'want': 1,\n",
       " 'head': 3,\n",
       " 'activity': 6,\n",
       " 'regular': 1,\n",
       " 'short': 2,\n",
       " 'appear': 4,\n",
       " 'eat': 3,\n",
       " 'hilar': 1,\n",
       " 'discussed': 2,\n",
       " 'c': 13,\n",
       " 'break': 1,\n",
       " 'dr': 5,\n",
       " 'thin': 1,\n",
       " 'quadrant': 2,\n",
       " 'oriented': 5,\n",
       " 'level': 3,\n",
       " 'iv': 18,\n",
       " 'dehisence': 1,\n",
       " 'x4': 2,\n",
       " 'cl': 1,\n",
       " 'ca': 2,\n",
       " 'secondary': 3,\n",
       " 'chips': 2,\n",
       " 'bladder': 2,\n",
       " 'basal': 1,\n",
       " 'carina': 1,\n",
       " 'pads': 1,\n",
       " 'site': 5,\n",
       " 'using': 6,\n",
       " 'port': 1,\n",
       " 'midsternal': 1,\n",
       " 'aorta': 2,\n",
       " 'predominantly': 1,\n",
       " 'draining': 5,\n",
       " 'wean': 8,\n",
       " 'hydralizine': 1,\n",
       " 'wires': 11,\n",
       " 'amout': 1,\n",
       " 'however': 4,\n",
       " 'extends': 1,\n",
       " 'took': 1,\n",
       " 'cont': 13,\n",
       " 'qrs': 1,\n",
       " 'costophrenic': 3,\n",
       " 'contrast': 27,\n",
       " 'mg': 2,\n",
       " 'previously': 1,\n",
       " 'breathing': 2,\n",
       " 'svo2': 17,\n",
       " 'involving': 2,\n",
       " 'turned': 1,\n",
       " 'pericolic': 2,\n",
       " 'endotracheal': 1,\n",
       " 'congestive': 1,\n",
       " 'tinged': 2,\n",
       " 'able': 2,\n",
       " 'q3h': 1,\n",
       " 'endocarditis': 21,\n",
       " 'anxiety': 5,\n",
       " 'periods': 1,\n",
       " 'vpaced': 2,\n",
       " 'perrl': 1,\n",
       " 'although': 2,\n",
       " 'receiving': 1,\n",
       " 'presacral': 1,\n",
       " 'axial': 3,\n",
       " 'diluadid': 1,\n",
       " 'arm': 1,\n",
       " 'nonspecific': 1,\n",
       " 'bronchoscopy': 1,\n",
       " 'projecting': 1,\n",
       " 'radiology': 15,\n",
       " 'chb': 3,\n",
       " 'pelvic': 2,\n",
       " 'decreased': 1,\n",
       " 'abgs': 1,\n",
       " 'wheezes': 1,\n",
       " 'commands': 5,\n",
       " 'made': 3,\n",
       " 'tested': 1,\n",
       " 'pleaural': 1,\n",
       " 'shadows': 1,\n",
       " 'ocassional': 1,\n",
       " 'overload': 2,\n",
       " 'placement': 17,\n",
       " 'allowing': 1,\n",
       " 'infiltrates': 2,\n",
       " 'without': 6,\n",
       " 'throughout': 4,\n",
       " 'leads': 2,\n",
       " 'number': 15,\n",
       " 'detected': 1,\n",
       " 'adrenal': 2,\n",
       " 'mrsa': 1,\n",
       " 'lantus': 1,\n",
       " 'flanks': 1,\n",
       " 'medication': 1,\n",
       " 'ranging': 1,\n",
       " 'midnight': 2,\n",
       " 'wnl': 2,\n",
       " 'satting': 3,\n",
       " 'cr': 1,\n",
       " 'presence': 1,\n",
       " 'placed': 5,\n",
       " 'explain': 1,\n",
       " 'flow': 5,\n",
       " 'urine': 3,\n",
       " '2u': 1,\n",
       " 'serrousang': 1,\n",
       " 'changes': 4,\n",
       " 'poor': 3,\n",
       " '______________________________________________________________________________': 27,\n",
       " 'k': 5,\n",
       " 'abdominal': 1,\n",
       " 'gi': 11,\n",
       " 'addition': 2,\n",
       " 'suture': 1,\n",
       " 'episodes': 1,\n",
       " 'like': 1,\n",
       " 'round': 3,\n",
       " 'study': 4,\n",
       " 'limitations': 1,\n",
       " 'summation': 1,\n",
       " 'middle': 1,\n",
       " 'midline': 2,\n",
       " 'namepattern2': 2,\n",
       " 'history': 8,\n",
       " 'effusion': 12,\n",
       " 'elevated': 1,\n",
       " 'tent': 1,\n",
       " 'brief': 1,\n",
       " 'bedrest': 1,\n",
       " 'med': 1,\n",
       " 'stomach': 1,\n",
       " 'transfuse': 1,\n",
       " 'less': 2,\n",
       " 'constant': 1,\n",
       " 'remains': 2,\n",
       " 'findings': 5,\n",
       " 'amounts': 3,\n",
       " 'intrinsic': 1,\n",
       " 'namepattern1': 3,\n",
       " 'condition': 11,\n",
       " 'titles': 7,\n",
       " 'precautions': 1,\n",
       " 'ativan': 6,\n",
       " 'readings': 1,\n",
       " 'lytes': 1,\n",
       " 'bronch': 5,\n",
       " 'x2': 2,\n",
       " 'lots': 2,\n",
       " 'pacer': 19,\n",
       " 'endo': 6,\n",
       " 'sternotomy': 4,\n",
       " 'reassurance': 1,\n",
       " 'access': 1,\n",
       " 'infection': 1,\n",
       " 'supine': 1,\n",
       " '2nd': 7,\n",
       " 'change': 3,\n",
       " 'serous': 4,\n",
       " 'sensing': 4,\n",
       " 'sternum': 3,\n",
       " 'cardiac': 8,\n",
       " 'pulmonary': 11,\n",
       " 'spleen': 3,\n",
       " 'secretions': 3,\n",
       " 'blastic': 1,\n",
       " 'updated': 3,\n",
       " 'set': 4,\n",
       " 'ntg': 7,\n",
       " 'trachea': 1,\n",
       " 'moderate': 9,\n",
       " 'dressing': 2,\n",
       " 'pending': 1,\n",
       " 'kg': 1,\n",
       " 'difficult': 2,\n",
       " 'capturing': 3,\n",
       " 'standard': 7,\n",
       " 'hx': 1,\n",
       " 'q6h': 1,\n",
       " 'lobes': 3,\n",
       " 'effectively': 2,\n",
       " 'ards': 1,\n",
       " 'diet': 1,\n",
       " 'bp': 5,\n",
       " 'wbc': 2,\n",
       " 'suggestion': 2,\n",
       " 'excluded': 3,\n",
       " 'good': 18,\n",
       " 'bloody': 4,\n",
       " 'hrs': 3,\n",
       " 'noted': 9,\n",
       " 'lasix': 11,\n",
       " 'management': 8,\n",
       " 'voids': 1,\n",
       " 'pericardial': 3,\n",
       " 'productive': 2,\n",
       " 'pic': 1,\n",
       " 'physician': 3,\n",
       " 'conversing': 1,\n",
       " 'artery': 2,\n",
       " 'slow': 1,\n",
       " 'airleak': 1,\n",
       " 'perm': 3,\n",
       " 'wall': 1,\n",
       " 'albuterol': 1,\n",
       " 'refused': 1,\n",
       " 'shift': 6,\n",
       " 'portion': 4,\n",
       " 'flexure': 1,\n",
       " 'bronchograms': 2,\n",
       " 'paced': 5,\n",
       " 'npn': 1,\n",
       " 'initiated': 1,\n",
       " 'year': 13,\n",
       " 'machine': 1,\n",
       " 'homograft': 3,\n",
       " 'pm': 7,\n",
       " 'temps': 1,\n",
       " 'stranding': 2,\n",
       " 'washed': 1,\n",
       " 'admitting': 15,\n",
       " 'ablation': 2,\n",
       " 'radial': 1,\n",
       " 'jugular': 2,\n",
       " 'ventricle': 3,\n",
       " 'calls': 2,\n",
       " 'pre': 4,\n",
       " '40mg': 2,\n",
       " 'secretion': 1,\n",
       " 'ssri': 2,\n",
       " 'meantime': 1,\n",
       " 'accompanied': 1,\n",
       " 'consult': 1,\n",
       " 'un': 2,\n",
       " 'median': 3,\n",
       " 'svc': 5,\n",
       " 'told': 1,\n",
       " 'mucoid': 1,\n",
       " 'induration': 3,\n",
       " 'rate': 3,\n",
       " 'riss': 3,\n",
       " 'dl': 1,\n",
       " 'hospital1': 1,\n",
       " 'flowsheet': 1,\n",
       " 'remainder': 2,\n",
       " 'sat': 5,\n",
       " 'internal': 2,\n",
       " 'co': 3,\n",
       " 'ventilator': 1,\n",
       " 'retroperitoneum': 1,\n",
       " 'ray': 2,\n",
       " 'represent': 7,\n",
       " 'subcutaneous': 2,\n",
       " 'perrla': 1,\n",
       " 'received': 3,\n",
       " 'read': 1,\n",
       " 'constantly': 2,\n",
       " 'recurrent': 1,\n",
       " 'kyg': 1,\n",
       " 'recover': 2,\n",
       " 'incisional': 4,\n",
       " 'non': 1,\n",
       " 'labs': 2,\n",
       " 'large': 4,\n",
       " 'aggressive': 1,\n",
       " 'projected': 2,\n",
       " 'visited': 1,\n",
       " 'dsd': 4,\n",
       " 'view': 3,\n",
       " 'lesions': 3,\n",
       " 'impression': 8,\n",
       " 'leakage': 1,\n",
       " 'renal': 9,\n",
       " 'accordingly': 2,\n",
       " 'takes': 1,\n",
       " 'lat': 3,\n",
       " 'consistent': 6,\n",
       " 'conclusions': 1,\n",
       " 'ice': 2,\n",
       " 'question': 1,\n",
       " 'sleeping': 1,\n",
       " 'throat': 1,\n",
       " 'kidney': 2,\n",
       " 'h2o': 1,\n",
       " 'pancreatic': 3,\n",
       " 'control': 5,\n",
       " 'requirement': 1,\n",
       " 'name': 23,\n",
       " 'bony': 1,\n",
       " 'transitioned': 1,\n",
       " 'lwsxn': 2,\n",
       " 'cholecystectomy': 3,\n",
       " 'intraperitoneal': 2,\n",
       " 'calcium': 2,\n",
       " 'contours': 1,\n",
       " 'displacement': 2,\n",
       " 'covered': 1,\n",
       " 'ep': 3,\n",
       " 'inferiorly': 1,\n",
       " 'treated': 3,\n",
       " 'trough': 1,\n",
       " 'asleep': 4,\n",
       " 'sided': 3,\n",
       " 'two': 4,\n",
       " 'terminating': 1,\n",
       " 'process': 2,\n",
       " 'desat': 2,\n",
       " 'radiographs': 1,\n",
       " 'suction': 2,\n",
       " 'second': 4,\n",
       " 'r': 9,\n",
       " 'unit': 3,\n",
       " 'response': 4,\n",
       " 'cardiothoracic': 2,\n",
       " 'outside': 1,\n",
       " 'cool': 1,\n",
       " 'respiratory': 2,\n",
       " 'wife': 4,\n",
       " 'leak': 3,\n",
       " 'voided': 1,\n",
       " 'arrived': 1,\n",
       " 'greatest': 1,\n",
       " 'diameter': 1,\n",
       " 'toilet': 6,\n",
       " 'medical': 11,\n",
       " 'vessels': 1,\n",
       " '3mm': 1,\n",
       " 'name8': 3,\n",
       " 'admission': 1,\n",
       " 'extensive': 4,\n",
       " 'intraluminal': 2,\n",
       " 'residua': 1,\n",
       " 'hypo': 1,\n",
       " 'tissues': 1,\n",
       " 'retrocardiac': 4,\n",
       " 'uo': 1,\n",
       " 'abg': 1,\n",
       " 'persists': 1,\n",
       " 'maintain': 1,\n",
       " 'exam': 1,\n",
       " 'probably': 2,\n",
       " 'bilaterally': 2,\n",
       " 'reformatted': 2,\n",
       " 'swan': 6,\n",
       " 'pedial': 3,\n",
       " 'q': 2,\n",
       " 'loss': 7,\n",
       " 'regularly': 1,\n",
       " 'significant': 1,\n",
       " 'sitting': 1,\n",
       " 'nursing': 1,\n",
       " 'requesting': 2,\n",
       " 'cath': 18,\n",
       " 'projects': 1,\n",
       " 'nasal': 1,\n",
       " 'demonstrated': 3,\n",
       " 'family': 7,\n",
       " 'consolidation': 4,\n",
       " 'elevation': 5,\n",
       " 'stool': 2,\n",
       " 'voiding': 1,\n",
       " 'drains': 3,\n",
       " 'grade': 1,\n",
       " 'air': 7,\n",
       " 'rf': 2,\n",
       " 'tolerated': 3,\n",
       " 'would': 1,\n",
       " 'showing': 2,\n",
       " 'pa': 7,\n",
       " 'x': 7,\n",
       " '4v': 1,\n",
       " 'pneumomediastinum': 3,\n",
       " 'pleural': 19,\n",
       " 'obtained': 4,\n",
       " 'lpm': 1,\n",
       " 'running': 1,\n",
       " 'needed': 1,\n",
       " 'overnight': 2,\n",
       " 'persistent': 5,\n",
       " 'sxn': 1,\n",
       " 'proximal': 3,\n",
       " 'normal': 2,\n",
       " 'strong': 1,\n",
       " 'cv': 7,\n",
       " 'sedated': 1,\n",
       " 'acute': 5,\n",
       " 'lul': 1,\n",
       " 'extremities': 3,\n",
       " 'additional': 3,\n",
       " 'rectum': 1,\n",
       " 'unopacified': 1,\n",
       " 'recieved': 1,\n",
       " '25mcg': 1,\n",
       " 'pneumothoraces': 2,\n",
       " 'member': 1,\n",
       " 'clinical': 3,\n",
       " 'intact': 2,\n",
       " 'visible': 2,\n",
       " 'next': 1,\n",
       " 'source': 7,\n",
       " 'extubate': 1,\n",
       " 'sputum': 5,\n",
       " 'urinary': 1,\n",
       " 'dependant': 1,\n",
       " 'clavicle': 1,\n",
       " 'coarse': 5,\n",
       " 'fluid': 9,\n",
       " 'old': 15,\n",
       " 'pancreatitis': 1,\n",
       " 'hemodynamics': 2,\n",
       " 'ct': 35,\n",
       " 'plaques': 1,\n",
       " 'sbp': 4,\n",
       " 'echo': 2,\n",
       " 'right': 74,\n",
       " 'hours': 3,\n",
       " 'first': 8,\n",
       " 'bone': 1,\n",
       " 'pulled': 1,\n",
       " 'sized': 1,\n",
       " 'hemorrhage': 3,\n",
       " 'times': 1,\n",
       " 'p': 17,\n",
       " 'starting': 1,\n",
       " 'return': 2,\n",
       " 'hydronephrosis': 1,\n",
       " 'evaluate': 10,\n",
       " 'op': 4,\n",
       " 'slept': 1,\n",
       " 'moving': 1,\n",
       " 'differentiate': 1,\n",
       " 'picc': 6,\n",
       " 'peripheral': 1,\n",
       " 'approximately': 2,\n",
       " 'max': 2,\n",
       " 'fs': 3,\n",
       " 'pelvis': 14,\n",
       " 'cta': 1,\n",
       " 'evidence': 4,\n",
       " 'applied': 1,\n",
       " 'later': 2,\n",
       " 'index': 1,\n",
       " 'ox3': 1,\n",
       " 'id': 4,\n",
       " 'minimal': 2,\n",
       " 'years': 1,\n",
       " 'indicated': 1,\n",
       " 'compared': 7,\n",
       " 'therapeutic': 1,\n",
       " 'transfusion': 3,\n",
       " 'needs': 3,\n",
       " 'loose': 2,\n",
       " 'common': 1,\n",
       " 'oxycodone': 1,\n",
       " 'mild': 3,\n",
       " 'abd': 8,\n",
       " 'nasogastric': 1,\n",
       " 'ci': 7,\n",
       " 'brown': 2,\n",
       " '1st': 3,\n",
       " 'increase': 2,\n",
       " 'extubated': 3,\n",
       " 'multidetector': 1,\n",
       " 'relief': 2,\n",
       " 'status': 14,\n",
       " 'aware': 4,\n",
       " 'palpible': 3,\n",
       " 'abnormally': 1,\n",
       " 'ble': 1,\n",
       " 'coronal': 1,\n",
       " 'clip': 27,\n",
       " 'avpaced': 1,\n",
       " 'pulm': 3,\n",
       " 'cancer': 3,\n",
       " 'cell': 3,\n",
       " 'insufficiency': 16,\n",
       " 'opacity': 2,\n",
       " 'atn': 2,\n",
       " 'demonstrates': 2,\n",
       " 'according': 1,\n",
       " 'single': 2,\n",
       " 'naps': 1,\n",
       " 'mdct': 1,\n",
       " 'continues': 3,\n",
       " 'post': 22,\n",
       " 'ileal': 1,\n",
       " 'edema': 11,\n",
       " 'medications': 1,\n",
       " 'bases': 7,\n",
       " 'terminates': 2,\n",
       " 'abscess': 1,\n",
       " 'check': 9,\n",
       " 'main': 1,\n",
       " 'encourage': 3,\n",
       " 'visualized': 1,\n",
       " 'heart': 23,\n",
       " 'area': 2,\n",
       " 'po': 13,\n",
       " 'followup': 1,\n",
       " 'normally': 1,\n",
       " 'attention': 1,\n",
       " 'x3': 6,\n",
       " 'neo': 1,\n",
       " 'past': 1,\n",
       " 'multiple': 3,\n",
       " 'assists': 1,\n",
       " 'orally': 1,\n",
       " 'regurgitation': 1,\n",
       " 'meds': 4,\n",
       " 'rechecked': 1,\n",
       " 'ls': 2,\n",
       " 'valsalva': 1,\n",
       " 'medicated': 2,\n",
       " 'blunting': 2,\n",
       " 'uop': 1,\n",
       " 'pneumopericardium': 2,\n",
       " 'waves': 2,\n",
       " 'intubated': 2,\n",
       " 'ng': 1,\n",
       " 'arf': 2,\n",
       " 'appears': 3,\n",
       " 'see': 3,\n",
       " 'pulses': 8,\n",
       " 'displayed': 1,\n",
       " 'morphine': 1,\n",
       " 'clean': 1,\n",
       " 'contraindications': 2,\n",
       " 'irregularity': 1,\n",
       " 'hemithorax': 2,\n",
       " 'breakdown': 1,\n",
       " 'aortic': 18,\n",
       " 'mentioned': 1,\n",
       " 'improvement': 2,\n",
       " 'v': 13,\n",
       " 'perihilar': 1,\n",
       " 'bowel': 8,\n",
       " 'dropped': 1,\n",
       " 'cough': 3,\n",
       " 'patchy': 3,\n",
       " 'nc': 7,\n",
       " 'sound': 3,\n",
       " 'anxious': 7,\n",
       " 'within': 8,\n",
       " 'percutaneous': 2,\n",
       " 'administration': 2,\n",
       " 'adjacent': 3,\n",
       " 'upset': 1,\n",
       " 'time': 4,\n",
       " 'lungs': 8,\n",
       " 'angle': 3,\n",
       " 'abnormality': 1,\n",
       " 'stitle': 5,\n",
       " 'dependent': 2,\n",
       " 'glands': 2,\n",
       " 'dependently': 1,\n",
       " 'include': 2,\n",
       " 'clear': 9,\n",
       " 'upper': 10,\n",
       " 'removed': 4,\n",
       " 'av': 2,\n",
       " 'get': 4,\n",
       " 'rest': 4,\n",
       " 'mae': 8,\n",
       " 'awakened': 1,\n",
       " 'rr': 1,\n",
       " 'tmax': 1,\n",
       " 'intake': 1,\n",
       " 'guaiac': 1,\n",
       " 'cover': 2,\n",
       " 'peripancreatic': 1,\n",
       " 'unchanged': 11,\n",
       " 'indicate': 1,\n",
       " 'calcified': 1,\n",
       " 'portable': 12,\n",
       " 'removal': 4,\n",
       " 'acquired': 1,\n",
       " 'crepitus': 1,\n",
       " 'waveform': 1,\n",
       " 'ptx': 4,\n",
       " 'stable': 3,\n",
       " 'filmed': 1,\n",
       " 'hepatic': 1,\n",
       " 'suspicious': 2,\n",
       " 'npo': 3,\n",
       " 'per': 13,\n",
       " 'thus': 1,\n",
       " 'awake': 2,\n",
       " 'left': 44,\n",
       " 'o2': 8,\n",
       " 'reason': 28,\n",
       " 'txs': 2,\n",
       " 'wheezing': 2,\n",
       " 'rounds': 1,\n",
       " 'urinal': 1,\n",
       " 'information': 1,\n",
       " 'raise': 1,\n",
       " 'b': 1,\n",
       " 'previous': 5,\n",
       " 'silhouette': 1,\n",
       " 'home': 1,\n",
       " 'amount': 11,\n",
       " 'though': 2,\n",
       " 'procedure': 6,\n",
       " 'mildly': 3,\n",
       " 'milrinone': 5,\n",
       " 'early': 1,\n",
       " 'images': 6,\n",
       " 'support': 8,\n",
       " 'fib': 1,\n",
       " 'lll': 1,\n",
       " 'underneath': 1,\n",
       " 'increased': 8,\n",
       " 'ecchymotic': 2,\n",
       " 'space': 1,\n",
       " 'cannot': 3,\n",
       " 'vascular': 2,\n",
       " 'l': 2,\n",
       " 'current': 2,\n",
       " 'bs': 6,\n",
       " 'liquids': 1,\n",
       " 'opacification': 5,\n",
       " 'technique': 2,\n",
       " 'ceftriaxone': 1,\n",
       " 'today': 13,\n",
       " 'supportive': 1,\n",
       " 'torso': 2,\n",
       " 'line': 16,\n",
       " 'suggesting': 1,\n",
       " 'film': 1,\n",
       " 'interstitial': 3,\n",
       " 'correctly': 3,\n",
       " 'atherosclerotic': 1,\n",
       " 'strength': 1,\n",
       " 'replete': 2,\n",
       " '30cc': 1,\n",
       " 'disease': 2,\n",
       " 'rythm': 1,\n",
       " 'following': 7,\n",
       " 'pp': 2,\n",
       " 'comparisons': 1,\n",
       " 'friction': 1,\n",
       " 'pleuravac': 2,\n",
       " 'weak': 2,\n",
       " 'emotional': 3,\n",
       " 'monitor': 12,\n",
       " 'units': 2,\n",
       " 'diladid': 3,\n",
       " 'receive': 1,\n",
       " 'last': 15,\n",
       " 'chest': 52,\n",
       " 'correlation': 3,\n",
       " 'colon': 2,\n",
       " 'outflow': 1,\n",
       " 'radiograph': 6,\n",
       " 'lobe': 3,\n",
       " 'higher': 2,\n",
       " 'attach': 1,\n",
       " 'pericolonic': 1,\n",
       " 'lower': 4,\n",
       " 'jejunum': 1,\n",
       " 'continued': 1,\n",
       " 'atc': 1,\n",
       " 'prn': 3,\n",
       " 'incision': 1,\n",
       " 'deep': 1,\n",
       " 'fistula': 1,\n",
       " 'alveolar': 3,\n",
       " 'drainage': 11,\n",
       " 'even': 1,\n",
       " 'liters': 3,\n",
       " 'falling': 1,\n",
       " 'vanco': 3,\n",
       " 'ordered': 2,\n",
       " 'probable': 1,\n",
       " 'iliac': 1,\n",
       " 'passed': 1,\n",
       " 'kidneys': 3,\n",
       " 'till': 1,\n",
       " 'motion': 1,\n",
       " 'careweb': 4,\n",
       " 'adequate': 2,\n",
       " 'border': 1,\n",
       " 'eval': 1,\n",
       " 'lot': 1,\n",
       " 'flushing': 1,\n",
       " 'interim': 2,\n",
       " 'comfortable': 1,\n",
       " 'nebs': 5,\n",
       " 'rectal': 1,\n",
       " 'potassium': 1,\n",
       " 'scant': 2,\n",
       " 'indication': 3,\n",
       " 'definite': 2,\n",
       " 'radiopaque': 1,\n",
       " 'atelectasis': 9,\n",
       " 'might': 2,\n",
       " 'yet': 1,\n",
       " 'place': 1,\n",
       " 'opacified': 1,\n",
       " 'min': 1,\n",
       " 'ppm': 5,\n",
       " 'ventricular': 2,\n",
       " 'catheter': 8,\n",
       " 'measure': 1,\n",
       " 'levo': 1,\n",
       " 'neuro': 10,\n",
       " 'sheet': 1,\n",
       " 'retroperitoneal': 9,\n",
       " 'vent': 4,\n",
       " 'md': 5,\n",
       " 'liver': 4,\n",
       " 'lead': 3,\n",
       " 'thickened': 2,\n",
       " 'aerosol': 1,\n",
       " 'diverticulitis': 1,\n",
       " 'sheath': 1,\n",
       " 'straw': 1,\n",
       " 'changed': 4,\n",
       " 'setting': 1,\n",
       " 'questionable': 1,\n",
       " 'pwaves': 1,\n",
       " 'results': 6,\n",
       " 'iodinated': 1,\n",
       " 'identified': 3,\n",
       " 'transfused': 1,\n",
       " 'tiny': 2,\n",
       " 'described': 4,\n",
       " 'equal': 1,\n",
       " 'explanation': 1,\n",
       " '20mg': 1,\n",
       " 'prbc': 2,\n",
       " 'ss': 3,\n",
       " 'dimension': 1,\n",
       " 'hct': 7,\n",
       " 'vdemand': 2,\n",
       " 'free': 4,\n",
       " 'sagittal': 1,\n",
       " 'mediastinal': 6,\n",
       " 'diagnostic': 2,\n",
       " 'cdi': 6,\n",
       " 'diminished': 1,\n",
       " 'consolidations': 2,\n",
       " 'eccho': 1,\n",
       " 'long': 3,\n",
       " 'cat': 1,\n",
       " 'ambien': 3,\n",
       " 'systems': 3,\n",
       " 'image': 1,\n",
       " 'lytic': 1,\n",
       " 'superior': 1,\n",
       " 'called': 1,\n",
       " 'plan': 11,\n",
       " 'brisk': 1,\n",
       " 'diverticulosis': 2,\n",
       " 'hemidiaphragm': 5,\n",
       " 'incisions': 1,\n",
       " 'man': 13,\n",
       " 'dipped': 2,\n",
       " 'atel': 2,\n",
       " 'cardiopulmonary': 1,\n",
       " 'simv': 1,\n",
       " 'likely': 5,\n",
       " 'blood': 16,\n",
       " 'evening': 3,\n",
       " 'propofol': 2,\n",
       " 'windows': 1,\n",
       " 'size': 3,\n",
       " 'otherwise': 1,\n",
       " 'done': 1,\n",
       " 'glass': 2,\n",
       " 'ganz': 5,\n",
       " 'developing': 1,\n",
       " 'distal': 3,\n",
       " 'recommend': 1,\n",
       " 'due': 4,\n",
       " 'oob': 1,\n",
       " 'known': 3,\n",
       " 'lucency': 4,\n",
       " 'dehiscence': 1,\n",
       " 'lv': 1,\n",
       " 'box': 1,\n",
       " 'block': 1,\n",
       " 'name4': 1,\n",
       " 'comparison': 5,\n",
       " 'tube': 21,\n",
       " 'representing': 2,\n",
       " 'psv': 1,\n",
       " 'region': 4,\n",
       " 'monday': 1,\n",
       " 'tomorrow': 2,\n",
       " 'care': 4,\n",
       " 'scattered': 1,\n",
       " 'sleep': 3,\n",
       " 'show': 2,\n",
       " 'ith': 1,\n",
       " 'cerclage': 2,\n",
       " 'position': 11,\n",
       " 'suggests': 1,\n",
       " 'presumably': 1,\n",
       " 'diagnosis': 15,\n",
       " 'collection': 3,\n",
       " 'valve': 1,\n",
       " 'assess': 10,\n",
       " 'maker': 1,\n",
       " 'electrolytes': 1,\n",
       " 'may': 8,\n",
       " 'pace': 1,\n",
       " 'axillary': 1,\n",
       " 'awaiting': 2,\n",
       " 'face': 1,\n",
       " 'shifts': 1,\n",
       " 'foley': 3,\n",
       " 'evaluation': 2,\n",
       " 'suctioned': 2,\n",
       " 'liquid': 1,\n",
       " 'et': 1,\n",
       " 'skin': 10,\n",
       " 'one': 2,\n",
       " 'cm': 1,\n",
       " 'wet': 1,\n",
       " 'dim': 5,\n",
       " 'high': 12,\n",
       " 'informative': 2,\n",
       " 'yellow': 3,\n",
       " '2a': 1,\n",
       " 'appropriate': 2,\n",
       " 'runs': 1,\n",
       " 'since': 4,\n",
       " 'around': 2,\n",
       " 'leaks': 1,\n",
       " 'field': 3,\n",
       " 'nitro': 6,\n",
       " 'showed': 1,\n",
       " 'warm': 3,\n",
       " 'reported': 1,\n",
       " 'thick': 5,\n",
       " 'need': 1,\n",
       " 'visualize': 1,\n",
       " 'venous': 1,\n",
       " 'explained': 1,\n",
       " 'initial': 3,\n",
       " 'sliding': 2,\n",
       " 'severe': 3,\n",
       " 'update': 3,\n",
       " 'intestinal': 1,\n",
       " 'different': 2,\n",
       " 'commads': 1,\n",
       " 'exp': 2,\n",
       " 'reports': 1,\n",
       " 'surgical': 7,\n",
       " 'probability': 1,\n",
       " '2mg': 4,\n",
       " 'full': 2,\n",
       " 'loops': 2,\n",
       " 'least': 1,\n",
       " 'frequent': 2,\n",
       " 'effusions': 7,\n",
       " 'cxr': 1,\n",
       " 'dilated': 3,\n",
       " 'bleeding': 1,\n",
       " 'tolerating': 8,\n",
       " 'pneumothorax': 17,\n",
       " 'recent': 2,\n",
       " 'hematoma': 5,\n",
       " 'acceptable': 1,\n",
       " 'procedures': 1,\n",
       " 'physical': 1,\n",
       " 'bed': 1,\n",
       " 'sugars': 1,\n",
       " 'sinus': 1,\n",
       " 'ground': 2,\n",
       " 'pseudocyst': 1,\n",
       " 'x1': 2,\n",
       " 'pt': 14,\n",
       " 'recommended': 1,\n",
       " 'lipitor': 1,\n",
       " 'central': 2,\n",
       " 'airspace': 5,\n",
       " 'resp': 14,\n",
       " 'hr': 4,\n",
       " 'prior': 5,\n",
       " 'lg': 1,\n",
       " 'bleed': 8,\n",
       " 'freely': 1,\n",
       " 'making': 3,\n",
       " 'colace': 1,\n",
       " 'density': 11,\n",
       " 'started': 4,\n",
       " 'bilateral': 13,\n",
       " 'tissue': 1,\n",
       " 'sounds': 4,\n",
       " '30s': 1,\n",
       " 'stated': 2,\n",
       " 'given': 10,\n",
       " 'start': 2,\n",
       " 'residual': 4,\n",
       " 'nontender': 4,\n",
       " 'performed': 1,\n",
       " 'ext': 1,\n",
       " 'avr': 1,\n",
       " 'carried': 1,\n",
       " 'u': 7,\n",
       " 'contour': 2,\n",
       " 'available': 1,\n",
       " 'indicating': 2,\n",
       " 'gtt': 10,\n",
       " 'limited': 1,\n",
       " 'indicative': 2,\n",
       " 'sats': 3,\n",
       " 'piv': 1,\n",
       " 'tip': 12,\n",
       " 'mediastinum': 1,\n",
       " 'multifocal': 1,\n",
       " 'palpable': 2,\n",
       " 'await': 1,\n",
       " 'seen': 29,\n",
       " 'awoke': 1,\n",
       " 'worse': 2,\n",
       " 'appearance': 1,\n",
       " 'ap': 10,\n",
       " 'nd': 1,\n",
       " 'dry': 3,\n",
       " 'encouragement': 5,\n",
       " 'ureters': 1,\n",
       " 'considerations': 2,\n",
       " 'use': 3,\n",
       " 'team': 5,\n",
       " 'underlying': 3,\n",
       " 'unremarkable': 1,\n",
       " 'weaned': 4,\n",
       " 'mri': 1,\n",
       " 'catheterization': 2,\n",
       " 'hydral': 1,\n",
       " 'pressure': 1,\n",
       " 'note': 4,\n",
       " 'percocet': 1,\n",
       " 'calm': 1,\n",
       " 'tan': 1,\n",
       " 'bubble': 1,\n",
       " 'identifed': 1,\n",
       " 'lymphadenopathy': 1,\n",
       " 'improved': 2,\n",
       " 'small': 32,\n",
       " '6l': 1,\n",
       " 'diuresis': 3,\n",
       " 'gutter': 2,\n",
       " 'subsegmental': 2,\n",
       " 'continue': 6,\n",
       " 'afebrile': 6,\n",
       " 'retrieved': 1,\n",
       " 'output': 1,\n",
       " 'parameters': 1,\n",
       " 'sl': 1,\n",
       " 'bibasilar': 1,\n",
       " 'arteries': 1,\n",
       " 'conts': 1,\n",
       " 'fat': 2,\n",
       " 'low': 16,\n",
       " 'yankaur': 1,\n",
       " 'indistinctness': 1,\n",
       " 'diffuse': 2,\n",
       " 'three': 1,\n",
       " 'contact': 2,\n",
       " 'initially': 1,\n",
       " 'scale': 2,\n",
       " 'greenish': 1,\n",
       " 'trending': 1,\n",
       " 'antibiotics': 2,\n",
       " 'indurated': 1,\n",
       " 'repair': 1,\n",
       " 'slightly': 2,\n",
       " 'vein': 1,\n",
       " 'dc': 3,\n",
       " 'cts': 2,\n",
       " 'amt': 3,\n",
       " 'contents': 2,\n",
       " 'concerning': 2,\n",
       " 'longitudinal': 1,\n",
       " 'pathologically': 1,\n",
       " 'fem': 3,\n",
       " 'hospital': 11,\n",
       " 'extubation': 2,\n",
       " 'anemia': 1,\n",
       " 'turn': 3,\n",
       " 'possibly': 3,\n",
       " 'multiplanar': 1,\n",
       " 'tx': 1,\n",
       " 'pacemaker': 5,\n",
       " ...}"
      ]
     },
     "execution_count": 102,
     "metadata": {},
     "output_type": "execute_result"
    }
   ],
   "source": [
    "x_to_bow(X_tr[-1].toarray()[0])"
   ]
  },
  {
   "cell_type": "code",
   "execution_count": 104,
   "metadata": {
    "collapsed": false
   },
   "outputs": [
    {
     "data": {
      "text/plain": [
       "array([0, 0, 0, 0, 0, 0, 0, 0, 0, 1])"
      ]
     },
     "execution_count": 104,
     "metadata": {},
     "output_type": "execute_result"
    }
   ],
   "source": [
    "yhat[-1]"
   ]
  },
  {
   "cell_type": "code",
   "execution_count": 106,
   "metadata": {
    "collapsed": false
   },
   "outputs": [
    {
     "data": {
      "text/plain": [
       "['51881']"
      ]
     },
     "execution_count": 106,
     "metadata": {},
     "output_type": "execute_result"
    }
   ],
   "source": [
    "y_to_codes(yhat[-1])"
   ]
  },
  {
   "cell_type": "code",
   "execution_count": 20,
   "metadata": {
    "collapsed": false
   },
   "outputs": [],
   "source": [
    "i = 0\n",
    "for yh in yhat:\n",
    "    if i < 100:\n",
    "        print(y_to_codes(yh))\n",
    "    i += 1"
   ]
  },
  {
   "cell_type": "markdown",
   "metadata": {},
   "source": [
    "## SVM"
   ]
  },
  {
   "cell_type": "code",
   "execution_count": 32,
   "metadata": {
    "collapsed": false
   },
   "outputs": [
    {
     "name": "stdout",
     "output_type": "stream",
     "text": [
      "C = 0.01, iters = 3: \n",
      "acc,precision,recall,f1\n",
      "0.20753594277 0.244468471182 0.609138562043 0.311823809752\n",
      "C = 0.1, iters = 3: \n",
      "acc,precision,recall,f1\n",
      "0.20753594277 0.244468471182 0.609138562043 0.311823809752\n",
      "C = 1.0, iters = 3: \n",
      "acc,precision,recall,f1\n",
      "0.20753594277 0.244468471182 0.609138562043 0.311823809752\n",
      "C = 10.0, iters = 3: \n",
      "acc,precision,recall,f1\n",
      "0.206748285854 0.25461677097 0.589105693056 0.310577218286\n",
      "C = 100.0, iters = 3: \n",
      "acc,precision,recall,f1\n",
      "0.0880359140816 0.112800923364 0.242436137033 0.13221510305\n",
      "C = 1000.0, iters = 3: \n",
      "acc,precision,recall,f1\n",
      "0.122095172521 0.189635203423 0.24662826487 0.181343287494\n",
      "C = 0.01, iters = 5: \n",
      "acc,precision,recall,f1\n",
      "0.206559658031 0.253922864438 0.569262066648 0.308291373023\n",
      "C = 0.1, iters = 5: \n",
      "acc,precision,recall,f1\n",
      "0.206559658031 0.253922864438 0.569262066648 0.308291373023\n",
      "C = 1.0, iters = 5: \n",
      "acc,precision,recall,f1\n",
      "0.206559658031 0.253922864438 0.569262066648 0.308291373023\n",
      "C = 10.0, iters = 5: \n",
      "acc,precision,recall,f1\n",
      "0.203432544806 0.255517594334 0.556169543728 0.303019509376\n",
      "C = 100.0, iters = 5: \n",
      "acc,precision,recall,f1\n",
      "0.0814489506105 0.10635632728 0.218482913864 0.121590386818\n",
      "C = 1000.0, iters = 5: \n",
      "acc,precision,recall,f1\n",
      "0.0773449378891 0.129652887922 0.146452137099 0.115891256898\n",
      "C = 0.01, iters = 7: \n",
      "acc,precision,recall,f1\n",
      "0.202088225771 0.238529922254 0.579516668101 0.302144097027\n",
      "C = 0.1, iters = 7: \n",
      "acc,precision,recall,f1\n",
      "0.202088225771 0.238529922254 0.579516668101 0.302144097027\n",
      "C = 1.0, iters = 7: \n",
      "acc,precision,recall,f1\n",
      "0.202088225771 0.238529922254 0.579516668101 0.302144097027\n",
      "C = 10.0, iters = 7: \n",
      "acc,precision,recall,f1\n",
      "0.198906296747 0.241338335403 0.563632893987 0.296488036309\n",
      "C = 100.0, iters = 7: \n",
      "acc,precision,recall,f1\n",
      "0.073995026619 0.105248587084 0.183491120865 0.108702735081\n",
      "C = 1000.0, iters = 7: \n",
      "acc,precision,recall,f1\n",
      "0.106496799167 0.192524713216 0.218497104496 0.155091910056\n",
      "C = 0.01, iters = 10: \n",
      "acc,precision,recall,f1\n",
      "0.194446186255 0.240455083832 0.537177457695 0.290534737858\n",
      "C = 0.1, iters = 10: \n"
     ]
    },
    {
     "ename": "KeyboardInterrupt",
     "evalue": "",
     "output_type": "error",
     "traceback": [
      "\u001b[0;31m---------------------------------------------------------------------------\u001b[0m",
      "\u001b[0;31mKeyboardInterrupt\u001b[0m                         Traceback (most recent call last)",
      "\u001b[0;32m<ipython-input-32-fbe84839f446>\u001b[0m in \u001b[0;36m<module>\u001b[0;34m()\u001b[0m\n\u001b[1;32m      8\u001b[0m         \u001b[0msvm\u001b[0m \u001b[1;33m=\u001b[0m \u001b[0mOneVsRestClassifier\u001b[0m\u001b[1;33m(\u001b[0m\u001b[0mSVC\u001b[0m\u001b[1;33m(\u001b[0m\u001b[0mC\u001b[0m\u001b[1;33m=\u001b[0m\u001b[0mC\u001b[0m\u001b[1;33m,\u001b[0m \u001b[0mmax_iter\u001b[0m\u001b[1;33m=\u001b[0m\u001b[0mmx_iter\u001b[0m\u001b[1;33m)\u001b[0m\u001b[1;33m)\u001b[0m\u001b[1;33m\u001b[0m\u001b[0m\n\u001b[1;32m      9\u001b[0m         \u001b[0msvm\u001b[0m\u001b[1;33m.\u001b[0m\u001b[0mfit\u001b[0m\u001b[1;33m(\u001b[0m\u001b[0mX_tr\u001b[0m\u001b[1;33m,\u001b[0m \u001b[0myy_tr\u001b[0m\u001b[1;33m)\u001b[0m\u001b[1;33m\u001b[0m\u001b[0m\n\u001b[0;32m---> 10\u001b[0;31m         \u001b[0myhat\u001b[0m \u001b[1;33m=\u001b[0m \u001b[0msvm\u001b[0m\u001b[1;33m.\u001b[0m\u001b[0mpredict\u001b[0m\u001b[1;33m(\u001b[0m\u001b[0mX_dv\u001b[0m\u001b[1;33m)\u001b[0m\u001b[1;33m\u001b[0m\u001b[0m\n\u001b[0m\u001b[1;32m     11\u001b[0m         \u001b[0macc\u001b[0m\u001b[1;33m,\u001b[0m\u001b[0mprecision\u001b[0m\u001b[1;33m,\u001b[0m\u001b[0mrecall\u001b[0m\u001b[1;33m,\u001b[0m\u001b[0mf1\u001b[0m \u001b[1;33m=\u001b[0m \u001b[0mevaluation\u001b[0m\u001b[1;33m.\u001b[0m\u001b[0mall_metrics\u001b[0m\u001b[1;33m(\u001b[0m\u001b[0myhat\u001b[0m\u001b[1;33m,\u001b[0m \u001b[0myy_dev\u001b[0m\u001b[1;33m)\u001b[0m\u001b[1;33m\u001b[0m\u001b[0m\n\u001b[1;32m     12\u001b[0m         \u001b[0mprint\u001b[0m\u001b[1;33m(\u001b[0m\u001b[1;34m\"acc,precision,recall,f1\"\u001b[0m\u001b[1;33m)\u001b[0m\u001b[1;33m\u001b[0m\u001b[0m\n",
      "\u001b[0;32mC:\\Program Files\\Anaconda3\\lib\\site-packages\\sklearn\\multiclass.py\u001b[0m in \u001b[0;36mpredict\u001b[0;34m(self, X)\u001b[0m\n\u001b[1;32m    323\u001b[0m             \u001b[0mindptr\u001b[0m \u001b[1;33m=\u001b[0m \u001b[0marray\u001b[0m\u001b[1;33m.\u001b[0m\u001b[0marray\u001b[0m\u001b[1;33m(\u001b[0m\u001b[1;34m'i'\u001b[0m\u001b[1;33m,\u001b[0m \u001b[1;33m[\u001b[0m\u001b[1;36m0\u001b[0m\u001b[1;33m]\u001b[0m\u001b[1;33m)\u001b[0m\u001b[1;33m\u001b[0m\u001b[0m\n\u001b[1;32m    324\u001b[0m             \u001b[1;32mfor\u001b[0m \u001b[0me\u001b[0m \u001b[1;32min\u001b[0m \u001b[0mself\u001b[0m\u001b[1;33m.\u001b[0m\u001b[0mestimators_\u001b[0m\u001b[1;33m:\u001b[0m\u001b[1;33m\u001b[0m\u001b[0m\n\u001b[0;32m--> 325\u001b[0;31m                 \u001b[0mindices\u001b[0m\u001b[1;33m.\u001b[0m\u001b[0mextend\u001b[0m\u001b[1;33m(\u001b[0m\u001b[0mnp\u001b[0m\u001b[1;33m.\u001b[0m\u001b[0mwhere\u001b[0m\u001b[1;33m(\u001b[0m\u001b[0m_predict_binary\u001b[0m\u001b[1;33m(\u001b[0m\u001b[0me\u001b[0m\u001b[1;33m,\u001b[0m \u001b[0mX\u001b[0m\u001b[1;33m)\u001b[0m \u001b[1;33m>\u001b[0m \u001b[0mthresh\u001b[0m\u001b[1;33m)\u001b[0m\u001b[1;33m[\u001b[0m\u001b[1;36m0\u001b[0m\u001b[1;33m]\u001b[0m\u001b[1;33m)\u001b[0m\u001b[1;33m\u001b[0m\u001b[0m\n\u001b[0m\u001b[1;32m    326\u001b[0m                 \u001b[0mindptr\u001b[0m\u001b[1;33m.\u001b[0m\u001b[0mappend\u001b[0m\u001b[1;33m(\u001b[0m\u001b[0mlen\u001b[0m\u001b[1;33m(\u001b[0m\u001b[0mindices\u001b[0m\u001b[1;33m)\u001b[0m\u001b[1;33m)\u001b[0m\u001b[1;33m\u001b[0m\u001b[0m\n\u001b[1;32m    327\u001b[0m             \u001b[0mdata\u001b[0m \u001b[1;33m=\u001b[0m \u001b[0mnp\u001b[0m\u001b[1;33m.\u001b[0m\u001b[0mones\u001b[0m\u001b[1;33m(\u001b[0m\u001b[0mlen\u001b[0m\u001b[1;33m(\u001b[0m\u001b[0mindices\u001b[0m\u001b[1;33m)\u001b[0m\u001b[1;33m,\u001b[0m \u001b[0mdtype\u001b[0m\u001b[1;33m=\u001b[0m\u001b[0mint\u001b[0m\u001b[1;33m)\u001b[0m\u001b[1;33m\u001b[0m\u001b[0m\n",
      "\u001b[0;32mC:\\Program Files\\Anaconda3\\lib\\site-packages\\sklearn\\multiclass.py\u001b[0m in \u001b[0;36m_predict_binary\u001b[0;34m(estimator, X)\u001b[0m\n\u001b[1;32m     81\u001b[0m         \u001b[1;32mreturn\u001b[0m \u001b[0mestimator\u001b[0m\u001b[1;33m.\u001b[0m\u001b[0mpredict\u001b[0m\u001b[1;33m(\u001b[0m\u001b[0mX\u001b[0m\u001b[1;33m)\u001b[0m\u001b[1;33m\u001b[0m\u001b[0m\n\u001b[1;32m     82\u001b[0m     \u001b[1;32mtry\u001b[0m\u001b[1;33m:\u001b[0m\u001b[1;33m\u001b[0m\u001b[0m\n\u001b[0;32m---> 83\u001b[0;31m         \u001b[0mscore\u001b[0m \u001b[1;33m=\u001b[0m \u001b[0mnp\u001b[0m\u001b[1;33m.\u001b[0m\u001b[0mravel\u001b[0m\u001b[1;33m(\u001b[0m\u001b[0mestimator\u001b[0m\u001b[1;33m.\u001b[0m\u001b[0mdecision_function\u001b[0m\u001b[1;33m(\u001b[0m\u001b[0mX\u001b[0m\u001b[1;33m)\u001b[0m\u001b[1;33m)\u001b[0m\u001b[1;33m\u001b[0m\u001b[0m\n\u001b[0m\u001b[1;32m     84\u001b[0m     \u001b[1;32mexcept\u001b[0m \u001b[1;33m(\u001b[0m\u001b[0mAttributeError\u001b[0m\u001b[1;33m,\u001b[0m \u001b[0mNotImplementedError\u001b[0m\u001b[1;33m)\u001b[0m\u001b[1;33m:\u001b[0m\u001b[1;33m\u001b[0m\u001b[0m\n\u001b[1;32m     85\u001b[0m         \u001b[1;31m# probabilities of the positive class\u001b[0m\u001b[1;33m\u001b[0m\u001b[1;33m\u001b[0m\u001b[0m\n",
      "\u001b[0;32mC:\\Program Files\\Anaconda3\\lib\\site-packages\\sklearn\\svm\\base.py\u001b[0m in \u001b[0;36mdecision_function\u001b[0;34m(self, X)\u001b[0m\n\u001b[1;32m    540\u001b[0m             n_classes)\n\u001b[1;32m    541\u001b[0m         \"\"\"\n\u001b[0;32m--> 542\u001b[0;31m         \u001b[0mdec\u001b[0m \u001b[1;33m=\u001b[0m \u001b[0mself\u001b[0m\u001b[1;33m.\u001b[0m\u001b[0m_decision_function\u001b[0m\u001b[1;33m(\u001b[0m\u001b[0mX\u001b[0m\u001b[1;33m)\u001b[0m\u001b[1;33m\u001b[0m\u001b[0m\n\u001b[0m\u001b[1;32m    543\u001b[0m         \u001b[1;32mif\u001b[0m \u001b[0mself\u001b[0m\u001b[1;33m.\u001b[0m\u001b[0mdecision_function_shape\u001b[0m \u001b[1;32mis\u001b[0m \u001b[1;32mNone\u001b[0m \u001b[1;32mand\u001b[0m \u001b[0mlen\u001b[0m\u001b[1;33m(\u001b[0m\u001b[0mself\u001b[0m\u001b[1;33m.\u001b[0m\u001b[0mclasses_\u001b[0m\u001b[1;33m)\u001b[0m \u001b[1;33m>\u001b[0m \u001b[1;36m2\u001b[0m\u001b[1;33m:\u001b[0m\u001b[1;33m\u001b[0m\u001b[0m\n\u001b[1;32m    544\u001b[0m             warnings.warn(\"The decision_function_shape default value will \"\n",
      "\u001b[0;32mC:\\Program Files\\Anaconda3\\lib\\site-packages\\sklearn\\svm\\base.py\u001b[0m in \u001b[0;36m_decision_function\u001b[0;34m(self, X)\u001b[0m\n\u001b[1;32m    397\u001b[0m         \u001b[1;31m# NOTE: _validate_for_predict contains check for is_fitted\u001b[0m\u001b[1;33m\u001b[0m\u001b[1;33m\u001b[0m\u001b[0m\n\u001b[1;32m    398\u001b[0m         \u001b[1;31m# hence must be placed before any other attributes are used.\u001b[0m\u001b[1;33m\u001b[0m\u001b[1;33m\u001b[0m\u001b[0m\n\u001b[0;32m--> 399\u001b[0;31m         \u001b[0mX\u001b[0m \u001b[1;33m=\u001b[0m \u001b[0mself\u001b[0m\u001b[1;33m.\u001b[0m\u001b[0m_validate_for_predict\u001b[0m\u001b[1;33m(\u001b[0m\u001b[0mX\u001b[0m\u001b[1;33m)\u001b[0m\u001b[1;33m\u001b[0m\u001b[0m\n\u001b[0m\u001b[1;32m    400\u001b[0m         \u001b[0mX\u001b[0m \u001b[1;33m=\u001b[0m \u001b[0mself\u001b[0m\u001b[1;33m.\u001b[0m\u001b[0m_compute_kernel\u001b[0m\u001b[1;33m(\u001b[0m\u001b[0mX\u001b[0m\u001b[1;33m)\u001b[0m\u001b[1;33m\u001b[0m\u001b[0m\n\u001b[1;32m    401\u001b[0m \u001b[1;33m\u001b[0m\u001b[0m\n",
      "\u001b[0;32mC:\\Program Files\\Anaconda3\\lib\\site-packages\\sklearn\\svm\\base.py\u001b[0m in \u001b[0;36m_validate_for_predict\u001b[0;34m(self, X)\u001b[0m\n\u001b[1;32m    452\u001b[0m         \u001b[0mcheck_is_fitted\u001b[0m\u001b[1;33m(\u001b[0m\u001b[0mself\u001b[0m\u001b[1;33m,\u001b[0m \u001b[1;34m'support_'\u001b[0m\u001b[1;33m)\u001b[0m\u001b[1;33m\u001b[0m\u001b[0m\n\u001b[1;32m    453\u001b[0m \u001b[1;33m\u001b[0m\u001b[0m\n\u001b[0;32m--> 454\u001b[0;31m         \u001b[0mX\u001b[0m \u001b[1;33m=\u001b[0m \u001b[0mcheck_array\u001b[0m\u001b[1;33m(\u001b[0m\u001b[0mX\u001b[0m\u001b[1;33m,\u001b[0m \u001b[0maccept_sparse\u001b[0m\u001b[1;33m=\u001b[0m\u001b[1;34m'csr'\u001b[0m\u001b[1;33m,\u001b[0m \u001b[0mdtype\u001b[0m\u001b[1;33m=\u001b[0m\u001b[0mnp\u001b[0m\u001b[1;33m.\u001b[0m\u001b[0mfloat64\u001b[0m\u001b[1;33m,\u001b[0m \u001b[0morder\u001b[0m\u001b[1;33m=\u001b[0m\u001b[1;34m\"C\"\u001b[0m\u001b[1;33m)\u001b[0m\u001b[1;33m\u001b[0m\u001b[0m\n\u001b[0m\u001b[1;32m    455\u001b[0m         \u001b[1;32mif\u001b[0m \u001b[0mself\u001b[0m\u001b[1;33m.\u001b[0m\u001b[0m_sparse\u001b[0m \u001b[1;32mand\u001b[0m \u001b[1;32mnot\u001b[0m \u001b[0msp\u001b[0m\u001b[1;33m.\u001b[0m\u001b[0misspmatrix\u001b[0m\u001b[1;33m(\u001b[0m\u001b[0mX\u001b[0m\u001b[1;33m)\u001b[0m\u001b[1;33m:\u001b[0m\u001b[1;33m\u001b[0m\u001b[0m\n\u001b[1;32m    456\u001b[0m             \u001b[0mX\u001b[0m \u001b[1;33m=\u001b[0m \u001b[0msp\u001b[0m\u001b[1;33m.\u001b[0m\u001b[0mcsr_matrix\u001b[0m\u001b[1;33m(\u001b[0m\u001b[0mX\u001b[0m\u001b[1;33m)\u001b[0m\u001b[1;33m\u001b[0m\u001b[0m\n",
      "\u001b[0;32mC:\\Program Files\\Anaconda3\\lib\\site-packages\\sklearn\\utils\\validation.py\u001b[0m in \u001b[0;36mcheck_array\u001b[0;34m(array, accept_sparse, dtype, order, copy, force_all_finite, ensure_2d, allow_nd, ensure_min_samples, ensure_min_features, warn_on_dtype, estimator)\u001b[0m\n\u001b[1;32m    369\u001b[0m     \u001b[1;32mif\u001b[0m \u001b[0msp\u001b[0m\u001b[1;33m.\u001b[0m\u001b[0missparse\u001b[0m\u001b[1;33m(\u001b[0m\u001b[0marray\u001b[0m\u001b[1;33m)\u001b[0m\u001b[1;33m:\u001b[0m\u001b[1;33m\u001b[0m\u001b[0m\n\u001b[1;32m    370\u001b[0m         array = _ensure_sparse_format(array, accept_sparse, dtype, copy,\n\u001b[0;32m--> 371\u001b[0;31m                                       force_all_finite)\n\u001b[0m\u001b[1;32m    372\u001b[0m     \u001b[1;32melse\u001b[0m\u001b[1;33m:\u001b[0m\u001b[1;33m\u001b[0m\u001b[0m\n\u001b[1;32m    373\u001b[0m         \u001b[0marray\u001b[0m \u001b[1;33m=\u001b[0m \u001b[0mnp\u001b[0m\u001b[1;33m.\u001b[0m\u001b[0marray\u001b[0m\u001b[1;33m(\u001b[0m\u001b[0marray\u001b[0m\u001b[1;33m,\u001b[0m \u001b[0mdtype\u001b[0m\u001b[1;33m=\u001b[0m\u001b[0mdtype\u001b[0m\u001b[1;33m,\u001b[0m \u001b[0morder\u001b[0m\u001b[1;33m=\u001b[0m\u001b[0morder\u001b[0m\u001b[1;33m,\u001b[0m \u001b[0mcopy\u001b[0m\u001b[1;33m=\u001b[0m\u001b[0mcopy\u001b[0m\u001b[1;33m)\u001b[0m\u001b[1;33m\u001b[0m\u001b[0m\n",
      "\u001b[0;32mC:\\Program Files\\Anaconda3\\lib\\site-packages\\sklearn\\utils\\validation.py\u001b[0m in \u001b[0;36m_ensure_sparse_format\u001b[0;34m(spmatrix, accept_sparse, dtype, copy, force_all_finite)\u001b[0m\n\u001b[1;32m    251\u001b[0m     \u001b[1;32mif\u001b[0m \u001b[0mdtype\u001b[0m \u001b[1;33m!=\u001b[0m \u001b[0mspmatrix\u001b[0m\u001b[1;33m.\u001b[0m\u001b[0mdtype\u001b[0m\u001b[1;33m:\u001b[0m\u001b[1;33m\u001b[0m\u001b[0m\n\u001b[1;32m    252\u001b[0m         \u001b[1;31m# convert dtype\u001b[0m\u001b[1;33m\u001b[0m\u001b[1;33m\u001b[0m\u001b[0m\n\u001b[0;32m--> 253\u001b[0;31m         \u001b[0mspmatrix\u001b[0m \u001b[1;33m=\u001b[0m \u001b[0mspmatrix\u001b[0m\u001b[1;33m.\u001b[0m\u001b[0mastype\u001b[0m\u001b[1;33m(\u001b[0m\u001b[0mdtype\u001b[0m\u001b[1;33m)\u001b[0m\u001b[1;33m\u001b[0m\u001b[0m\n\u001b[0m\u001b[1;32m    254\u001b[0m     \u001b[1;32melif\u001b[0m \u001b[0mcopy\u001b[0m \u001b[1;32mand\u001b[0m \u001b[1;32mnot\u001b[0m \u001b[0mchanged_format\u001b[0m\u001b[1;33m:\u001b[0m\u001b[1;33m\u001b[0m\u001b[0m\n\u001b[1;32m    255\u001b[0m         \u001b[1;31m# force copy\u001b[0m\u001b[1;33m\u001b[0m\u001b[1;33m\u001b[0m\u001b[0m\n",
      "\u001b[0;32mC:\\Program Files\\Anaconda3\\lib\\site-packages\\scipy\\sparse\\data.py\u001b[0m in \u001b[0;36mastype\u001b[0;34m(self, t)\u001b[0m\n\u001b[1;32m     63\u001b[0m \u001b[1;33m\u001b[0m\u001b[0m\n\u001b[1;32m     64\u001b[0m     \u001b[1;32mdef\u001b[0m \u001b[0mastype\u001b[0m\u001b[1;33m(\u001b[0m\u001b[0mself\u001b[0m\u001b[1;33m,\u001b[0m \u001b[0mt\u001b[0m\u001b[1;33m)\u001b[0m\u001b[1;33m:\u001b[0m\u001b[1;33m\u001b[0m\u001b[0m\n\u001b[0;32m---> 65\u001b[0;31m         \u001b[1;32mreturn\u001b[0m \u001b[0mself\u001b[0m\u001b[1;33m.\u001b[0m\u001b[0m_with_data\u001b[0m\u001b[1;33m(\u001b[0m\u001b[0mself\u001b[0m\u001b[1;33m.\u001b[0m\u001b[0m_deduped_data\u001b[0m\u001b[1;33m(\u001b[0m\u001b[1;33m)\u001b[0m\u001b[1;33m.\u001b[0m\u001b[0mastype\u001b[0m\u001b[1;33m(\u001b[0m\u001b[0mt\u001b[0m\u001b[1;33m)\u001b[0m\u001b[1;33m)\u001b[0m\u001b[1;33m\u001b[0m\u001b[0m\n\u001b[0m\u001b[1;32m     66\u001b[0m \u001b[1;33m\u001b[0m\u001b[0m\n\u001b[1;32m     67\u001b[0m     \u001b[1;32mdef\u001b[0m \u001b[0mconj\u001b[0m\u001b[1;33m(\u001b[0m\u001b[0mself\u001b[0m\u001b[1;33m)\u001b[0m\u001b[1;33m:\u001b[0m\u001b[1;33m\u001b[0m\u001b[0m\n",
      "\u001b[0;31mKeyboardInterrupt\u001b[0m: "
     ]
    }
   ],
   "source": [
    "from sklearn.svm import SVC\n",
    "iters = [3, 5, 7, 10]\n",
    "Cs = [1e-2, 1e-1, 1e0, 1e1, 1e2, 1e3]\n",
    "svms = []\n",
    "for mx_iter in iters:\n",
    "    for C in Cs:\n",
    "        print(\"C = \" + str(C) + \", iters = \" + str(mx_iter) + \": \")\n",
    "        svm = OneVsRestClassifier(SVC(C=C, max_iter=mx_iter))\n",
    "        svm.fit(X_tr, yy_tr)\n",
    "        yhat = svm.predict(X_dv)\n",
    "        acc,precision,recall,f1 = evaluation.all_metrics(yhat, yy_dev)\n",
    "        print(\"acc,precision,recall,f1\")\n",
    "        print(acc,precision,recall,f1)\n",
    "        svms.append(svm)"
   ]
  },
  {
   "cell_type": "code",
   "execution_count": 18,
   "metadata": {
    "collapsed": false
   },
   "outputs": [
    {
     "data": {
      "text/plain": [
       "[0.18409501678285567,\n",
       " 0.18874257681383941,\n",
       " 0.2101729925122644,\n",
       " 0.24141492383165505,\n",
       " 0.26452362509682414,\n",
       " 0.2747224373870385,\n",
       " 0.3187451587916344,\n",
       " 0.31900335657113349,\n",
       " 0.32726568551510454,\n",
       " 0.55499612703330747]"
      ]
     },
     "execution_count": 18,
     "metadata": {},
     "output_type": "execute_result"
    }
   ],
   "source": [
    "pcts = sorted([np.array(yy_dev[i]).mean() for i in range(Y)])\n",
    "pcts\n",
    "#these are the % of instances containing this label for each of the top 10 labels"
   ]
  },
  {
   "cell_type": "markdown",
   "metadata": {},
   "source": [
    "## ConvNet"
   ]
  },
  {
   "cell_type": "code",
   "execution_count": 13,
   "metadata": {
    "collapsed": false
   },
   "outputs": [],
   "source": [
    "import convnet"
   ]
  },
  {
   "cell_type": "code",
   "execution_count": 4,
   "metadata": {
    "collapsed": true
   },
   "outputs": [],
   "source": [
    "from keras import backend as K\n",
    "from keras.layers import Activation, Dense, Dropout, Embedding, Lambda, Reshape\n",
    "from keras.layers.convolutional import Convolution1D, Convolution2D\n",
    "from keras.layers.pooling import GlobalMaxPooling1D, MaxPooling1D, GlobalMaxPooling2D\n",
    "from keras.models import Sequential\n",
    "from keras.optimizers import Adam\n",
    "\n",
    "import tensorflow as tf"
   ]
  },
  {
   "cell_type": "code",
   "execution_count": 16,
   "metadata": {
    "collapsed": false
   },
   "outputs": [],
   "source": [
    "reload(convnet)\n",
    "(X_tr_c, Y_tr_c), (X_dv_c, Y_dv_c) = convnet.load_data(Y)"
   ]
  },
  {
   "cell_type": "code",
   "execution_count": 20,
   "metadata": {
    "collapsed": false
   },
   "outputs": [
    {
     "data": {
      "text/plain": [
       "(275549, 10)"
      ]
     },
     "execution_count": 20,
     "metadata": {},
     "output_type": "execute_result"
    }
   ],
   "source": [
    "Y_dv_c.shape"
   ]
  },
  {
   "cell_type": "code",
   "execution_count": 21,
   "metadata": {
    "collapsed": false
   },
   "outputs": [],
   "source": [
    "#pad/crop sequences\n",
    "from keras.preprocessing import sequence\n",
    "\n",
    "maxlen = 400\n",
    "X_tr_c = sequence.pad_sequences(X_tr_c, maxlen=maxlen)\n",
    "X_dv_c = sequence.pad_sequences(X_dv_c, maxlen=maxlen)"
   ]
  },
  {
   "cell_type": "code",
   "execution_count": 22,
   "metadata": {
    "collapsed": true
   },
   "outputs": [],
   "source": [
    "def build_model(Y):\n",
    "    model = Sequential()\n",
    "    model.add(Embedding(40000, 50, dropout=0.2, input_length=maxlen))\n",
    "#     model.add(Lambda(expand_dims, expand_dims_output_shape))\n",
    "    model.add(Convolution1D(Y, 3, activation='tanh'))\n",
    "    model.add(GlobalMaxPooling1D())\n",
    "    model.add(Dense(Y))\n",
    "    model.add(Dropout(0.2))\n",
    "    model.add(Activation('sigmoid'))\n",
    "    model.compile(optimizer='rmsprop', loss='binary_crossentropy')\n",
    "    return model"
   ]
  },
  {
   "cell_type": "code",
   "execution_count": 8,
   "metadata": {
    "collapsed": false
   },
   "outputs": [],
   "source": [
    "#old attempt\n",
    "# model = Sequential()\n",
    "# embedding = Embedding(40000, 50, dropout=0.2)\n",
    "# reshape = Lambda(expand_dims, expand_dims_output_shape)\n",
    "# conv2d = Convolution2D(Y, 3, 1, activation='tanh', input_shape=(1, None, 1))"
   ]
  },
  {
   "cell_type": "code",
   "execution_count": 8,
   "metadata": {
    "collapsed": false
   },
   "outputs": [],
   "source": [
    "# conv2d.get_config()\n",
    "cnn = build_model(Y)"
   ]
  },
  {
   "cell_type": "code",
   "execution_count": 9,
   "metadata": {
    "collapsed": false
   },
   "outputs": [
    {
     "data": {
      "image/svg+xml": [
       "<svg height=\"490pt\" viewBox=\"0.00 0.00 278.00 490.00\" width=\"278pt\" xmlns=\"http://www.w3.org/2000/svg\" xmlns:xlink=\"http://www.w3.org/1999/xlink\">\n",
       "<g class=\"graph\" id=\"graph0\" transform=\"scale(1 1) rotate(0) translate(4 486)\">\n",
       "<title>G</title>\n",
       "<polygon fill=\"white\" points=\"-4,4 -4,-486 274,-486 274,4 -4,4\" stroke=\"none\"/>\n",
       "<!-- 139810636756528 -->\n",
       "<g class=\"node\" id=\"node1\"><title>139810636756528</title>\n",
       "<polygon fill=\"none\" points=\"38.5,-445 38.5,-481 231.5,-481 231.5,-445 38.5,-445\" stroke=\"black\"/>\n",
       "<text font-family=\"Times,serif\" font-size=\"14.00\" text-anchor=\"middle\" x=\"135\" y=\"-459.3\">embedding_input_1: InputLayer</text>\n",
       "</g>\n",
       "<!-- 139810636756472 -->\n",
       "<g class=\"node\" id=\"node2\"><title>139810636756472</title>\n",
       "<polygon fill=\"none\" points=\"54.5,-371 54.5,-407 215.5,-407 215.5,-371 54.5,-371\" stroke=\"black\"/>\n",
       "<text font-family=\"Times,serif\" font-size=\"14.00\" text-anchor=\"middle\" x=\"135\" y=\"-385.3\">embedding_1: Embedding</text>\n",
       "</g>\n",
       "<!-- 139810636756528&#45;&gt;139810636756472 -->\n",
       "<g class=\"edge\" id=\"edge1\"><title>139810636756528-&gt;139810636756472</title>\n",
       "<path d=\"M135,-444.937C135,-436.807 135,-426.876 135,-417.705\" fill=\"none\" stroke=\"black\"/>\n",
       "<polygon fill=\"black\" points=\"138.5,-417.441 135,-407.441 131.5,-417.441 138.5,-417.441\" stroke=\"black\"/>\n",
       "</g>\n",
       "<!-- 139810623017760 -->\n",
       "<g class=\"node\" id=\"node3\"><title>139810623017760</title>\n",
       "<polygon fill=\"none\" points=\"35,-297 35,-333 235,-333 235,-297 35,-297\" stroke=\"black\"/>\n",
       "<text font-family=\"Times,serif\" font-size=\"14.00\" text-anchor=\"middle\" x=\"135\" y=\"-311.3\">convolution1d_1: Convolution1D</text>\n",
       "</g>\n",
       "<!-- 139810636756472&#45;&gt;139810623017760 -->\n",
       "<g class=\"edge\" id=\"edge2\"><title>139810636756472-&gt;139810623017760</title>\n",
       "<path d=\"M135,-370.937C135,-362.807 135,-352.876 135,-343.705\" fill=\"none\" stroke=\"black\"/>\n",
       "<polygon fill=\"black\" points=\"138.5,-343.441 135,-333.441 131.5,-343.441 138.5,-343.441\" stroke=\"black\"/>\n",
       "</g>\n",
       "<!-- 139810606878616 -->\n",
       "<g class=\"node\" id=\"node4\"><title>139810606878616</title>\n",
       "<polygon fill=\"none\" points=\"-0.5,-223 -0.5,-259 270.5,-259 270.5,-223 -0.5,-223\" stroke=\"black\"/>\n",
       "<text font-family=\"Times,serif\" font-size=\"14.00\" text-anchor=\"middle\" x=\"135\" y=\"-237.3\">globalmaxpooling1d_1: GlobalMaxPooling1D</text>\n",
       "</g>\n",
       "<!-- 139810623017760&#45;&gt;139810606878616 -->\n",
       "<g class=\"edge\" id=\"edge3\"><title>139810623017760-&gt;139810606878616</title>\n",
       "<path d=\"M135,-296.937C135,-288.807 135,-278.876 135,-269.705\" fill=\"none\" stroke=\"black\"/>\n",
       "<polygon fill=\"black\" points=\"138.5,-269.441 135,-259.441 131.5,-269.441 138.5,-269.441\" stroke=\"black\"/>\n",
       "</g>\n",
       "<!-- 139810577244000 -->\n",
       "<g class=\"node\" id=\"node5\"><title>139810577244000</title>\n",
       "<polygon fill=\"none\" points=\"84,-149 84,-185 186,-185 186,-149 84,-149\" stroke=\"black\"/>\n",
       "<text font-family=\"Times,serif\" font-size=\"14.00\" text-anchor=\"middle\" x=\"135\" y=\"-163.3\">dense_1: Dense</text>\n",
       "</g>\n",
       "<!-- 139810606878616&#45;&gt;139810577244000 -->\n",
       "<g class=\"edge\" id=\"edge4\"><title>139810606878616-&gt;139810577244000</title>\n",
       "<path d=\"M135,-222.937C135,-214.807 135,-204.876 135,-195.705\" fill=\"none\" stroke=\"black\"/>\n",
       "<polygon fill=\"black\" points=\"138.5,-195.441 135,-185.441 131.5,-195.441 138.5,-195.441\" stroke=\"black\"/>\n",
       "</g>\n",
       "<!-- 139810583757208 -->\n",
       "<g class=\"node\" id=\"node6\"><title>139810583757208</title>\n",
       "<polygon fill=\"none\" points=\"72.5,-75 72.5,-111 197.5,-111 197.5,-75 72.5,-75\" stroke=\"black\"/>\n",
       "<text font-family=\"Times,serif\" font-size=\"14.00\" text-anchor=\"middle\" x=\"135\" y=\"-89.3\">dropout_1: Dropout</text>\n",
       "</g>\n",
       "<!-- 139810577244000&#45;&gt;139810583757208 -->\n",
       "<g class=\"edge\" id=\"edge5\"><title>139810577244000-&gt;139810583757208</title>\n",
       "<path d=\"M135,-148.937C135,-140.807 135,-130.876 135,-121.705\" fill=\"none\" stroke=\"black\"/>\n",
       "<polygon fill=\"black\" points=\"138.5,-121.441 135,-111.441 131.5,-121.441 138.5,-121.441\" stroke=\"black\"/>\n",
       "</g>\n",
       "<!-- 139810561236776 -->\n",
       "<g class=\"node\" id=\"node7\"><title>139810561236776</title>\n",
       "<polygon fill=\"none\" points=\"61,-1 61,-37 209,-37 209,-1 61,-1\" stroke=\"black\"/>\n",
       "<text font-family=\"Times,serif\" font-size=\"14.00\" text-anchor=\"middle\" x=\"135\" y=\"-15.3\">activation_1: Activation</text>\n",
       "</g>\n",
       "<!-- 139810583757208&#45;&gt;139810561236776 -->\n",
       "<g class=\"edge\" id=\"edge6\"><title>139810583757208-&gt;139810561236776</title>\n",
       "<path d=\"M135,-74.937C135,-66.8072 135,-56.8761 135,-47.7047\" fill=\"none\" stroke=\"black\"/>\n",
       "<polygon fill=\"black\" points=\"138.5,-47.4406 135,-37.4407 131.5,-47.4407 138.5,-47.4406\" stroke=\"black\"/>\n",
       "</g>\n",
       "</g>\n",
       "</svg>"
      ],
      "text/plain": [
       "<IPython.core.display.SVG object>"
      ]
     },
     "execution_count": 9,
     "metadata": {},
     "output_type": "execute_result"
    }
   ],
   "source": [
    "from IPython.display import SVG\n",
    "from keras.utils.visualize_util import model_to_dot\n",
    "\n",
    "SVG(model_to_dot(cnn).create(prog='dot', format='svg'))"
   ]
  },
  {
   "cell_type": "code",
   "execution_count": 10,
   "metadata": {
    "collapsed": false
   },
   "outputs": [
    {
     "name": "stdout",
     "output_type": "stream",
     "text": [
      "____________________________________________________________________________________________________\n",
      "Layer (type)                     Output Shape          Param #     Connected to                     \n",
      "====================================================================================================\n",
      "embedding_1 (Embedding)          (None, 400, 50)       2000000     embedding_input_1[0][0]          \n",
      "____________________________________________________________________________________________________\n",
      "convolution1d_1 (Convolution1D)  (None, 398, 10)       1510        embedding_1[0][0]                \n",
      "____________________________________________________________________________________________________\n",
      "globalmaxpooling1d_1 (GlobalMaxP (None, 10)            0           convolution1d_1[0][0]            \n",
      "____________________________________________________________________________________________________\n",
      "dense_1 (Dense)                  (None, 10)            110         globalmaxpooling1d_1[0][0]       \n",
      "____________________________________________________________________________________________________\n",
      "dropout_1 (Dropout)              (None, 10)            0           dense_1[0][0]                    \n",
      "____________________________________________________________________________________________________\n",
      "activation_1 (Activation)        (None, 10)            0           dropout_1[0][0]                  \n",
      "====================================================================================================\n",
      "Total params: 2,001,620\n",
      "Trainable params: 2,001,620\n",
      "Non-trainable params: 0\n",
      "____________________________________________________________________________________________________\n"
     ]
    }
   ],
   "source": [
    "cnn.summary()"
   ]
  },
  {
   "cell_type": "code",
   "execution_count": 21,
   "metadata": {
    "collapsed": false
   },
   "outputs": [
    {
     "data": {
      "text/plain": [
       "(20107, 400)"
      ]
     },
     "execution_count": 21,
     "metadata": {},
     "output_type": "execute_result"
    }
   ],
   "source": [
    "X_padded.shape"
   ]
  },
  {
   "cell_type": "code",
   "execution_count": 22,
   "metadata": {
    "collapsed": false
   },
   "outputs": [],
   "source": [
    "# X_padded = np.reshape(X_padded, (20107, maxlen))\n",
    "# Y_tr_c = np.reshape(Y_tr_c, (20107,10))"
   ]
  },
  {
   "cell_type": "code",
   "execution_count": 23,
   "metadata": {
    "collapsed": false
   },
   "outputs": [
    {
     "data": {
      "text/plain": [
       "0.049833391356244094"
      ]
     },
     "execution_count": 23,
     "metadata": {},
     "output_type": "execute_result"
    }
   ],
   "source": [
    "X_tr_c.shape\n",
    "len([x for x in X_tr_c if len(x) > 667])/float(len(X_tr_c))"
   ]
  },
  {
   "cell_type": "code",
   "execution_count": 24,
   "metadata": {
    "collapsed": false
   },
   "outputs": [
    {
     "data": {
      "text/plain": [
       "(20107, 10)"
      ]
     },
     "execution_count": 24,
     "metadata": {},
     "output_type": "execute_result"
    }
   ],
   "source": [
    "Y_tr_c.shape"
   ]
  },
  {
   "cell_type": "code",
   "execution_count": 25,
   "metadata": {
    "collapsed": false
   },
   "outputs": [
    {
     "data": {
      "text/plain": [
       "[<tf.Tensor 'embedding_input_1:0' shape=(?, 400) dtype=int32>]"
      ]
     },
     "execution_count": 25,
     "metadata": {},
     "output_type": "execute_result"
    }
   ],
   "source": [
    "cnn.inputs"
   ]
  },
  {
   "cell_type": "code",
   "execution_count": 26,
   "metadata": {
    "collapsed": false
   },
   "outputs": [
    {
     "data": {
      "text/plain": [
       "[<tf.Tensor 'Sigmoid:0' shape=(?, 10) dtype=float32>]"
      ]
     },
     "execution_count": 26,
     "metadata": {},
     "output_type": "execute_result"
    }
   ],
   "source": [
    "cnn.outputs"
   ]
  },
  {
   "cell_type": "code",
   "execution_count": 12,
   "metadata": {
    "collapsed": false,
    "scrolled": true
   },
   "outputs": [
    {
     "ename": "KeyboardInterrupt",
     "evalue": "",
     "output_type": "error",
     "traceback": [
      "\u001b[0;31m---------------------------------------------------------------------------\u001b[0m",
      "\u001b[0;31mKeyboardInterrupt\u001b[0m                         Traceback (most recent call last)",
      "\u001b[0;32m<ipython-input-12-d6bda128919d>\u001b[0m in \u001b[0;36m<module>\u001b[0;34m()\u001b[0m\n\u001b[1;32m      4\u001b[0m \u001b[0;31m#     label = np.reshape(label, (1,Y))\u001b[0m\u001b[0;34m\u001b[0m\u001b[0;34m\u001b[0m\u001b[0m\n\u001b[1;32m      5\u001b[0m \u001b[0;31m#     model.train_on_batch(note, label)\u001b[0m\u001b[0;34m\u001b[0m\u001b[0;34m\u001b[0m\u001b[0m\n\u001b[0;32m----> 6\u001b[0;31m \u001b[0mhist\u001b[0m \u001b[0;34m=\u001b[0m \u001b[0mcnn\u001b[0m\u001b[0;34m.\u001b[0m\u001b[0mfit\u001b[0m\u001b[0;34m(\u001b[0m\u001b[0mX_padded\u001b[0m\u001b[0;34m,\u001b[0m \u001b[0mY_tr_c\u001b[0m\u001b[0;34m,\u001b[0m \u001b[0mbatch_size\u001b[0m\u001b[0;34m=\u001b[0m\u001b[0;36m16\u001b[0m\u001b[0;34m,\u001b[0m \u001b[0mnb_epoch\u001b[0m\u001b[0;34m=\u001b[0m\u001b[0;36m15\u001b[0m\u001b[0;34m,\u001b[0m\u001b[0mvalidation_data\u001b[0m\u001b[0;34m=\u001b[0m\u001b[0;34m(\u001b[0m\u001b[0mX_dv_c\u001b[0m\u001b[0;34m,\u001b[0m \u001b[0mY_dv_c\u001b[0m\u001b[0;34m)\u001b[0m\u001b[0;34m,\u001b[0m\u001b[0mverbose\u001b[0m\u001b[0;34m=\u001b[0m\u001b[0;36m0\u001b[0m\u001b[0;34m)\u001b[0m\u001b[0;34m\u001b[0m\u001b[0m\n\u001b[0m",
      "\u001b[0;32m/home/james/anaconda3/lib/python3.6/site-packages/Keras-1.2.1-py3.6.egg/keras/models.py\u001b[0m in \u001b[0;36mfit\u001b[0;34m(self, x, y, batch_size, nb_epoch, verbose, callbacks, validation_split, validation_data, shuffle, class_weight, sample_weight, initial_epoch, **kwargs)\u001b[0m\n\u001b[1;32m    670\u001b[0m                               \u001b[0mclass_weight\u001b[0m\u001b[0;34m=\u001b[0m\u001b[0mclass_weight\u001b[0m\u001b[0;34m,\u001b[0m\u001b[0;34m\u001b[0m\u001b[0m\n\u001b[1;32m    671\u001b[0m                               \u001b[0msample_weight\u001b[0m\u001b[0;34m=\u001b[0m\u001b[0msample_weight\u001b[0m\u001b[0;34m,\u001b[0m\u001b[0;34m\u001b[0m\u001b[0m\n\u001b[0;32m--> 672\u001b[0;31m                               initial_epoch=initial_epoch)\n\u001b[0m\u001b[1;32m    673\u001b[0m \u001b[0;34m\u001b[0m\u001b[0m\n\u001b[1;32m    674\u001b[0m     def evaluate(self, x, y, batch_size=32, verbose=1,\n",
      "\u001b[0;32m/home/james/anaconda3/lib/python3.6/site-packages/Keras-1.2.1-py3.6.egg/keras/engine/training.py\u001b[0m in \u001b[0;36mfit\u001b[0;34m(self, x, y, batch_size, nb_epoch, verbose, callbacks, validation_split, validation_data, shuffle, class_weight, sample_weight, initial_epoch)\u001b[0m\n\u001b[1;32m   1195\u001b[0m                               \u001b[0mval_f\u001b[0m\u001b[0;34m=\u001b[0m\u001b[0mval_f\u001b[0m\u001b[0;34m,\u001b[0m \u001b[0mval_ins\u001b[0m\u001b[0;34m=\u001b[0m\u001b[0mval_ins\u001b[0m\u001b[0;34m,\u001b[0m \u001b[0mshuffle\u001b[0m\u001b[0;34m=\u001b[0m\u001b[0mshuffle\u001b[0m\u001b[0;34m,\u001b[0m\u001b[0;34m\u001b[0m\u001b[0m\n\u001b[1;32m   1196\u001b[0m                               \u001b[0mcallback_metrics\u001b[0m\u001b[0;34m=\u001b[0m\u001b[0mcallback_metrics\u001b[0m\u001b[0;34m,\u001b[0m\u001b[0;34m\u001b[0m\u001b[0m\n\u001b[0;32m-> 1197\u001b[0;31m                               initial_epoch=initial_epoch)\n\u001b[0m\u001b[1;32m   1198\u001b[0m \u001b[0;34m\u001b[0m\u001b[0m\n\u001b[1;32m   1199\u001b[0m     \u001b[0;32mdef\u001b[0m \u001b[0mevaluate\u001b[0m\u001b[0;34m(\u001b[0m\u001b[0mself\u001b[0m\u001b[0;34m,\u001b[0m \u001b[0mx\u001b[0m\u001b[0;34m,\u001b[0m \u001b[0my\u001b[0m\u001b[0;34m,\u001b[0m \u001b[0mbatch_size\u001b[0m\u001b[0;34m=\u001b[0m\u001b[0;36m32\u001b[0m\u001b[0;34m,\u001b[0m \u001b[0mverbose\u001b[0m\u001b[0;34m=\u001b[0m\u001b[0;36m1\u001b[0m\u001b[0;34m,\u001b[0m \u001b[0msample_weight\u001b[0m\u001b[0;34m=\u001b[0m\u001b[0;32mNone\u001b[0m\u001b[0;34m)\u001b[0m\u001b[0;34m:\u001b[0m\u001b[0;34m\u001b[0m\u001b[0m\n",
      "\u001b[0;32m/home/james/anaconda3/lib/python3.6/site-packages/Keras-1.2.1-py3.6.egg/keras/engine/training.py\u001b[0m in \u001b[0;36m_fit_loop\u001b[0;34m(self, f, ins, out_labels, batch_size, nb_epoch, verbose, callbacks, val_f, val_ins, shuffle, callback_metrics, initial_epoch)\u001b[0m\n\u001b[1;32m    890\u001b[0m                 \u001b[0mbatch_logs\u001b[0m\u001b[0;34m[\u001b[0m\u001b[0;34m'size'\u001b[0m\u001b[0;34m]\u001b[0m \u001b[0;34m=\u001b[0m \u001b[0mlen\u001b[0m\u001b[0;34m(\u001b[0m\u001b[0mbatch_ids\u001b[0m\u001b[0;34m)\u001b[0m\u001b[0;34m\u001b[0m\u001b[0m\n\u001b[1;32m    891\u001b[0m                 \u001b[0mcallbacks\u001b[0m\u001b[0;34m.\u001b[0m\u001b[0mon_batch_begin\u001b[0m\u001b[0;34m(\u001b[0m\u001b[0mbatch_index\u001b[0m\u001b[0;34m,\u001b[0m \u001b[0mbatch_logs\u001b[0m\u001b[0;34m)\u001b[0m\u001b[0;34m\u001b[0m\u001b[0m\n\u001b[0;32m--> 892\u001b[0;31m                 \u001b[0mouts\u001b[0m \u001b[0;34m=\u001b[0m \u001b[0mf\u001b[0m\u001b[0;34m(\u001b[0m\u001b[0mins_batch\u001b[0m\u001b[0;34m)\u001b[0m\u001b[0;34m\u001b[0m\u001b[0m\n\u001b[0m\u001b[1;32m    893\u001b[0m                 \u001b[0;32mif\u001b[0m \u001b[0;32mnot\u001b[0m \u001b[0misinstance\u001b[0m\u001b[0;34m(\u001b[0m\u001b[0mouts\u001b[0m\u001b[0;34m,\u001b[0m \u001b[0mlist\u001b[0m\u001b[0;34m)\u001b[0m\u001b[0;34m:\u001b[0m\u001b[0;34m\u001b[0m\u001b[0m\n\u001b[1;32m    894\u001b[0m                     \u001b[0mouts\u001b[0m \u001b[0;34m=\u001b[0m \u001b[0;34m[\u001b[0m\u001b[0mouts\u001b[0m\u001b[0;34m]\u001b[0m\u001b[0;34m\u001b[0m\u001b[0m\n",
      "\u001b[0;32m/home/james/anaconda3/lib/python3.6/site-packages/Keras-1.2.1-py3.6.egg/keras/backend/tensorflow_backend.py\u001b[0m in \u001b[0;36m__call__\u001b[0;34m(self, inputs)\u001b[0m\n\u001b[1;32m   1920\u001b[0m         \u001b[0msession\u001b[0m \u001b[0;34m=\u001b[0m \u001b[0mget_session\u001b[0m\u001b[0;34m(\u001b[0m\u001b[0;34m)\u001b[0m\u001b[0;34m\u001b[0m\u001b[0m\n\u001b[1;32m   1921\u001b[0m         updated = session.run(self.outputs + [self.updates_op],\n\u001b[0;32m-> 1922\u001b[0;31m                               feed_dict=feed_dict)\n\u001b[0m\u001b[1;32m   1923\u001b[0m         \u001b[0;32mreturn\u001b[0m \u001b[0mupdated\u001b[0m\u001b[0;34m[\u001b[0m\u001b[0;34m:\u001b[0m\u001b[0mlen\u001b[0m\u001b[0;34m(\u001b[0m\u001b[0mself\u001b[0m\u001b[0;34m.\u001b[0m\u001b[0moutputs\u001b[0m\u001b[0;34m)\u001b[0m\u001b[0;34m]\u001b[0m\u001b[0;34m\u001b[0m\u001b[0m\n\u001b[1;32m   1924\u001b[0m \u001b[0;34m\u001b[0m\u001b[0m\n",
      "\u001b[0;32m/home/james/anaconda3/lib/python3.6/site-packages/tensorflow/python/client/session.py\u001b[0m in \u001b[0;36mrun\u001b[0;34m(self, fetches, feed_dict, options, run_metadata)\u001b[0m\n\u001b[1;32m    764\u001b[0m     \u001b[0;32mtry\u001b[0m\u001b[0;34m:\u001b[0m\u001b[0;34m\u001b[0m\u001b[0m\n\u001b[1;32m    765\u001b[0m       result = self._run(None, fetches, feed_dict, options_ptr,\n\u001b[0;32m--> 766\u001b[0;31m                          run_metadata_ptr)\n\u001b[0m\u001b[1;32m    767\u001b[0m       \u001b[0;32mif\u001b[0m \u001b[0mrun_metadata\u001b[0m\u001b[0;34m:\u001b[0m\u001b[0;34m\u001b[0m\u001b[0m\n\u001b[1;32m    768\u001b[0m         \u001b[0mproto_data\u001b[0m \u001b[0;34m=\u001b[0m \u001b[0mtf_session\u001b[0m\u001b[0;34m.\u001b[0m\u001b[0mTF_GetBuffer\u001b[0m\u001b[0;34m(\u001b[0m\u001b[0mrun_metadata_ptr\u001b[0m\u001b[0;34m)\u001b[0m\u001b[0;34m\u001b[0m\u001b[0m\n",
      "\u001b[0;32m/home/james/anaconda3/lib/python3.6/site-packages/tensorflow/python/client/session.py\u001b[0m in \u001b[0;36m_run\u001b[0;34m(self, handle, fetches, feed_dict, options, run_metadata)\u001b[0m\n\u001b[1;32m    962\u001b[0m     \u001b[0;32mif\u001b[0m \u001b[0mfinal_fetches\u001b[0m \u001b[0;32mor\u001b[0m \u001b[0mfinal_targets\u001b[0m\u001b[0;34m:\u001b[0m\u001b[0;34m\u001b[0m\u001b[0m\n\u001b[1;32m    963\u001b[0m       results = self._do_run(handle, final_targets, final_fetches,\n\u001b[0;32m--> 964\u001b[0;31m                              feed_dict_string, options, run_metadata)\n\u001b[0m\u001b[1;32m    965\u001b[0m     \u001b[0;32melse\u001b[0m\u001b[0;34m:\u001b[0m\u001b[0;34m\u001b[0m\u001b[0m\n\u001b[1;32m    966\u001b[0m       \u001b[0mresults\u001b[0m \u001b[0;34m=\u001b[0m \u001b[0;34m[\u001b[0m\u001b[0;34m]\u001b[0m\u001b[0;34m\u001b[0m\u001b[0m\n",
      "\u001b[0;32m/home/james/anaconda3/lib/python3.6/site-packages/tensorflow/python/client/session.py\u001b[0m in \u001b[0;36m_do_run\u001b[0;34m(self, handle, target_list, fetch_list, feed_dict, options, run_metadata)\u001b[0m\n\u001b[1;32m   1012\u001b[0m     \u001b[0;32mif\u001b[0m \u001b[0mhandle\u001b[0m \u001b[0;32mis\u001b[0m \u001b[0;32mNone\u001b[0m\u001b[0;34m:\u001b[0m\u001b[0;34m\u001b[0m\u001b[0m\n\u001b[1;32m   1013\u001b[0m       return self._do_call(_run_fn, self._session, feed_dict, fetch_list,\n\u001b[0;32m-> 1014\u001b[0;31m                            target_list, options, run_metadata)\n\u001b[0m\u001b[1;32m   1015\u001b[0m     \u001b[0;32melse\u001b[0m\u001b[0;34m:\u001b[0m\u001b[0;34m\u001b[0m\u001b[0m\n\u001b[1;32m   1016\u001b[0m       return self._do_call(_prun_fn, self._session, handle, feed_dict,\n",
      "\u001b[0;32m/home/james/anaconda3/lib/python3.6/site-packages/tensorflow/python/client/session.py\u001b[0m in \u001b[0;36m_do_call\u001b[0;34m(self, fn, *args)\u001b[0m\n\u001b[1;32m   1019\u001b[0m   \u001b[0;32mdef\u001b[0m \u001b[0m_do_call\u001b[0m\u001b[0;34m(\u001b[0m\u001b[0mself\u001b[0m\u001b[0;34m,\u001b[0m \u001b[0mfn\u001b[0m\u001b[0;34m,\u001b[0m \u001b[0;34m*\u001b[0m\u001b[0margs\u001b[0m\u001b[0;34m)\u001b[0m\u001b[0;34m:\u001b[0m\u001b[0;34m\u001b[0m\u001b[0m\n\u001b[1;32m   1020\u001b[0m     \u001b[0;32mtry\u001b[0m\u001b[0;34m:\u001b[0m\u001b[0;34m\u001b[0m\u001b[0m\n\u001b[0;32m-> 1021\u001b[0;31m       \u001b[0;32mreturn\u001b[0m \u001b[0mfn\u001b[0m\u001b[0;34m(\u001b[0m\u001b[0;34m*\u001b[0m\u001b[0margs\u001b[0m\u001b[0;34m)\u001b[0m\u001b[0;34m\u001b[0m\u001b[0m\n\u001b[0m\u001b[1;32m   1022\u001b[0m     \u001b[0;32mexcept\u001b[0m \u001b[0merrors\u001b[0m\u001b[0;34m.\u001b[0m\u001b[0mOpError\u001b[0m \u001b[0;32mas\u001b[0m \u001b[0me\u001b[0m\u001b[0;34m:\u001b[0m\u001b[0;34m\u001b[0m\u001b[0m\n\u001b[1;32m   1023\u001b[0m       \u001b[0mmessage\u001b[0m \u001b[0;34m=\u001b[0m \u001b[0mcompat\u001b[0m\u001b[0;34m.\u001b[0m\u001b[0mas_text\u001b[0m\u001b[0;34m(\u001b[0m\u001b[0me\u001b[0m\u001b[0;34m.\u001b[0m\u001b[0mmessage\u001b[0m\u001b[0;34m)\u001b[0m\u001b[0;34m\u001b[0m\u001b[0m\n",
      "\u001b[0;32m/home/james/anaconda3/lib/python3.6/site-packages/tensorflow/python/client/session.py\u001b[0m in \u001b[0;36m_run_fn\u001b[0;34m(session, feed_dict, fetch_list, target_list, options, run_metadata)\u001b[0m\n\u001b[1;32m   1001\u001b[0m         return tf_session.TF_Run(session, options,\n\u001b[1;32m   1002\u001b[0m                                  \u001b[0mfeed_dict\u001b[0m\u001b[0;34m,\u001b[0m \u001b[0mfetch_list\u001b[0m\u001b[0;34m,\u001b[0m \u001b[0mtarget_list\u001b[0m\u001b[0;34m,\u001b[0m\u001b[0;34m\u001b[0m\u001b[0m\n\u001b[0;32m-> 1003\u001b[0;31m                                  status, run_metadata)\n\u001b[0m\u001b[1;32m   1004\u001b[0m \u001b[0;34m\u001b[0m\u001b[0m\n\u001b[1;32m   1005\u001b[0m     \u001b[0;32mdef\u001b[0m \u001b[0m_prun_fn\u001b[0m\u001b[0;34m(\u001b[0m\u001b[0msession\u001b[0m\u001b[0;34m,\u001b[0m \u001b[0mhandle\u001b[0m\u001b[0;34m,\u001b[0m \u001b[0mfeed_dict\u001b[0m\u001b[0;34m,\u001b[0m \u001b[0mfetch_list\u001b[0m\u001b[0;34m)\u001b[0m\u001b[0;34m:\u001b[0m\u001b[0;34m\u001b[0m\u001b[0m\n",
      "\u001b[0;31mKeyboardInterrupt\u001b[0m: "
     ]
    }
   ],
   "source": [
    "# for note, label in zip(X_tr_c, Y_tr_c):\n",
    "#     print(note)\n",
    "#     print(label.shape)\n",
    "#     label = np.reshape(label, (1,Y))\n",
    "#     model.train_on_batch(note, label)\n",
    "hist = cnn.fit(X_padded, Y_tr_c, batch_size=16, nb_epoch=1,validation_data=(X_dv_c, Y_dv_c),verbose=0)"
   ]
  },
  {
   "cell_type": "code",
   "execution_count": 73,
   "metadata": {
    "collapsed": false
   },
   "outputs": [],
   "source": [
    "X_dv_c = sequence.pad_sequences(X_dv_c, maxlen=maxlen)"
   ]
  },
  {
   "cell_type": "code",
   "execution_count": 74,
   "metadata": {
    "collapsed": true
   },
   "outputs": [],
   "source": [
    "preds = model.predict(X_dv_c)"
   ]
  },
  {
   "cell_type": "code",
   "execution_count": 35,
   "metadata": {
    "collapsed": false
   },
   "outputs": [
    {
     "data": {
      "text/plain": [
       "(8971, 10)"
      ]
     },
     "execution_count": 35,
     "metadata": {},
     "output_type": "execute_result"
    }
   ],
   "source": [
    "preds.shape"
   ]
  },
  {
   "cell_type": "code",
   "execution_count": 89,
   "metadata": {
    "collapsed": true
   },
   "outputs": [],
   "source": [
    "yhat = np.zeros(preds.shape)"
   ]
  },
  {
   "cell_type": "code",
   "execution_count": 90,
   "metadata": {
    "collapsed": false
   },
   "outputs": [
    {
     "data": {
      "text/plain": [
       "array([ 0.41807741,  0.52856904,  0.40794232,  0.36543503,  0.57675272,\n",
       "        0.30248693,  0.31626055,  0.25988546,  0.21573617,  0.20210788], dtype=float32)"
      ]
     },
     "execution_count": 90,
     "metadata": {},
     "output_type": "execute_result"
    }
   ],
   "source": [
    "preds[0]"
   ]
  },
  {
   "cell_type": "code",
   "execution_count": 467,
   "metadata": {
    "collapsed": false
   },
   "outputs": [],
   "source": [
    "dumb_yhat = np.array([[1, 1, 1, 1, 1, 0, 0, 0, 0, 0] for _ in range(preds.shape[0])])"
   ]
  },
  {
   "cell_type": "code",
   "execution_count": 91,
   "metadata": {
    "collapsed": false
   },
   "outputs": [],
   "source": [
    "yhat[preds>=0.50] = 1\n",
    "yhat[preds<0.50] = 0"
   ]
  },
  {
   "cell_type": "code",
   "execution_count": 95,
   "metadata": {
    "collapsed": false
   },
   "outputs": [
    {
     "name": "stderr",
     "output_type": "stream",
     "text": [
      "/media/james/Windows8_OS/Users/James/Documents/SCHOOL/MS/research/mimic/src/evaluation.py:15: RuntimeWarning: invalid value encountered in true_divide\n",
      "  num = intersect_size(yhat, y) / yhat.sum(axis=1)\n"
     ]
    },
    {
     "data": {
      "text/plain": [
       "(0.24472542035801539,\n",
       " 0.45819864006242306,\n",
       " 0.27545446261587253,\n",
       " 0.31902784231956183)"
      ]
     },
     "execution_count": 95,
     "metadata": {},
     "output_type": "execute_result"
    }
   ],
   "source": [
    "import evaluation\n",
    "evaluation.all_metrics(yhat, Y_dv_c)"
   ]
  },
  {
   "cell_type": "code",
   "execution_count": 96,
   "metadata": {
    "collapsed": false
   },
   "outputs": [
    {
     "data": {
      "text/plain": [
       "(0.27321368855199574, 0.27321368855199574, 1.0, 0.41006704152529178)"
      ]
     },
     "execution_count": 96,
     "metadata": {},
     "output_type": "execute_result"
    }
   ],
   "source": [
    "import evaluation\n",
    "evaluation.all_metrics(np.ones(yhat.shape), Y_dv_c)"
   ]
  },
  {
   "cell_type": "code",
   "execution_count": 85,
   "metadata": {
    "collapsed": false
   },
   "outputs": [],
   "source": [
    "preds_tr = model.predict(X_padded)"
   ]
  },
  {
   "cell_type": "code",
   "execution_count": 86,
   "metadata": {
    "collapsed": true
   },
   "outputs": [],
   "source": [
    "yhat_tr = np.zeros(preds_tr.shape)"
   ]
  },
  {
   "cell_type": "code",
   "execution_count": 87,
   "metadata": {
    "collapsed": true
   },
   "outputs": [],
   "source": [
    "yhat_tr[preds_tr>=0.35] = 1\n",
    "yhat_tr[preds_tr<0.35] = 0"
   ]
  },
  {
   "cell_type": "code",
   "execution_count": 88,
   "metadata": {
    "collapsed": false
   },
   "outputs": [
    {
     "name": "stderr",
     "output_type": "stream",
     "text": [
      "/media/james/Windows8_OS/Users/James/Documents/SCHOOL/MS/research/mimic/src/evaluation.py:15: RuntimeWarning: invalid value encountered in true_divide\n",
      "  num = intersect_size(yhat, y) / yhat.sum(axis=1)\n"
     ]
    },
    {
     "data": {
      "text/plain": [
       "(0.40001874889972139,\n",
       " 0.54690441850385951,\n",
       " 0.55199024504614547,\n",
       " 0.50778567431473087)"
      ]
     },
     "execution_count": 88,
     "metadata": {},
     "output_type": "execute_result"
    }
   ],
   "source": [
    "evaluation.all_metrics(yhat_tr, Y_tr_c)"
   ]
  },
  {
   "cell_type": "markdown",
   "metadata": {},
   "source": [
    "# Multi-window ConvNet"
   ]
  },
  {
   "cell_type": "code",
   "execution_count": 97,
   "metadata": {
    "collapsed": false
   },
   "outputs": [],
   "source": [
    "from keras.layers import Input, merge\n",
    "from keras.models import Model\n",
    "\n",
    "model_input = Input(shape=(maxlen,))\n",
    "embed = Embedding(40000, 50, dropout=0.3)(model_input)\n",
    "\n",
    "#try multiple conv windows\n",
    "conv1 = Convolution1D(Y, 3, activation='tanh')(embed)\n",
    "pool1 = GlobalMaxPooling1D()(conv1)\n",
    "\n",
    "conv2 = Convolution1D(Y, 4, activation='tanh')(embed)\n",
    "pool2 = GlobalMaxPooling1D()(conv2)\n",
    "\n",
    "conv3 = Convolution1D(Y, 5, activation='tanh')(embed)\n",
    "pool3 = GlobalMaxPooling1D()(conv3)\n",
    "\n",
    "merged = merge([pool1, pool2, pool3], mode='concat', concat_axis=1)\n",
    "\n",
    "dense = Dense(Y)(merged)\n",
    "dropout = Dropout(0.3)(dense)\n",
    "activation = Activation('sigmoid')(dropout)\n",
    "\n",
    "cnn_multi = Model(input=model_input, output=activation)\n",
    "\n",
    "cnn_multi.compile(optimizer='rmsprop', loss='binary_crossentropy')"
   ]
  },
  {
   "cell_type": "code",
   "execution_count": 100,
   "metadata": {
    "collapsed": false
   },
   "outputs": [
    {
     "name": "stderr",
     "output_type": "stream",
     "text": [
      "/home/james/anaconda3/lib/python3.6/site-packages/tensorflow/python/ops/gradients_impl.py:91: UserWarning: Converting sparse IndexedSlices to a dense Tensor of unknown shape. This may consume a large amount of memory.\n",
      "  \"Converting sparse IndexedSlices to a dense Tensor of unknown shape. \"\n"
     ]
    },
    {
     "data": {
      "text/plain": [
       "<keras.callbacks.History at 0x7ff2563aa908>"
      ]
     },
     "execution_count": 100,
     "metadata": {},
     "output_type": "execute_result"
    }
   ],
   "source": [
    "# model.outputs\n",
    "cnn_multi.fit(X_padded, Y_tr_c, batch_size=32, nb_epoch=1, validation_data=(X_dv_c, Y_dv_c), verbose=0)"
   ]
  },
  {
   "cell_type": "code",
   "execution_count": 101,
   "metadata": {
    "collapsed": true
   },
   "outputs": [],
   "source": [
    "preds_c_m = cnn_multi.predict(X_dv_c)"
   ]
  },
  {
   "cell_type": "code",
   "execution_count": 102,
   "metadata": {
    "collapsed": true
   },
   "outputs": [],
   "source": [
    "yhat_c_m = np.zeros(preds.shape)"
   ]
  },
  {
   "cell_type": "code",
   "execution_count": 103,
   "metadata": {
    "collapsed": false
   },
   "outputs": [],
   "source": [
    "yhat_c_m[preds_c_m>=0.5] = 1\n",
    "yhat_c_m[preds_c_m<0.5] = 0"
   ]
  },
  {
   "cell_type": "code",
   "execution_count": 104,
   "metadata": {
    "collapsed": false
   },
   "outputs": [
    {
     "name": "stderr",
     "output_type": "stream",
     "text": [
      "/media/james/Windows8_OS/Users/James/Documents/SCHOOL/MS/research/mimic/src/evaluation.py:15: RuntimeWarning: invalid value encountered in true_divide\n",
      "  num = intersect_size(yhat, y) / yhat.sum(axis=1)\n"
     ]
    },
    {
     "data": {
      "text/plain": [
       "(0.12848813549125768,\n",
       " 0.29495039571954074,\n",
       " 0.12848813549125768,\n",
       " 0.16781242203714722)"
      ]
     },
     "execution_count": 104,
     "metadata": {},
     "output_type": "execute_result"
    }
   ],
   "source": [
    "evaluation.all_metrics(yhat_c_m, Y_dv_c)"
   ]
  },
  {
   "cell_type": "code",
   "execution_count": null,
   "metadata": {
    "collapsed": false
   },
   "outputs": [],
   "source": [
    "preds_tr_c_m = cnn_multi.predict(X_padded)"
   ]
  },
  {
   "cell_type": "code",
   "execution_count": 565,
   "metadata": {
    "collapsed": true
   },
   "outputs": [],
   "source": [
    "yhat_tr_c_m = np.zeros(preds_tr_c_m.shape)"
   ]
  },
  {
   "cell_type": "code",
   "execution_count": 566,
   "metadata": {
    "collapsed": true
   },
   "outputs": [],
   "source": [
    "yhat_tr[preds_tr_c_m>=0.5] = 1\n",
    "yhat_tr[preds_tr_c_m<0.5] = 0"
   ]
  },
  {
   "cell_type": "code",
   "execution_count": 567,
   "metadata": {
    "collapsed": false
   },
   "outputs": [
    {
     "data": {
      "text/plain": [
       "(0.98916408326563821,\n",
       " 0.992273696833053,\n",
       " 0.99600701721977847,\n",
       " 0.99299717213773675)"
      ]
     },
     "execution_count": 567,
     "metadata": {},
     "output_type": "execute_result"
    }
   ],
   "source": [
    "evaluation.all_metrics(yhat_tr, Y_tr_c)"
   ]
  }
 ],
 "metadata": {
  "anaconda-cloud": {},
  "kernelspec": {
   "display_name": "Python 3",
   "language": "python",
   "name": "python3"
  },
  "language_info": {
   "codemirror_mode": {
    "name": "ipython",
    "version": 3
   },
   "file_extension": ".py",
   "mimetype": "text/x-python",
   "name": "python",
   "nbconvert_exporter": "python",
   "pygments_lexer": "ipython3",
   "version": "3.6.0"
  }
 },
 "nbformat": 4,
 "nbformat_minor": 1
}

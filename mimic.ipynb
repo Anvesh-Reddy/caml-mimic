{
 "cells": [
  {
   "cell_type": "code",
   "execution_count": 1,
   "metadata": {
    "collapsed": false
   },
   "outputs": [
    {
     "name": "stdout",
     "output_type": "stream",
     "text": [
      "Populating the interactive namespace from numpy and matplotlib\n",
      "Populating the interactive namespace from numpy and matplotlib\n"
     ]
    }
   ],
   "source": [
    "import log_reg\n",
    "from imp import reload\n",
    "\n",
    "import numpy as np\n",
    "import pandas as pd\n",
    "\n",
    "import evaluation\n",
    "from sklearn.multiclass import OneVsRestClassifier\n",
    "from sklearn.linear_model import LogisticRegression\n",
    "\n",
    "%pylab --no-import-all inline\n",
    "import matplotlib.pyplot as plt\n",
    "%pylab inline"
   ]
  },
  {
   "cell_type": "code",
   "execution_count": 2,
   "metadata": {
    "collapsed": true
   },
   "outputs": [],
   "source": [
    "Y = 10\n",
    "vocab_min = 3"
   ]
  },
  {
   "cell_type": "code",
   "execution_count": 3,
   "metadata": {
    "collapsed": false
   },
   "outputs": [
    {
     "name": "stdout",
     "output_type": "stream",
     "text": [
      "Processing..............................................................."
     ]
    }
   ],
   "source": [
    "reload(log_reg)\n",
    "notefile = '../mimicdata/notes_' + str(Y) + '_train_ind.csv'\n",
    "X_tr = log_reg.construct_csr_matrix(notefile)"
   ]
  },
  {
   "cell_type": "code",
   "execution_count": 4,
   "metadata": {
    "collapsed": false
   },
   "outputs": [
    {
     "data": {
      "text/plain": [
       "(15492, 40000)"
      ]
     },
     "execution_count": 4,
     "metadata": {},
     "output_type": "execute_result"
    }
   ],
   "source": [
    "X_tr.shape"
   ]
  },
  {
   "cell_type": "code",
   "execution_count": 5,
   "metadata": {
    "collapsed": false
   },
   "outputs": [],
   "source": [
    "reload(log_reg)\n",
    "labelfile = '../mimicdata/labels_10_train.csv'\n",
    "yy_tr = log_reg.construct_label_lists(labelfile, Y, X_tr.shape[0])"
   ]
  },
  {
   "cell_type": "code",
   "execution_count": 6,
   "metadata": {
    "collapsed": false
   },
   "outputs": [
    {
     "data": {
      "text/plain": [
       "4862"
      ]
     },
     "execution_count": 6,
     "metadata": {},
     "output_type": "execute_result"
    }
   ],
   "source": [
    "X_tr[0].toarray().sum()"
   ]
  },
  {
   "cell_type": "code",
   "execution_count": 7,
   "metadata": {
    "collapsed": false
   },
   "outputs": [
    {
     "name": "stdout",
     "output_type": "stream",
     "text": [
      "Processing................................."
     ]
    }
   ],
   "source": [
    "devfile = '../mimicdata/notes_' + str(Y) + '_dev_ind.csv'\n",
    "X_dv = log_reg.construct_csr_matrix(devfile)"
   ]
  },
  {
   "cell_type": "code",
   "execution_count": 8,
   "metadata": {
    "collapsed": false
   },
   "outputs": [
    {
     "data": {
      "text/plain": [
       "(7746, 40000)"
      ]
     },
     "execution_count": 8,
     "metadata": {},
     "output_type": "execute_result"
    }
   ],
   "source": [
    "X_dv.shape"
   ]
  },
  {
   "cell_type": "code",
   "execution_count": 9,
   "metadata": {
    "collapsed": false
   },
   "outputs": [],
   "source": [
    "labelfile_dev = '../mimicdata/labels_10_dev.csv'\n",
    "yy_dev = log_reg.construct_label_lists(labelfile_dev, Y, X_dv.shape[0])"
   ]
  },
  {
   "cell_type": "code",
   "execution_count": 10,
   "metadata": {
    "collapsed": false
   },
   "outputs": [
    {
     "data": {
      "text/plain": [
       "array([0, 0, 1, 0, 0, 0, 1, 0, 0, 1])"
      ]
     },
     "execution_count": 10,
     "metadata": {},
     "output_type": "execute_result"
    }
   ],
   "source": [
    "yy_dev[-1]"
   ]
  },
  {
   "cell_type": "code",
   "execution_count": 11,
   "metadata": {
    "collapsed": true
   },
   "outputs": [],
   "source": [
    "import warnings\n",
    "warnings.filterwarnings(\"ignore\")"
   ]
  },
  {
   "cell_type": "code",
   "execution_count": 94,
   "metadata": {
    "collapsed": true
   },
   "outputs": [],
   "source": [
    "def plot_metrics(ax, start, end, steps, y):\n",
    "    x = np.linspace(start, end, steps)\n",
    "    if ax.lines:\n",
    "        for line in ax.lines:\n",
    "            line.set_xdata(x)\n",
    "            line.set_ydata(y)\n",
    "    else:\n",
    "        ax.plot(x, y)\n",
    "    fig.canvas.draw()"
   ]
  },
  {
   "cell_type": "markdown",
   "metadata": {},
   "source": [
    "## LogReg"
   ]
  },
  {
   "cell_type": "code",
   "execution_count": 99,
   "metadata": {
    "collapsed": false
   },
   "outputs": [
    {
     "name": "stdout",
     "output_type": "stream",
     "text": [
      "***** C = 0.01 *****\n",
      "5 iterations: \n",
      "acc,precision,recall,f1\n",
      "0.300047899786 0.552300009426 0.387105275022 0.395562323446\n",
      "10 iterations: \n",
      "acc,precision,recall,f1\n",
      "0.330528403805 0.567270255206 0.431449411678 0.43320430523\n",
      "15 iterations: \n",
      "acc,precision,recall,f1\n",
      "0.342700431149 0.56812020746 0.454434700552 0.448047628129\n",
      "20 iterations: \n",
      "acc,precision,recall,f1\n",
      "0.35061070947 0.568530813651 0.470245830926 0.457964250062\n",
      "25 iterations: \n",
      "acc,precision,recall,f1\n",
      "0.355559602703 0.570064221575 0.480512625052 0.464461188588\n",
      "30 iterations: \n",
      "acc,precision,recall,f1\n",
      "0.360702093041 0.572400091804 0.489024903791 0.470491058504\n",
      "35 iterations: \n",
      "acc,precision,recall,f1\n",
      "0.364104873381 0.574424587806 0.495313761532 0.474655227432\n",
      "40 iterations: \n",
      "acc,precision,recall,f1\n",
      "0.365839409178 0.574088981922 0.499677304005 0.476969078913\n",
      "45 iterations: \n",
      "acc,precision,recall,f1\n",
      "0.368393415547 0.575148156345 0.504670459715 0.480194276397\n",
      "50 iterations: \n",
      "acc,precision,recall,f1\n",
      "0.370846857979 0.57625061988 0.508401315169 0.482987751985\n",
      "***** C = 0.1 *****\n",
      "5 iterations: \n",
      "acc,precision,recall,f1\n",
      "0.301492577838 0.554588440936 0.386685498711 0.396911401112\n",
      "10 iterations: \n",
      "acc,precision,recall,f1\n",
      "0.330936858348 0.565237511219 0.433322011566 0.43382473724\n",
      "15 iterations: \n",
      "acc,precision,recall,f1\n",
      "0.342710318485 0.56777660974 0.454650685044 0.44802796344\n",
      "20 iterations: \n",
      "acc,precision,recall,f1\n",
      "0.350461784679 0.568235115718 0.47048138517 0.457882658907\n",
      "25 iterations: \n",
      "acc,precision,recall,f1\n",
      "0.355175533506 0.569598748356 0.47983685384 0.463962292814\n",
      "30 iterations: \n",
      "acc,precision,recall,f1\n",
      "0.360576221624 0.572326577158 0.489320601724 0.470487798431\n",
      "35 iterations: \n",
      "acc,precision,recall,f1\n",
      "0.364279054422 0.573937956713 0.495828005443 0.474860633903\n",
      "40 iterations: \n",
      "acc,precision,recall,f1\n",
      "0.366137309989 0.574426790684 0.50003084029 0.47736793272\n",
      "45 iterations: \n",
      "acc,precision,recall,f1\n",
      "0.368780353608 0.575804050426 0.504729937418 0.480629919464\n",
      "50 iterations: \n",
      "acc,precision,recall,f1\n",
      "0.370769910942 0.576167115439 0.508055053504 0.482779901912\n",
      "***** C = 1.0 *****\n",
      "5 iterations: \n",
      "acc,precision,recall,f1\n",
      "0.30081603818 0.551274902766 0.391616205394 0.397355397447\n",
      "10 iterations: \n",
      "acc,precision,recall,f1\n",
      "0.330114775061 0.566688439297 0.430506989783 0.432704673969\n",
      "15 iterations: \n",
      "acc,precision,recall,f1\n",
      "0.342816876299 0.567886548715 0.454655398178 0.448065218909\n",
      "20 iterations: \n",
      "acc,precision,recall,f1\n",
      "0.350244980512 0.568395311046 0.470064170345 0.45771204795\n",
      "25 iterations: \n",
      "acc,precision,recall,f1\n",
      "0.355659756802 0.570035840311 0.480821232874 0.464474278318\n",
      "30 iterations: \n",
      "acc,precision,recall,f1\n",
      "0.361223457883 0.572523196816 0.490070451108 0.471123269767\n",
      "35 iterations: \n",
      "acc,precision,recall,f1\n",
      "0.363851235046 0.57371126521 0.495446241583 0.474479054521\n",
      "40 iterations: \n",
      "acc,precision,recall,f1\n",
      "0.366272095377 0.57452914766 0.499837243185 0.477365566838\n",
      "45 iterations: \n",
      "acc,precision,recall,f1\n",
      "0.368493006119 0.575182121648 0.504628656265 0.480270227373\n",
      "50 iterations: \n",
      "acc,precision,recall,f1\n",
      "0.370913354153 0.576538684585 0.508390403239 0.483046228969\n",
      "***** C = 10.0 *****\n",
      "5 iterations: \n",
      "acc,precision,recall,f1\n",
      "0.302079875327 0.554349351842 0.388613785302 0.397128283673\n",
      "10 iterations: \n",
      "acc,precision,recall,f1\n",
      "0.330684449526 0.566811236931 0.431600693036 0.433531779223\n",
      "15 iterations: \n",
      "acc,precision,recall,f1\n",
      "0.343068004377 0.56824746208 0.454736238673 0.448456585991\n",
      "20 iterations: \n",
      "acc,precision,recall,f1\n",
      "0.350377972861 0.5682873188 0.470562994111 0.457808426687\n",
      "25 iterations: \n",
      "acc,precision,recall,f1\n",
      "0.355366517896 0.569966014205 0.479937212857 0.464152289867\n",
      "30 iterations: \n",
      "acc,precision,recall,f1\n",
      "0.360317972615 0.572121658285 0.488780538035 0.470154588142\n",
      "35 iterations: \n",
      "acc,precision,recall,f1\n",
      "0.364079207292 0.574030682503 0.49571396809 0.474719820583\n",
      "40 iterations: \n",
      "acc,precision,recall,f1\n",
      "0.366750427256 0.574991547097 0.500646723962 0.477956171689\n",
      "45 iterations: \n",
      "acc,precision,recall,f1\n",
      "0.368344183788 0.575206199616 0.504528604625 0.480195495879\n",
      "50 iterations: \n",
      "acc,precision,recall,f1\n",
      "0.370845269858 0.576157125644 0.508273445793 0.482941277674\n",
      "***** C = 100.0 *****\n",
      "5 iterations: \n",
      "acc,precision,recall,f1\n",
      "0.301440067377 0.554734138255 0.385813773827 0.396618531582\n",
      "10 iterations: \n",
      "acc,precision,recall,f1\n",
      "0.329414720962 0.564518502125 0.430386804864 0.431845149639\n",
      "15 iterations: \n",
      "acc,precision,recall,f1\n",
      "0.342924714855 0.568466110517 0.454231677179 0.448199958779\n",
      "20 iterations: \n",
      "acc,precision,recall,f1\n",
      "0.350268136345 0.568450844061 0.47001960049 0.457602979522\n",
      "25 iterations: \n",
      "acc,precision,recall,f1\n",
      "0.355413444317 0.569980102377 0.480461292874 0.464367809351\n",
      "30 iterations: \n",
      "acc,precision,recall,f1\n",
      "0.360706806175 0.572379087619 0.489410970947 0.470641192387\n",
      "35 iterations: \n",
      "acc,precision,recall,f1\n",
      "0.364169064217 0.57404938135 0.495618014828 0.47474608497\n",
      "40 iterations: \n",
      "acc,precision,recall,f1\n",
      "0.366583520834 0.574845593629 0.500500258198 0.477867011201\n",
      "45 iterations: \n",
      "acc,precision,recall,f1\n",
      "0.368291622097 0.575262142468 0.504155908426 0.480063731611\n",
      "50 iterations: \n",
      "acc,precision,recall,f1\n",
      "0.37073220587 0.576075004406 0.507969909713 0.482758396895\n",
      "***** C = 1000.0 *****\n",
      "5 iterations: \n",
      "acc,precision,recall,f1\n",
      "0.305289775778 0.554947202652 0.397682162632 0.402492459934\n",
      "10 iterations: \n",
      "acc,precision,recall,f1\n",
      "0.330155963754 0.566212259067 0.43116365231 0.432869352098\n",
      "15 iterations: \n",
      "acc,precision,recall,f1\n",
      "0.343130402174 0.569059555572 0.454366360108 0.448464019358\n",
      "20 iterations: \n",
      "acc,precision,recall,f1\n",
      "0.350352972758 0.568846388715 0.469922007877 0.457821091301\n",
      "25 iterations: \n",
      "acc,precision,recall,f1\n",
      "0.35573296407 0.570320575084 0.480855966623 0.464564802305\n",
      "30 iterations: \n",
      "acc,precision,recall,f1\n",
      "0.360439387047 0.571795734819 0.489278798274 0.470323684208\n",
      "35 iterations: \n",
      "acc,precision,recall,f1\n",
      "0.363972905627 0.573907167652 0.495241681318 0.474582742038\n",
      "40 iterations: \n",
      "acc,precision,recall,f1\n",
      "0.366594945061 0.575007735687 0.500005071742 0.47769648574\n",
      "45 iterations: \n",
      "acc,precision,recall,f1\n",
      "0.368724666904 0.575508813561 0.504832755462 0.48049893559\n",
      "50 iterations: \n",
      "acc,precision,recall,f1\n",
      "0.370576108918 0.576202617634 0.508048752249 0.482739926253\n"
     ]
    },
    {
     "data": {
      "image/png": "[encoded data removed]",
      "text/plain": [
       "<matplotlib.figure.Figure at 0x1e6068d86d8>"
      ]
     },
     "metadata": {},
     "output_type": "display_data"
    }
   ],
   "source": [
    "#optimize hyperparams of LR\n",
    "reload(evaluation)\n",
    "iter_step = 5\n",
    "num_steps = 10\n",
    "Cs = [1e-2, 1e-1, 1e0, 1e1, 1e2, 1e3]\n",
    "accs = {C:[] for C in Cs}\n",
    "precisions = {C:[] for C in Cs}\n",
    "recalls = {C:[] for C in Cs}\n",
    "f1s = {C:[] for C in Cs}\n",
    "\n",
    "fig,ax = plt.subplots(1,1)\n",
    "ax.set_xlabel(\"iterations\")\n",
    "ax.set_ylabel(\"accuracy\")\n",
    "ax.set_xlim(0,iter_step*num_steps)\n",
    "\n",
    "for C in Cs:\n",
    "    print(\"***** C = \" + str(C) + \" *****\")\n",
    "    for i in range(num_steps):\n",
    "        print(str((i+1)*iter_step) + \" iterations: \")\n",
    "        reg = OneVsRestClassifier(LogisticRegression(C=C,solver='sag', max_iter=iter_step*(i+1)))\n",
    "        reg.fit(X_tr, yy_tr)\n",
    "        yhat = reg.predict(X_dv)\n",
    "        acc,precision,recall,f1 = evaluation.all_metrics(yhat, yy_dev)\n",
    "        \n",
    "        print(\"acc,precision,recall,f1\")\n",
    "        print(acc,precision,recall,f1)\n",
    "        \n",
    "        accs[C].append(acc)\n",
    "        precisions[C].append(precision)\n",
    "        recalls[C].append(recall)\n",
    "        f1s[C].append(f1)\n",
    "        \n",
    "        plot_metrics(ax, iter_step, (i+1)*iter_step, i+1, accs[C])"
   ]
  },
  {
   "cell_type": "code",
   "execution_count": 136,
   "metadata": {
    "collapsed": false
   },
   "outputs": [
    {
     "data": {
      "text/plain": [
       "<matplotlib.legend.Legend at 0x1e6090436a0>"
      ]
     },
     "execution_count": 136,
     "metadata": {},
     "output_type": "execute_result"
    },
    {
     "data": {
      "image/png": "[encoded data removed]",
      "text/plain": [
       "<matplotlib.figure.Figure at 0x1e609043978>"
      ]
     },
     "metadata": {},
     "output_type": "display_data"
    }
   ],
   "source": [
    "its = np.linspace(5,50,10)\n",
    "\n",
    "fig,ax = plt.subplots(3,1)\n",
    "fig.set_size_inches(5,12)\n",
    "ax[0].set_xlabel(\"iterations\")\n",
    "ax[1].set_xlabel(\"recall\")\n",
    "ax[2].set_xlabel(\"iterations\")\n",
    "ax[0].set_ylabel(\"accuracy\")\n",
    "ax[1].set_ylabel(\"precision\")\n",
    "ax[2].set_ylabel(\"F1-score\")\n",
    "ax[0].set_xlim(0,iter_step*num_steps)\n",
    "# ax[1].set_xlim(0,1)\n",
    "ax[2].set_xlim(0,iter_step*num_steps)\n",
    "\n",
    "for C in Cs:\n",
    "    ax[0].plot(its,accs[C], '*', label=\"C=\" + str(C))\n",
    "    ax[1].plot(recalls[C], precisions[C], '*', label=\"C=\" + str(C))\n",
    "    ax[2].plot(its, f1s[C], '*', label=\"C=\" + str(C))\n",
    "ax[0].legend(loc=4)"
   ]
  },
  {
   "cell_type": "code",
   "execution_count": 140,
   "metadata": {
    "collapsed": false
   },
   "outputs": [
    {
     "data": {
      "text/plain": [
       "[0.35093336960397348,\n",
       " 0.3511319923442307,\n",
       " 0.35104055754326852,\n",
       " 0.35119138807945915,\n",
       " 0.35099443030504202,\n",
       " 0.35149700920905386]"
      ]
     },
     "execution_count": 140,
     "metadata": {},
     "output_type": "execute_result"
    }
   ],
   "source": [
    "mean_accs = [np.array(accs[C]).mean() for C in Cs]\n",
    "mean_accs"
   ]
  },
  {
   "cell_type": "code",
   "execution_count": 151,
   "metadata": {
    "collapsed": false
   },
   "outputs": [
    {
     "data": {
      "text/plain": [
       "0.45920534988256778"
      ]
     },
     "execution_count": 151,
     "metadata": {},
     "output_type": "execute_result"
    }
   ],
   "source": [
    "mean_f1s = [np.array(f1s[C]).mean() for C in Cs]\n",
    "np.array(f1s[1000]).mean()"
   ]
  },
  {
   "cell_type": "code",
   "execution_count": null,
   "metadata": {
    "collapsed": false
   },
   "outputs": [
    {
     "name": "stdout",
     "output_type": "stream",
     "text": [
      "***** C = 0.01 *****\n",
      "10 iterations: \n",
      "acc,precision,recall,f1\n",
      "0.330089006512 0.565409540613 0.43115822196 0.432490865128\n",
      "20 iterations: \n"
     ]
    }
   ],
   "source": [
    "#optimize hyperparams of LR\n",
    "reload(evaluation)\n",
    "iter_step = 10\n",
    "num_steps = 50\n",
    "Cs = [1e-2, 1e-1, 1e0, 1e1, 1e2, 1e3]\n",
    "accs = {C:[] for C in Cs}\n",
    "precisions = {C:[] for C in Cs}\n",
    "recalls = {C:[] for C in Cs}\n",
    "f1s = {C:[] for C in Cs}\n",
    "\n",
    "fig,ax = plt.subplots(1,1)\n",
    "ax.set_xlabel(\"iterations\")\n",
    "ax.set_ylabel(\"accuracy\")\n",
    "ax.set_xlim(0,iter_step*num_steps)\n",
    "\n",
    "for C in Cs:\n",
    "    print(\"***** C = \" + str(C) + \" *****\")\n",
    "    for i in range(num_steps):\n",
    "        print(str((i+1)*iter_step) + \" iterations: \")\n",
    "        reg = OneVsRestClassifier(LogisticRegression(C=C,solver='sag', max_iter=iter_step*(i+1)))\n",
    "        reg.fit(X_tr, yy_tr)\n",
    "        yhat = reg.predict(X_dv)\n",
    "        acc,precision,recall,f1 = evaluation.all_metrics(yhat, yy_dev)\n",
    "        \n",
    "        print(\"acc,precision,recall,f1\")\n",
    "        print(acc,precision,recall,f1)\n",
    "        \n",
    "        accs[C].append(acc)\n",
    "        precisions[C].append(precision)\n",
    "        recalls[C].append(recall)\n",
    "        f1s[C].append(f1)\n",
    "        \n",
    "#         plot_metrics(ax, iter_step, (i+1)*iter_step, i+1, accs[C])"
   ]
  },
  {
   "cell_type": "code",
   "execution_count": 12,
   "metadata": {
    "collapsed": false
   },
   "outputs": [
    {
     "name": "stdout",
     "output_type": "stream",
     "text": [
      "acc,precision,recall,f1\n",
      "0.399668748642 0.565632748495 0.584710541846 0.517098567836\n"
     ]
    }
   ],
   "source": [
    "#run for a long time\n",
    "lr_long = OneVsRestClassifier(LogisticRegression(C=1000.0, solver='sag', max_iter=500))\n",
    "lr_long.fit(X_tr, yy_tr)\n",
    "yhat = lr_long.predict(X_dv)\n",
    "acc, precision, recall, f1 = evaluation.all_metrics(yhat, yy_dev)\n",
    "\n",
    "print(\"acc,precision,recall,f1\")\n",
    "print(acc,precision,recall,f1)"
   ]
  },
  {
   "cell_type": "markdown",
   "metadata": {},
   "source": [
    "## SVM"
   ]
  },
  {
   "cell_type": "code",
   "execution_count": 32,
   "metadata": {
    "collapsed": false
   },
   "outputs": [
    {
     "name": "stdout",
     "output_type": "stream",
     "text": [
      "C = 0.01, iters = 3: \n",
      "acc,precision,recall,f1\n",
      "0.20753594277 0.244468471182 0.609138562043 0.311823809752\n",
      "C = 0.1, iters = 3: \n",
      "acc,precision,recall,f1\n",
      "0.20753594277 0.244468471182 0.609138562043 0.311823809752\n",
      "C = 1.0, iters = 3: \n",
      "acc,precision,recall,f1\n",
      "0.20753594277 0.244468471182 0.609138562043 0.311823809752\n",
      "C = 10.0, iters = 3: \n",
      "acc,precision,recall,f1\n",
      "0.206748285854 0.25461677097 0.589105693056 0.310577218286\n",
      "C = 100.0, iters = 3: \n",
      "acc,precision,recall,f1\n",
      "0.0880359140816 0.112800923364 0.242436137033 0.13221510305\n",
      "C = 1000.0, iters = 3: \n",
      "acc,precision,recall,f1\n",
      "0.122095172521 0.189635203423 0.24662826487 0.181343287494\n",
      "C = 0.01, iters = 5: \n",
      "acc,precision,recall,f1\n",
      "0.206559658031 0.253922864438 0.569262066648 0.308291373023\n",
      "C = 0.1, iters = 5: \n",
      "acc,precision,recall,f1\n",
      "0.206559658031 0.253922864438 0.569262066648 0.308291373023\n",
      "C = 1.0, iters = 5: \n",
      "acc,precision,recall,f1\n",
      "0.206559658031 0.253922864438 0.569262066648 0.308291373023\n",
      "C = 10.0, iters = 5: \n",
      "acc,precision,recall,f1\n",
      "0.203432544806 0.255517594334 0.556169543728 0.303019509376\n",
      "C = 100.0, iters = 5: \n",
      "acc,precision,recall,f1\n",
      "0.0814489506105 0.10635632728 0.218482913864 0.121590386818\n",
      "C = 1000.0, iters = 5: \n",
      "acc,precision,recall,f1\n",
      "0.0773449378891 0.129652887922 0.146452137099 0.115891256898\n",
      "C = 0.01, iters = 7: \n",
      "acc,precision,recall,f1\n",
      "0.202088225771 0.238529922254 0.579516668101 0.302144097027\n",
      "C = 0.1, iters = 7: \n",
      "acc,precision,recall,f1\n",
      "0.202088225771 0.238529922254 0.579516668101 0.302144097027\n",
      "C = 1.0, iters = 7: \n",
      "acc,precision,recall,f1\n",
      "0.202088225771 0.238529922254 0.579516668101 0.302144097027\n",
      "C = 10.0, iters = 7: \n",
      "acc,precision,recall,f1\n",
      "0.198906296747 0.241338335403 0.563632893987 0.296488036309\n",
      "C = 100.0, iters = 7: \n",
      "acc,precision,recall,f1\n",
      "0.073995026619 0.105248587084 0.183491120865 0.108702735081\n",
      "C = 1000.0, iters = 7: \n",
      "acc,precision,recall,f1\n",
      "0.106496799167 0.192524713216 0.218497104496 0.155091910056\n",
      "C = 0.01, iters = 10: \n",
      "acc,precision,recall,f1\n",
      "0.194446186255 0.240455083832 0.537177457695 0.290534737858\n",
      "C = 0.1, iters = 10: \n"
     ]
    },
    {
     "ename": "KeyboardInterrupt",
     "evalue": "",
     "output_type": "error",
     "traceback": [
      "\u001b[0;31m---------------------------------------------------------------------------\u001b[0m",
      "\u001b[0;31mKeyboardInterrupt\u001b[0m                         Traceback (most recent call last)",
      "\u001b[0;32m<ipython-input-32-fbe84839f446>\u001b[0m in \u001b[0;36m<module>\u001b[0;34m()\u001b[0m\n\u001b[1;32m      8\u001b[0m         \u001b[0msvm\u001b[0m \u001b[1;33m=\u001b[0m \u001b[0mOneVsRestClassifier\u001b[0m\u001b[1;33m(\u001b[0m\u001b[0mSVC\u001b[0m\u001b[1;33m(\u001b[0m\u001b[0mC\u001b[0m\u001b[1;33m=\u001b[0m\u001b[0mC\u001b[0m\u001b[1;33m,\u001b[0m \u001b[0mmax_iter\u001b[0m\u001b[1;33m=\u001b[0m\u001b[0mmx_iter\u001b[0m\u001b[1;33m)\u001b[0m\u001b[1;33m)\u001b[0m\u001b[1;33m\u001b[0m\u001b[0m\n\u001b[1;32m      9\u001b[0m         \u001b[0msvm\u001b[0m\u001b[1;33m.\u001b[0m\u001b[0mfit\u001b[0m\u001b[1;33m(\u001b[0m\u001b[0mX_tr\u001b[0m\u001b[1;33m,\u001b[0m \u001b[0myy_tr\u001b[0m\u001b[1;33m)\u001b[0m\u001b[1;33m\u001b[0m\u001b[0m\n\u001b[0;32m---> 10\u001b[0;31m         \u001b[0myhat\u001b[0m \u001b[1;33m=\u001b[0m \u001b[0msvm\u001b[0m\u001b[1;33m.\u001b[0m\u001b[0mpredict\u001b[0m\u001b[1;33m(\u001b[0m\u001b[0mX_dv\u001b[0m\u001b[1;33m)\u001b[0m\u001b[1;33m\u001b[0m\u001b[0m\n\u001b[0m\u001b[1;32m     11\u001b[0m         \u001b[0macc\u001b[0m\u001b[1;33m,\u001b[0m\u001b[0mprecision\u001b[0m\u001b[1;33m,\u001b[0m\u001b[0mrecall\u001b[0m\u001b[1;33m,\u001b[0m\u001b[0mf1\u001b[0m \u001b[1;33m=\u001b[0m \u001b[0mevaluation\u001b[0m\u001b[1;33m.\u001b[0m\u001b[0mall_metrics\u001b[0m\u001b[1;33m(\u001b[0m\u001b[0myhat\u001b[0m\u001b[1;33m,\u001b[0m \u001b[0myy_dev\u001b[0m\u001b[1;33m)\u001b[0m\u001b[1;33m\u001b[0m\u001b[0m\n\u001b[1;32m     12\u001b[0m         \u001b[0mprint\u001b[0m\u001b[1;33m(\u001b[0m\u001b[1;34m\"acc,precision,recall,f1\"\u001b[0m\u001b[1;33m)\u001b[0m\u001b[1;33m\u001b[0m\u001b[0m\n",
      "\u001b[0;32mC:\\Program Files\\Anaconda3\\lib\\site-packages\\sklearn\\multiclass.py\u001b[0m in \u001b[0;36mpredict\u001b[0;34m(self, X)\u001b[0m\n\u001b[1;32m    323\u001b[0m             \u001b[0mindptr\u001b[0m \u001b[1;33m=\u001b[0m \u001b[0marray\u001b[0m\u001b[1;33m.\u001b[0m\u001b[0marray\u001b[0m\u001b[1;33m(\u001b[0m\u001b[1;34m'i'\u001b[0m\u001b[1;33m,\u001b[0m \u001b[1;33m[\u001b[0m\u001b[1;36m0\u001b[0m\u001b[1;33m]\u001b[0m\u001b[1;33m)\u001b[0m\u001b[1;33m\u001b[0m\u001b[0m\n\u001b[1;32m    324\u001b[0m             \u001b[1;32mfor\u001b[0m \u001b[0me\u001b[0m \u001b[1;32min\u001b[0m \u001b[0mself\u001b[0m\u001b[1;33m.\u001b[0m\u001b[0mestimators_\u001b[0m\u001b[1;33m:\u001b[0m\u001b[1;33m\u001b[0m\u001b[0m\n\u001b[0;32m--> 325\u001b[0;31m                 \u001b[0mindices\u001b[0m\u001b[1;33m.\u001b[0m\u001b[0mextend\u001b[0m\u001b[1;33m(\u001b[0m\u001b[0mnp\u001b[0m\u001b[1;33m.\u001b[0m\u001b[0mwhere\u001b[0m\u001b[1;33m(\u001b[0m\u001b[0m_predict_binary\u001b[0m\u001b[1;33m(\u001b[0m\u001b[0me\u001b[0m\u001b[1;33m,\u001b[0m \u001b[0mX\u001b[0m\u001b[1;33m)\u001b[0m \u001b[1;33m>\u001b[0m \u001b[0mthresh\u001b[0m\u001b[1;33m)\u001b[0m\u001b[1;33m[\u001b[0m\u001b[1;36m0\u001b[0m\u001b[1;33m]\u001b[0m\u001b[1;33m)\u001b[0m\u001b[1;33m\u001b[0m\u001b[0m\n\u001b[0m\u001b[1;32m    326\u001b[0m                 \u001b[0mindptr\u001b[0m\u001b[1;33m.\u001b[0m\u001b[0mappend\u001b[0m\u001b[1;33m(\u001b[0m\u001b[0mlen\u001b[0m\u001b[1;33m(\u001b[0m\u001b[0mindices\u001b[0m\u001b[1;33m)\u001b[0m\u001b[1;33m)\u001b[0m\u001b[1;33m\u001b[0m\u001b[0m\n\u001b[1;32m    327\u001b[0m             \u001b[0mdata\u001b[0m \u001b[1;33m=\u001b[0m \u001b[0mnp\u001b[0m\u001b[1;33m.\u001b[0m\u001b[0mones\u001b[0m\u001b[1;33m(\u001b[0m\u001b[0mlen\u001b[0m\u001b[1;33m(\u001b[0m\u001b[0mindices\u001b[0m\u001b[1;33m)\u001b[0m\u001b[1;33m,\u001b[0m \u001b[0mdtype\u001b[0m\u001b[1;33m=\u001b[0m\u001b[0mint\u001b[0m\u001b[1;33m)\u001b[0m\u001b[1;33m\u001b[0m\u001b[0m\n",
      "\u001b[0;32mC:\\Program Files\\Anaconda3\\lib\\site-packages\\sklearn\\multiclass.py\u001b[0m in \u001b[0;36m_predict_binary\u001b[0;34m(estimator, X)\u001b[0m\n\u001b[1;32m     81\u001b[0m         \u001b[1;32mreturn\u001b[0m \u001b[0mestimator\u001b[0m\u001b[1;33m.\u001b[0m\u001b[0mpredict\u001b[0m\u001b[1;33m(\u001b[0m\u001b[0mX\u001b[0m\u001b[1;33m)\u001b[0m\u001b[1;33m\u001b[0m\u001b[0m\n\u001b[1;32m     82\u001b[0m     \u001b[1;32mtry\u001b[0m\u001b[1;33m:\u001b[0m\u001b[1;33m\u001b[0m\u001b[0m\n\u001b[0;32m---> 83\u001b[0;31m         \u001b[0mscore\u001b[0m \u001b[1;33m=\u001b[0m \u001b[0mnp\u001b[0m\u001b[1;33m.\u001b[0m\u001b[0mravel\u001b[0m\u001b[1;33m(\u001b[0m\u001b[0mestimator\u001b[0m\u001b[1;33m.\u001b[0m\u001b[0mdecision_function\u001b[0m\u001b[1;33m(\u001b[0m\u001b[0mX\u001b[0m\u001b[1;33m)\u001b[0m\u001b[1;33m)\u001b[0m\u001b[1;33m\u001b[0m\u001b[0m\n\u001b[0m\u001b[1;32m     84\u001b[0m     \u001b[1;32mexcept\u001b[0m \u001b[1;33m(\u001b[0m\u001b[0mAttributeError\u001b[0m\u001b[1;33m,\u001b[0m \u001b[0mNotImplementedError\u001b[0m\u001b[1;33m)\u001b[0m\u001b[1;33m:\u001b[0m\u001b[1;33m\u001b[0m\u001b[0m\n\u001b[1;32m     85\u001b[0m         \u001b[1;31m# probabilities of the positive class\u001b[0m\u001b[1;33m\u001b[0m\u001b[1;33m\u001b[0m\u001b[0m\n",
      "\u001b[0;32mC:\\Program Files\\Anaconda3\\lib\\site-packages\\sklearn\\svm\\base.py\u001b[0m in \u001b[0;36mdecision_function\u001b[0;34m(self, X)\u001b[0m\n\u001b[1;32m    540\u001b[0m             n_classes)\n\u001b[1;32m    541\u001b[0m         \"\"\"\n\u001b[0;32m--> 542\u001b[0;31m         \u001b[0mdec\u001b[0m \u001b[1;33m=\u001b[0m \u001b[0mself\u001b[0m\u001b[1;33m.\u001b[0m\u001b[0m_decision_function\u001b[0m\u001b[1;33m(\u001b[0m\u001b[0mX\u001b[0m\u001b[1;33m)\u001b[0m\u001b[1;33m\u001b[0m\u001b[0m\n\u001b[0m\u001b[1;32m    543\u001b[0m         \u001b[1;32mif\u001b[0m \u001b[0mself\u001b[0m\u001b[1;33m.\u001b[0m\u001b[0mdecision_function_shape\u001b[0m \u001b[1;32mis\u001b[0m \u001b[1;32mNone\u001b[0m \u001b[1;32mand\u001b[0m \u001b[0mlen\u001b[0m\u001b[1;33m(\u001b[0m\u001b[0mself\u001b[0m\u001b[1;33m.\u001b[0m\u001b[0mclasses_\u001b[0m\u001b[1;33m)\u001b[0m \u001b[1;33m>\u001b[0m \u001b[1;36m2\u001b[0m\u001b[1;33m:\u001b[0m\u001b[1;33m\u001b[0m\u001b[0m\n\u001b[1;32m    544\u001b[0m             warnings.warn(\"The decision_function_shape default value will \"\n",
      "\u001b[0;32mC:\\Program Files\\Anaconda3\\lib\\site-packages\\sklearn\\svm\\base.py\u001b[0m in \u001b[0;36m_decision_function\u001b[0;34m(self, X)\u001b[0m\n\u001b[1;32m    397\u001b[0m         \u001b[1;31m# NOTE: _validate_for_predict contains check for is_fitted\u001b[0m\u001b[1;33m\u001b[0m\u001b[1;33m\u001b[0m\u001b[0m\n\u001b[1;32m    398\u001b[0m         \u001b[1;31m# hence must be placed before any other attributes are used.\u001b[0m\u001b[1;33m\u001b[0m\u001b[1;33m\u001b[0m\u001b[0m\n\u001b[0;32m--> 399\u001b[0;31m         \u001b[0mX\u001b[0m \u001b[1;33m=\u001b[0m \u001b[0mself\u001b[0m\u001b[1;33m.\u001b[0m\u001b[0m_validate_for_predict\u001b[0m\u001b[1;33m(\u001b[0m\u001b[0mX\u001b[0m\u001b[1;33m)\u001b[0m\u001b[1;33m\u001b[0m\u001b[0m\n\u001b[0m\u001b[1;32m    400\u001b[0m         \u001b[0mX\u001b[0m \u001b[1;33m=\u001b[0m \u001b[0mself\u001b[0m\u001b[1;33m.\u001b[0m\u001b[0m_compute_kernel\u001b[0m\u001b[1;33m(\u001b[0m\u001b[0mX\u001b[0m\u001b[1;33m)\u001b[0m\u001b[1;33m\u001b[0m\u001b[0m\n\u001b[1;32m    401\u001b[0m \u001b[1;33m\u001b[0m\u001b[0m\n",
      "\u001b[0;32mC:\\Program Files\\Anaconda3\\lib\\site-packages\\sklearn\\svm\\base.py\u001b[0m in \u001b[0;36m_validate_for_predict\u001b[0;34m(self, X)\u001b[0m\n\u001b[1;32m    452\u001b[0m         \u001b[0mcheck_is_fitted\u001b[0m\u001b[1;33m(\u001b[0m\u001b[0mself\u001b[0m\u001b[1;33m,\u001b[0m \u001b[1;34m'support_'\u001b[0m\u001b[1;33m)\u001b[0m\u001b[1;33m\u001b[0m\u001b[0m\n\u001b[1;32m    453\u001b[0m \u001b[1;33m\u001b[0m\u001b[0m\n\u001b[0;32m--> 454\u001b[0;31m         \u001b[0mX\u001b[0m \u001b[1;33m=\u001b[0m \u001b[0mcheck_array\u001b[0m\u001b[1;33m(\u001b[0m\u001b[0mX\u001b[0m\u001b[1;33m,\u001b[0m \u001b[0maccept_sparse\u001b[0m\u001b[1;33m=\u001b[0m\u001b[1;34m'csr'\u001b[0m\u001b[1;33m,\u001b[0m \u001b[0mdtype\u001b[0m\u001b[1;33m=\u001b[0m\u001b[0mnp\u001b[0m\u001b[1;33m.\u001b[0m\u001b[0mfloat64\u001b[0m\u001b[1;33m,\u001b[0m \u001b[0morder\u001b[0m\u001b[1;33m=\u001b[0m\u001b[1;34m\"C\"\u001b[0m\u001b[1;33m)\u001b[0m\u001b[1;33m\u001b[0m\u001b[0m\n\u001b[0m\u001b[1;32m    455\u001b[0m         \u001b[1;32mif\u001b[0m \u001b[0mself\u001b[0m\u001b[1;33m.\u001b[0m\u001b[0m_sparse\u001b[0m \u001b[1;32mand\u001b[0m \u001b[1;32mnot\u001b[0m \u001b[0msp\u001b[0m\u001b[1;33m.\u001b[0m\u001b[0misspmatrix\u001b[0m\u001b[1;33m(\u001b[0m\u001b[0mX\u001b[0m\u001b[1;33m)\u001b[0m\u001b[1;33m:\u001b[0m\u001b[1;33m\u001b[0m\u001b[0m\n\u001b[1;32m    456\u001b[0m             \u001b[0mX\u001b[0m \u001b[1;33m=\u001b[0m \u001b[0msp\u001b[0m\u001b[1;33m.\u001b[0m\u001b[0mcsr_matrix\u001b[0m\u001b[1;33m(\u001b[0m\u001b[0mX\u001b[0m\u001b[1;33m)\u001b[0m\u001b[1;33m\u001b[0m\u001b[0m\n",
      "\u001b[0;32mC:\\Program Files\\Anaconda3\\lib\\site-packages\\sklearn\\utils\\validation.py\u001b[0m in \u001b[0;36mcheck_array\u001b[0;34m(array, accept_sparse, dtype, order, copy, force_all_finite, ensure_2d, allow_nd, ensure_min_samples, ensure_min_features, warn_on_dtype, estimator)\u001b[0m\n\u001b[1;32m    369\u001b[0m     \u001b[1;32mif\u001b[0m \u001b[0msp\u001b[0m\u001b[1;33m.\u001b[0m\u001b[0missparse\u001b[0m\u001b[1;33m(\u001b[0m\u001b[0marray\u001b[0m\u001b[1;33m)\u001b[0m\u001b[1;33m:\u001b[0m\u001b[1;33m\u001b[0m\u001b[0m\n\u001b[1;32m    370\u001b[0m         array = _ensure_sparse_format(array, accept_sparse, dtype, copy,\n\u001b[0;32m--> 371\u001b[0;31m                                       force_all_finite)\n\u001b[0m\u001b[1;32m    372\u001b[0m     \u001b[1;32melse\u001b[0m\u001b[1;33m:\u001b[0m\u001b[1;33m\u001b[0m\u001b[0m\n\u001b[1;32m    373\u001b[0m         \u001b[0marray\u001b[0m \u001b[1;33m=\u001b[0m \u001b[0mnp\u001b[0m\u001b[1;33m.\u001b[0m\u001b[0marray\u001b[0m\u001b[1;33m(\u001b[0m\u001b[0marray\u001b[0m\u001b[1;33m,\u001b[0m \u001b[0mdtype\u001b[0m\u001b[1;33m=\u001b[0m\u001b[0mdtype\u001b[0m\u001b[1;33m,\u001b[0m \u001b[0morder\u001b[0m\u001b[1;33m=\u001b[0m\u001b[0morder\u001b[0m\u001b[1;33m,\u001b[0m \u001b[0mcopy\u001b[0m\u001b[1;33m=\u001b[0m\u001b[0mcopy\u001b[0m\u001b[1;33m)\u001b[0m\u001b[1;33m\u001b[0m\u001b[0m\n",
      "\u001b[0;32mC:\\Program Files\\Anaconda3\\lib\\site-packages\\sklearn\\utils\\validation.py\u001b[0m in \u001b[0;36m_ensure_sparse_format\u001b[0;34m(spmatrix, accept_sparse, dtype, copy, force_all_finite)\u001b[0m\n\u001b[1;32m    251\u001b[0m     \u001b[1;32mif\u001b[0m \u001b[0mdtype\u001b[0m \u001b[1;33m!=\u001b[0m \u001b[0mspmatrix\u001b[0m\u001b[1;33m.\u001b[0m\u001b[0mdtype\u001b[0m\u001b[1;33m:\u001b[0m\u001b[1;33m\u001b[0m\u001b[0m\n\u001b[1;32m    252\u001b[0m         \u001b[1;31m# convert dtype\u001b[0m\u001b[1;33m\u001b[0m\u001b[1;33m\u001b[0m\u001b[0m\n\u001b[0;32m--> 253\u001b[0;31m         \u001b[0mspmatrix\u001b[0m \u001b[1;33m=\u001b[0m \u001b[0mspmatrix\u001b[0m\u001b[1;33m.\u001b[0m\u001b[0mastype\u001b[0m\u001b[1;33m(\u001b[0m\u001b[0mdtype\u001b[0m\u001b[1;33m)\u001b[0m\u001b[1;33m\u001b[0m\u001b[0m\n\u001b[0m\u001b[1;32m    254\u001b[0m     \u001b[1;32melif\u001b[0m \u001b[0mcopy\u001b[0m \u001b[1;32mand\u001b[0m \u001b[1;32mnot\u001b[0m \u001b[0mchanged_format\u001b[0m\u001b[1;33m:\u001b[0m\u001b[1;33m\u001b[0m\u001b[0m\n\u001b[1;32m    255\u001b[0m         \u001b[1;31m# force copy\u001b[0m\u001b[1;33m\u001b[0m\u001b[1;33m\u001b[0m\u001b[0m\n",
      "\u001b[0;32mC:\\Program Files\\Anaconda3\\lib\\site-packages\\scipy\\sparse\\data.py\u001b[0m in \u001b[0;36mastype\u001b[0;34m(self, t)\u001b[0m\n\u001b[1;32m     63\u001b[0m \u001b[1;33m\u001b[0m\u001b[0m\n\u001b[1;32m     64\u001b[0m     \u001b[1;32mdef\u001b[0m \u001b[0mastype\u001b[0m\u001b[1;33m(\u001b[0m\u001b[0mself\u001b[0m\u001b[1;33m,\u001b[0m \u001b[0mt\u001b[0m\u001b[1;33m)\u001b[0m\u001b[1;33m:\u001b[0m\u001b[1;33m\u001b[0m\u001b[0m\n\u001b[0;32m---> 65\u001b[0;31m         \u001b[1;32mreturn\u001b[0m \u001b[0mself\u001b[0m\u001b[1;33m.\u001b[0m\u001b[0m_with_data\u001b[0m\u001b[1;33m(\u001b[0m\u001b[0mself\u001b[0m\u001b[1;33m.\u001b[0m\u001b[0m_deduped_data\u001b[0m\u001b[1;33m(\u001b[0m\u001b[1;33m)\u001b[0m\u001b[1;33m.\u001b[0m\u001b[0mastype\u001b[0m\u001b[1;33m(\u001b[0m\u001b[0mt\u001b[0m\u001b[1;33m)\u001b[0m\u001b[1;33m)\u001b[0m\u001b[1;33m\u001b[0m\u001b[0m\n\u001b[0m\u001b[1;32m     66\u001b[0m \u001b[1;33m\u001b[0m\u001b[0m\n\u001b[1;32m     67\u001b[0m     \u001b[1;32mdef\u001b[0m \u001b[0mconj\u001b[0m\u001b[1;33m(\u001b[0m\u001b[0mself\u001b[0m\u001b[1;33m)\u001b[0m\u001b[1;33m:\u001b[0m\u001b[1;33m\u001b[0m\u001b[0m\n",
      "\u001b[0;31mKeyboardInterrupt\u001b[0m: "
     ]
    }
   ],
   "source": [
    "from sklearn.svm import SVC\n",
    "iters = [3, 5, 7, 10]\n",
    "Cs = [1e-2, 1e-1, 1e0, 1e1, 1e2, 1e3]\n",
    "svms = []\n",
    "for mx_iter in iters:\n",
    "    for C in Cs:\n",
    "        print(\"C = \" + str(C) + \", iters = \" + str(mx_iter) + \": \")\n",
    "        svm = OneVsRestClassifier(SVC(C=C, max_iter=mx_iter))\n",
    "        svm.fit(X_tr, yy_tr)\n",
    "        yhat = svm.predict(X_dv)\n",
    "        acc,precision,recall,f1 = evaluation.all_metrics(yhat, yy_dev)\n",
    "        print(\"acc,precision,recall,f1\")\n",
    "        print(acc,precision,recall,f1)\n",
    "        svms.append(svm)"
   ]
  },
  {
   "cell_type": "code",
   "execution_count": 18,
   "metadata": {
    "collapsed": false
   },
   "outputs": [
    {
     "data": {
      "text/plain": [
       "[0.18409501678285567,\n",
       " 0.18874257681383941,\n",
       " 0.2101729925122644,\n",
       " 0.24141492383165505,\n",
       " 0.26452362509682414,\n",
       " 0.2747224373870385,\n",
       " 0.3187451587916344,\n",
       " 0.31900335657113349,\n",
       " 0.32726568551510454,\n",
       " 0.55499612703330747]"
      ]
     },
     "execution_count": 18,
     "metadata": {},
     "output_type": "execute_result"
    }
   ],
   "source": [
    "pcts = sorted([np.array(yy_dev[i]).mean() for i in range(Y)])\n",
    "pcts\n",
    "#these are the % of instances containing this label for each of the top 10 labels"
   ]
  },
  {
   "cell_type": "code",
   "execution_count": 20,
   "metadata": {
    "collapsed": false
   },
   "outputs": [
    {
     "data": {
      "text/plain": [
       "[0.77956364575264647,\n",
       " 0.65085205267234703,\n",
       " 0.45339530080041313,\n",
       " 0.63665117479989675,\n",
       " 0.77285050348566997,\n",
       " 0.88187451587916343,\n",
       " 0.81493674154402274,\n",
       " 0.67867286341337463,\n",
       " 0.86586625355021951,\n",
       " 0.78563129357087524]"
      ]
     },
     "execution_count": 20,
     "metadata": {},
     "output_type": "execute_result"
    }
   ],
   "source": [
    "accs = [(yhat_tr == yy[i]).mean() for i in range(Y)]\n",
    "accs"
   ]
  }
 ],
 "metadata": {
  "anaconda-cloud": {},
  "kernelspec": {
   "display_name": "Python [conda root]",
   "language": "python",
   "name": "conda-root-py"
  },
  "language_info": {
   "codemirror_mode": {
    "name": "ipython",
    "version": 3
   },
   "file_extension": ".py",
   "mimetype": "text/x-python",
   "name": "python",
   "nbconvert_exporter": "python",
   "pygments_lexer": "ipython3",
   "version": "3.5.2"
  }
 },
 "nbformat": 4,
 "nbformat_minor": 1
}
